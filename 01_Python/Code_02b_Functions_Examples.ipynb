{
 "cells": [
  {
   "cell_type": "markdown",
   "metadata": {},
   "source": [
    "# Functions - Examples"
   ]
  },
  {
   "cell_type": "markdown",
   "metadata": {},
   "source": [
    "## 01"
   ]
  },
  {
   "cell_type": "markdown",
   "metadata": {},
   "source": [
    "**Write a function that computes the volume of a sphere given its radius.**\n",
    "\n",
    "The volume of a sphere is given as: \n",
    "\n",
    "$$ \\frac{4}{3} πr^3 $$"
   ]
  },
  {
   "cell_type": "code",
   "execution_count": 2,
   "metadata": {},
   "outputs": [],
   "source": [
    "# My solution:\n",
    "def volume(rad):\n",
    "    pass\n",
    "\n",
    "volume(2)"
   ]
  },
  {
   "cell_type": "markdown",
   "metadata": {},
   "source": [
    "## 02"
   ]
  },
  {
   "cell_type": "code",
   "execution_count": 71,
   "metadata": {},
   "outputs": [
    {
     "name": "stdout",
     "output_type": "stream",
     "text": [
      "Your sentence is: The quick brown fox jumps over\n",
      "The sentence is NOT a pangram!\n",
      "Remaining characters are: ['a', 'd', 'g', 'l', 'y', 'z']\n",
      "\n",
      "\n",
      "Your sentence is: The quick brown fox jumps over lazy dog\n",
      "The sentence is a pangram!\n"
     ]
    }
   ],
   "source": [
    "# My solution:\n",
    "# Function for checking a pangram:\n",
    "\n",
    "def pangram_check(sentence):\n",
    "    \n",
    "    alphabet = [letter for letter in 'abcdefghijklmnopqrstuvwxyz']\n",
    "    unique_letters = sorted(set([letter.lower() for letter in sentence]))\n",
    "    remaining_characters = alphabet\n",
    "    \n",
    "    for letter in unique_letters:\n",
    "        if letter == ' ':\n",
    "            pass\n",
    "        elif letter in alphabet:\n",
    "            remaining_characters.pop(remaining_characters.index(letter))\n",
    "        else:\n",
    "            pass\n",
    "    \n",
    "    if remaining_characters == []:\n",
    "        print(f'Your sentence is: {sentence}')\n",
    "        print('The sentence is a pangram!')\n",
    "    else:\n",
    "        print(f'Your sentence is: {sentence}')\n",
    "        print('The sentence is NOT a pangram!')\n",
    "        print(f'Remaining characters are: {remaining_characters}')\n",
    "        \n",
    "        \n",
    "pangram_check(\"The quick brown fox jumps over\")\n",
    "print('\\n')\n",
    "pangram_check(\"The quick brown fox jumps over lazy dog\")"
   ]
  },
  {
   "cell_type": "code",
   "execution_count": 73,
   "metadata": {},
   "outputs": [
    {
     "data": {
      "text/plain": [
       "True"
      ]
     },
     "execution_count": 73,
     "metadata": {},
     "output_type": "execute_result"
    }
   ],
   "source": [
    "# My function that return only the True or False:\n",
    "\n",
    "def pangram_check(sentence):\n",
    "    \n",
    "    alphabet = [letter for letter in 'abcdefghijklmnopqrstuvwxyz']\n",
    "    unique_letters = sorted(set([letter.lower() for letter in sentence]))\n",
    "    remaining_characters = alphabet\n",
    "    \n",
    "    for letter in unique_letters:\n",
    "        if letter == ' ':\n",
    "            pass\n",
    "        elif letter in alphabet:\n",
    "            remaining_characters.pop(remaining_characters.index(letter))\n",
    "        else:\n",
    "            pass\n",
    "            \n",
    "    return remaining_characters == []\n",
    "\n",
    "pangram_check(\"The quick brown fox jumps over lazy dog\")"
   ]
  },
  {
   "cell_type": "code",
   "execution_count": 120,
   "metadata": {},
   "outputs": [
    {
     "data": {
      "text/plain": [
       "True"
      ]
     },
     "execution_count": 120,
     "metadata": {},
     "output_type": "execute_result"
    }
   ],
   "source": [
    "# Bootcamp solution:\n",
    "import string\n",
    "\n",
    "def pangram_check(sentence, alphabet = string.ascii_lowercase): \n",
    "    \n",
    "    alphaset = set(alphabet)  \n",
    "    \n",
    "    # Remove spaces from sentence\n",
    "    sentence = sentence.replace(\" \",\"\")\n",
    "    \n",
    "    # Lowercase all strings in the passed in string\n",
    "    # Recall we assume no punctuation \n",
    "    sentence = sentence.lower()\n",
    "    \n",
    "    # Grab all unique letters in the string as a set\n",
    "    sentence = set(sentence)\n",
    "    \n",
    "    # Now check that the alpahbet set is same as string set\n",
    "    return sentence == alphaset\n",
    "\n",
    "pangram_check(\"The quick brown fox jumps over lazy dog\")"
   ]
  },
  {
   "cell_type": "markdown",
   "metadata": {},
   "source": [
    "Comparing execution times of both solutions:"
   ]
  },
  {
   "cell_type": "code",
   "execution_count": 117,
   "metadata": {},
   "outputs": [
    {
     "data": {
      "text/plain": [
       "0.7638816999970004"
      ]
     },
     "execution_count": 117,
     "metadata": {},
     "output_type": "execute_result"
    }
   ],
   "source": [
    "# My solution\n",
    "import timeit\n",
    "\n",
    "setup = '''\n",
    "alphabet = [letter for letter in 'abcdefghijklmnopqrstuvwxyz']\n",
    "def pangram_check(sentence):\n",
    "    \n",
    "    unique_letters = set([letter.lower() for letter in sentence])\n",
    "    remaining_characters = alphabet\n",
    "    \n",
    "    for letter in unique_letters:\n",
    "        if letter == ' ':\n",
    "            pass\n",
    "        elif letter in alphabet:\n",
    "            remaining_characters.pop(remaining_characters.index(letter))\n",
    "        else:\n",
    "            pass\n",
    "            \n",
    "    return remaining_characters == []\n",
    "'''\n",
    "\n",
    "stmt = 'pangram_check(\"The quick brown fox jumps over lazy dog\")'  # Statement\n",
    "runs = 100000  # Number of runs\n",
    "\n",
    "timeit.timeit(stmt, setup, number=runs)"
   ]
  },
  {
   "cell_type": "code",
   "execution_count": 119,
   "metadata": {},
   "outputs": [
    {
     "data": {
      "text/plain": [
       "0.28409370000008494"
      ]
     },
     "execution_count": 119,
     "metadata": {},
     "output_type": "execute_result"
    }
   ],
   "source": [
    "# Bootcamp solution:\n",
    "import timeit\n",
    "\n",
    "setup = '''\n",
    "import string\n",
    "def pangram_check(sentence, alphabet = string.ascii_lowercase): \n",
    "\n",
    "    alphaset = set(alphabet)  \n",
    "    \n",
    "    # Remove spaces from sentence\n",
    "    sentence = sentence.replace(\" \",\"\")\n",
    "    \n",
    "    # Lowercase all strings in the passed in string\n",
    "    # Recall we assume no punctuation \n",
    "    sentence = sentence.lower()\n",
    "    \n",
    "    # Grab all unique letters in the string as a set\n",
    "    sentence = set(sentence)\n",
    "    \n",
    "    # Now check that the alphabet set is same as string set\n",
    "    return sentence == alphaset\n",
    "'''\n",
    "\n",
    "stmt = 'pangram_check(\"The quick brown fox jumps over lazy dog\")'  # Statement\n",
    "runs = 100000  # Number of runs\n",
    "\n",
    "timeit.timeit(stmt, setup, number=runs)"
   ]
  },
  {
   "cell_type": "markdown",
   "metadata": {},
   "source": [
    "Bootcamp solution is faster becaseu they only check if the letter from pangram are EXACTLY the same as the alphabet. \n",
    "\n",
    "In my solution, I also check what letters are remaining."
   ]
  },
  {
   "cell_type": "markdown",
   "metadata": {},
   "source": [
    "Comparing set() and FOR loop:"
   ]
  },
  {
   "cell_type": "code",
   "execution_count": 113,
   "metadata": {},
   "outputs": [
    {
     "data": {
      "text/plain": [
       "1.2705353000201285"
      ]
     },
     "execution_count": 113,
     "metadata": {},
     "output_type": "execute_result"
    }
   ],
   "source": [
    "alphabet = set('abcdefghijklmnopqrstuvwxyz')\n",
    "alphabet\n",
    "\n",
    "setup = '''\n",
    "alphabet = set('abcdefghijklmnopqrstuvwxyz')\n",
    "'''\n",
    "\n",
    "stmt = ''  # Statement\n",
    "runs = 100000000  # Number of runs\n",
    "\n",
    "timeit.timeit(stmt, setup, number=runs)"
   ]
  },
  {
   "cell_type": "code",
   "execution_count": 112,
   "metadata": {},
   "outputs": [
    {
     "data": {
      "text/plain": [
       "1.274559500045143"
      ]
     },
     "execution_count": 112,
     "metadata": {},
     "output_type": "execute_result"
    }
   ],
   "source": [
    "alphabet = set('abcdefghijklmnopqrstuvwxyz')\n",
    "alphabet\n",
    "\n",
    "setup = '''\n",
    "alphabet = [letter for letter in 'abcdefghijklmnopqrstuvwxyz']\n",
    "'''\n",
    "\n",
    "stmt = ''  # Statement\n",
    "runs = 100000000  # Number of runs\n",
    "\n",
    "timeit.timeit(stmt, setup, number=runs)"
   ]
  }
 ],
 "metadata": {
  "kernelspec": {
   "display_name": "Python 3",
   "language": "python",
   "name": "python3"
  },
  "language_info": {
   "codemirror_mode": {
    "name": "ipython",
    "version": 3
   },
   "file_extension": ".py",
   "mimetype": "text/x-python",
   "name": "python",
   "nbconvert_exporter": "python",
   "pygments_lexer": "ipython3",
   "version": "3.12.3"
  }
 },
 "nbformat": 4,
 "nbformat_minor": 2
}
