{
 "cells": [
  {
   "cell_type": "markdown",
   "metadata": {},
   "source": [
    "# Subprocess"
   ]
  },
  {
   "cell_type": "markdown",
   "metadata": {},
   "source": [
    "Running shell commands:"
   ]
  },
  {
   "cell_type": "code",
   "execution_count": 1,
   "metadata": {},
   "outputs": [
    {
     "name": "stdout",
     "output_type": "stream",
     "text": [
      " Volume in drive C has no label.\n",
      " Volume Serial Number is 56AC-1460\n",
      "\n",
      " Directory of c:\\Users\\Jakub.Cajzl\\OneDrive - Adastra, s.r.o\\Work\\Projects\\00_Learning\\learning\\01_Python\n",
      "\n",
      "26.04.2024  10:47    <DIR>          .\n",
      "24.04.2024  17:11    <DIR>          ..\n",
      "24.04.2024  14:22                 0 .gitkeep\n",
      "25.04.2024  16:44            75ÿ605 Code_01_Basics.ipynb\n",
      "26.04.2024  12:25            44ÿ094 Code_02a_Functions.ipynb\n",
      "26.04.2024  12:50             9ÿ194 Code_02b_Functions_Examples.ipynb\n",
      "26.04.2024  12:51            28ÿ313 Code_03_Errors_Tests_Timing.ipynb\n",
      "24.04.2024  14:22               252 Code_04_OOP_Style_guide.ipynb\n",
      "24.04.2024  14:22             4ÿ789 Code_05_Subprocess_Logger.ipynb\n",
      "24.04.2024  14:22            52ÿ589 Code_06_csv_json_xml.ipynb\n",
      "24.04.2024  14:22            30ÿ934 Code_07_Requests_API.ipynb\n",
      "24.04.2024  14:22             3ÿ195 Code_08_Custom_modules_packages.ipynb\n",
      "24.04.2024  14:22             4ÿ243 Code_09_Numpy_Pandas.ipynb\n",
      "24.04.2024  14:22                27 data.json\n",
      "24.04.2024  14:22                66 example.csv\n",
      "24.04.2024  14:22                50 example_02.csv\n",
      "24.04.2024  14:22                24 example_02_edit.csv\n",
      "24.04.2024  14:22                50 example_02_edit_delimiter.csv\n",
      "24.04.2024  14:22                 0 example_02_edit_encoding.csv\n",
      "24.04.2024  14:22                24 example_02_edit_header.csv\n",
      "24.04.2024  14:22               185 file_1.py\n",
      "24.04.2024  14:22                70 file_2.py\n",
      "24.04.2024  14:22               641 file_2_test.py\n",
      "24.04.2024  14:22                48 json_01\n",
      "24.04.2024  14:22             3ÿ125 movies.xml\n",
      "24.04.2024  14:22                72 myfile.txt\n",
      "24.04.2024  14:22               332 my_python_module_01.py\n",
      "24.04.2024  14:22    <DIR>          my_python_package\n",
      "24.04.2024  14:47                98 README.md\n",
      "24.04.2024  14:22                52 subprocess_file.py\n",
      "24.04.2024  14:22                24 temp2.txt\n",
      "24.04.2024  14:22                 0 to_save_file.csv\n",
      "24.04.2024  14:22    <DIR>          __pycache__\n",
      "              29 File(s)        258ÿ096 bytes\n",
      "               4 Dir(s)  903ÿ555ÿ928ÿ064 bytes free\n",
      "\n"
     ]
    }
   ],
   "source": [
    "import subprocess\n",
    "result = subprocess.run([\"dir\"], shell=True, capture_output=True, text=True)\n",
    "\n",
    "print(result.stdout)"
   ]
  },
  {
   "cell_type": "markdown",
   "metadata": {},
   "source": [
    "Running Python scripts:"
   ]
  },
  {
   "cell_type": "code",
   "execution_count": 2,
   "metadata": {},
   "outputs": [
    {
     "name": "stdout",
     "output_type": "stream",
     "text": [
      "Writing subprocess_file.py\n"
     ]
    }
   ],
   "source": [
    "%%writefile subprocess_file.py\n",
    "print(“This is the output from subprocess module”)"
   ]
  },
  {
   "cell_type": "code",
   "execution_count": 11,
   "metadata": {},
   "outputs": [
    {
     "name": "stdout",
     "output_type": "stream",
     "text": [
      "This is the output from subprocess module\n",
      "\n"
     ]
    }
   ],
   "source": [
    "import subprocess\n",
    "result = subprocess.run(\n",
    "    ['python', 'subprocess_file.py'], capture_output=True, text=True\n",
    "    )\n",
    "\n",
    "print(result.stdout)"
   ]
  },
  {
   "cell_type": "markdown",
   "metadata": {},
   "source": [
    "Using the check argument:"
   ]
  },
  {
   "cell_type": "code",
   "execution_count": 15,
   "metadata": {},
   "outputs": [
    {
     "name": "stdout",
     "output_type": "stream",
     "text": [
      "\n",
      "Python: can't open file 'c:\\\\Users\\\\Jakub.Cajzl\\\\OneDrive - Adastra, s.r.o\\\\Work\\\\Projects\\\\00_Learning\\\\Python\\\\GitLab\\\\learning-python\\\\my_python_file2.py': [Errno 2] No such file or directory\n",
      "\n"
     ]
    }
   ],
   "source": [
    "import subprocess\n",
    "result = subprocess.run([\"Python\", \"my_python_file2.py\"], capture_output=True, text=True, check=False)\n",
    "\n",
    "print(result.stdout)\n",
    "print(result.stderr)"
   ]
  },
  {
   "cell_type": "markdown",
   "metadata": {},
   "source": [
    "# Logger"
   ]
  },
  {
   "cell_type": "code",
   "execution_count": null,
   "metadata": {},
   "outputs": [],
   "source": []
  },
  {
   "cell_type": "markdown",
   "metadata": {},
   "source": [
    "# Sys tools"
   ]
  },
  {
   "cell_type": "markdown",
   "metadata": {},
   "source": [
    "- **StringIO** is deprecated, currently **io** module is used. It doesn't need to be installed. "
   ]
  },
  {
   "cell_type": "code",
   "execution_count": 12,
   "metadata": {},
   "outputs": [
    {
     "name": "stdout",
     "output_type": "stream",
     "text": [
      "Miami\t99.95\n",
      "New York\t9.50\n"
     ]
    }
   ],
   "source": [
    "# Mapper function:\n",
    "def mapper():\n",
    "    import sys\n",
    "\n",
    "    # Read standard input line-by-line:\n",
    "    for line in sys.stdin:\n",
    "        # strip off extra whitespace, split on tab and put the data in an array\n",
    "        data = line.strip().split(\"\\t\")\n",
    "\n",
    "        # This is the place you need to do some defensive programming\n",
    "        # what if there are not exactly 6 fields in that line?\n",
    "        \n",
    "        # YOUR CODE HERE:\n",
    "\n",
    "        # My code:\n",
    "        if len(data) < 6:\n",
    "            continue\n",
    "        elif len(data) > 6:\n",
    "            data = data[0:7]\n",
    "        else:\n",
    "            pass\n",
    "        \n",
    "        # This next line is called 'multiple assignment' in Python.\n",
    "        # It is not really necessary, we could access the data\n",
    "        # with data[2] and data[5], but we do this for conveniency\n",
    "        # and to make the code easier to read:\n",
    "        date, time, store, item, cost, payment = data\n",
    "        \n",
    "        # Now print out the data that will be passed to the reducer\n",
    "        print(\"{0}\\t{1}\".format(store, cost))\n",
    "        \n",
    "test_text = \"\"\"2013-10-09\\t13:22\\tMiami\\tBoots\\t99.95\\tVisa\n",
    "2013-10-09\\t13:22\\tNew York\\tDVD\\t9.50\\tMasterCard\n",
    "2013-10-09 13:22:59 I/O Error\n",
    "^d8x28orz28zoijzu1z1zp1OHH3du3ixwcz114<f\n",
    "1\\t2\\t3\"\"\"\n",
    "\n",
    "# This function tests the Mapper with the provided test string:\n",
    "def main():\n",
    "    import sys\n",
    "    import io\n",
    "    sys.stdin = io.StringIO(test_text)\n",
    "    mapper()\n",
    "    sys.stdin = sys.__stdin__\n",
    "\n",
    "# Running the main function:\n",
    "main()"
   ]
  },
  {
   "cell_type": "code",
   "execution_count": null,
   "metadata": {},
   "outputs": [],
   "source": []
  }
 ],
 "metadata": {
  "kernelspec": {
   "display_name": "Python 3",
   "language": "python",
   "name": "python3"
  },
  "language_info": {
   "codemirror_mode": {
    "name": "ipython",
    "version": 3
   },
   "file_extension": ".py",
   "mimetype": "text/x-python",
   "name": "python",
   "nbconvert_exporter": "python",
   "pygments_lexer": "ipython3",
   "version": "3.12.3"
  }
 },
 "nbformat": 4,
 "nbformat_minor": 2
}
