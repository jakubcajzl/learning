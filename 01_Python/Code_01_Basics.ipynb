{
  "cells": [
    {
      "cell_type": "markdown",
      "metadata": {},
      "source": [
        "# Basics:"
      ]
    },
    {
      "cell_type": "markdown",
      "metadata": {},
      "source": [
        "## Tips:"
      ]
    },
    {
      "cell_type": "markdown",
      "metadata": {},
      "source": [
        "- use `_` for **empty value**: e.g. `for _, row in df.iterrows():` ... where `_` replaces `index` which is not used in the for cycle\n",
        "- `apply` works on a row / column basis of a DataFrame, `applymap` works element-wise on a DataFrame, `map` works element-wise on a Series"
      ]
    },
    {
      "cell_type": "code",
      "execution_count": 1,
      "metadata": {},
      "outputs": [],
      "source": [
        "# Importing main libraries:\n",
        "import pandas as pd\n",
        "import numpy as np\n",
        "import datetime\n",
        "\n",
        "# Statistics and EDA libraries:\n",
        "import scipy as stats\n",
        "import sweetviz as sv\n",
        "from ydata_profiling import ProfileReport  # former pandas_profiling!\n",
        "\n",
        "# Plotting libraries:\n",
        "import matplotlib.pyplot as plt\n",
        "import seaborn as sns\n",
        "import plotly.express as px\n",
        "\n",
        "# Setting-up the display options for Pandas dataframes to display all the columns (not truncated):\n",
        "pd.options.display.max_columns = None\n",
        "pd.options.display.max_rows = None\n",
        "\n",
        "# Creating a class for different print styles:\n",
        "class style:\n",
        "    #-------------------\n",
        "    BOLD = '\\033[1m'\n",
        "    UNDERLINE = '\\033[4m'\n",
        "    BLUE = '\\033[94m'\n",
        "    GREEN = '\\033[92m'\n",
        "    RED = '\\033[91m'\n",
        "    #-------------------\n",
        "    YELLOW = '\\033[93m'\n",
        "    PURPLE = '\\033[95m'\n",
        "    CYAN = '\\033[96m'\n",
        "    DARKCYAN = '\\033[36m'\n",
        "    #-------------------\n",
        "    END = '\\033[0m'\n",
        "    #-------------------"
      ]
    },
    {
      "cell_type": "markdown",
      "metadata": {},
      "source": [
        "### Basic arithmetics:"
      ]
    },
    {
      "cell_type": "code",
      "execution_count": 2,
      "metadata": {
        "trusted": true
      },
      "outputs": [
        {
          "data": {
            "text/plain": [
              "5"
            ]
          },
          "execution_count": 2,
          "metadata": {},
          "output_type": "execute_result"
        }
      ],
      "source": [
        "2+3"
      ]
    },
    {
      "cell_type": "code",
      "execution_count": 3,
      "metadata": {
        "trusted": true
      },
      "outputs": [
        {
          "data": {
            "text/plain": [
              "1.75"
            ]
          },
          "execution_count": 3,
          "metadata": {},
          "output_type": "execute_result"
        }
      ],
      "source": [
        "7/4"
      ]
    },
    {
      "cell_type": "code",
      "execution_count": 3,
      "metadata": {
        "trusted": true
      },
      "outputs": [
        {
          "data": {
            "text/plain": [
              "3"
            ]
          },
          "execution_count": 3,
          "metadata": {},
          "output_type": "execute_result"
        }
      ],
      "source": [
        "7 % 4"
      ]
    },
    {
      "cell_type": "code",
      "execution_count": 4,
      "metadata": {
        "trusted": true
      },
      "outputs": [
        {
          "data": {
            "text/plain": [
              "8"
            ]
          },
          "execution_count": 4,
          "metadata": {},
          "output_type": "execute_result"
        }
      ],
      "source": [
        "2 ** 3"
      ]
    },
    {
      "cell_type": "code",
      "execution_count": 11,
      "metadata": {
        "trusted": true
      },
      "outputs": [],
      "source": [
        "a = 320"
      ]
    },
    {
      "cell_type": "code",
      "execution_count": 12,
      "metadata": {
        "trusted": true
      },
      "outputs": [
        {
          "data": {
            "text/plain": [
              "int"
            ]
          },
          "execution_count": 12,
          "metadata": {},
          "output_type": "execute_result"
        }
      ],
      "source": [
        "type(a)"
      ]
    },
    {
      "cell_type": "markdown",
      "metadata": {},
      "source": [
        "### Strings:"
      ]
    },
    {
      "cell_type": "markdown",
      "metadata": {},
      "source": [
        "- **string[integer]** results in one character.\n",
        "- **string[start : end : step]**  results in the slice of the string (here, **start** is **inclusive** and **end** is **non-inclusive**)"
      ]
    },
    {
      "cell_type": "code",
      "execution_count": 10,
      "metadata": {},
      "outputs": [],
      "source": [
        "b = \"Hi how are you?\""
      ]
    },
    {
      "cell_type": "code",
      "execution_count": 11,
      "metadata": {},
      "outputs": [
        {
          "data": {
            "text/plain": [
              "str"
            ]
          },
          "execution_count": 11,
          "metadata": {},
          "output_type": "execute_result"
        }
      ],
      "source": [
        "type(b)"
      ]
    },
    {
      "cell_type": "code",
      "execution_count": 12,
      "metadata": {
        "trusted": true
      },
      "outputs": [
        {
          "data": {
            "text/plain": [
              "'i'"
            ]
          },
          "execution_count": 12,
          "metadata": {},
          "output_type": "execute_result"
        }
      ],
      "source": [
        "b[1]"
      ]
    },
    {
      "cell_type": "markdown",
      "metadata": {},
      "source": [
        "**String slicing:**"
      ]
    },
    {
      "cell_type": "code",
      "execution_count": 23,
      "metadata": {},
      "outputs": [
        {
          "data": {
            "text/plain": [
              "'how are you?'"
            ]
          },
          "execution_count": 23,
          "metadata": {},
          "output_type": "execute_result"
        }
      ],
      "source": [
        "# Slicing using all the information:\n",
        "b[3:100:1]"
      ]
    },
    {
      "cell_type": "code",
      "execution_count": 16,
      "metadata": {
        "trusted": true
      },
      "outputs": [
        {
          "data": {
            "text/plain": [
              "'how are you?'"
            ]
          },
          "execution_count": 16,
          "metadata": {},
          "output_type": "execute_result"
        }
      ],
      "source": [
        "# Slicing using minimum information results also in the same string:\n",
        "b[3:]"
      ]
    },
    {
      "cell_type": "code",
      "execution_count": 24,
      "metadata": {
        "trusted": true
      },
      "outputs": [
        {
          "data": {
            "text/plain": [
              "'H o r o?'"
            ]
          },
          "execution_count": 24,
          "metadata": {},
          "output_type": "execute_result"
        }
      ],
      "source": [
        "# Choosing all the characters of the string with the step of 2:\n",
        "b[::2]"
      ]
    },
    {
      "cell_type": "code",
      "execution_count": 25,
      "metadata": {
        "trusted": true
      },
      "outputs": [
        {
          "data": {
            "text/plain": [
              "'u'"
            ]
          },
          "execution_count": 25,
          "metadata": {},
          "output_type": "execute_result"
        }
      ],
      "source": [
        "# Second character from the last:\n",
        "b[-2]"
      ]
    },
    {
      "cell_type": "code",
      "execution_count": 21,
      "metadata": {
        "trusted": true
      },
      "outputs": [
        {
          "data": {
            "text/plain": [
              "'?uoy era woh iH'"
            ]
          },
          "execution_count": 21,
          "metadata": {},
          "output_type": "execute_result"
        }
      ],
      "source": [
        "# Reverse order of string characters:\n",
        "b[::-1]"
      ]
    },
    {
      "cell_type": "code",
      "execution_count": null,
      "metadata": {},
      "outputs": [
        {
          "data": {
            "text/plain": [
              "'r'"
            ]
          },
          "metadata": {},
          "output_type": "display_data"
        }
      ],
      "source": [
        "a = \"Hello World\"\n",
        "a[-3]"
      ]
    },
    {
      "cell_type": "code",
      "execution_count": null,
      "metadata": {},
      "outputs": [
        {
          "data": {
            "text/plain": [
              "'r'"
            ]
          },
          "metadata": {},
          "output_type": "display_data"
        }
      ],
      "source": [
        "\"Hello World\"[-3]"
      ]
    },
    {
      "cell_type": "code",
      "execution_count": null,
      "metadata": {},
      "outputs": [
        {
          "data": {
            "text/plain": [
              "'ink'"
            ]
          },
          "metadata": {},
          "output_type": "display_data"
        }
      ],
      "source": [
        "\"tinker\"[1:4]"
      ]
    },
    {
      "cell_type": "markdown",
      "metadata": {},
      "source": [
        "**Excape signs:**"
      ]
    },
    {
      "cell_type": "code",
      "execution_count": 26,
      "metadata": {
        "trusted": true
      },
      "outputs": [
        {
          "name": "stdout",
          "output_type": "stream",
          "text": [
            "Hi \n",
            " Hello\n"
          ]
        }
      ],
      "source": [
        "print(\"Hi \\n Hello\")"
      ]
    },
    {
      "cell_type": "code",
      "execution_count": 25,
      "metadata": {
        "trusted": true
      },
      "outputs": [
        {
          "name": "stdout",
          "output_type": "stream",
          "text": [
            "Hi \t Hello\n"
          ]
        }
      ],
      "source": [
        "print(\"Hi \\t Hello\")"
      ]
    },
    {
      "cell_type": "code",
      "execution_count": 238,
      "metadata": {
        "trusted": true
      },
      "outputs": [
        {
          "data": {
            "text/plain": [
              "15"
            ]
          },
          "execution_count": 238,
          "metadata": {},
          "output_type": "execute_result"
        }
      ],
      "source": [
        "# Length of the string:\n",
        "len(b)"
      ]
    },
    {
      "cell_type": "code",
      "execution_count": 240,
      "metadata": {
        "trusted": true
      },
      "outputs": [],
      "source": [
        "c = \"I'm fine\""
      ]
    },
    {
      "cell_type": "markdown",
      "metadata": {},
      "source": [
        "**Concatenation of strings:**"
      ]
    },
    {
      "cell_type": "code",
      "execution_count": 246,
      "metadata": {
        "trusted": true
      },
      "outputs": [
        {
          "name": "stdout",
          "output_type": "stream",
          "text": [
            "Hi how are you?\n",
            "I'm fine\n"
          ]
        }
      ],
      "source": [
        "d = b + \"\\n\" + c\n",
        "print(d)"
      ]
    },
    {
      "cell_type": "markdown",
      "metadata": {},
      "source": [
        "**Joining of strings using a separator in a .join() method:**\n",
        "\n",
        "The **'separator'.join(iterable)** method takes all items in an iterable and joins them into one string where the items are sepated using a defined separator. "
      ]
    },
    {
      "cell_type": "code",
      "execution_count": 11,
      "metadata": {},
      "outputs": [
        {
          "name": "stdout",
          "output_type": "stream",
          "text": [
            "20 and 25 and 30\n",
            "My list contains these numbers: 20 and 25 and 30\n",
            "My list contains these numbers: 20, 25 and 30\n"
          ]
        }
      ],
      "source": [
        "mylist = ['20','25','30']\n",
        "\n",
        "joined_string = ' and '.join(mylist)\n",
        "print(joined_string)\n",
        "my_sentence = f\"My list contains these numbers: {' and '.join(mylist)}\"\n",
        "print(my_sentence)\n",
        "my_advanced_sentence = f\"My list contains these numbers: {mylist[0]}, {' and '.join(mylist[1:])}\"\n",
        "print(my_advanced_sentence)"
      ]
    },
    {
      "cell_type": "markdown",
      "metadata": {},
      "source": [
        "**String functions**"
      ]
    },
    {
      "cell_type": "code",
      "execution_count": 248,
      "metadata": {
        "trusted": true
      },
      "outputs": [],
      "source": [
        "x = \"Hello World. How are you. I am fine\""
      ]
    },
    {
      "cell_type": "code",
      "execution_count": 249,
      "metadata": {
        "trusted": true
      },
      "outputs": [
        {
          "data": {
            "text/plain": [
              "'HELLO WORLD. HOW ARE YOU. I AM FINE'"
            ]
          },
          "execution_count": 249,
          "metadata": {},
          "output_type": "execute_result"
        }
      ],
      "source": [
        "x.upper()"
      ]
    },
    {
      "cell_type": "code",
      "execution_count": 250,
      "metadata": {
        "trusted": true
      },
      "outputs": [
        {
          "data": {
            "text/plain": [
              "['Hello', 'World.', 'How', 'are', 'you.', 'I', 'am', 'fine']"
            ]
          },
          "execution_count": 250,
          "metadata": {},
          "output_type": "execute_result"
        }
      ],
      "source": [
        "# Splitting of the string using whitespaces:\n",
        "x.split()"
      ]
    },
    {
      "cell_type": "code",
      "execution_count": 251,
      "metadata": {
        "trusted": true
      },
      "outputs": [
        {
          "data": {
            "text/plain": [
              "['Hello World', ' How are you', ' I am fine']"
            ]
          },
          "execution_count": 251,
          "metadata": {},
          "output_type": "execute_result"
        }
      ],
      "source": [
        "# Splitting of the string using dots:\n",
        "x.split('.')"
      ]
    },
    {
      "cell_type": "code",
      "execution_count": 252,
      "metadata": {},
      "outputs": [
        {
          "data": {
            "text/plain": [
              "' How are you'"
            ]
          },
          "execution_count": 252,
          "metadata": {},
          "output_type": "execute_result"
        }
      ],
      "source": [
        "x.split('.')[1]"
      ]
    },
    {
      "cell_type": "markdown",
      "metadata": {},
      "source": [
        "**Formatting using .format():**"
      ]
    },
    {
      "cell_type": "code",
      "execution_count": 66,
      "metadata": {
        "trusted": true
      },
      "outputs": [
        {
          "name": "stdout",
          "output_type": "stream",
          "text": [
            "This is a string: Hello World. How are you. I am fine\n"
          ]
        }
      ],
      "source": [
        "print(\"This is a string: {}\".format(x))"
      ]
    },
    {
      "cell_type": "code",
      "execution_count": 68,
      "metadata": {
        "trusted": true
      },
      "outputs": [
        {
          "name": "stdout",
          "output_type": "stream",
          "text": [
            "The quick brown fox\n"
          ]
        }
      ],
      "source": [
        "print(\"The {} {} {}\".format(\"quick\",\"brown\",\"fox\"))"
      ]
    },
    {
      "cell_type": "code",
      "execution_count": 69,
      "metadata": {
        "trusted": true
      },
      "outputs": [
        {
          "name": "stdout",
          "output_type": "stream",
          "text": [
            "The quick quick quick\n"
          ]
        }
      ],
      "source": [
        "print(\"The {0} {0} {0}\".format(\"quick\",\"brown\",\"fox\"))"
      ]
    },
    {
      "cell_type": "code",
      "execution_count": 70,
      "metadata": {
        "trusted": true
      },
      "outputs": [
        {
          "name": "stdout",
          "output_type": "stream",
          "text": [
            "The quick brown fox\n"
          ]
        }
      ],
      "source": [
        "print(\"The {q} {b} {f}\".format(q=\"quick\",b=\"brown\",f=\"fox\"))"
      ]
    },
    {
      "cell_type": "code",
      "execution_count": 71,
      "metadata": {
        "trusted": true
      },
      "outputs": [],
      "source": [
        "result = 100/777"
      ]
    },
    {
      "cell_type": "code",
      "execution_count": 72,
      "metadata": {
        "trusted": true
      },
      "outputs": [
        {
          "data": {
            "text/plain": [
              "0.1287001287001287"
            ]
          },
          "execution_count": 72,
          "metadata": {},
          "output_type": "execute_result"
        }
      ],
      "source": [
        "result"
      ]
    },
    {
      "cell_type": "code",
      "execution_count": 73,
      "metadata": {
        "trusted": true
      },
      "outputs": [
        {
          "name": "stdout",
          "output_type": "stream",
          "text": [
            "The result is: 0.1287001287001287\n"
          ]
        }
      ],
      "source": [
        "print(\"The result is: {r}\".format(r=result))"
      ]
    },
    {
      "cell_type": "code",
      "execution_count": 74,
      "metadata": {
        "trusted": true
      },
      "outputs": [
        {
          "name": "stdout",
          "output_type": "stream",
          "text": [
            "The result is: 0.1287001287001287\n"
          ]
        }
      ],
      "source": [
        "print(f\"The result is: {result}\")"
      ]
    },
    {
      "cell_type": "code",
      "execution_count": 79,
      "metadata": {
        "trusted": true
      },
      "outputs": [
        {
          "name": "stdout",
          "output_type": "stream",
          "text": [
            "The result is: 0.129\n"
          ]
        }
      ],
      "source": [
        "print(\"The result is: {r:.3f}\".format(r=result))"
      ]
    },
    {
      "cell_type": "markdown",
      "metadata": {},
      "source": [
        "**Using f-formatting:**"
      ]
    },
    {
      "cell_type": "code",
      "execution_count": 80,
      "metadata": {
        "trusted": true
      },
      "outputs": [
        {
          "name": "stdout",
          "output_type": "stream",
          "text": [
            "The result is: 0.129\n"
          ]
        }
      ],
      "source": [
        "print(f\"The result is: {result:.3f}\")"
      ]
    },
    {
      "cell_type": "code",
      "execution_count": 91,
      "metadata": {
        "trusted": true
      },
      "outputs": [
        {
          "name": "stdout",
          "output_type": "stream",
          "text": [
            "The result is: 0.13\n"
          ]
        }
      ],
      "source": [
        "print(f\"The result is: {result:.2f}\")"
      ]
    },
    {
      "cell_type": "code",
      "execution_count": 92,
      "metadata": {
        "trusted": true
      },
      "outputs": [],
      "source": [
        "result = 104.12345"
      ]
    },
    {
      "cell_type": "code",
      "execution_count": 253,
      "metadata": {
        "trusted": true
      },
      "outputs": [
        {
          "name": "stdout",
          "output_type": "stream",
          "text": [
            "Fruit     |  Quantity \n"
          ]
        }
      ],
      "source": [
        "print(\"{0:8}  |  {1:9}\".format(\"Fruit\", \"Quantity\"))"
      ]
    },
    {
      "cell_type": "code",
      "execution_count": 8,
      "metadata": {
        "trusted": true
      },
      "outputs": [
        {
          "name": "stdout",
          "output_type": "stream",
          "text": [
            "Fruit     |  Quantity \n",
            "Apple     |  10       \n",
            "Orange    |  20       \n"
          ]
        }
      ],
      "source": [
        "fruit = [\"Fruit\", \"Apple\", \"Orange\"]\n",
        "quantity = [\"Quantity\", 10, 20]\n",
        "\n",
        "for i in range(len(fruit)):\n",
        "    print(f\"{fruit[i]:<8}  |  {quantity[i]:<9}\")"
      ]
    },
    {
      "cell_type": "markdown",
      "metadata": {},
      "source": [
        "## Data structures"
      ]
    },
    {
      "cell_type": "markdown",
      "metadata": {},
      "source": [
        "Python offers 4 main data structures:\n",
        "- **List**\n",
        "- **Tuple**\n",
        "- **Set**\n",
        "- **Dictionary**"
      ]
    },
    {
      "cell_type": "markdown",
      "metadata": {},
      "source": [
        "### Lists"
      ]
    },
    {
      "cell_type": "markdown",
      "metadata": {},
      "source": [
        "List creates a **unsorted list** of values that **can be edited** (i.e. it is mutable)."
      ]
    },
    {
      "cell_type": "code",
      "execution_count": 127,
      "metadata": {
        "trusted": true
      },
      "outputs": [
        {
          "data": {
            "text/plain": [
              "['one', 'two', 'three', 'four', 'five']"
            ]
          },
          "execution_count": 127,
          "metadata": {},
          "output_type": "execute_result"
        }
      ],
      "source": [
        "# Lists:\n",
        "new_list = ['one','two','three','four','five']\n",
        "new_list"
      ]
    },
    {
      "cell_type": "code",
      "execution_count": 128,
      "metadata": {},
      "outputs": [
        {
          "data": {
            "text/plain": [
              "['ONE', 'two', 'three', 'four', 'five']"
            ]
          },
          "execution_count": 128,
          "metadata": {},
          "output_type": "execute_result"
        }
      ],
      "source": [
        "# Altering the list:\n",
        "new_list[0] = 'ONE'\n",
        "new_list"
      ]
    },
    {
      "cell_type": "code",
      "execution_count": 129,
      "metadata": {},
      "outputs": [
        {
          "data": {
            "text/plain": [
              "['ONE', 'two', 'three', 'four', 'five', 'six']"
            ]
          },
          "execution_count": 129,
          "metadata": {},
          "output_type": "execute_result"
        }
      ],
      "source": [
        "# Appending a new element to the list:\n",
        "new_list.append('six')\n",
        "new_list"
      ]
    },
    {
      "cell_type": "code",
      "execution_count": 130,
      "metadata": {},
      "outputs": [
        {
          "data": {
            "text/plain": [
              "['ONE', 'two', 'three']"
            ]
          },
          "execution_count": 130,
          "metadata": {},
          "output_type": "execute_result"
        }
      ],
      "source": [
        "# Slicing the list:\n",
        "new_list[0:3]"
      ]
    },
    {
      "cell_type": "code",
      "execution_count": 131,
      "metadata": {},
      "outputs": [
        {
          "data": {
            "text/plain": [
              "['ONE', 'two', 'three', 'four', 'five']"
            ]
          },
          "execution_count": 131,
          "metadata": {},
          "output_type": "execute_result"
        }
      ],
      "source": [
        "# Removing last element from the list:\n",
        "new_list.pop()\n",
        "new_list"
      ]
    },
    {
      "cell_type": "code",
      "execution_count": 132,
      "metadata": {},
      "outputs": [
        {
          "data": {
            "text/plain": [
              "['ONE', 'three', 'four', 'five']"
            ]
          },
          "execution_count": 132,
          "metadata": {},
          "output_type": "execute_result"
        }
      ],
      "source": [
        "# Removing an element with a specific index from the list:\n",
        "new_list.pop(1) # removes a second element from the list\n",
        "new_list"
      ]
    },
    {
      "cell_type": "code",
      "execution_count": 133,
      "metadata": {},
      "outputs": [
        {
          "data": {
            "text/plain": [
              "['ONE', 'four', 'five']"
            ]
          },
          "execution_count": 133,
          "metadata": {},
          "output_type": "execute_result"
        }
      ],
      "source": [
        "# Alternative way of removing a specific element from a list:\n",
        "del(new_list[1]) # removes a second element from the list\n",
        "new_list"
      ]
    },
    {
      "cell_type": "code",
      "execution_count": 33,
      "metadata": {},
      "outputs": [
        {
          "data": {
            "text/plain": [
              "[1, 2, 3, 3, 5, 6, 7, 8, 9]"
            ]
          },
          "execution_count": 33,
          "metadata": {},
          "output_type": "execute_result"
        }
      ],
      "source": [
        "# Sorting the list with altering original list:\n",
        "new_list = [3,5,9,8,7,6,2,3,1]\n",
        "new_list.sort()  # changes the original list\n",
        "new_list"
      ]
    },
    {
      "cell_type": "code",
      "execution_count": 254,
      "metadata": {},
      "outputs": [
        {
          "name": "stdout",
          "output_type": "stream",
          "text": [
            "[1, 2, 3, 3, 5, 6, 7, 8, 9]\n",
            "[3, 5, 9, 8, 7, 6, 2, 3, 1]\n"
          ]
        }
      ],
      "source": [
        "# Sorting the list without a altering original list:\n",
        "new_list = [3,5,9,8,7,6,2,3,1]\n",
        "print(sorted(new_list))  # does not change the original list\n",
        "print(new_list)"
      ]
    },
    {
      "cell_type": "code",
      "execution_count": 257,
      "metadata": {},
      "outputs": [
        {
          "data": {
            "text/plain": [
              "1"
            ]
          },
          "execution_count": 257,
          "metadata": {},
          "output_type": "execute_result"
        }
      ],
      "source": [
        "# Showing the index position of an element using .index(): \n",
        "new_list = ['three','four','five']\n",
        "new_list.index('four')"
      ]
    },
    {
      "cell_type": "code",
      "execution_count": 258,
      "metadata": {},
      "outputs": [
        {
          "data": {
            "text/plain": [
              "'four'"
            ]
          },
          "execution_count": 258,
          "metadata": {},
          "output_type": "execute_result"
        }
      ],
      "source": [
        "# Showing the value of an element using index: \n",
        "new_list[1]"
      ]
    },
    {
      "cell_type": "code",
      "execution_count": 259,
      "metadata": {},
      "outputs": [
        {
          "name": "stdout",
          "output_type": "stream",
          "text": [
            "[0, 10, 20]\n"
          ]
        }
      ],
      "source": [
        "# List comprehension:\n",
        "a = [element[0] for element in [[0,10,20],[10,50,80],[20,30,40]] ]\n",
        "print(a)"
      ]
    },
    {
      "cell_type": "markdown",
      "metadata": {},
      "source": [
        "### Dictionaries"
      ]
    },
    {
      "cell_type": "markdown",
      "metadata": {},
      "source": [
        "Created unsorted list of **key-value pairs** that **can be edited**. "
      ]
    },
    {
      "cell_type": "code",
      "execution_count": 260,
      "metadata": {},
      "outputs": [
        {
          "data": {
            "text/plain": [
              "12.2"
            ]
          },
          "execution_count": 260,
          "metadata": {},
          "output_type": "execute_result"
        }
      ],
      "source": [
        "# Creating a dictionary:\n",
        "my_dictionary = {'apple':12.2, 'orange':25.0}\n",
        "my_dictionary['apple']"
      ]
    },
    {
      "cell_type": "code",
      "execution_count": 37,
      "metadata": {},
      "outputs": [
        {
          "data": {
            "text/plain": [
              "{'apple': 12, 'orange': 25.0}"
            ]
          },
          "execution_count": 37,
          "metadata": {},
          "output_type": "execute_result"
        }
      ],
      "source": [
        "my_dictionary['apple'] = 12\n",
        "my_dictionary"
      ]
    },
    {
      "cell_type": "code",
      "execution_count": 48,
      "metadata": {},
      "outputs": [
        {
          "data": {
            "text/plain": [
              "{'red': 26.8, 'yellow': 24.2}"
            ]
          },
          "execution_count": 48,
          "metadata": {},
          "output_type": "execute_result"
        }
      ],
      "source": [
        "my_dictionary['orange'] = {'red':26.8, 'yellow':24.2}\n",
        "my_dictionary['orange']"
      ]
    },
    {
      "cell_type": "code",
      "execution_count": 49,
      "metadata": {},
      "outputs": [
        {
          "data": {
            "text/plain": [
              "26.8"
            ]
          },
          "execution_count": 49,
          "metadata": {},
          "output_type": "execute_result"
        }
      ],
      "source": [
        "my_dictionary['orange']['red']"
      ]
    },
    {
      "cell_type": "code",
      "execution_count": 42,
      "metadata": {},
      "outputs": [
        {
          "data": {
            "text/plain": [
              "dict_keys(['apple', 'orange'])"
            ]
          },
          "execution_count": 42,
          "metadata": {},
          "output_type": "execute_result"
        }
      ],
      "source": [
        "my_dictionary.keys()"
      ]
    },
    {
      "cell_type": "code",
      "execution_count": 41,
      "metadata": {},
      "outputs": [
        {
          "data": {
            "text/plain": [
              "dict_values([12, 25.0])"
            ]
          },
          "execution_count": 41,
          "metadata": {},
          "output_type": "execute_result"
        }
      ],
      "source": [
        "my_dictionary.values()"
      ]
    },
    {
      "cell_type": "code",
      "execution_count": 43,
      "metadata": {},
      "outputs": [
        {
          "data": {
            "text/plain": [
              "dict_items([('apple', 12), ('orange', 25.0)])"
            ]
          },
          "execution_count": 43,
          "metadata": {},
          "output_type": "execute_result"
        }
      ],
      "source": [
        "my_dictionary.items()"
      ]
    },
    {
      "cell_type": "code",
      "execution_count": 51,
      "metadata": {},
      "outputs": [
        {
          "data": {
            "text/plain": [
              "{'apple': 12, 'orange': {'red': 26.8, 'yellow': 24.2}, 'meat': [25, 15, 8]}"
            ]
          },
          "execution_count": 51,
          "metadata": {},
          "output_type": "execute_result"
        }
      ],
      "source": [
        "my_dictionary['meat'] = [25,15,8]\n",
        "my_dictionary"
      ]
    },
    {
      "cell_type": "markdown",
      "metadata": {},
      "source": [
        "### Tuples"
      ]
    },
    {
      "cell_type": "markdown",
      "metadata": {},
      "source": [
        "Tuples create an **unsorted list** of values that **cannot be edited** = **immutable**. "
      ]
    },
    {
      "cell_type": "code",
      "execution_count": 1,
      "metadata": {},
      "outputs": [
        {
          "data": {
            "text/plain": [
              "(10, 'one', 25, 10)"
            ]
          },
          "execution_count": 1,
          "metadata": {},
          "output_type": "execute_result"
        }
      ],
      "source": [
        "# Creating a tuple:\n",
        "my_tuple = (10,'one',25,10)\n",
        "my_tuple"
      ]
    },
    {
      "cell_type": "code",
      "execution_count": 2,
      "metadata": {},
      "outputs": [
        {
          "data": {
            "text/plain": [
              "10"
            ]
          },
          "execution_count": 2,
          "metadata": {},
          "output_type": "execute_result"
        }
      ],
      "source": [
        "my_tuple[-1]"
      ]
    },
    {
      "cell_type": "code",
      "execution_count": 66,
      "metadata": {},
      "outputs": [
        {
          "data": {
            "text/plain": [
              "2"
            ]
          },
          "execution_count": 66,
          "metadata": {},
          "output_type": "execute_result"
        }
      ],
      "source": [
        "my_tuple.count(10)"
      ]
    },
    {
      "cell_type": "code",
      "execution_count": 4,
      "metadata": {},
      "outputs": [
        {
          "ename": "TypeError",
          "evalue": "'tuple' object does not support item assignment",
          "output_type": "error",
          "traceback": [
            "\u001b[1;31m---------------------------------------------------------------------------\u001b[0m",
            "\u001b[1;31mTypeError\u001b[0m                                 Traceback (most recent call last)",
            "Cell \u001b[1;32mIn[4], line 1\u001b[0m\n\u001b[1;32m----> 1\u001b[0m \u001b[43mmy_tuple\u001b[49m\u001b[43m[\u001b[49m\u001b[38;5;241;43m0\u001b[39;49m\u001b[43m]\u001b[49m \u001b[38;5;241m=\u001b[39m \u001b[38;5;241m20\u001b[39m\n",
            "\u001b[1;31mTypeError\u001b[0m: 'tuple' object does not support item assignment"
          ]
        }
      ],
      "source": [
        "my_tuple[0] = 20"
      ]
    },
    {
      "cell_type": "markdown",
      "metadata": {},
      "source": [
        "### Sets"
      ]
    },
    {
      "cell_type": "markdown",
      "metadata": {},
      "source": [
        "Set creates a **sorted list** of **unique** values, that can be edited. "
      ]
    },
    {
      "cell_type": "code",
      "execution_count": 69,
      "metadata": {},
      "outputs": [
        {
          "data": {
            "text/plain": [
              "set()"
            ]
          },
          "execution_count": 69,
          "metadata": {},
          "output_type": "execute_result"
        }
      ],
      "source": [
        "# Creating a set:\n",
        "my_set = set()\n",
        "my_set"
      ]
    },
    {
      "cell_type": "code",
      "execution_count": 75,
      "metadata": {},
      "outputs": [
        {
          "data": {
            "text/plain": [
              "{25}"
            ]
          },
          "execution_count": 75,
          "metadata": {},
          "output_type": "execute_result"
        }
      ],
      "source": [
        "my_set.add(25)\n",
        "my_set"
      ]
    },
    {
      "cell_type": "code",
      "execution_count": 76,
      "metadata": {},
      "outputs": [
        {
          "data": {
            "text/plain": [
              "{1, 25}"
            ]
          },
          "execution_count": 76,
          "metadata": {},
          "output_type": "execute_result"
        }
      ],
      "source": [
        "my_set.add(1)\n",
        "my_set"
      ]
    },
    {
      "cell_type": "code",
      "execution_count": 84,
      "metadata": {},
      "outputs": [
        {
          "data": {
            "text/plain": [
              "set"
            ]
          },
          "execution_count": 84,
          "metadata": {},
          "output_type": "execute_result"
        }
      ],
      "source": [
        "my_set_2 = {10,15,25,48}\n",
        "type(my_set_2)"
      ]
    },
    {
      "cell_type": "code",
      "execution_count": 79,
      "metadata": {},
      "outputs": [
        {
          "data": {
            "text/plain": [
              "{10, 15, 25, 80}"
            ]
          },
          "execution_count": 79,
          "metadata": {},
          "output_type": "execute_result"
        }
      ],
      "source": [
        "my_set = set([25,10,15,15,15,25,80])\n",
        "my_set"
      ]
    },
    {
      "cell_type": "code",
      "execution_count": 80,
      "metadata": {},
      "outputs": [
        {
          "data": {
            "text/plain": [
              "{'M', 'i', 'p', 's'}"
            ]
          },
          "execution_count": 80,
          "metadata": {},
          "output_type": "execute_result"
        }
      ],
      "source": [
        "set('Mississippi')"
      ]
    },
    {
      "cell_type": "markdown",
      "metadata": {},
      "source": [
        "## Booleans"
      ]
    },
    {
      "cell_type": "markdown",
      "metadata": {},
      "source": [
        "**Booleans** consist of two values: `True` and `False`"
      ]
    },
    {
      "cell_type": "code",
      "execution_count": 81,
      "metadata": {},
      "outputs": [
        {
          "data": {
            "text/plain": [
              "False"
            ]
          },
          "execution_count": 81,
          "metadata": {},
          "output_type": "execute_result"
        }
      ],
      "source": [
        "# Comparing two numbers using Booleans logic:\n",
        "1 > 2"
      ]
    },
    {
      "cell_type": "code",
      "execution_count": 111,
      "metadata": {},
      "outputs": [
        {
          "data": {
            "text/plain": [
              "True"
            ]
          },
          "execution_count": 111,
          "metadata": {},
          "output_type": "execute_result"
        }
      ],
      "source": [
        "1 == 1"
      ]
    },
    {
      "cell_type": "markdown",
      "metadata": {},
      "source": [
        "## Working with files"
      ]
    },
    {
      "cell_type": "markdown",
      "metadata": {},
      "source": [
        "**Showing a Working directory (pwd = print working directory):**"
      ]
    },
    {
      "cell_type": "code",
      "execution_count": 261,
      "metadata": {},
      "outputs": [
        {
          "data": {
            "text/plain": [
              "'c:\\\\Users\\\\Jakub.Cajzl\\\\OneDrive - Adastra, s.r.o\\\\Work\\\\Projects\\\\00_Learning\\\\Python\\\\GitLab\\\\learning-python'"
            ]
          },
          "execution_count": 261,
          "metadata": {},
          "output_type": "execute_result"
        }
      ],
      "source": [
        "pwd"
      ]
    },
    {
      "cell_type": "markdown",
      "metadata": {},
      "source": [
        "**Writing a text file:**"
      ]
    },
    {
      "cell_type": "code",
      "execution_count": 4,
      "metadata": {},
      "outputs": [
        {
          "name": "stdout",
          "output_type": "stream",
          "text": [
            "Writing myfile.txt\n"
          ]
        }
      ],
      "source": [
        "%%writefile myfile.txt\n",
        "Hello this is a text file\n",
        "this is a second line\n",
        "this is a third line"
      ]
    },
    {
      "cell_type": "markdown",
      "metadata": {},
      "source": [
        "**Opening a file:**"
      ]
    },
    {
      "cell_type": "code",
      "execution_count": 217,
      "metadata": {},
      "outputs": [
        {
          "data": {
            "text/plain": [
              "<_io.TextIOWrapper name='myfile.txt' mode='r' encoding='cp1252'>"
            ]
          },
          "execution_count": 217,
          "metadata": {},
          "output_type": "execute_result"
        }
      ],
      "source": [
        "myfile = open('myfile.txt')\n",
        "myfile"
      ]
    },
    {
      "cell_type": "markdown",
      "metadata": {},
      "source": [
        "**Reading a file:**"
      ]
    },
    {
      "cell_type": "code",
      "execution_count": 218,
      "metadata": {},
      "outputs": [
        {
          "data": {
            "text/plain": [
              "'Hello this is a text file\\nthis is a second line\\nthis is a third line\\n'"
            ]
          },
          "execution_count": 218,
          "metadata": {},
          "output_type": "execute_result"
        }
      ],
      "source": [
        "myfile.read()"
      ]
    },
    {
      "cell_type": "code",
      "execution_count": 219,
      "metadata": {},
      "outputs": [
        {
          "data": {
            "text/plain": [
              "0"
            ]
          },
          "execution_count": 219,
          "metadata": {},
          "output_type": "execute_result"
        }
      ],
      "source": [
        "# Changing the cursor position to the beginning:\n",
        "myfile.seek(0)"
      ]
    },
    {
      "cell_type": "code",
      "execution_count": 220,
      "metadata": {},
      "outputs": [
        {
          "data": {
            "text/plain": [
              "['Hello this is a text file\\n',\n",
              " 'this is a second line\\n',\n",
              " 'this is a third line\\n']"
            ]
          },
          "execution_count": 220,
          "metadata": {},
          "output_type": "execute_result"
        }
      ],
      "source": [
        "# Reading a text file line-by-line:\n",
        "myfile.readlines()"
      ]
    },
    {
      "cell_type": "markdown",
      "metadata": {},
      "source": [
        "**Closing a text file:**"
      ]
    },
    {
      "cell_type": "code",
      "execution_count": 94,
      "metadata": {},
      "outputs": [],
      "source": [
        "myfile.close()"
      ]
    },
    {
      "cell_type": "markdown",
      "metadata": {},
      "source": [
        "**Opening and reading a text file without a need for closing it:**"
      ]
    },
    {
      "cell_type": "code",
      "execution_count": 97,
      "metadata": {},
      "outputs": [
        {
          "data": {
            "text/plain": [
              "'Hello this is a text file\\nthis is a second line\\nthis is a third line\\n'"
            ]
          },
          "execution_count": 97,
          "metadata": {},
          "output_type": "execute_result"
        }
      ],
      "source": [
        "with open('myfile.txt') as myfile:\n",
        "    contents = myfile.read()"
      ]
    },
    {
      "cell_type": "code",
      "execution_count": 118,
      "metadata": {},
      "outputs": [
        {
          "name": "stdout",
          "output_type": "stream",
          "text": [
            "one\n",
            "two\n",
            "three\n"
          ]
        }
      ],
      "source": [
        "# Choosing a mode of an open file:\n",
        "with open('myfile.txt', mode='r') as myfile:\n",
        "    print(myfile.read())"
      ]
    },
    {
      "cell_type": "code",
      "execution_count": 125,
      "metadata": {},
      "outputs": [
        {
          "name": "stdout",
          "output_type": "stream",
          "text": [
            "one\n",
            "two\n",
            "three\n",
            "four\n",
            "five\n",
            "four\n"
          ]
        }
      ],
      "source": [
        "with open('myfile.txt', mode='a+') as myfile:\n",
        "    myfile.write('\\nfour')\n",
        "    \n",
        "with open('myfile.txt') as myfile:\n",
        "    print(myfile.read())"
      ]
    },
    {
      "cell_type": "code",
      "execution_count": 126,
      "metadata": {},
      "outputs": [
        {
          "name": "stdout",
          "output_type": "stream",
          "text": [
            "one\n",
            "\n",
            "two\n",
            "\n",
            "three\n",
            "\n",
            "four\n",
            "\n",
            "five\n",
            "\n",
            "four\n"
          ]
        }
      ],
      "source": [
        "for line in open('myfile.txt'):\n",
        "    print(line)"
      ]
    },
    {
      "cell_type": "code",
      "execution_count": 148,
      "metadata": {},
      "outputs": [
        {
          "name": "stdout",
          "output_type": "stream",
          "text": [
            "Hello world\n"
          ]
        }
      ],
      "source": [
        "with open('test.txt', mode='w') as f:\n",
        "    f.write('Hello world')\n",
        "    \n",
        "with open('test.txt', mode='r') as f:\n",
        "    print(f.read())"
      ]
    },
    {
      "cell_type": "code",
      "execution_count": 156,
      "metadata": {},
      "outputs": [
        {
          "name": "stdout",
          "output_type": "stream",
          "text": [
            "Hello World\n"
          ]
        }
      ],
      "source": [
        "f = open('test.txt', mode='w')\n",
        "f.write('Hello World')\n",
        "f.close()\n",
        "\n",
        "with open('test.txt') as f:\n",
        "    print(f.read())"
      ]
    },
    {
      "cell_type": "markdown",
      "metadata": {},
      "source": [
        "## Operators"
      ]
    },
    {
      "cell_type": "markdown",
      "metadata": {},
      "source": [
        "### Artithmetic Operators"
      ]
    },
    {
      "cell_type": "markdown",
      "metadata": {},
      "source": [
        "- Addition: `+`\n",
        "- Subtraction: `-`\n",
        "- Multiplication: `*`\n",
        "- Division: `/`\n",
        "- Exponent: `**`\n",
        "- Floor division: `//`\n",
        "- Modulus: `%`"
      ]
    },
    {
      "cell_type": "code",
      "execution_count": 28,
      "metadata": {},
      "outputs": [
        {
          "name": "stdout",
          "output_type": "stream",
          "text": [
            "7\n",
            "3\n",
            "10\n",
            "2.5\n",
            "25\n",
            "2\n",
            "1\n"
          ]
        }
      ],
      "source": [
        "# Addition\n",
        "print(5 + 2)\n",
        "\n",
        "# Subtraction\n",
        "print(5 - 2)\n",
        "\n",
        "# Multiplication\n",
        "print(5 * 2)\n",
        "\n",
        "# Division\n",
        "print(5 / 2)\n",
        "\n",
        "# Exponent\n",
        "print(5 ** 2)\n",
        "# This is the same as 5 * 5\n",
        "\n",
        "# Floor Division\n",
        "print(5 // 2)\n",
        "\n",
        "# Modulus\n",
        "print(5 % 2)"
      ]
    },
    {
      "cell_type": "code",
      "execution_count": 32,
      "metadata": {},
      "outputs": [
        {
          "data": {
            "text/plain": [
              "'Hi, my name is Jakub.'"
            ]
          },
          "execution_count": 32,
          "metadata": {},
          "output_type": "execute_result"
        }
      ],
      "source": [
        "# Concatenating strings using '+' sign:\n",
        "firstName = 'Jakub'\n",
        "introduction = \"Hi, my name is \" + firstName + \".\"\n",
        "introduction"
      ]
    },
    {
      "cell_type": "markdown",
      "metadata": {},
      "source": [
        "### Assignment Operators"
      ]
    },
    {
      "cell_type": "markdown",
      "metadata": {},
      "source": [
        "- Yields: `=`\n",
        "- Incrementing usign addition: `+=`\n",
        "- Incrementing usign subtraction: `-=`\n",
        "- Incrementing usign multiplication: `*=`\n",
        "- Incrementing usign division: `/=`\n",
        "- Incrementing usign exponent: `**=`\n",
        "- Incrementing usign floor division: `//=`\n",
        "- Incrementing usign modulus: `%=`"
      ]
    },
    {
      "cell_type": "code",
      "execution_count": 36,
      "metadata": {},
      "outputs": [
        {
          "name": "stdout",
          "output_type": "stream",
          "text": [
            "0\n",
            "15\n"
          ]
        }
      ],
      "source": [
        "balance = 0\n",
        "print(balance)\n",
        "\n",
        "balance += 15\n",
        "print(balance)"
      ]
    },
    {
      "cell_type": "markdown",
      "metadata": {},
      "source": [
        "### Comparison Operators"
      ]
    },
    {
      "cell_type": "markdown",
      "metadata": {},
      "source": [
        "- Equal: `==`\n",
        "- Not equal: `!=`\n",
        "- Greater than: `>`\n",
        "- Less than: `<`\n",
        "- Greater than or equal: `>=`\n",
        "- Less than or equal: `<=`"
      ]
    },
    {
      "cell_type": "code",
      "execution_count": 37,
      "metadata": {},
      "outputs": [
        {
          "data": {
            "text/plain": [
              "True"
            ]
          },
          "execution_count": 37,
          "metadata": {},
          "output_type": "execute_result"
        }
      ],
      "source": [
        "1 < 2"
      ]
    },
    {
      "cell_type": "code",
      "execution_count": 38,
      "metadata": {},
      "outputs": [
        {
          "data": {
            "text/plain": [
              "True"
            ]
          },
          "execution_count": 38,
          "metadata": {},
          "output_type": "execute_result"
        }
      ],
      "source": [
        "3**2 == 81**0.5"
      ]
    },
    {
      "cell_type": "markdown",
      "metadata": {},
      "source": [
        "### Logical Operators"
      ]
    },
    {
      "cell_type": "markdown",
      "metadata": {},
      "source": [
        "- `and` returns True if both operands are True\n",
        "- `or` returns True if one of the operands is True\n",
        "- `not` returns True if both operands are not True (i.e. False)"
      ]
    },
    {
      "cell_type": "code",
      "execution_count": 18,
      "metadata": {},
      "outputs": [
        {
          "data": {
            "text/plain": [
              "False"
            ]
          },
          "execution_count": 18,
          "metadata": {},
          "output_type": "execute_result"
        }
      ],
      "source": [
        "(1 < 2) and (2 > 3)"
      ]
    },
    {
      "cell_type": "code",
      "execution_count": 17,
      "metadata": {},
      "outputs": [
        {
          "data": {
            "text/plain": [
              "True"
            ]
          },
          "execution_count": 17,
          "metadata": {},
          "output_type": "execute_result"
        }
      ],
      "source": [
        "(1 < 2) or (2 > 3)"
      ]
    },
    {
      "cell_type": "code",
      "execution_count": 39,
      "metadata": {},
      "outputs": [
        {
          "name": "stdout",
          "output_type": "stream",
          "text": [
            "True\n",
            "True\n"
          ]
        }
      ],
      "source": [
        "print(1 < 2 < 3)\n",
        "# equals to:\n",
        "print(1 < 2 and 2 < 3)"
      ]
    },
    {
      "cell_type": "code",
      "execution_count": 20,
      "metadata": {},
      "outputs": [
        {
          "data": {
            "text/plain": [
              "True"
            ]
          },
          "execution_count": 20,
          "metadata": {},
          "output_type": "execute_result"
        }
      ],
      "source": [
        "not(2==1)"
      ]
    },
    {
      "cell_type": "markdown",
      "metadata": {},
      "source": [
        "### Precedence of the execution"
      ]
    },
    {
      "cell_type": "markdown",
      "metadata": {},
      "source": [
        "| Order of execution | Operator | Description |\n",
        "| -- | -- | -- |\n",
        "1   |   **\t        |   exponent\n",
        "2\t|   *, /, %, //\t|   multiply, divide, modulo, floor division\n",
        "3\t|   +, -\t    |   plus, minus\n",
        "4\t|   >, <, >=, <=\t|   comparison\n",
        "5\t|   ==, !=\t|   equality\n",
        "6\t|   = %= /= //= -= += *= **=\t|   assignment\n",
        "7\t|   and, or, not\t|   logical"
      ]
    },
    {
      "cell_type": "markdown",
      "metadata": {},
      "source": [
        "## Basic conditional programming:"
      ]
    },
    {
      "cell_type": "markdown",
      "metadata": {},
      "source": [
        "### If, Elif, Else:"
      ]
    },
    {
      "cell_type": "code",
      "execution_count": 7,
      "metadata": {},
      "outputs": [
        {
          "name": "stdout",
          "output_type": "stream",
          "text": [
            "A + B equals to 25\n"
          ]
        }
      ],
      "source": [
        "a = 5\n",
        "b = 20\n",
        "\n",
        "if a == b:\n",
        "    print(\"A is equal to B\")\n",
        "elif a+b == 25:\n",
        "    print(\"A + B equals to 25\")\n",
        "else: \n",
        "    print(\"A is not equal to B\")"
      ]
    },
    {
      "cell_type": "markdown",
      "metadata": {},
      "source": [
        "### For loops:"
      ]
    },
    {
      "cell_type": "code",
      "execution_count": 27,
      "metadata": {},
      "outputs": [
        {
          "name": "stdout",
          "output_type": "stream",
          "text": [
            "number\n",
            "number\n",
            "number\n",
            "number\n",
            "number\n",
            "number\n"
          ]
        }
      ],
      "source": [
        "my_list = [0,1,2,3,4,5]\n",
        "\n",
        "for number in my_list:\n",
        "    print('number')"
      ]
    },
    {
      "cell_type": "code",
      "execution_count": 32,
      "metadata": {},
      "outputs": [
        {
          "name": "stdout",
          "output_type": "stream",
          "text": [
            "Number 0 is even\n",
            "Number 1 is not even, therefore odd\n",
            "Number 2 is even\n",
            "Number 3 is not even, therefore odd\n",
            "Number 4 is even\n",
            "Number 5 is not even, therefore odd\n"
          ]
        }
      ],
      "source": [
        "my_list = [0,1,2,3,4,5]\n",
        "\n",
        "for number in my_list:\n",
        "    # Check for even numbers:\n",
        "    if (number % 2) == 0:\n",
        "        print(f\"Number {number} is even\")\n",
        "    else:\n",
        "        print(f\"Number {number} is not even, therefore odd\")"
      ]
    },
    {
      "cell_type": "code",
      "execution_count": 38,
      "metadata": {},
      "outputs": [
        {
          "name": "stdout",
          "output_type": "stream",
          "text": [
            "1\n",
            "8\n",
            "10\n"
          ]
        }
      ],
      "source": [
        "my_list = [(1,2),(8,7),(10,12)]\n",
        "\n",
        "for item_1, item_2 in my_list:\n",
        "    print(item_1)"
      ]
    },
    {
      "cell_type": "code",
      "execution_count": 41,
      "metadata": {},
      "outputs": [
        {
          "name": "stdout",
          "output_type": "stream",
          "text": [
            "k1\n",
            "k2\n",
            "k3\n"
          ]
        }
      ],
      "source": [
        "my_dictionary = {'k1':20, 'k2':30, 'k3':40}\n",
        "\n",
        "for x in my_dictionary:\n",
        "    print(x)"
      ]
    },
    {
      "cell_type": "code",
      "execution_count": 44,
      "metadata": {},
      "outputs": [
        {
          "name": "stdout",
          "output_type": "stream",
          "text": [
            "20\n",
            "30\n",
            "40\n"
          ]
        }
      ],
      "source": [
        "for x in my_dictionary.values():\n",
        "    print(x)"
      ]
    },
    {
      "cell_type": "code",
      "execution_count": 46,
      "metadata": {},
      "outputs": [
        {
          "name": "stdout",
          "output_type": "stream",
          "text": [
            "k1\n",
            "k2\n",
            "k3\n"
          ]
        }
      ],
      "source": [
        "for x in my_dictionary.keys():\n",
        "    print(x)"
      ]
    },
    {
      "cell_type": "markdown",
      "metadata": {},
      "source": [
        "### While loops:"
      ]
    },
    {
      "cell_type": "code",
      "execution_count": 50,
      "metadata": {},
      "outputs": [
        {
          "name": "stdout",
          "output_type": "stream",
          "text": [
            "The current value of x is: 0\n",
            "The current value of x is: 1\n",
            "The current value of x is: 2\n",
            "The current value of x is: 3\n",
            "The current value of x is: 4\n",
            "The current value of x is: 5\n",
            "The value of x greater than 5\n"
          ]
        }
      ],
      "source": [
        "x = 0\n",
        "\n",
        "while x <= 5:\n",
        "    print(f\"The current value of x is: {x}\")\n",
        "    x = x+1\n",
        "else:\n",
        "    print(\"The value of x greater than 5\")"
      ]
    },
    {
      "cell_type": "markdown",
      "metadata": {},
      "source": [
        "### Break, Continue, Pass:"
      ]
    },
    {
      "cell_type": "code",
      "execution_count": 56,
      "metadata": {},
      "outputs": [
        {
          "name": "stdout",
          "output_type": "stream",
          "text": [
            "S\n"
          ]
        }
      ],
      "source": [
        "# BREAK:\n",
        "\n",
        "my_string = \"Sammy\"\n",
        "\n",
        "for letter in my_string:\n",
        "    if letter == 'a':\n",
        "        break\n",
        "    print(letter)"
      ]
    },
    {
      "cell_type": "code",
      "execution_count": 55,
      "metadata": {},
      "outputs": [
        {
          "name": "stdout",
          "output_type": "stream",
          "text": [
            "S\n",
            "m\n",
            "m\n",
            "y\n"
          ]
        }
      ],
      "source": [
        "# CONTINUE:\n",
        "\n",
        "my_string = \"Sammy\"\n",
        "\n",
        "for letter in my_string:\n",
        "    if letter == 'a':\n",
        "        continue\n",
        "    print(letter)"
      ]
    },
    {
      "cell_type": "markdown",
      "metadata": {},
      "source": [
        "PASS keyword:\n",
        "\n",
        "The pass statement is used as a placeholder for future code.\n",
        "\n",
        "When the pass statement is executed, nothing happens, but you avoid getting an error when empty code is not allowed.\n",
        "\n",
        "Empty code is not allowed in loops, function definitions, class definitions, or in if statements."
      ]
    },
    {
      "cell_type": "code",
      "execution_count": 54,
      "metadata": {},
      "outputs": [
        {
          "name": "stdout",
          "output_type": "stream",
          "text": [
            "End of my script\n"
          ]
        }
      ],
      "source": [
        "# PASS:\n",
        "\n",
        "x = [1,2,3]\n",
        "\n",
        "for item in x:\n",
        "    pass  # avoids syntax error\n",
        "\n",
        "print(\"End of my script\")"
      ]
    },
    {
      "cell_type": "markdown",
      "metadata": {},
      "source": [
        "### Useful operators:"
      ]
    },
    {
      "cell_type": "markdown",
      "metadata": {},
      "source": [
        "#### Range:"
      ]
    },
    {
      "cell_type": "code",
      "execution_count": 61,
      "metadata": {},
      "outputs": [
        {
          "data": {
            "text/plain": [
              "[0, 2, 4, 6, 8]"
            ]
          },
          "execution_count": 61,
          "metadata": {},
          "output_type": "execute_result"
        }
      ],
      "source": [
        "list(range(0,10,2))"
      ]
    },
    {
      "cell_type": "markdown",
      "metadata": {},
      "source": [
        "#### Enumerate:"
      ]
    },
    {
      "cell_type": "code",
      "execution_count": 232,
      "metadata": {},
      "outputs": [
        {
          "name": "stdout",
          "output_type": "stream",
          "text": [
            "At index 0 the letter is: a\n",
            "At index 1 the letter is: b\n",
            "At index 2 the letter is: c\n",
            "At index 3 the letter is: d\n",
            "At index 4 the letter is: e\n"
          ]
        }
      ],
      "source": [
        "# Enumerating a list using FOR loop:\n",
        "word = \"abcde\"\n",
        "index_count = 0\n",
        "\n",
        "for letter in word:\n",
        "    print(f\"At index {index_count} the letter is: {letter}\")\n",
        "    index_count = index_count + 1"
      ]
    },
    {
      "cell_type": "code",
      "execution_count": 233,
      "metadata": {},
      "outputs": [
        {
          "name": "stdout",
          "output_type": "stream",
          "text": [
            "At index 0 the letter is: a\n",
            "At index 1 the letter is: b\n",
            "At index 2 the letter is: c\n",
            "At index 3 the letter is: d\n",
            "At index 4 the letter is: e\n"
          ]
        }
      ],
      "source": [
        "# Same using enumerate():\n",
        "word = \"abcde\"\n",
        "\n",
        "for index, letter in enumerate(word):\n",
        "    print(f\"At index {index} the letter is: {letter}\")"
      ]
    },
    {
      "cell_type": "markdown",
      "metadata": {},
      "source": [
        "#### Zip (used for creating tuples from two or more lists):"
      ]
    },
    {
      "cell_type": "code",
      "execution_count": 235,
      "metadata": {},
      "outputs": [
        {
          "name": "stdout",
          "output_type": "stream",
          "text": [
            "(1, 'a', 4)\n",
            "(2, 'b', 5)\n",
            "(3, 'c', 6)\n"
          ]
        }
      ],
      "source": [
        "# ZIP:\n",
        "list_1 = [1,2,3]\n",
        "list_2 = ['a','b','c']\n",
        "list_3 = [4,5,6]\n",
        "\n",
        "for item in zip(list_1, list_2, list_3): \n",
        "    print(item) "
      ]
    },
    {
      "cell_type": "markdown",
      "metadata": {},
      "source": [
        "#### Booleans:"
      ]
    },
    {
      "cell_type": "code",
      "execution_count": 237,
      "metadata": {},
      "outputs": [
        {
          "data": {
            "text/plain": [
              "True"
            ]
          },
          "execution_count": 237,
          "metadata": {},
          "output_type": "execute_result"
        }
      ],
      "source": [
        "# Finding out if the number is in the list:\n",
        "2 in [2,3,4]"
      ]
    },
    {
      "cell_type": "code",
      "execution_count": 236,
      "metadata": {},
      "outputs": [
        {
          "data": {
            "text/plain": [
              "True"
            ]
          },
          "execution_count": 236,
          "metadata": {},
          "output_type": "execute_result"
        }
      ],
      "source": [
        "# Finding out if the value is in the dictionary:\n",
        "d = {'key':10}\n",
        "10 in d.values()"
      ]
    },
    {
      "cell_type": "markdown",
      "metadata": {},
      "source": [
        "#### Shuffle (random list ordering):"
      ]
    },
    {
      "cell_type": "code",
      "execution_count": 92,
      "metadata": {},
      "outputs": [
        {
          "data": {
            "text/plain": [
              "[7, 6, 5, 3, 0, 9, 1, 8, 2, 4]"
            ]
          },
          "execution_count": 92,
          "metadata": {},
          "output_type": "execute_result"
        }
      ],
      "source": [
        "# Shuffle:\n",
        "from random import shuffle\n",
        "a = list(range(0,10))\n",
        "shuffle(a)\n",
        "a"
      ]
    },
    {
      "cell_type": "markdown",
      "metadata": {},
      "source": [
        "#### Random integers:"
      ]
    },
    {
      "cell_type": "code",
      "execution_count": 26,
      "metadata": {},
      "outputs": [
        {
          "data": {
            "text/plain": [
              "array([18,  3,  3, 17,  9, 16,  3,  6, 14, 18, 15,  3, 16, 12,  2, 11, 14,\n",
              "        6, 15,  3,  1,  9, 11, 10,  6,  5,  4, 20, 16, 18, 16,  0,  3,  4,\n",
              "       18, 19,  9, 11, 10,  0,  6,  9, 14, 14,  1,  7, 17,  2,  2,  2, 10,\n",
              "       12, 11, 20,  5, 13,  5, 14,  9, 10, 16, 13, 15,  8, 10, 15,  1, 10,\n",
              "       12, 14, 17, 10, 14,  4,  3,  4,  9,  6,  4, 13,  7,  2,  0, 11, 16,\n",
              "       18, 14,  6,  2, 10, 11,  7, 19,  9,  0, 12, 13, 10,  4,  7])"
            ]
          },
          "execution_count": 26,
          "metadata": {},
          "output_type": "execute_result"
        }
      ],
      "source": [
        "# Random integer:\n",
        "from random import randint\n",
        "np.array([randint(0,20) for num in range(0,100)])"
      ]
    },
    {
      "cell_type": "code",
      "execution_count": 5,
      "metadata": {},
      "outputs": [
        {
          "data": {
            "text/plain": [
              "array([ 4, 27, 75, 43, 51, 48, 98, 43, 52, 15,  6, 48, 61, 26, 87, 88, 10,\n",
              "       92,  8, 61])"
            ]
          },
          "execution_count": 5,
          "metadata": {},
          "output_type": "execute_result"
        }
      ],
      "source": [
        "# NumPy random library:\n",
        "np.random.randint(0,100,20)"
      ]
    },
    {
      "cell_type": "markdown",
      "metadata": {},
      "source": [
        "#### Input:"
      ]
    },
    {
      "cell_type": "code",
      "execution_count": 100,
      "metadata": {},
      "outputs": [
        {
          "data": {
            "text/plain": [
              "float"
            ]
          },
          "execution_count": 100,
          "metadata": {},
          "output_type": "execute_result"
        }
      ],
      "source": [
        "# Input:\n",
        "result = float(input('Enter a number: '))\n",
        "type(result)"
      ]
    },
    {
      "cell_type": "markdown",
      "metadata": {},
      "source": [
        "### List comprehension:"
      ]
    },
    {
      "cell_type": "markdown",
      "metadata": {},
      "source": [
        "List comprehension constructs a list using `for` loop in a concice way:\n",
        "\n",
        "``` python\n",
        "my_list = [elements for element in iterable]\n",
        "```"
      ]
    },
    {
      "cell_type": "code",
      "execution_count": 102,
      "metadata": {},
      "outputs": [
        {
          "data": {
            "text/plain": [
              "['h', 'e', 'l', 'l', 'o']"
            ]
          },
          "execution_count": 102,
          "metadata": {},
          "output_type": "execute_result"
        }
      ],
      "source": [
        "mystring = 'hello'\n",
        "mylist = []\n",
        "\n",
        "for letter in mystring:\n",
        "    mylist.append(letter)\n",
        "    \n",
        "mylist"
      ]
    },
    {
      "cell_type": "code",
      "execution_count": 105,
      "metadata": {},
      "outputs": [
        {
          "data": {
            "text/plain": [
              "['h', 'e', 'l', 'l', 'o']"
            ]
          },
          "execution_count": 105,
          "metadata": {},
          "output_type": "execute_result"
        }
      ],
      "source": [
        "# Same using List Comprehension:\n",
        "mystring = 'hello'\n",
        "mylist = [letter for letter in mystring]    \n",
        "mylist"
      ]
    },
    {
      "cell_type": "code",
      "execution_count": 108,
      "metadata": {},
      "outputs": [
        {
          "data": {
            "text/plain": [
              "[0, 1, 4, 9, 16, 25, 36, 49, 64, 81]"
            ]
          },
          "execution_count": 108,
          "metadata": {},
          "output_type": "execute_result"
        }
      ],
      "source": [
        "mylist = [num**2 for num in range(0,10)]\n",
        "mylist"
      ]
    },
    {
      "cell_type": "code",
      "execution_count": 109,
      "metadata": {},
      "outputs": [
        {
          "data": {
            "text/plain": [
              "[0, 4, 16, 36, 64]"
            ]
          },
          "execution_count": 109,
          "metadata": {},
          "output_type": "execute_result"
        }
      ],
      "source": [
        "mylist = [num**2 for num in range(0,10) if num % 2 == 0]\n",
        "mylist"
      ]
    },
    {
      "cell_type": "code",
      "execution_count": 110,
      "metadata": {},
      "outputs": [
        {
          "data": {
            "text/plain": [
              "[32.0, 50.0, 68.0, 86.0]"
            ]
          },
          "execution_count": 110,
          "metadata": {},
          "output_type": "execute_result"
        }
      ],
      "source": [
        "celsius = [0,10,20,30]\n",
        "fahrenheit = [( (9/5)*temp + 32) for temp in celsius]\n",
        "fahrenheit"
      ]
    },
    {
      "cell_type": "code",
      "execution_count": 113,
      "metadata": {},
      "outputs": [
        {
          "data": {
            "text/plain": [
              "['i', ' ', 'o', 'w', ' ', 'a', 'r', 'e', ' ', 'y', 'o', 'u', '?']"
            ]
          },
          "execution_count": 113,
          "metadata": {},
          "output_type": "execute_result"
        }
      ],
      "source": [
        "word = \"Hi how are you?\"\n",
        "mylist = [num for num in word if num.lower() != 'h']\n",
        "mylist"
      ]
    },
    {
      "cell_type": "markdown",
      "metadata": {},
      "source": [
        "## Test questions:"
      ]
    },
    {
      "cell_type": "code",
      "execution_count": 154,
      "metadata": {},
      "outputs": [
        {
          "name": "stdout",
          "output_type": "stream",
          "text": [
            "1\n",
            "2\n",
            "Fizz\n",
            "4\n",
            "Buzz\n",
            "Fizz\n",
            "7\n",
            "8\n",
            "Fizz\n",
            "Buzz\n",
            "11\n",
            "Fizz\n",
            "13\n",
            "14\n",
            "FizzBuzz\n",
            "16\n",
            "17\n",
            "Fizz\n",
            "19\n",
            "Buzz\n",
            "Fizz\n",
            "22\n",
            "23\n",
            "Fizz\n",
            "Buzz\n",
            "26\n",
            "Fizz\n",
            "28\n",
            "29\n",
            "FizzBuzz\n",
            "31\n",
            "32\n",
            "Fizz\n",
            "34\n",
            "Buzz\n",
            "Fizz\n",
            "37\n",
            "38\n",
            "Fizz\n",
            "Buzz\n",
            "41\n",
            "Fizz\n",
            "43\n",
            "44\n",
            "FizzBuzz\n",
            "46\n",
            "47\n",
            "Fizz\n",
            "49\n",
            "Buzz\n",
            "Fizz\n",
            "52\n",
            "53\n",
            "Fizz\n",
            "Buzz\n",
            "56\n",
            "Fizz\n",
            "58\n",
            "59\n",
            "FizzBuzz\n",
            "61\n",
            "62\n",
            "Fizz\n",
            "64\n",
            "Buzz\n",
            "Fizz\n",
            "67\n",
            "68\n",
            "Fizz\n",
            "Buzz\n",
            "71\n",
            "Fizz\n",
            "73\n",
            "74\n",
            "FizzBuzz\n",
            "76\n",
            "77\n",
            "Fizz\n",
            "79\n",
            "Buzz\n",
            "Fizz\n",
            "82\n",
            "83\n",
            "Fizz\n",
            "Buzz\n",
            "86\n",
            "Fizz\n",
            "88\n",
            "89\n",
            "FizzBuzz\n",
            "91\n",
            "92\n",
            "Fizz\n",
            "94\n",
            "Buzz\n",
            "Fizz\n",
            "97\n",
            "98\n",
            "Fizz\n",
            "Buzz\n"
          ]
        }
      ],
      "source": [
        "# Write a program that prints integers from 1 to 100, where multiples of 3 are \"Fizz\", \n",
        "# muliples of 5 are \"Buzz\" and multiples of 3 and 5 are \"FizzBuzz\":\n",
        "\n",
        "for number in range(1,101):\n",
        "    if number % (3*5) == 0:\n",
        "        print(\"FizzBuzz\")\n",
        "    elif number % 3 == 0:\n",
        "        print(\"Fizz\")\n",
        "    elif number % 5 == 0:\n",
        "        print(\"Buzz\")\n",
        "    else:\n",
        "        print(number)"
      ]
    },
    {
      "cell_type": "code",
      "execution_count": 158,
      "metadata": {},
      "outputs": [
        {
          "data": {
            "text/plain": [
              "['C', 'r', 'e', 'a', 't', 'e']"
            ]
          },
          "execution_count": 158,
          "metadata": {},
          "output_type": "execute_result"
        }
      ],
      "source": [
        "# Write a List comprehension to create a list of the first letters:\n",
        "word = \"Create a list of the first letters\"\n",
        "\n",
        "first_letters = [word[0] for word in word.split()]\n",
        "first_letters"
      ]
    },
    {
      "cell_type": "code",
      "execution_count": 152,
      "metadata": {},
      "outputs": [
        {
          "name": "stdout",
          "output_type": "stream",
          "text": [
            "list\n",
            "letters\n"
          ]
        }
      ],
      "source": [
        "# Print out words that start with 'l':\n",
        "sentence = \"Create a list of the first letters\"\n",
        "\n",
        "for word in sentence.split():\n",
        "    if word[0].lower() == 'l':\n",
        "        print(word)"
      ]
    },
    {
      "cell_type": "markdown",
      "metadata": {},
      "source": [
        "## Timestamp and Datetime"
      ]
    },
    {
      "cell_type": "markdown",
      "metadata": {},
      "source": [
        "### datetime module:"
      ]
    },
    {
      "cell_type": "markdown",
      "metadata": {},
      "source": [
        "- **datetime** module helps to deal with the **timestamps** in the code. \n",
        "- Time values are represented with the time classes. \n",
        "- Times have **attributes** for **hour**, **minute**, **second**, and **microsecond**. Attributes can also include **timezones** information. \n",
        "- The arguments to initialize a time instances are optional, but the default of 0 we don't want."
      ]
    },
    {
      "cell_type": "markdown",
      "metadata": {},
      "source": [
        "**Time:**"
      ]
    },
    {
      "cell_type": "code",
      "execution_count": 30,
      "metadata": {},
      "outputs": [
        {
          "name": "stdout",
          "output_type": "stream",
          "text": [
            "14:05:10\n",
            "Hour: 14\n",
            "Minute: 5\n",
            "Second: 10\n",
            "Microsecond: 0\n",
            "Timezone: None\n"
          ]
        }
      ],
      "source": [
        "# Extracting an information from the datetime:\n",
        "\n",
        "import datetime\n",
        "t = datetime.time(14, 5, 10)\n",
        "\n",
        "# Breaking down to different components of the datetime:\n",
        "print(t)\n",
        "print(\"Hour:\", t.hour)\n",
        "print(\"Minute:\", t.minute)\n",
        "print(\"Second:\", t.second)\n",
        "print(\"Microsecond:\", t.microsecond)\n",
        "print(\"Timezone:\", t.tzinfo)"
      ]
    },
    {
      "cell_type": "code",
      "execution_count": 44,
      "metadata": {},
      "outputs": [
        {
          "name": "stdout",
          "output_type": "stream",
          "text": [
            "Earliest time:    00:00:00\n",
            "Latest time:      23:59:59.999999\n",
            "Resolution:       0:00:00.000001\n"
          ]
        }
      ],
      "source": [
        "# Minimum and maximum values for times:\n",
        "print(\"Earliest time:   \", datetime.time.min)\n",
        "print(\"Latest time:     \", datetime.time.max)\n",
        "print(\"Resolution:      \", datetime.time.resolution)"
      ]
    },
    {
      "cell_type": "markdown",
      "metadata": {},
      "source": [
        "**Date:**"
      ]
    },
    {
      "cell_type": "code",
      "execution_count": 35,
      "metadata": {},
      "outputs": [
        {
          "name": "stdout",
          "output_type": "stream",
          "text": [
            "2024-04-23\n"
          ]
        }
      ],
      "source": [
        "# Today's date:\n",
        "today = datetime.date.today()\n",
        "print(today)"
      ]
    },
    {
      "cell_type": "code",
      "execution_count": 45,
      "metadata": {},
      "outputs": [
        {
          "name": "stdout",
          "output_type": "stream",
          "text": [
            "ctime: Tue Apr 23 00:00:00 2024\n",
            "tuple: time.struct_time(tm_year=2024, tm_mon=4, tm_mday=23, tm_hour=0, tm_min=0, tm_sec=0, tm_wday=1, tm_yday=114, tm_isdst=-1)\n",
            "ordinal: 738999\n",
            "Year:   2024\n",
            "Month:  4\n",
            "Day:    23\n"
          ]
        }
      ],
      "source": [
        "# Elements of the date:\n",
        "print('ctime:', today.ctime())\n",
        "print('tuple:', today.timetuple())\n",
        "print('ordinal:', today.toordinal())\n",
        "print('Year:  ', today.year)\n",
        "print('Month: ', today.month)\n",
        "print('Day:   ', today.day)"
      ]
    },
    {
      "cell_type": "code",
      "execution_count": 39,
      "metadata": {},
      "outputs": [
        {
          "name": "stdout",
          "output_type": "stream",
          "text": [
            "Earliest:     0001-01-01\n",
            "Latest:       9999-12-31\n",
            "Resolution:   1 day, 0:00:00\n"
          ]
        }
      ],
      "source": [
        "# Minimum and maximum values for dates:\n",
        "print('Earliest:    ', datetime.date.min)\n",
        "print('Latest:      ', datetime.date.max)\n",
        "print('Resolution:  ', datetime.date.resolution)"
      ]
    },
    {
      "cell_type": "code",
      "execution_count": 47,
      "metadata": {},
      "outputs": [
        {
          "name": "stdout",
          "output_type": "stream",
          "text": [
            "d1: 2022-12-10\n",
            "d2: 1999-12-10\n"
          ]
        }
      ],
      "source": [
        "# Creating a custom date and a date using .replace() from the first date:\n",
        "d1 = datetime.date(2022, 12, 10)\n",
        "d2 = d1.replace(year = 1999)\n",
        "\n",
        "print(\"d1:\", d1)\n",
        "print(\"d2:\", d2)"
      ]
    },
    {
      "cell_type": "code",
      "execution_count": 55,
      "metadata": {},
      "outputs": [
        {
          "name": "stdout",
          "output_type": "stream",
          "text": [
            "The difference between d1 and d2 is: 8401 days, 0:00:00\n"
          ]
        }
      ],
      "source": [
        "# Difference between two dates:\n",
        "d3 = abs(d2-d1)\n",
        "print(\"The difference between d1 and d2 is:\", d3)"
      ]
    },
    {
      "cell_type": "code",
      "execution_count": 56,
      "metadata": {},
      "outputs": [
        {
          "data": {
            "text/plain": [
              "datetime.timedelta"
            ]
          },
          "execution_count": 56,
          "metadata": {},
          "output_type": "execute_result"
        }
      ],
      "source": [
        "type(d3)"
      ]
    },
    {
      "cell_type": "code",
      "execution_count": 67,
      "metadata": {},
      "outputs": [
        {
          "name": "stdout",
          "output_type": "stream",
          "text": [
            "Help on class timedelta in module datetime:\n",
            "\n",
            "class timedelta(builtins.object)\n",
            " |  Difference between two datetime values.\n",
            " |\n",
            " |  timedelta(days=0, seconds=0, microseconds=0, milliseconds=0, minutes=0, hours=0, weeks=0)\n",
            " |\n",
            " |  All arguments are optional and default to 0.\n",
            " |  Arguments may be integers or floats, and may be positive or negative.\n",
            " |\n",
            " |  Methods defined here:\n",
            " |\n",
            " |  __abs__(self, /)\n",
            " |      abs(self)\n",
            " |\n",
            " |  __add__(self, value, /)\n",
            " |      Return self+value.\n",
            " |\n",
            " |  __bool__(self, /)\n",
            " |      True if self else False\n",
            " |\n",
            " |  __divmod__(self, value, /)\n",
            " |      Return divmod(self, value).\n",
            " |\n",
            " |  __eq__(self, value, /)\n",
            " |      Return self==value.\n",
            " |\n",
            " |  __floordiv__(self, value, /)\n",
            " |      Return self//value.\n",
            " |\n",
            " |  __ge__(self, value, /)\n",
            " |      Return self>=value.\n",
            " |\n",
            " |  __getattribute__(self, name, /)\n",
            " |      Return getattr(self, name).\n",
            " |\n",
            " |  __gt__(self, value, /)\n",
            " |      Return self>value.\n",
            " |\n",
            " |  __hash__(self, /)\n",
            " |      Return hash(self).\n",
            " |\n",
            " |  __le__(self, value, /)\n",
            " |      Return self<=value.\n",
            " |\n",
            " |  __lt__(self, value, /)\n",
            " |      Return self<value.\n",
            " |\n",
            " |  __mod__(self, value, /)\n",
            " |      Return self%value.\n",
            " |\n",
            " |  __mul__(self, value, /)\n",
            " |      Return self*value.\n",
            " |\n",
            " |  __ne__(self, value, /)\n",
            " |      Return self!=value.\n",
            " |\n",
            " |  __neg__(self, /)\n",
            " |      -self\n",
            " |\n",
            " |  __pos__(self, /)\n",
            " |      +self\n",
            " |\n",
            " |  __radd__(self, value, /)\n",
            " |      Return value+self.\n",
            " |\n",
            " |  __rdivmod__(self, value, /)\n",
            " |      Return divmod(value, self).\n",
            " |\n",
            " |  __reduce__(...)\n",
            " |      __reduce__() -> (cls, state)\n",
            " |\n",
            " |  __repr__(self, /)\n",
            " |      Return repr(self).\n",
            " |\n",
            " |  __rfloordiv__(self, value, /)\n",
            " |      Return value//self.\n",
            " |\n",
            " |  __rmod__(self, value, /)\n",
            " |      Return value%self.\n",
            " |\n",
            " |  __rmul__(self, value, /)\n",
            " |      Return value*self.\n",
            " |\n",
            " |  __rsub__(self, value, /)\n",
            " |      Return value-self.\n",
            " |\n",
            " |  __rtruediv__(self, value, /)\n",
            " |      Return value/self.\n",
            " |\n",
            " |  __str__(self, /)\n",
            " |      Return str(self).\n",
            " |\n",
            " |  __sub__(self, value, /)\n",
            " |      Return self-value.\n",
            " |\n",
            " |  __truediv__(self, value, /)\n",
            " |      Return self/value.\n",
            " |\n",
            " |  total_seconds(...)\n",
            " |      Total seconds in the duration.\n",
            " |\n",
            " |  ----------------------------------------------------------------------\n",
            " |  Static methods defined here:\n",
            " |\n",
            " |  __new__(*args, **kwargs)\n",
            " |      Create and return a new object.  See help(type) for accurate signature.\n",
            " |\n",
            " |  ----------------------------------------------------------------------\n",
            " |  Data descriptors defined here:\n",
            " |\n",
            " |  days\n",
            " |      Number of days.\n",
            " |\n",
            " |  microseconds\n",
            " |      Number of microseconds (>= 0 and less than 1 second).\n",
            " |\n",
            " |  seconds\n",
            " |      Number of seconds (>= 0 and less than 1 day).\n",
            " |\n",
            " |  ----------------------------------------------------------------------\n",
            " |  Data and other attributes defined here:\n",
            " |\n",
            " |  max = datetime.timedelta(days=999999999, seconds=86399, microseconds=9...\n",
            " |\n",
            " |  min = datetime.timedelta(days=-999999999)\n",
            " |\n",
            " |  resolution = datetime.timedelta(microseconds=1)\n",
            "\n"
          ]
        }
      ],
      "source": [
        "help(datetime.timedelta)"
      ]
    },
    {
      "cell_type": "code",
      "execution_count": 109,
      "metadata": {},
      "outputs": [
        {
          "name": "stdout",
          "output_type": "stream",
          "text": [
            "50.8 weeks are 355 days, 14:24:00\n"
          ]
        }
      ],
      "source": [
        "# Converting weeks to days:\n",
        "weeks_count = 50.8\n",
        "print(f\"{weeks_count} weeks are\", datetime.timedelta(weeks=weeks_count))"
      ]
    },
    {
      "cell_type": "code",
      "execution_count": 110,
      "metadata": {},
      "outputs": [
        {
          "name": "stdout",
          "output_type": "stream",
          "text": [
            "50.38 weeks are: \n",
            "352 days, 15 hours, 50 minutes and 24 seconds\n"
          ]
        }
      ],
      "source": [
        "# Playing with the string slicing:\n",
        "weeks_count = 50.38\n",
        "\n",
        "days = str(datetime.timedelta(weeks=weeks_count)).split()[0]\n",
        "time = str(datetime.timedelta(weeks=weeks_count)).split()[2]\n",
        "hours = time.split(':')[0]\n",
        "minutes = time.split(':')[1]\n",
        "seconds = time.split(':')[2]\n",
        "print(f\"{weeks_count} weeks are: \\n{days} days, {hours} hours, {minutes} minutes and {seconds} seconds\")"
      ]
    }
  ],
  "metadata": {
    "kernelspec": {
      "display_name": "Python 3",
      "language": "python",
      "name": "python3"
    },
    "language_info": {
      "codemirror_mode": {
        "name": "ipython",
        "version": 3
      },
      "file_extension": ".py",
      "mimetype": "text/x-python",
      "name": "python",
      "nbconvert_exporter": "python",
      "pygments_lexer": "ipython3",
      "version": "3.12.3"
    }
  },
  "nbformat": 4,
  "nbformat_minor": 4
}
