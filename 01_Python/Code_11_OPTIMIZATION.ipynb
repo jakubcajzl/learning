{
 "cells": [
  {
   "cell_type": "markdown",
   "metadata": {},
   "source": [
    "# Optimization of the **execution speed** of **code**"
   ]
  },
  {
   "cell_type": "markdown",
   "metadata": {},
   "source": [
    "[**25 Ways to Speed Up Python Code**](https://www.softformance.com/blog/how-to-speed-up-python-code/#Understanding_Python_Performance_Optimization)\n",
    "\n",
    "Understanding Python Performance Optimization:\n",
    "\n",
    "<img src=\"https://www.softformance.com/wp-content/uploads/2023/08/1.1-Understanding-Python-Performance-Optimization.webp\" alt=\"Python optimization cycle\" width=\"600\"/>\n",
    "\n",
    "1. Embrace Django\n",
    "2. Use **PyPy** Instead of CPython\n",
    "3. Use **NumPy arrays** Instead of common **Python Lists**\n",
    "4. Use the Built-in **`timeit`** Module\n",
    "5. Apply **Generators** (generator expressions) instead of **List Comprehensions**\n",
    "6. Use **Multiprocessing** in Python Coding\n",
    "7. Apply **Python Profiling**\n",
    "8. Optimize Loops with **Code Maps**\n",
    "9. **Eliminate** the **Dead Code**\n",
    "10. Use Application Monitoring Tools\n",
    "11. Rely on the Peephole Optimization Technique\n",
    "12. Intern Strings in Python\n",
    "13. Use <cProfile> for Profiling\n",
    "14. Use **Generators and Keys** for **Sorting**\n",
    "15. Focus on Using **Built-in Operators**\n",
    "16. Use External Libraries\n",
    "17. **Avoid** Using **Globals**\n",
    "18. Use Proper Data Structures\n",
    "19. Apply **Multiple Assignments**: e.g.: a,b,c,d = 5,8,2,10 instead of a=5, b=8, etc.\n",
    "20. **Concatenate Strings** with `join()` instead of `+`, e.g.: ''.join([\"Hello\",\"world.\"]) instead of \"Hello\" + \"world.\"\n",
    "21. **Use 1** for Infinity Loops: instead of using the “while True” use “while 1”\n",
    "22. Use Special **Libraries** to Process **Large Datasets**, e.g.: Numpy, Scipy, and Pandas\n",
    "23. Use **List Comprehension**, e.g.: use better a=[num for num in range(1,1000) if num%3==0] instead of a=[], for num in range(1,1000): if num%3 == 0: a.append(num)\n",
    "24. Use the **Library Functions**: Do not write a function that already exists in the library manually. \n",
    "25. Do **not use dot** operation: e.g.:use better val = sqrt(96) instead of val = math.sqrt(96)"
   ]
  },
  {
   "cell_type": "markdown",
   "metadata": {},
   "source": [
    "One of the main distinctions and selling points of Python is that it is an interpreted language. Python code can be executed directly, eliminating the need for pre-compilation into machine code. This significantly boosts the speed of Python development.\n",
    "\n",
    "However, Python code needs to undergo interpretation each time it is executed on the processor. To prevent the necessity of recompiling the code with each run, Python employs compiled .pyc files. These files enable the storage of bytecode produced from the original Python code, facilitating caching. Later on, we will dwell on some useful tips on Python code compiling. \n",
    "\n",
    "Finally, Python code is dynamically typed. This means that you aren’t required to specify a data type every time you create a variable. This dynamic approach significantly boosts the speed of coding with Python, but it can also negatively impact Python’s performance if not managed properly. \n",
    "\n",
    "Fortunately, this article will give you useful tips on how to speed up Python code and the overall performance of this programming language. \n",
    "\n",
    "With Python code optimization tips mentioned in this article, you will have great ideas on how to:\n",
    "\n",
    "Make Python code clean and readable\n",
    "Boost the performance of apps built with Python\n",
    "Enhance error tracking and debugging\n",
    "Save a lot of your compute power."
   ]
  },
  {
   "cell_type": "markdown",
   "metadata": {},
   "source": [
    "**ad. 23 (list comprehensions)**"
   ]
  },
  {
   "cell_type": "code",
   "execution_count": 1,
   "metadata": {},
   "outputs": [
    {
     "name": "stdout",
     "output_type": "stream",
     "text": [
      "76.4 µs ± 3.34 µs per loop (mean ± std. dev. of 7 runs, 10,000 loops each)\n"
     ]
    }
   ],
   "source": [
    "%timeit a=[num for num in range(1,1000) if num%3==0]"
   ]
  },
  {
   "cell_type": "code",
   "execution_count": 13,
   "metadata": {},
   "outputs": [
    {
     "name": "stdout",
     "output_type": "stream",
     "text": [
      "82 µs ± 229 ns per loop (mean ± std. dev. of 7 runs, 10,000 loops each)\n"
     ]
    }
   ],
   "source": [
    "def function():\n",
    "    a=[]\n",
    "    for num in range(1,1000): \n",
    "        if num%3 == 0: a.append(num)\n",
    "    return a\n",
    "\n",
    "%timeit function()"
   ]
  },
  {
   "cell_type": "markdown",
   "metadata": {},
   "source": [
    "**ad. 25 (dot operations)**"
   ]
  },
  {
   "cell_type": "code",
   "execution_count": 18,
   "metadata": {},
   "outputs": [
    {
     "name": "stdout",
     "output_type": "stream",
     "text": [
      "110 ns ± 0.305 ns per loop (mean ± std. dev. of 7 runs, 10,000,000 loops each)\n"
     ]
    }
   ],
   "source": [
    "from math import sqrt\n",
    "%timeit val = sqrt(13)"
   ]
  },
  {
   "cell_type": "code",
   "execution_count": 19,
   "metadata": {},
   "outputs": [
    {
     "name": "stdout",
     "output_type": "stream",
     "text": [
      "117 ns ± 0.705 ns per loop (mean ± std. dev. of 7 runs, 10,000,000 loops each)\n"
     ]
    }
   ],
   "source": [
    "import math\n",
    "%timeit val = math.sqrt(13)"
   ]
  },
  {
   "cell_type": "markdown",
   "metadata": {},
   "source": [
    "## FOR vs WHILE loop"
   ]
  },
  {
   "cell_type": "markdown",
   "metadata": {},
   "source": [
    "**Which is more effective to use in a complex program, a FOR loop or a WHILE loop?**\n",
    "\n",
    "There is very little difference between the two.\n",
    "\n",
    "In C it might be marginally better to use for (;;) than while(true). However any optimising compiler will make them equivalent.\n",
    "\n",
    "In other languages the compiler may be able to make more assumptions when compiling a for loop than it can when compiling the equivalent code using while. Therefore, for would be preferable.\n",
    "\n",
    "From a maintenance point of view, a for loop is more immediately understandable by other programmers and is therefore preferable."
   ]
  },
  {
   "cell_type": "markdown",
   "metadata": {},
   "source": [
    "## Dictionaries vs Lists"
   ]
  },
  {
   "cell_type": "markdown",
   "metadata": {},
   "source": [
    "**Are Dictionary lookups faster than List ones?**"
   ]
  },
  {
   "cell_type": "markdown",
   "metadata": {},
   "source": [
    "Comparing dictionaries and lists in terms of speed depends on the specific operations you're performing. Here's a breakdown:\n",
    "\n",
    "1) **Access Time:**\n",
    "   - **Dictionary**: Accessing elements in a dictionary is generally faster than accessing elements in a list, especially when the size of the dictionary is large. Dictionaries use hash tables for storage, which allow for constant-time average-case performance for key lookups (O(1) complexity).\n",
    "   - **List**: Accessing elements in a list typically requires iterating through the list until the desired element is found, which has linear-time complexity (O(n)), where n is the number of elements in the list.\n",
    "\n",
    "2) **Insertion and Deletion:**\n",
    "   - **Dictionary**: Insertion and deletion operations in dictionaries can also be faster than in lists, especially if the position of the element doesn't matter. Again, this is due to the use of hash tables, which allow for constant-time average-case performance for these operations (O(1) complexity).\n",
    "   - **List**: Insertion and deletion operations in lists can be slower, especially if they involve shifting elements to maintain the order. Insertions and deletions at the end of a list are faster (O(1)), but those in the middle or beginning require shifting elements, which is slower (O(n)).\n",
    "\n",
    "3) **Memory Overhead:**\n",
    "   - **Dictionary**: Dictionaries have a higher memory overhead compared to lists because they need to store both keys and values.\n",
    "   - **List**: Lists have a lower memory overhead because they only store the elements themselves without additional keys.\n",
    "\n",
    "4) **Ordered vs. Unordered:**\n",
    "   - **Dictionary**: Dictionaries are unordered collections (in Python versions prior to 3.7). Starting from Python 3.7, dictionaries maintain insertion order.\n",
    "   - **List**: Lists are ordered collections, where elements are stored in a specific sequence.\n",
    "\n",
    "In summary, while dictionaries can be faster for certain operations like key-based lookups, insertion, and deletion, lists have their advantages, especially when you need to maintain the order of elements or when memory efficiency is a concern. It's important to choose the appropriate data structure based on the specific requirements of your program."
   ]
  },
  {
   "cell_type": "markdown",
   "metadata": {},
   "source": []
  }
 ],
 "metadata": {
  "kernelspec": {
   "display_name": "Python 3",
   "language": "python",
   "name": "python3"
  },
  "language_info": {
   "codemirror_mode": {
    "name": "ipython",
    "version": 3
   },
   "file_extension": ".py",
   "mimetype": "text/x-python",
   "name": "python",
   "nbconvert_exporter": "python",
   "pygments_lexer": "ipython3",
   "version": "3.12.3"
  }
 },
 "nbformat": 4,
 "nbformat_minor": 2
}
