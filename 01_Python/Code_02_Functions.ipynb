{
 "cells": [
  {
   "cell_type": "markdown",
   "metadata": {},
   "source": [
    "# Functions\n",
    "- Python manual: [The Python Standard Library](https://docs.python.org/3/library/index.html)\n",
    "- Python syntax: [The Python Language Reference ](https://docs.python.org/3/reference/index.html#reference-index)"
   ]
  },
  {
   "cell_type": "markdown",
   "metadata": {},
   "source": [
    "## Basics:"
   ]
  },
  {
   "cell_type": "markdown",
   "metadata": {},
   "source": [
    "<code>return</code> keyword is used for saving the output of the function for further use.\n",
    "\n",
    "<code>input</code> in the functions returns always a **string**. "
   ]
  },
  {
   "cell_type": "code",
   "execution_count": null,
   "metadata": {},
   "outputs": [],
   "source": [
    "# Basic syntax:\n",
    "def name_of_function(arg1, arg2):\n",
    "    '''\n",
    "    This is where the function's Document String (docstring) goes.\n",
    "    When you call help() on your function this section will be printed out.\n",
    "    '''\n",
    "    code\n",
    "    return xxx"
   ]
  },
  {
   "cell_type": "markdown",
   "metadata": {},
   "source": [
    "**Using output type in functions:**\n",
    "\n",
    "This is useful when we need to specify what the **output** of the **function** should be, e.g.: **str**, **list**, **dict**, etc.:"
   ]
  },
  {
   "cell_type": "code",
   "execution_count": null,
   "metadata": {},
   "outputs": [
    {
     "name": "stdout",
     "output_type": "stream",
     "text": [
      "Hi, how are you Jakub?\n"
     ]
    }
   ],
   "source": [
    "# Defining a string output of the function:\n",
    "def function(name: str) -> str:\n",
    "    return print(f'Hi, how are you {name}?')\n",
    "\n",
    "function('Jakub')"
   ]
  },
  {
   "cell_type": "markdown",
   "metadata": {},
   "source": [
    "**Basic example of the function:**"
   ]
  },
  {
   "cell_type": "code",
   "execution_count": 4,
   "metadata": {},
   "outputs": [
    {
     "name": "stdout",
     "output_type": "stream",
     "text": [
      "Hello!\n"
     ]
    }
   ],
   "source": [
    "# Say Hello! function:\n",
    "def say_hello():\n",
    "    '''\n",
    "    This function prints 'Hello!'\n",
    "    '''\n",
    "    print(\"Hello!\")\n",
    "    \n",
    "say_hello()"
   ]
  },
  {
   "cell_type": "markdown",
   "metadata": {},
   "source": [
    "**Help on the function:**"
   ]
  },
  {
   "cell_type": "code",
   "execution_count": 5,
   "metadata": {},
   "outputs": [
    {
     "name": "stdout",
     "output_type": "stream",
     "text": [
      "Help on function say_hello in module __main__:\n",
      "\n",
      "say_hello()\n",
      "    This function prints 'Hello!'\n",
      "\n"
     ]
    }
   ],
   "source": [
    "help(say_hello)"
   ]
  },
  {
   "cell_type": "markdown",
   "metadata": {},
   "source": [
    "### Accepting parameters:"
   ]
  },
  {
   "cell_type": "code",
   "execution_count": 1,
   "metadata": {},
   "outputs": [
    {
     "data": {
      "text/plain": [
       "45.8"
      ]
     },
     "execution_count": 1,
     "metadata": {},
     "output_type": "execute_result"
    }
   ],
   "source": [
    "def addition(num1, num2):\n",
    "    '''\n",
    "    Function will perform addition of two input numbers.\n",
    "    '''\n",
    "    return num1 + num2\n",
    "\n",
    "addition(20,25.8)"
   ]
  },
  {
   "cell_type": "markdown",
   "metadata": {},
   "source": [
    "### Difference between <code>print()</code> and <code>return</code> in functions:"
   ]
  },
  {
   "cell_type": "code",
   "execution_count": 3,
   "metadata": {},
   "outputs": [
    {
     "name": "stdout",
     "output_type": "stream",
     "text": [
      "35\n"
     ]
    }
   ],
   "source": [
    "# Using print():\n",
    "def print_result(a,b):\n",
    "    print(a+b)\n",
    "    \n",
    "print_result(20,15)"
   ]
  },
  {
   "cell_type": "code",
   "execution_count": 4,
   "metadata": {},
   "outputs": [
    {
     "data": {
      "text/plain": [
       "35"
      ]
     },
     "execution_count": 4,
     "metadata": {},
     "output_type": "execute_result"
    }
   ],
   "source": [
    "# Using return:\n",
    "def return_result(a,b):\n",
    "    return a+b\n",
    "\n",
    "return_result(20,15)"
   ]
  },
  {
   "cell_type": "code",
   "execution_count": 5,
   "metadata": {},
   "outputs": [
    {
     "name": "stdout",
     "output_type": "stream",
     "text": [
      "35\n"
     ]
    },
    {
     "data": {
      "text/plain": [
       "NoneType"
      ]
     },
     "execution_count": 5,
     "metadata": {},
     "output_type": "execute_result"
    }
   ],
   "source": [
    "# Problem for print():\n",
    "my_result = print_result(20,15)\n",
    "type(my_result)  # We cannot save output of print into the variable! There is nothing in my_result."
   ]
  },
  {
   "cell_type": "code",
   "execution_count": 6,
   "metadata": {},
   "outputs": [
    {
     "data": {
      "text/plain": [
       "int"
      ]
     },
     "execution_count": 6,
     "metadata": {},
     "output_type": "execute_result"
    }
   ],
   "source": [
    "# Same using return:\n",
    "my_result = return_result(20,15)\n",
    "type(my_result)  # Here the result is succesfully saved into the variable."
   ]
  },
  {
   "cell_type": "markdown",
   "metadata": {},
   "source": [
    "=> Therefore <code>print()</code> in functions cannot be used to save the output of the function, <code>return</code> can."
   ]
  },
  {
   "cell_type": "markdown",
   "metadata": {},
   "source": [
    "### Adding logic to functions:"
   ]
  },
  {
   "cell_type": "code",
   "execution_count": 23,
   "metadata": {},
   "outputs": [
    {
     "name": "stdout",
     "output_type": "stream",
     "text": [
      "Is number 20 even? Result: True\n",
      "Is number 21 even? Result: False\n"
     ]
    }
   ],
   "source": [
    "# Building a function that checks for even numbers:\n",
    "def even_check(number):\n",
    "    return number % 2 == 0\n",
    "\n",
    "print(f\"Is number 20 even? Result: {even_check(20)}\")\n",
    "print(f\"Is number 21 even? Result: {even_check(21)}\")"
   ]
  },
  {
   "cell_type": "code",
   "execution_count": 32,
   "metadata": {},
   "outputs": [
    {
     "name": "stdout",
     "output_type": "stream",
     "text": [
      "Is there an even number in a list? Result: False\n"
     ]
    }
   ],
   "source": [
    "# Checking if any number from a list is even:\n",
    "def even_check_list(num_list):\n",
    "    for number in num_list:\n",
    "        if number % 2 == 0:\n",
    "            return True\n",
    "        else:\n",
    "            pass\n",
    "            # return False  -- !! return cannot be here because it would cause breaking out of for loop\n",
    "    return False  # If none is True, than the result if False\n",
    "        \n",
    "print(f\"Is there an even number in a list? Result: {even_check_list([21,5,7,9,11])}\")"
   ]
  },
  {
   "cell_type": "code",
   "execution_count": 53,
   "metadata": {},
   "outputs": [
    {
     "name": "stdout",
     "output_type": "stream",
     "text": [
      "Help on function even_list in module __main__:\n",
      "\n",
      "even_list(num_list)\n",
      "    This function checks the list and returns even numbers.\n",
      "    The function also has a error handling for non-number values is in the list.\n",
      "\n",
      "None\n",
      "\n",
      "\n",
      "Even numbers from a list are: [10, 58, 86]\n"
     ]
    }
   ],
   "source": [
    "# Returning all even numbers from a list including a check for a number type:\n",
    "def even_list(num_list):\n",
    "    '''\n",
    "    This function checks the list and returns even numbers.\n",
    "    The function also has a error handling for non-number values in the list.\n",
    "    '''\n",
    "    # Placeholder (empty):\n",
    "    even_numbers = []\n",
    "\n",
    "    for number in num_list:\n",
    "        try:\n",
    "            number = int(number)\n",
    "        except:\n",
    "            continue\n",
    "        else:\n",
    "            if number % 2 == 0:\n",
    "                even_numbers.append(number)\n",
    "            else:\n",
    "                pass\n",
    "        \n",
    "    return even_numbers\n",
    "\n",
    "print(help(even_list))\n",
    "print(\"\\n\")\n",
    "\n",
    "print(f\"Even numbers from a list are: {even_list([10, 'a', 58, 47, 'hello', 11, 86])}\")"
   ]
  },
  {
   "cell_type": "markdown",
   "metadata": {},
   "source": [
    "### Returning Tuples for Unpacking:\n",
    "\n",
    "Functions often return tuples to easily return multiple results for later use."
   ]
  },
  {
   "cell_type": "code",
   "execution_count": 18,
   "metadata": {},
   "outputs": [
    {
     "data": {
      "text/plain": [
       "('Employee of the month', 'Cassie', 800)"
      ]
     },
     "execution_count": 18,
     "metadata": {},
     "output_type": "execute_result"
    }
   ],
   "source": [
    "# Example of the function - Employee of the month:\n",
    "\n",
    "# Dataset:\n",
    "work_hours = [('Abby', 100), ('Billy', 400), ('Cassie', 800)]\n",
    "\n",
    "# Function:\n",
    "def employee_of_the_month(work_hours):\n",
    "    # Set some max value to intially beat, like zero hours\n",
    "    current_max = 0\n",
    "    \n",
    "    # Set some empty value before the loop\n",
    "    employee_of_the_month = ''\n",
    "    \n",
    "    for employee, hours in work_hours:\n",
    "        if hours > current_max:\n",
    "            current_max = hours\n",
    "            employee_of_the_month = employee\n",
    "        else:\n",
    "            pass\n",
    "    \n",
    "    return ('Employee of the month', employee_of_the_month, current_max)  \n",
    "    # I intentionally used first a string for showing capabilities of return keyword.\n",
    "    # Return will output a Tuple. \n",
    "\n",
    "# Evaluating the function on the dataset:\n",
    "employee_of_the_month(work_hours)"
   ]
  },
  {
   "cell_type": "markdown",
   "metadata": {},
   "source": [
    "**Unpacking a tuple using a FOR loop:**"
   ]
  },
  {
   "cell_type": "code",
   "execution_count": 20,
   "metadata": {},
   "outputs": [
    {
     "name": "stdout",
     "output_type": "stream",
     "text": [
      "('AAPL', 200)\n",
      "('GOOG', 300)\n",
      "('MSFT', 400)\n"
     ]
    }
   ],
   "source": [
    "stock_prices = [('AAPL', 200), ('GOOG', 300), ('MSFT', 400)]\n",
    "\n",
    "# Priting all items of the tuple:\n",
    "for item in stock_prices:\n",
    "    print(item)"
   ]
  },
  {
   "cell_type": "code",
   "execution_count": 22,
   "metadata": {},
   "outputs": [
    {
     "name": "stdout",
     "output_type": "stream",
     "text": [
      "200\n",
      "300\n",
      "400\n"
     ]
    }
   ],
   "source": [
    "# Priting only the value part of the tuple:\n",
    "for stock, price in stock_prices:\n",
    "    print(price)"
   ]
  },
  {
   "cell_type": "markdown",
   "metadata": {},
   "source": [
    "## Interactions between functions:\n",
    "\n",
    "Functions can be called from other functions."
   ]
  },
  {
   "cell_type": "markdown",
   "metadata": {},
   "source": [
    "### Example 01: shuffle game with 3 cups"
   ]
  },
  {
   "cell_type": "code",
   "execution_count": 30,
   "metadata": {},
   "outputs": [
    {
     "name": "stdout",
     "output_type": "stream",
     "text": [
      "Original data: [1, 2, 3, 4, 5, 6]\n",
      "Shuffled data: [3, 1, 6, 5, 2, 4]\n"
     ]
    }
   ],
   "source": [
    "# Testing a shuffle function:\n",
    "from random import shuffle\n",
    "data = [1,2,3,4,5,6]\n",
    "print(f\"Original data: {data}\")\n",
    "shuffle(data)\n",
    "print(f\"Shuffled data: {data}\")"
   ]
  },
  {
   "cell_type": "code",
   "execution_count": 76,
   "metadata": {},
   "outputs": [
    {
     "data": {
      "text/plain": [
       "['O', ' ', ' ']"
      ]
     },
     "execution_count": 76,
     "metadata": {},
     "output_type": "execute_result"
    }
   ],
   "source": [
    "# Function for shuffling a data:\n",
    "\n",
    "def shuffle_data(data):\n",
    "    shuffle(data)\n",
    "    return data\n",
    "\n",
    "data = [' ',' ','O']\n",
    "shuffle_data(data)"
   ]
  },
  {
   "cell_type": "code",
   "execution_count": 77,
   "metadata": {},
   "outputs": [
    {
     "data": {
      "text/plain": [
       "2"
      ]
     },
     "execution_count": 77,
     "metadata": {},
     "output_type": "execute_result"
    }
   ],
   "source": [
    "# Function for player guess:\n",
    "\n",
    "def player_guess():\n",
    "    guess = ''\n",
    "    \n",
    "    while guess not in ['1','2','3']:\n",
    "        guess = input(\"Pick a number: 1, 2, or 3:  \")\n",
    "    \n",
    "    return int(guess)  # Converting a number to int and subtracting 1, because Python starts from 0.\n",
    "\n",
    "player_guess()"
   ]
  },
  {
   "cell_type": "code",
   "execution_count": 78,
   "metadata": {},
   "outputs": [
    {
     "name": "stdout",
     "output_type": "stream",
     "text": [
      "Position 3 is wrong! Better luck next time\n",
      "['O', ' ', ' ']\n"
     ]
    }
   ],
   "source": [
    "# Function for checking a guess:\n",
    "\n",
    "def check_guess(data, guess):\n",
    "    \n",
    "    if data[guess-1] == 'O':\n",
    "        print(f'Correct Guess! (Position {guess})')\n",
    "        print(data)\n",
    "    else:\n",
    "        print(f'Position {guess} is wrong! Better luck next time')\n",
    "        print(data)\n",
    "\n",
    "# Checking the function:        \n",
    "check_guess(data, 3)"
   ]
  },
  {
   "cell_type": "code",
   "execution_count": 80,
   "metadata": {},
   "outputs": [
    {
     "name": "stdout",
     "output_type": "stream",
     "text": [
      "Correct Guess! (Position 3)\n",
      "[' ', ' ', 'O']\n"
     ]
    }
   ],
   "source": [
    "# Initial data:\n",
    "data = [' ', 'O', ' ']\n",
    "\n",
    "# Shuffled data:\n",
    "mixedup_data = shuffle_data(data)\n",
    "\n",
    "# Get User's Guess:\n",
    "guess = player_guess()\n",
    "\n",
    "# Check User's Guess:\n",
    "check_guess(mixedup_data, guess)"
   ]
  },
  {
   "cell_type": "markdown",
   "metadata": {},
   "source": [
    "## *args and **kwargs"
   ]
  },
  {
   "cell_type": "markdown",
   "metadata": {},
   "source": [
    "### *args:\n",
    "\n",
    "When a function parameter starts with an asterisk, it allows for **any number of arguments** (here **\\*** means **all**), and the function takes them in as a **tuple of values**. We can therefore input large number of arguments in the function without specifying each and every argument. "
   ]
  },
  {
   "cell_type": "code",
   "execution_count": 90,
   "metadata": {},
   "outputs": [
    {
     "data": {
      "text/plain": [
       "6.08"
      ]
     },
     "execution_count": 90,
     "metadata": {},
     "output_type": "execute_result"
    }
   ],
   "source": [
    "# Function for calculation of % of the input:\n",
    "def my_function(*args):\n",
    "    if 1 in args:\n",
    "        print()\n",
    "    return sum(args) * 0.01\n",
    "\n",
    "my_function(20,50,60,120,12,55,80,99,112)"
   ]
  },
  {
   "cell_type": "code",
   "execution_count": 5,
   "metadata": {},
   "outputs": [
    {
     "data": {
      "text/plain": [
       "38488"
      ]
     },
     "execution_count": 5,
     "metadata": {},
     "output_type": "execute_result"
    }
   ],
   "source": [
    "# Function for a sum of any (arbitrary) number of arguments:\n",
    "def sum_arb(*args):\n",
    "    return sum(args)\n",
    "\n",
    "sum_arb(10,20,50,80,70,654,984,61,35215,8,7,6,510,808,5,0)"
   ]
  },
  {
   "cell_type": "code",
   "execution_count": 7,
   "metadata": {},
   "outputs": [
    {
     "data": {
      "text/plain": [
       "[20, 50, 514, 216, 48]"
      ]
     },
     "execution_count": 7,
     "metadata": {},
     "output_type": "execute_result"
    }
   ],
   "source": [
    "# Function to return a list of numbers that are even from an input:\n",
    "def my_function(*args):\n",
    "    return [number for number in args if number % 2 == 0]\n",
    "\n",
    "my_function(20,50,45,79,514,216,48)"
   ]
  },
  {
   "cell_type": "code",
   "execution_count": 18,
   "metadata": {},
   "outputs": [
    {
     "data": {
      "text/plain": [
       "'JaKuB'"
      ]
     },
     "execution_count": 18,
     "metadata": {},
     "output_type": "execute_result"
    }
   ],
   "source": [
    "def myfunc(string: str) -> str:\n",
    "    string_alt = ''\n",
    "    \n",
    "    for index in range(len(string)):\n",
    "        if index % 2 == 0:\n",
    "            string_alt = string_alt + string[index].upper()\n",
    "        elif index % 2 != 0:\n",
    "            string_alt = string_alt + string[index].lower()\n",
    "        else:\n",
    "            string_alt = string_alt + string[index]\n",
    "    \n",
    "    return string_alt\n",
    "\n",
    "myfunc('jakub')"
   ]
  },
  {
   "cell_type": "markdown",
   "metadata": {},
   "source": [
    "### **kwargs:\n",
    "\n",
    "Similarly, Python offers a way to handle arbitrary numbers of **keyworded arguments**. Instead of creating a tuple of values, **kwargs builds a **dictionary** of **key:value pairs**."
   ]
  },
  {
   "cell_type": "code",
   "execution_count": 98,
   "metadata": {},
   "outputs": [
    {
     "name": "stdout",
     "output_type": "stream",
     "text": [
      "My favorite fruit is: pineapple\n",
      "My favourite vegetable is: cucumber\n",
      "My favourite vegetable is: cucumber\n"
     ]
    }
   ],
   "source": [
    "# Function for printing favourite fruit or veggie:\n",
    "def myfunc(**kwargs):\n",
    "    if 'fruit' in kwargs:\n",
    "        print(f\"My favorite fruit is: {kwargs['fruit']}\")\n",
    "    elif 'vegetable' in kwargs:\n",
    "        print(f\"My favourite vegetable is: {kwargs['vegetable']}\")\n",
    "    else:\n",
    "        print(\"I don't like fruit\")\n",
    "        \n",
    "myfunc(fruit='pineapple')\n",
    "myfunc(vegetable='cucumber')\n",
    "myfunc(name='John', vegetable='cucumber')"
   ]
  },
  {
   "cell_type": "markdown",
   "metadata": {},
   "source": [
    "### *args and **kwargs combined:\n",
    "\n",
    "You can pass ***args and **kwargs** into the same function, but ***args** have to appear **before** ****kwargs**."
   ]
  },
  {
   "cell_type": "code",
   "execution_count": 113,
   "metadata": {},
   "outputs": [
    {
     "name": "stdout",
     "output_type": "stream",
     "text": [
      "I like eggs and bacon and ketchup and my favorite fruit is pinapple.\n",
      "May I have some orange juice?\n"
     ]
    }
   ],
   "source": [
    "# Function for \n",
    "def myfunc(*args, **kwargs):\n",
    "    if 'fruit' and 'juice' in kwargs:\n",
    "        print(f\"I like {' and '.join(args)} and my favorite fruit is {kwargs['fruit']}.\")\n",
    "        print(f\"May I have some {kwargs['juice']} juice?\")\n",
    "    else:\n",
    "        pass\n",
    "        \n",
    "myfunc('eggs','bacon','ketchup',fruit='pinapple',juice='orange')"
   ]
  },
  {
   "cell_type": "markdown",
   "metadata": {},
   "source": [
    "### Declaration of function parameter **data types**"
   ]
  },
  {
   "cell_type": "markdown",
   "metadata": {},
   "source": [
    "The implementation of [PEP 3107](https://peps.python.org/pep-3107/) (in Python 3 and onwards). You can now actually specify the **data type** of a function **parameter** and the **return** data type of a function. "
   ]
  },
  {
   "cell_type": "code",
   "execution_count": 12,
   "metadata": {},
   "outputs": [],
   "source": [
    "def hello(name: str) -> str:\n",
    "    print(name)"
   ]
  },
  {
   "cell_type": "markdown",
   "metadata": {},
   "source": [
    "Wait a minute! If defining parameter and return type does not raise a TypeError, what is the point of using one-line defininition then?\n",
    "\n",
    "That's a common misunderstanding and not at all a bad question. It can be used for documentation purposes, helps IDEs do better autocompletion and find errors ahead of runtime by using static analysis (just like mypy). There are hopes that the runtime could take advantage of the information and actually speed up programs but that's likely going to take very long to get implemented. You might also be able to create a decorator that throws the TypeErrors for you (the information is stored in the **\\_\\_annotations__** attribute of the function object)."
   ]
  },
  {
   "cell_type": "markdown",
   "metadata": {},
   "source": [
    "## Lambda expressions, Map and Filter"
   ]
  },
  {
   "cell_type": "markdown",
   "metadata": {},
   "source": [
    "### map() function:\n",
    "\n",
    "The map() function is a built-in Python function that allows to apply a function to each item in a collection and return a new collection.\n",
    "\n",
    "The **map()** function allows to \"map\" a function to an iterable object, i.e. you can quickly call the same function to every item in an iterable, such as a list. \n",
    "\n",
    "**Mapping** consists of applying a **transformation function** to an **iterable** to produce a **new iterable**. Items in the new iterable are produced by calling the transformation function on each item in the original iterable.\n",
    "\n",
    "**map(function, iterable)** is the same as list comprehension like **[function(x) for x in iterable]**, but map() function is generally faster than for loop or list comprehension."
   ]
  },
  {
   "cell_type": "code",
   "execution_count": 133,
   "metadata": {},
   "outputs": [
    {
     "data": {
      "text/plain": [
       "[1, 4, 9, 16, 25]"
      ]
     },
     "execution_count": 133,
     "metadata": {},
     "output_type": "execute_result"
    }
   ],
   "source": [
    "# Mapping a function on a list:\n",
    "my_nums = [1,2,3,4,5]\n",
    "\n",
    "def square(num):\n",
    "    return num**2\n",
    "\n",
    "my_map = map(square, my_nums)\n",
    "\n",
    "# Iterating through mapping by casting a map to a list:\n",
    "list(my_map)"
   ]
  },
  {
   "cell_type": "code",
   "execution_count": 163,
   "metadata": {},
   "outputs": [
    {
     "name": "stdout",
     "output_type": "stream",
     "text": [
      "1\n",
      "4\n",
      "9\n",
      "16\n",
      "25\n"
     ]
    }
   ],
   "source": [
    "# Iterating through mapping by using a for loop:\n",
    "for item in map(square, my_nums):\n",
    "    print(item)"
   ]
  },
  {
   "cell_type": "code",
   "execution_count": 165,
   "metadata": {},
   "outputs": [],
   "source": [
    "# Iterating through mapping saved in the variable:\n",
    "# Doesn't work!\n",
    "for item in my_map:\n",
    "    print(item)"
   ]
  },
  {
   "cell_type": "code",
   "execution_count": 138,
   "metadata": {},
   "outputs": [
    {
     "data": {
      "text/plain": [
       "[1, 4, 9, 16, 25]"
      ]
     },
     "execution_count": 138,
     "metadata": {},
     "output_type": "execute_result"
    }
   ],
   "source": [
    "# The same functionality using LIST COMPREHENSION:\n",
    "my_nums = [1,2,3,4,5]\n",
    "\n",
    "def square(num):\n",
    "    return num**2\n",
    "\n",
    "[square(x) for x in my_nums]"
   ]
  },
  {
   "cell_type": "code",
   "execution_count": 2,
   "metadata": {},
   "outputs": [
    {
     "name": "stdout",
     "output_type": "stream",
     "text": [
      "['even', 'C', 'S', 'K', 'even']\n",
      "['even', 'C', 'S', 'K', 'even']\n"
     ]
    }
   ],
   "source": [
    "# More complex function:\n",
    "mynames = ['John','Cindy','Sarah','Kelly','Mike']\n",
    "\n",
    "def splicer(mystring):\n",
    "    if len(mystring) % 2 == 0:\n",
    "        return 'even'\n",
    "    else:\n",
    "        return mystring[0]  \n",
    "\n",
    "# Using map function:\n",
    "print( list(map(splicer, mynames)) )\n",
    "\n",
    "# Using list comprehension:\n",
    "print( [splicer(x) for x in mynames] )"
   ]
  },
  {
   "cell_type": "markdown",
   "metadata": {},
   "source": [
    "Comparing the code execution times:"
   ]
  },
  {
   "cell_type": "code",
   "execution_count": 8,
   "metadata": {},
   "outputs": [
    {
     "name": "stdout",
     "output_type": "stream",
     "text": [
      "1.25 µs ± 5.54 ns per loop (mean ± std. dev. of 7 runs, 1,000,000 loops each)\n"
     ]
    }
   ],
   "source": [
    "%timeit list(map(splicer, mynames))"
   ]
  },
  {
   "cell_type": "code",
   "execution_count": 9,
   "metadata": {},
   "outputs": [
    {
     "name": "stdout",
     "output_type": "stream",
     "text": [
      "1.02 µs ± 22.3 ns per loop (mean ± std. dev. of 7 runs, 1,000,000 loops each)\n"
     ]
    }
   ],
   "source": [
    "%timeit [splicer(x) for x in mynames]"
   ]
  },
  {
   "cell_type": "code",
   "execution_count": 156,
   "metadata": {},
   "outputs": [
    {
     "data": {
      "text/plain": [
       "14.30236860003788"
      ]
     },
     "execution_count": 156,
     "metadata": {},
     "output_type": "execute_result"
    }
   ],
   "source": [
    "# Mapping using map():\n",
    "import timeit\n",
    "\n",
    "setup = '''\n",
    "mynames = ['John','Cindy','Sarah','Kelly','Mike']\n",
    "def splicer(mystring):\n",
    "    if len(mystring) % 2 == 0:\n",
    "        return 'even'\n",
    "    else:\n",
    "        return mystring[0]\n",
    "'''\n",
    "\n",
    "stmt = 'list(map(splicer, mynames))'  # Statement\n",
    "runs = 1000000  # Number of runs\n",
    "\n",
    "timeit.timeit(stmt, setup, number=runs)"
   ]
  },
  {
   "cell_type": "code",
   "execution_count": 159,
   "metadata": {},
   "outputs": [
    {
     "data": {
      "text/plain": [
       "14.484648099984042"
      ]
     },
     "execution_count": 159,
     "metadata": {},
     "output_type": "execute_result"
    }
   ],
   "source": [
    "# Mapping using list comprehension:\n",
    "import timeit\n",
    "\n",
    "setup = '''\n",
    "mynames = ['John','Cindy','Sarah','Kelly','Mike']\n",
    "def splicer(mystring):\n",
    "    if len(mystring) % 2 == 0:\n",
    "        return 'even'\n",
    "    else:\n",
    "        return mystring[0]\n",
    "'''\n",
    "\n",
    "stmt = '[splicer(x) for x in mynames]'  # Statement\n",
    "runs = 1000000  # Number of runs\n",
    "\n",
    "timeit.timeit(stmt, setup, number=runs)\n"
   ]
  },
  {
   "cell_type": "markdown",
   "metadata": {},
   "source": [
    "### filter() function:\n",
    "\n",
    "The **filter()** function is used for **mapping** a function that returns **True** or **False** (booleans) onto an iterable. \n",
    "\n",
    "The filter function returns an iterator yielding those items of iterable for which function(item) is true. Meaning you need to filter by a function that returns either True or False. Then passing that into filter (along with your iterable) and you will get back only the results that would return True when passed to the function."
   ]
  },
  {
   "cell_type": "code",
   "execution_count": 174,
   "metadata": {},
   "outputs": [
    {
     "name": "stdout",
     "output_type": "stream",
     "text": [
      "[0, 2, 4, 6, 8, 10]\n",
      "\n",
      "\n",
      "0\n",
      "2\n",
      "4\n",
      "6\n",
      "8\n",
      "10\n"
     ]
    }
   ],
   "source": [
    "nums = [0,1,2,3,4,5,6,7,8,9,10]\n",
    "\n",
    "def check_even(num):\n",
    "    return num % 2 == 0\n",
    "    \n",
    "    \n",
    "# Using filter function:\n",
    "filter(check_even, nums)\n",
    "\n",
    "# Iterating using casting to a list:\n",
    "print(list(filter(check_even, nums)))\n",
    "print('\\n')\n",
    "\n",
    "# Iterating using for loop:\n",
    "for item in filter(check_even, nums):\n",
    "    print(item)"
   ]
  },
  {
   "cell_type": "markdown",
   "metadata": {},
   "source": [
    "### lambda expression:\n",
    "\n",
    "One of Pythons most useful (and for beginners, confusing) tools is the lambda expression. **lambda expressions** allow us to create **\"anonymous\" functions**. This basically means we can quickly make ad-hoc functions **without** needing to properly define a function using **def**.\n",
    "\n",
    "Function objects returned by running lambda expressions work exactly the same as those created and assigned by defs. There is key difference that makes lambda useful in specialized roles:\n",
    "\n",
    "**lambda's body** is a **single expression**, **not** a **block of statements**.\n",
    "\n",
    "The **lambda's body** is **similar** to what we would put in a **def** body's **return statement**. We simply type the result as an expression instead of explicitly returning it. Because it is limited to an expression, a lambda is less general than a def. We can only squeeze design, to limit program nesting. **<code>lambda</code> is designed for coding simple functions**, and **<code>def</code> handles the larger tasks**."
   ]
  },
  {
   "cell_type": "code",
   "execution_count": 186,
   "metadata": {},
   "outputs": [
    {
     "data": {
      "text/plain": [
       "4"
      ]
     },
     "execution_count": 186,
     "metadata": {},
     "output_type": "execute_result"
    }
   ],
   "source": [
    "# Defining a function normal def way:\n",
    "def square(num):\n",
    "    result = num**2\n",
    "    return result\n",
    "\n",
    "square(2)"
   ]
  },
  {
   "cell_type": "code",
   "execution_count": 184,
   "metadata": {},
   "outputs": [
    {
     "data": {
      "text/plain": [
       "4"
      ]
     },
     "execution_count": 184,
     "metadata": {},
     "output_type": "execute_result"
    }
   ],
   "source": [
    "# Shorter way of def syntax:\n",
    "def square(num): return num**2\n",
    "\n",
    "square(2)"
   ]
  },
  {
   "cell_type": "code",
   "execution_count": 187,
   "metadata": {},
   "outputs": [
    {
     "data": {
      "text/plain": [
       "4"
      ]
     },
     "execution_count": 187,
     "metadata": {},
     "output_type": "execute_result"
    }
   ],
   "source": [
    "# Previous is similar to lambda function:\n",
    "square = lambda num: num ** 2\n",
    "# Here square variable holds a lambda function and acts as a function! But usually \n",
    "# we don't assign a variable to a lambda function. \n",
    "\n",
    "square(2)"
   ]
  },
  {
   "cell_type": "markdown",
   "metadata": {},
   "source": [
    "Using a lambda function with the map() function:"
   ]
  },
  {
   "cell_type": "code",
   "execution_count": 195,
   "metadata": {},
   "outputs": [
    {
     "data": {
      "text/plain": [
       "[0, 1, 4, 9, 16, 25, 36, 49, 64, 81, 100]"
      ]
     },
     "execution_count": 195,
     "metadata": {},
     "output_type": "execute_result"
    }
   ],
   "source": [
    "# map() function:\n",
    "list(map(lambda num: num ** 2, nums))"
   ]
  },
  {
   "cell_type": "code",
   "execution_count": 206,
   "metadata": {},
   "outputs": [
    {
     "data": {
      "text/plain": [
       "[0, 1, 4, 9, 16, 25, 36, 49, 64, 81, 100]"
      ]
     },
     "execution_count": 206,
     "metadata": {},
     "output_type": "execute_result"
    }
   ],
   "source": [
    "# Mapping using List comprehension:\n",
    "[(lambda x: x ** 2)(num) for num in nums]"
   ]
  },
  {
   "cell_type": "markdown",
   "metadata": {},
   "source": [
    "Using a lambda function with the filter() function:"
   ]
  },
  {
   "cell_type": "code",
   "execution_count": 197,
   "metadata": {},
   "outputs": [
    {
     "data": {
      "text/plain": [
       "[0, 2, 4, 6, 8, 10]"
      ]
     },
     "execution_count": 197,
     "metadata": {},
     "output_type": "execute_result"
    }
   ],
   "source": [
    "# filter() function:\n",
    "list(filter(lambda n: n % 2 == 0, nums))"
   ]
  },
  {
   "cell_type": "code",
   "execution_count": 211,
   "metadata": {},
   "outputs": [
    {
     "data": {
      "text/plain": [
       "[0, 2, 4, 6, 8, 10]"
      ]
     },
     "execution_count": 211,
     "metadata": {},
     "output_type": "execute_result"
    }
   ],
   "source": [
    "# Mapping using List comprehension:\n",
    "[num for num in nums if (lambda x: x % 2 == 0)(num)]"
   ]
  },
  {
   "cell_type": "markdown",
   "metadata": {},
   "source": [
    "**Alternatives to a filter() function and a list comprehension:**\n",
    "\n",
    "It is strange how much beauty varies for different people. I find the list comprehension much clearer than filter+lambda, but use whichever you find easier.\n",
    "\n",
    "There are two things that may slow down your use of filter.\n",
    "\n",
    "The first is the function call overhead: as soon as you use a Python function (whether created by def or lambda) it is likely that filter will be slower than the list comprehension. It almost certainly is not enough to matter, and you shouldn't think much about performance until you've timed your code and found it to be a bottleneck, but the difference will be there.\n",
    "\n",
    "The other overhead that might apply is that the lambda is being forced to access a scoped variable (value). That is slower than accessing a local variable and in Python 2.x the list comprehension only accesses local variables. If you are using Python 3.x the list comprehension runs in a separate function so it will also be accessing value through a closure and this difference won't apply.\n",
    "\n",
    "The other option to consider is to use a **generator** instead of a list comprehension:"
   ]
  },
  {
   "cell_type": "code",
   "execution_count": null,
   "metadata": {},
   "outputs": [],
   "source": [
    "# Using a generator for the filter mapping task:\n",
    "def filterbyvalue(seq, value):\n",
    "   for el in seq:\n",
    "       if el.attribute==value: yield el"
   ]
  },
  {
   "cell_type": "markdown",
   "metadata": {},
   "source": [
    "Then in your main code (which is where readability really matters) you've replaced both list comprehension and filter with a hopefully meaningful function name."
   ]
  },
  {
   "cell_type": "markdown",
   "metadata": {},
   "source": [
    "**Other examples of lambda:**"
   ]
  },
  {
   "cell_type": "markdown",
   "metadata": {},
   "source": [
    "**01** - Choosing a first character from names:"
   ]
  },
  {
   "cell_type": "code",
   "execution_count": 228,
   "metadata": {},
   "outputs": [
    {
     "name": "stdout",
     "output_type": "stream",
     "text": [
      "['John', 'Cindy', 'Sarah', 'Kelly', 'Mike']\n"
     ]
    }
   ],
   "source": [
    "print(mynames)"
   ]
  },
  {
   "cell_type": "code",
   "execution_count": 222,
   "metadata": {},
   "outputs": [
    {
     "data": {
      "text/plain": [
       "['J', 'C', 'S', 'K', 'M']"
      ]
     },
     "execution_count": 222,
     "metadata": {},
     "output_type": "execute_result"
    }
   ],
   "source": [
    "# List comprehension:\n",
    "[(lambda name: name[0])(x) for x in mynames]"
   ]
  },
  {
   "cell_type": "code",
   "execution_count": 221,
   "metadata": {},
   "outputs": [
    {
     "data": {
      "text/plain": [
       "['J', 'C', 'S', 'K', 'M']"
      ]
     },
     "execution_count": 221,
     "metadata": {},
     "output_type": "execute_result"
    }
   ],
   "source": [
    "# map() function:\n",
    "list( map(lambda name: name[0], mynames) )"
   ]
  },
  {
   "cell_type": "markdown",
   "metadata": {},
   "source": [
    "**02** - Reversing a list:"
   ]
  },
  {
   "cell_type": "code",
   "execution_count": 230,
   "metadata": {},
   "outputs": [
    {
     "name": "stdout",
     "output_type": "stream",
     "text": [
      "['John', 'Cindy', 'Sarah', 'Kelly', 'Mike']\n"
     ]
    }
   ],
   "source": [
    "print(mynames)"
   ]
  },
  {
   "cell_type": "code",
   "execution_count": 227,
   "metadata": {},
   "outputs": [
    {
     "data": {
      "text/plain": [
       "['nhoJ', 'ydniC', 'haraS', 'ylleK', 'ekiM']"
      ]
     },
     "execution_count": 227,
     "metadata": {},
     "output_type": "execute_result"
    }
   ],
   "source": [
    "# List comprehension:\n",
    "[(lambda name: name[::-1])(x) for x in mynames]"
   ]
  },
  {
   "cell_type": "code",
   "execution_count": 229,
   "metadata": {},
   "outputs": [
    {
     "data": {
      "text/plain": [
       "['nhoJ', 'ydniC', 'haraS', 'ylleK', 'ekiM']"
      ]
     },
     "execution_count": 229,
     "metadata": {},
     "output_type": "execute_result"
    }
   ],
   "source": [
    "# map() function:\n",
    "list( map(lambda name: name[::-1], mynames) )"
   ]
  },
  {
   "cell_type": "markdown",
   "metadata": {},
   "source": [
    "### map() vs apply() vs applymap()"
   ]
  },
  {
   "cell_type": "markdown",
   "metadata": {},
   "source": [
    "- `apply` works on a **row/column** basis of a **DataFrame**\n",
    "- `map` works **element-wise** on both **DataFrame** and **Series** (`applymap` is deprecated)\n",
    "- by my comparison, "
   ]
  },
  {
   "cell_type": "code",
   "execution_count": 14,
   "metadata": {},
   "outputs": [
    {
     "data": {
      "text/html": [
       "<div>\n",
       "<style scoped>\n",
       "    .dataframe tbody tr th:only-of-type {\n",
       "        vertical-align: middle;\n",
       "    }\n",
       "\n",
       "    .dataframe tbody tr th {\n",
       "        vertical-align: top;\n",
       "    }\n",
       "\n",
       "    .dataframe thead th {\n",
       "        text-align: right;\n",
       "    }\n",
       "</style>\n",
       "<table border=\"1\" class=\"dataframe\">\n",
       "  <thead>\n",
       "    <tr style=\"text-align: right;\">\n",
       "      <th></th>\n",
       "      <th>b</th>\n",
       "      <th>d</th>\n",
       "      <th>e</th>\n",
       "    </tr>\n",
       "  </thead>\n",
       "  <tbody>\n",
       "    <tr>\n",
       "      <th>Utah</th>\n",
       "      <td>-0.685038</td>\n",
       "      <td>-0.922628</td>\n",
       "      <td>0.474813</td>\n",
       "    </tr>\n",
       "    <tr>\n",
       "      <th>Ohio</th>\n",
       "      <td>-0.985426</td>\n",
       "      <td>-0.065681</td>\n",
       "      <td>1.808219</td>\n",
       "    </tr>\n",
       "    <tr>\n",
       "      <th>Texas</th>\n",
       "      <td>-2.230423</td>\n",
       "      <td>0.788233</td>\n",
       "      <td>1.515942</td>\n",
       "    </tr>\n",
       "    <tr>\n",
       "      <th>Oregon</th>\n",
       "      <td>1.212075</td>\n",
       "      <td>-1.547654</td>\n",
       "      <td>-0.721789</td>\n",
       "    </tr>\n",
       "  </tbody>\n",
       "</table>\n",
       "</div>"
      ],
      "text/plain": [
       "               b         d         e\n",
       "Utah   -0.685038 -0.922628  0.474813\n",
       "Ohio   -0.985426 -0.065681  1.808219\n",
       "Texas  -2.230423  0.788233  1.515942\n",
       "Oregon  1.212075 -1.547654 -0.721789"
      ]
     },
     "execution_count": 14,
     "metadata": {},
     "output_type": "execute_result"
    }
   ],
   "source": [
    "# Specifying data for both functions:\n",
    "import pandas as pd\n",
    "import numpy as np\n",
    "\n",
    "data = pd.DataFrame(np.random.randn(4, 3), columns=list('bde'), index=['Utah', 'Ohio', 'Texas', 'Oregon'])\n",
    "data"
   ]
  },
  {
   "cell_type": "markdown",
   "metadata": {},
   "source": [
    "**apply():**"
   ]
  },
  {
   "cell_type": "code",
   "execution_count": 15,
   "metadata": {},
   "outputs": [
    {
     "data": {
      "text/plain": [
       "b    3.442499\n",
       "d    2.335887\n",
       "e    2.530008\n",
       "dtype: float64"
      ]
     },
     "execution_count": 15,
     "metadata": {},
     "output_type": "execute_result"
    }
   ],
   "source": [
    "# Applying function on a dataframe using apply():\n",
    "my_function = lambda x: x.max() - x.min()\n",
    "data.apply(my_function)"
   ]
  },
  {
   "cell_type": "markdown",
   "metadata": {},
   "source": [
    "**map():**"
   ]
  },
  {
   "cell_type": "code",
   "execution_count": 16,
   "metadata": {},
   "outputs": [
    {
     "data": {
      "text/html": [
       "<div>\n",
       "<style scoped>\n",
       "    .dataframe tbody tr th:only-of-type {\n",
       "        vertical-align: middle;\n",
       "    }\n",
       "\n",
       "    .dataframe tbody tr th {\n",
       "        vertical-align: top;\n",
       "    }\n",
       "\n",
       "    .dataframe thead th {\n",
       "        text-align: right;\n",
       "    }\n",
       "</style>\n",
       "<table border=\"1\" class=\"dataframe\">\n",
       "  <thead>\n",
       "    <tr style=\"text-align: right;\">\n",
       "      <th></th>\n",
       "      <th>b</th>\n",
       "      <th>d</th>\n",
       "      <th>e</th>\n",
       "    </tr>\n",
       "  </thead>\n",
       "  <tbody>\n",
       "    <tr>\n",
       "      <th>Utah</th>\n",
       "      <td>-0.69</td>\n",
       "      <td>-0.92</td>\n",
       "      <td>0.47</td>\n",
       "    </tr>\n",
       "    <tr>\n",
       "      <th>Ohio</th>\n",
       "      <td>-0.99</td>\n",
       "      <td>-0.07</td>\n",
       "      <td>1.81</td>\n",
       "    </tr>\n",
       "    <tr>\n",
       "      <th>Texas</th>\n",
       "      <td>-2.23</td>\n",
       "      <td>0.79</td>\n",
       "      <td>1.52</td>\n",
       "    </tr>\n",
       "    <tr>\n",
       "      <th>Oregon</th>\n",
       "      <td>1.21</td>\n",
       "      <td>-1.55</td>\n",
       "      <td>-0.72</td>\n",
       "    </tr>\n",
       "  </tbody>\n",
       "</table>\n",
       "</div>"
      ],
      "text/plain": [
       "            b      d      e\n",
       "Utah    -0.69  -0.92   0.47\n",
       "Ohio    -0.99  -0.07   1.81\n",
       "Texas   -2.23   0.79   1.52\n",
       "Oregon   1.21  -1.55  -0.72"
      ]
     },
     "execution_count": 16,
     "metadata": {},
     "output_type": "execute_result"
    }
   ],
   "source": [
    "# Applying formatting on a dataframe using map() function:\n",
    "format = lambda x: '%.2f' % x\n",
    "data.map(format)"
   ]
  },
  {
   "cell_type": "markdown",
   "metadata": {},
   "source": [
    "Deprecated: **applymap():**"
   ]
  },
  {
   "cell_type": "code",
   "execution_count": null,
   "metadata": {},
   "outputs": [
    {
     "name": "stderr",
     "output_type": "stream",
     "text": [
      "C:\\Users\\Jakub.Cajzl\\AppData\\Local\\Temp\\ipykernel_31416\\576815090.py:3: FutureWarning: DataFrame.applymap has been deprecated. Use DataFrame.map instead.\n",
      "  frame.applymap(format)\n"
     ]
    },
    {
     "data": {
      "text/html": [
       "<div>\n",
       "<style scoped>\n",
       "    .dataframe tbody tr th:only-of-type {\n",
       "        vertical-align: middle;\n",
       "    }\n",
       "\n",
       "    .dataframe tbody tr th {\n",
       "        vertical-align: top;\n",
       "    }\n",
       "\n",
       "    .dataframe thead th {\n",
       "        text-align: right;\n",
       "    }\n",
       "</style>\n",
       "<table border=\"1\" class=\"dataframe\">\n",
       "  <thead>\n",
       "    <tr style=\"text-align: right;\">\n",
       "      <th></th>\n",
       "      <th>b</th>\n",
       "      <th>d</th>\n",
       "      <th>e</th>\n",
       "    </tr>\n",
       "  </thead>\n",
       "  <tbody>\n",
       "    <tr>\n",
       "      <th>Utah</th>\n",
       "      <td>0.54</td>\n",
       "      <td>-0.05</td>\n",
       "      <td>0.60</td>\n",
       "    </tr>\n",
       "    <tr>\n",
       "      <th>Ohio</th>\n",
       "      <td>-0.67</td>\n",
       "      <td>1.87</td>\n",
       "      <td>-1.00</td>\n",
       "    </tr>\n",
       "    <tr>\n",
       "      <th>Texas</th>\n",
       "      <td>0.65</td>\n",
       "      <td>1.05</td>\n",
       "      <td>0.22</td>\n",
       "    </tr>\n",
       "    <tr>\n",
       "      <th>Oregon</th>\n",
       "      <td>0.47</td>\n",
       "      <td>-0.22</td>\n",
       "      <td>0.57</td>\n",
       "    </tr>\n",
       "  </tbody>\n",
       "</table>\n",
       "</div>"
      ],
      "text/plain": [
       "            b      d      e\n",
       "Utah     0.54  -0.05   0.60\n",
       "Ohio    -0.67   1.87  -1.00\n",
       "Texas    0.65   1.05   0.22\n",
       "Oregon   0.47  -0.22   0.57"
      ]
     },
     "metadata": {},
     "output_type": "display_data"
    }
   ],
   "source": [
    "format = lambda x: '%.2f' % x\n",
    "\n",
    "frame.applymap(format)"
   ]
  },
  {
   "cell_type": "markdown",
   "metadata": {},
   "source": [
    "## Nested statements and Scope"
   ]
  },
  {
   "cell_type": "markdown",
   "metadata": {},
   "source": [
    "Now that we have gone over writing our own functions, it's important to understand how Python deals with the variable names you assign. When you create a variable name in Python the name is stored in a name-space. Variable names also have a scope, the scope determines the visibility of that variable name to other parts of your code.\n",
    "\n",
    "**Variable names in functions** are **local**, **not global**. "
   ]
  },
  {
   "cell_type": "code",
   "execution_count": 231,
   "metadata": {},
   "outputs": [],
   "source": [
    "x = 25\n",
    "\n",
    "def printer():\n",
    "    x = 50\n",
    "    return x"
   ]
  },
  {
   "cell_type": "code",
   "execution_count": 232,
   "metadata": {},
   "outputs": [
    {
     "name": "stdout",
     "output_type": "stream",
     "text": [
      "25\n"
     ]
    }
   ],
   "source": [
    "print(x)"
   ]
  },
  {
   "cell_type": "code",
   "execution_count": 234,
   "metadata": {},
   "outputs": [
    {
     "data": {
      "text/plain": [
       "50"
      ]
     },
     "execution_count": 234,
     "metadata": {},
     "output_type": "execute_result"
    }
   ],
   "source": [
    "printer()"
   ]
  },
  {
   "cell_type": "markdown",
   "metadata": {},
   "source": [
    "In simple terms, the idea of scope can be described by 3 general rules:\n",
    "\n",
    "1. Name assignments will create or change local names by default.\n",
    "2. Name references search (at most) four scopes, these are:\n",
    "   - local\n",
    "   - enclosing functions\n",
    "   - global\n",
    "   - built-in\n",
    "3. Names declared in global and nonlocal statements map assigned names to enclosing module and function scopes.\n",
    "The statement in #2 above can be defined by the LEGB rule."
   ]
  },
  {
   "cell_type": "markdown",
   "metadata": {},
   "source": [
    "**LEGB Rule:**\n",
    "\n",
    "**L**: **Local** — Names assigned in any way within a function (def or lambda), and not declared global in that function.\n",
    "\n",
    "**E**: **Enclosing** function locals — Names in the local scope of any and all enclosing functions (def or lambda), from inner to outer.\n",
    "\n",
    "**G**: **Global** (module) — Names assigned at the top-level of a module file, or declared global in a def within the file.\n",
    "\n",
    "**B**: **Built-in** (Python) — Names preassigned in the built-in names module : open, range, SyntaxError,..."
   ]
  },
  {
   "cell_type": "markdown",
   "metadata": {},
   "source": [
    "Enclosing (e.g. nested functions):"
   ]
  },
  {
   "cell_type": "code",
   "execution_count": 245,
   "metadata": {},
   "outputs": [
    {
     "name": "stdout",
     "output_type": "stream",
     "text": [
      "This a local name\n"
     ]
    }
   ],
   "source": [
    "name = 'This is a global name'\n",
    "\n",
    "def greet():\n",
    "    \n",
    "    # Enclosing function\n",
    "    name = 'This a local name'\n",
    "    \n",
    "    def hello():\n",
    "        print(name)\n",
    "        \n",
    "    return hello()\n",
    "\n",
    "greet()"
   ]
  },
  {
   "cell_type": "code",
   "execution_count": 244,
   "metadata": {},
   "outputs": [
    {
     "name": "stdout",
     "output_type": "stream",
     "text": [
      "This is a global name\n"
     ]
    }
   ],
   "source": [
    "print(name)"
   ]
  },
  {
   "cell_type": "markdown",
   "metadata": {},
   "source": [
    "### The <code>global</code> statement"
   ]
  },
  {
   "cell_type": "markdown",
   "metadata": {},
   "source": [
    "In order to assign a variable inside a function to the **top level** of the **program**, we need to use a <code>global</code> statement in front of the variable. "
   ]
  },
  {
   "cell_type": "code",
   "execution_count": 1,
   "metadata": {},
   "outputs": [
    {
     "name": "stdout",
     "output_type": "stream",
     "text": [
      "Before calling function, x is:  50\n",
      "Because of global statement inside a function, x is:  2\n",
      "Value of x outside the function is now:  2\n"
     ]
    }
   ],
   "source": [
    "x = 50\n",
    "\n",
    "def function():\n",
    "    global x\n",
    "    x = 2\n",
    "    print('Because of global statement inside a function, x is: ', x)\n",
    "\n",
    "print('Before calling function, x is: ', x)\n",
    "function()\n",
    "print('Value of x outside the function is now: ', x)"
   ]
  },
  {
   "cell_type": "markdown",
   "metadata": {},
   "source": [
    "#### Checking the **global** and **local** variables:"
   ]
  },
  {
   "cell_type": "code",
   "execution_count": 2,
   "metadata": {},
   "outputs": [
    {
     "data": {
      "text/plain": [
       "{'__name__': '__main__',\n",
       " '__doc__': 'Automatically created module for IPython interactive environment',\n",
       " '__package__': None,\n",
       " '__loader__': None,\n",
       " '__spec__': None,\n",
       " '__builtin__': <module 'builtins' (built-in)>,\n",
       " '__builtins__': <module 'builtins' (built-in)>,\n",
       " '_ih': ['',\n",
       "  \"x = 50\\n\\ndef function():\\n    global x\\n    x = 2\\n    print('Because of global statement inside a function, x is: ', x)\\n\\nprint('Before calling function, x is: ', x)\\nfunction()\\nprint('Value of x outside the function is now: ', x)\",\n",
       "  'globals()'],\n",
       " '_oh': {},\n",
       " '_dh': [WindowsPath('c:/Users/Jakub.Cajzl/OneDrive - Adastra, s.r.o/Work/Projects/00_Learning/learning/01_Python'),\n",
       "  WindowsPath('c:/Users/Jakub.Cajzl/OneDrive - Adastra, s.r.o/Work/Projects/00_Learning/learning/01_Python')],\n",
       " 'In': ['',\n",
       "  \"x = 50\\n\\ndef function():\\n    global x\\n    x = 2\\n    print('Because of global statement inside a function, x is: ', x)\\n\\nprint('Before calling function, x is: ', x)\\nfunction()\\nprint('Value of x outside the function is now: ', x)\",\n",
       "  'globals()'],\n",
       " 'Out': {},\n",
       " 'get_ipython': <bound method InteractiveShell.get_ipython of <ipykernel.zmqshell.ZMQInteractiveShell object at 0x000001AECEC26D80>>,\n",
       " 'exit': <IPython.core.autocall.ZMQExitAutocall at 0x1aecd8bb1a0>,\n",
       " 'quit': <IPython.core.autocall.ZMQExitAutocall at 0x1aecd8bb1a0>,\n",
       " 'open': <function _io.open(file, mode='r', buffering=-1, encoding=None, errors=None, newline=None, closefd=True, opener=None)>,\n",
       " '_': '',\n",
       " '__': '',\n",
       " '___': '',\n",
       " '__vsc_ipynb_file__': 'c:\\\\Users\\\\Jakub.Cajzl\\\\OneDrive - Adastra, s.r.o\\\\Work\\\\Projects\\\\00_Learning\\\\learning\\\\01_Python\\\\Code_02_Functions.ipynb',\n",
       " '_i': \"x = 50\\n\\ndef function():\\n    global x\\n    x = 2\\n    print('Because of global statement inside a function, x is: ', x)\\n\\nprint('Before calling function, x is: ', x)\\nfunction()\\nprint('Value of x outside the function is now: ', x)\",\n",
       " '_ii': '',\n",
       " '_iii': '',\n",
       " '_i1': \"x = 50\\n\\ndef function():\\n    global x\\n    x = 2\\n    print('Because of global statement inside a function, x is: ', x)\\n\\nprint('Before calling function, x is: ', x)\\nfunction()\\nprint('Value of x outside the function is now: ', x)\",\n",
       " 'x': 2,\n",
       " 'function': <function __main__.function()>,\n",
       " '_i2': 'globals()'}"
      ]
     },
     "execution_count": 2,
     "metadata": {},
     "output_type": "execute_result"
    }
   ],
   "source": [
    "globals()"
   ]
  },
  {
   "cell_type": "code",
   "execution_count": 3,
   "metadata": {},
   "outputs": [
    {
     "data": {
      "text/plain": [
       "{'__name__': '__main__',\n",
       " '__doc__': 'Automatically created module for IPython interactive environment',\n",
       " '__package__': None,\n",
       " '__loader__': None,\n",
       " '__spec__': None,\n",
       " '__builtin__': <module 'builtins' (built-in)>,\n",
       " '__builtins__': <module 'builtins' (built-in)>,\n",
       " '_ih': ['',\n",
       "  \"x = 50\\n\\ndef function():\\n    global x\\n    x = 2\\n    print('Because of global statement inside a function, x is: ', x)\\n\\nprint('Before calling function, x is: ', x)\\nfunction()\\nprint('Value of x outside the function is now: ', x)\",\n",
       "  'globals()',\n",
       "  'locals()'],\n",
       " '_oh': {2: {...}},\n",
       " '_dh': [WindowsPath('c:/Users/Jakub.Cajzl/OneDrive - Adastra, s.r.o/Work/Projects/00_Learning/learning/01_Python'),\n",
       "  WindowsPath('c:/Users/Jakub.Cajzl/OneDrive - Adastra, s.r.o/Work/Projects/00_Learning/learning/01_Python')],\n",
       " 'In': ['',\n",
       "  \"x = 50\\n\\ndef function():\\n    global x\\n    x = 2\\n    print('Because of global statement inside a function, x is: ', x)\\n\\nprint('Before calling function, x is: ', x)\\nfunction()\\nprint('Value of x outside the function is now: ', x)\",\n",
       "  'globals()',\n",
       "  'locals()'],\n",
       " 'Out': {2: {...}},\n",
       " 'get_ipython': <bound method InteractiveShell.get_ipython of <ipykernel.zmqshell.ZMQInteractiveShell object at 0x000001AECEC26D80>>,\n",
       " 'exit': <IPython.core.autocall.ZMQExitAutocall at 0x1aecd8bb1a0>,\n",
       " 'quit': <IPython.core.autocall.ZMQExitAutocall at 0x1aecd8bb1a0>,\n",
       " 'open': <function _io.open(file, mode='r', buffering=-1, encoding=None, errors=None, newline=None, closefd=True, opener=None)>,\n",
       " '_': {...},\n",
       " '__': '',\n",
       " '___': '',\n",
       " '__vsc_ipynb_file__': 'c:\\\\Users\\\\Jakub.Cajzl\\\\OneDrive - Adastra, s.r.o\\\\Work\\\\Projects\\\\00_Learning\\\\learning\\\\01_Python\\\\Code_02_Functions.ipynb',\n",
       " '_i': 'globals()',\n",
       " '_ii': \"x = 50\\n\\ndef function():\\n    global x\\n    x = 2\\n    print('Because of global statement inside a function, x is: ', x)\\n\\nprint('Before calling function, x is: ', x)\\nfunction()\\nprint('Value of x outside the function is now: ', x)\",\n",
       " '_iii': '',\n",
       " '_i1': \"x = 50\\n\\ndef function():\\n    global x\\n    x = 2\\n    print('Because of global statement inside a function, x is: ', x)\\n\\nprint('Before calling function, x is: ', x)\\nfunction()\\nprint('Value of x outside the function is now: ', x)\",\n",
       " 'x': 2,\n",
       " 'function': <function __main__.function()>,\n",
       " '_i2': 'globals()',\n",
       " '_2': {...},\n",
       " '_i3': 'locals()'}"
      ]
     },
     "execution_count": 3,
     "metadata": {},
     "output_type": "execute_result"
    }
   ],
   "source": [
    "locals()"
   ]
  },
  {
   "cell_type": "markdown",
   "metadata": {},
   "source": [
    "#### Note:"
   ]
  },
  {
   "cell_type": "markdown",
   "metadata": {},
   "source": [
    "Another thing to keep in mind is that **everything** in **Python** is an **object**! I can **assign variables** to **functions** just like I can with **numbers**! "
   ]
  },
  {
   "cell_type": "markdown",
   "metadata": {},
   "source": [
    "##### Defining a **variable name** from `globals()`"
   ]
  },
  {
   "cell_type": "code",
   "execution_count": 4,
   "metadata": {},
   "outputs": [],
   "source": [
    "# Getting a variable name from globals() - this example is about dataframe object:\n",
    "\n",
    "import pandas as pd\n",
    "\n",
    "def get_dataframe_name(dataframe: pd.DataFrame) -> str:\n",
    "    \"\"\"\n",
    "    This function gets the name of a DataFrame variable as a string.\n",
    "    Parameters: df (DataFrame): DataFrame variable.\n",
    "    Returns: str: Name of the DataFrame variable as a string.\n",
    "    \"\"\"\n",
    "    \n",
    "    for obj_name, obj in globals().items():\n",
    "        if obj is dataframe and isinstance(obj, pd.DataFrame):\n",
    "            return obj_name"
   ]
  },
  {
   "cell_type": "code",
   "execution_count": null,
   "metadata": {},
   "outputs": [],
   "source": [
    "# Saving results to the variable using variable name:\n",
    "\n",
    "# Dictionary with DataFrames and their Columns to check:\n",
    "dataframes_to_check = {\n",
    "    'jobs':'job_id', \n",
    "    'companies': 'company_id',\n",
    "    'salaries': 'job_id',\n",
    "    'industries':'company_id',\n",
    "    'employee_counts': 'company_id',\n",
    "    'job_skills': 'job_id',\n",
    "    'skills_map': 'skill_abr'\n",
    "    }\n",
    "\n",
    "# Iterating through different multipliers in dictionary \n",
    "# (note the .items() which is necessary for iterating \n",
    "# through keys and values of the dictionary):\n",
    "for key, value in dataframes_to_check.items():\n",
    "    column = value  # Column name\n",
    "    dataframe = globals()[key]  # Accessing dataframe by its name in globals()\n",
    "    globals()[key] = dataframe  # Assigning the modified DataFrame back to its original variable"
   ]
  },
  {
   "cell_type": "markdown",
   "metadata": {},
   "source": [
    "## Sliding window"
   ]
  },
  {
   "cell_type": "markdown",
   "metadata": {},
   "source": [
    "In Python, a **sliding window** is a **technique** used to solve problems that involve **iterating over a sequence** (such as an array or a string) by considering a **fixed-size window** or **subarray of elements** at **each step**. The **window \"slides\"** or moves through the sequence **one element at a time**, allowing you to **perform** certain **operations or calculations** **within** that **window**.\n",
    "\n",
    "Sliding window algorithms are commonly used for **solving problems** like **substring search**, **subarray sum**, or any problem where you need to analyze a sequence of elements in a continuous manner."
   ]
  },
  {
   "cell_type": "markdown",
   "metadata": {},
   "source": [
    "### Example 01"
   ]
  },
  {
   "cell_type": "code",
   "execution_count": 3,
   "metadata": {},
   "outputs": [],
   "source": [
    "# Example of a sliding window algorithm to find the maximum sum of a subarray of a given size:\n",
    "\n",
    "def max_subarray_sum(arr, k):\n",
    "    \n",
    "    # Initializing the sum of the first window:\n",
    "    window_sum = sum(arr[0:k])  \n",
    "    max_sum = window_sum\n",
    "\n",
    "    # Sliding the window and updating the maximum sum:\n",
    "    for i in range(1, len(arr) - k + 1):\n",
    "        window_sum = window_sum - arr[i - 1] + arr[i + k - 1]\n",
    "        max_sum = max(max_sum, window_sum)\n",
    "\n",
    "    return max_sum"
   ]
  },
  {
   "cell_type": "code",
   "execution_count": 5,
   "metadata": {},
   "outputs": [
    {
     "name": "stdout",
     "output_type": "stream",
     "text": [
      "16\n"
     ]
    }
   ],
   "source": [
    "# Use:\n",
    "arr = [1, 3, -1, -3, 5, 3, 6, 7]  # Array\n",
    "k = 3  # Size of the sliding window\n",
    "print(max_subarray_sum(arr, k))  # Output: 16 (maximum sum of [5, 3, 6, 7])"
   ]
  },
  {
   "cell_type": "markdown",
   "metadata": {},
   "source": [
    "### Example 02"
   ]
  },
  {
   "cell_type": "code",
   "execution_count": 14,
   "metadata": {},
   "outputs": [],
   "source": [
    "def substring_search(string, pattern):\n",
    "    \n",
    "    pattern_length = len(pattern)\n",
    "    window_start = 0   # Start of the sliding window\n",
    "    window_end = 0   # End of the sliding window\n",
    "\n",
    "    while window_end < len(string):\n",
    "        \n",
    "        if string[window_end] == pattern[0]:\n",
    "            # Check if the substring starting from window_end matches the pattern:\n",
    "            if string[window_end : (window_end + pattern_length)] == pattern:\n",
    "                position = window_end\n",
    "                return True, position  # Return True when Pattern found and a position of the first letter of the pattern in an input string\n",
    "\n",
    "        # Slide the window by 1 position to the right:\n",
    "        window_start += 1\n",
    "        window_end += 1\n",
    "\n",
    "    return False  # Return False if pattern not found"
   ]
  },
  {
   "cell_type": "code",
   "execution_count": 15,
   "metadata": {},
   "outputs": [
    {
     "name": "stdout",
     "output_type": "stream",
     "text": [
      "(True, 3)\n"
     ]
    }
   ],
   "source": [
    "# Use:\n",
    "string = \"abcbcdef\"\n",
    "pattern = \"bcd\"\n",
    "print(substring_search(string, pattern))  # Output: True (pattern \"bcd\" found in the string)"
   ]
  },
  {
   "cell_type": "markdown",
   "metadata": {},
   "source": [
    "## Decorators"
   ]
  },
  {
   "cell_type": "markdown",
   "metadata": {},
   "source": [
    "Decorators are **wrapper functions** that **modify another function**. They help to make your code shorter and by the principle of **DRY (Don't Repeat Yourself)**.\n",
    "\n",
    "Decorators are called on functions using **@ sign**. Wrapper functions of the decorator need to be defined before calling decorator. "
   ]
  },
  {
   "cell_type": "code",
   "execution_count": 1,
   "metadata": {},
   "outputs": [],
   "source": [
    "def new_decorator(func):\n",
    "\n",
    "    def wrap_func():\n",
    "        print(\"Code before executing the func().\")\n",
    "\n",
    "        func()\n",
    "\n",
    "        print(\"Code after the func().\")\n",
    "\n",
    "    # Return of the 'new_decorator' function:\n",
    "    return wrap_func"
   ]
  },
  {
   "cell_type": "code",
   "execution_count": 13,
   "metadata": {},
   "outputs": [],
   "source": [
    "@new_decorator\n",
    "def func_needs_decorator():\n",
    "    print(\"This function needs a Decorator.\")"
   ]
  },
  {
   "cell_type": "code",
   "execution_count": 14,
   "metadata": {},
   "outputs": [
    {
     "name": "stdout",
     "output_type": "stream",
     "text": [
      "Code before executing the func().\n",
      "This function needs a Decorator.\n",
      "Code after the func().\n"
     ]
    }
   ],
   "source": [
    "func_needs_decorator()"
   ]
  },
  {
   "cell_type": "markdown",
   "metadata": {},
   "source": [
    "## Iterators and Generators"
   ]
  },
  {
   "cell_type": "markdown",
   "metadata": {},
   "source": [
    "Generators allow us to generate as we go along, instead of holding everything in memory. Generators have the **yield** statement. Using the **yield** keyword at a function will cause the **function** to **become a generator**. This change can save a lot of operating memory for large use cases. \n",
    "\n",
    "Generator functions allow us to write a function that can send back a value and then later resume to pick up where it left off. This type of function is a generator in Python, allowing us to generate a sequence of values over time. The main difference in syntax will be the use of a yield statement.\n",
    "\n",
    "When a generator function is compiled they become an object that supports an iteration protocol. That means when they are called in your code they don't actually return a value and then exit. Instead, generator functions will automatically suspend and resume their execution and state around the last point of value generation. The main advantage here is that instead of having to compute an entire series of values up front, the generator computes one value and then suspends its activity awaiting the next instruction. This feature is known as state suspension."
   ]
  },
  {
   "cell_type": "markdown",
   "metadata": {},
   "source": [
    "**Example 01**"
   ]
  },
  {
   "cell_type": "code",
   "execution_count": 12,
   "metadata": {},
   "outputs": [],
   "source": [
    "# Generator function for the cube of numbers:\n",
    "def gencubes(n):\n",
    "    for num in range(n):\n",
    "        yield num**3"
   ]
  },
  {
   "cell_type": "code",
   "execution_count": 13,
   "metadata": {},
   "outputs": [
    {
     "name": "stdout",
     "output_type": "stream",
     "text": [
      "0\n",
      "1\n",
      "8\n",
      "27\n",
      "64\n",
      "125\n",
      "216\n",
      "343\n",
      "512\n",
      "729\n"
     ]
    }
   ],
   "source": [
    "for x in gencubes(10):\n",
    "    print(x)"
   ]
  },
  {
   "cell_type": "markdown",
   "metadata": {},
   "source": [
    "**Example 02**"
   ]
  },
  {
   "cell_type": "code",
   "execution_count": 16,
   "metadata": {},
   "outputs": [
    {
     "data": {
      "text/plain": [
       "[1, 1, 2, 3, 5, 8, 13, 21, 34, 55]"
      ]
     },
     "execution_count": 16,
     "metadata": {},
     "output_type": "execute_result"
    }
   ],
   "source": [
    "def fibon(n):\n",
    "    a = 1\n",
    "    b = 1\n",
    "    output = []\n",
    "    \n",
    "    for i in range(n):\n",
    "        output.append(a)\n",
    "        a,b = b,a+b\n",
    "        \n",
    "    return output\n",
    "        \n",
    "fibon(10)"
   ]
  },
  {
   "cell_type": "markdown",
   "metadata": {},
   "source": [
    "### next() and iter() built-in functions"
   ]
  },
  {
   "cell_type": "markdown",
   "metadata": {},
   "source": [
    "A key to fully understanding generators is the next() function and the iter() functions:\n",
    "\n",
    "- `next()` function allows us to access the **next element in a sequence**. \n",
    "- `iter()` function creates an iterator from iterable object. The next() function is used to retrieve the next item from an iterator. "
   ]
  },
  {
   "cell_type": "code",
   "execution_count": 21,
   "metadata": {},
   "outputs": [],
   "source": [
    "def simple_gen():\n",
    "    for x in range(3):\n",
    "        yield x"
   ]
  },
  {
   "cell_type": "code",
   "execution_count": 22,
   "metadata": {},
   "outputs": [],
   "source": [
    "# Assign simple_gen \n",
    "g = simple_gen()"
   ]
  },
  {
   "cell_type": "code",
   "execution_count": 23,
   "metadata": {},
   "outputs": [
    {
     "name": "stdout",
     "output_type": "stream",
     "text": [
      "0\n",
      "1\n",
      "2\n"
     ]
    },
    {
     "ename": "StopIteration",
     "evalue": "",
     "output_type": "error",
     "traceback": [
      "\u001b[1;31m---------------------------------------------------------------------------\u001b[0m",
      "\u001b[1;31mStopIteration\u001b[0m                             Traceback (most recent call last)",
      "Cell \u001b[1;32mIn[23], line 4\u001b[0m\n\u001b[0;32m      2\u001b[0m \u001b[38;5;28mprint\u001b[39m(\u001b[38;5;28mnext\u001b[39m(g))\n\u001b[0;32m      3\u001b[0m \u001b[38;5;28mprint\u001b[39m(\u001b[38;5;28mnext\u001b[39m(g))\n\u001b[1;32m----> 4\u001b[0m \u001b[38;5;28mprint\u001b[39m(\u001b[38;5;28;43mnext\u001b[39;49m\u001b[43m(\u001b[49m\u001b[43mg\u001b[49m\u001b[43m)\u001b[49m)\n",
      "\u001b[1;31mStopIteration\u001b[0m: "
     ]
    }
   ],
   "source": [
    "print(next(g))\n",
    "print(next(g))\n",
    "print(next(g))\n",
    "print(next(g))"
   ]
  },
  {
   "cell_type": "markdown",
   "metadata": {},
   "source": [
    "**After yielding all the values** next() caused a **StopIteration error**. What this error informs us of is that all the values have been yielded."
   ]
  },
  {
   "cell_type": "code",
   "execution_count": 27,
   "metadata": {},
   "outputs": [
    {
     "name": "stdout",
     "output_type": "stream",
     "text": [
      "h\n",
      "e\n",
      "l\n",
      "l\n",
      "o\n"
     ]
    },
    {
     "ename": "StopIteration",
     "evalue": "",
     "output_type": "error",
     "traceback": [
      "\u001b[1;31m---------------------------------------------------------------------------\u001b[0m",
      "\u001b[1;31mStopIteration\u001b[0m                             Traceback (most recent call last)",
      "Cell \u001b[1;32mIn[27], line 9\u001b[0m\n\u001b[0;32m      7\u001b[0m \u001b[38;5;28mprint\u001b[39m(\u001b[38;5;28mnext\u001b[39m(s_iter))\n\u001b[0;32m      8\u001b[0m \u001b[38;5;28mprint\u001b[39m(\u001b[38;5;28mnext\u001b[39m(s_iter))\n\u001b[1;32m----> 9\u001b[0m \u001b[38;5;28mprint\u001b[39m(\u001b[38;5;28;43mnext\u001b[39;49m\u001b[43m(\u001b[49m\u001b[43ms_iter\u001b[49m\u001b[43m)\u001b[49m)\n",
      "\u001b[1;31mStopIteration\u001b[0m: "
     ]
    }
   ],
   "source": [
    "s = 'hello'\n",
    "s_iter = iter(s)\n",
    "\n",
    "print(next(s_iter))\n",
    "print(next(s_iter))\n",
    "print(next(s_iter))\n",
    "print(next(s_iter))\n",
    "print(next(s_iter))\n",
    "print(next(s_iter))"
   ]
  },
  {
   "cell_type": "markdown",
   "metadata": {},
   "source": [
    "## stdout"
   ]
  },
  {
   "cell_type": "markdown",
   "metadata": {},
   "source": [
    "This is a built-in Python module that contains parameters specific to the system i.e. it contains variables and methods that interact with the interpreter and are also governed by it. \n",
    "\n",
    "sys.stdout\n",
    "A built-in file object that is analogous to the interpreter’s standard output stream in Python. stdout is used to display output directly to the screen console. Output can be of any form, it can be output from a print statement, an expression statement, and even a prompt direct for input. By default, streams are in text mode. In fact, wherever a print function is called within the code, it is first written to sys.stdout and then finally on to the screen. \n",
    "\n",
    "sys.stdout.write() serves the same purpose as the object stands for except it prints the number of letters within the text too when used in interactive mode. Unlike print, sys.stdout.write doesn’t switch to a new line after one text is displayed. To achieve this one can employ a new line escape character(\\n)."
   ]
  },
  {
   "cell_type": "code",
   "execution_count": 1,
   "metadata": {},
   "outputs": [
    {
     "name": "stdout",
     "output_type": "stream",
     "text": [
      "This is an output of a script"
     ]
    },
    {
     "data": {
      "text/plain": [
       "29"
      ]
     },
     "execution_count": 1,
     "metadata": {},
     "output_type": "execute_result"
    }
   ],
   "source": [
    "# Print out the text and it's length:\n",
    "import sys \n",
    "sys.stdout.write('This is an output of a script')"
   ]
  },
  {
   "cell_type": "code",
   "execution_count": 18,
   "metadata": {},
   "outputs": [
    {
     "name": "stdout",
     "output_type": "stream",
     "text": [
      "One line output:\n",
      "geeks for geeks \n",
      "\n",
      "Multiple-line output:\n",
      "geeks\n",
      "for\n",
      "geeks\n"
     ]
    }
   ],
   "source": [
    "import sys \n",
    "  \n",
    "# stdout assigned to a variable:\n",
    "var = sys.stdout \n",
    "list = ['geeks', 'for', 'geeks'] \n",
    "\n",
    "# Printing everything in the same line:\n",
    "var.write('One line output:\\n')\n",
    "for i in list: \n",
    "    var.write(i)\n",
    "    var.write(' ')\n",
    "  \n",
    "# Printing everything in a new line:\n",
    "var.write('\\n\\nMultiple-line output:\\n')\n",
    "for j in list: \n",
    "    var.write(j+'\\n') "
   ]
  },
  {
   "cell_type": "markdown",
   "metadata": {},
   "source": [
    "## What is a Docstring?"
   ]
  },
  {
   "cell_type": "markdown",
   "metadata": {},
   "source": [
    "What is a Docstring?\n",
    "A docstring is a string literal that occurs as the first statement in a module, function, class, or method definition. Such a docstring becomes the __doc__ special attribute of that object.\n",
    "\n",
    "All modules should normally have docstrings, and all functions and classes exported by a module should also have docstrings. Public methods (including the __init__ constructor) should also have docstrings. A package may be documented in the module docstring of the __init__.py file in the package directory.\n",
    "\n",
    "String literals occurring elsewhere in Python code may also act as documentation. They are not recognized by the Python bytecode compiler and are not accessible as runtime object attributes (i.e. not assigned to __doc__), but two types of extra docstrings may be extracted by software tools:\n",
    "\n",
    "String literals occurring immediately after a simple assignment at the top level of a module, class, or __init__ method are called “attribute docstrings”.\n",
    "String literals occurring immediately after another docstring are called “additional docstrings”.\n",
    "Please see PEP 258, “Docutils Design Specification”, for a detailed description of attribute and additional docstrings.\n",
    "\n",
    "For consistency, always use \"\"\"triple double quotes\"\"\" around docstrings. Use r\"\"\"raw triple double quotes\"\"\" if you use any backslashes in your docstrings.\n",
    "\n",
    "There are two forms of docstrings: one-liners and multi-line docstrings."
   ]
  }
 ],
 "metadata": {
  "kernelspec": {
   "display_name": "Python 3",
   "language": "python",
   "name": "python3"
  },
  "language_info": {
   "codemirror_mode": {
    "name": "ipython",
    "version": 3
   },
   "file_extension": ".py",
   "mimetype": "text/x-python",
   "name": "python",
   "nbconvert_exporter": "python",
   "pygments_lexer": "ipython3",
   "version": "3.12.3"
  }
 },
 "nbformat": 4,
 "nbformat_minor": 2
}
