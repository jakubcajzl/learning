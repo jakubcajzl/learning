{
 "cells": [
  {
   "cell_type": "markdown",
   "metadata": {},
   "source": [
    "# Errors and handling of exceptions:"
   ]
  },
  {
   "cell_type": "markdown",
   "metadata": {},
   "source": [
    "## Try, Except\n",
    "- **try** enables to test a code block for errors\n",
    "- **except** is used to handle exceptions arising in the previous **try** clause\n",
    "- **else** statement is run if there is no error\n",
    "- **finally** is run every time"
   ]
  },
  {
   "cell_type": "code",
   "execution_count": 11,
   "metadata": {},
   "outputs": [
    {
     "name": "stdout",
     "output_type": "stream",
     "text": [
      "5.0\n"
     ]
    }
   ],
   "source": [
    "a = 5\n",
    "b = 1\n",
    "\n",
    "try:\n",
    "    quotient = a / b\n",
    "except Exception as e:\n",
    "    print(f\"Error: {e}\")\n",
    "else:\n",
    "    print(quotient)"
   ]
  },
  {
   "cell_type": "code",
   "execution_count": 12,
   "metadata": {},
   "outputs": [
    {
     "name": "stdout",
     "output_type": "stream",
     "text": [
      "Error: division by zero\n"
     ]
    }
   ],
   "source": [
    "a = 5\n",
    "b = 0\n",
    "\n",
    "try:\n",
    "    quotient = a / b\n",
    "except Exception as e:\n",
    "    print(f\"Error: {e}\")\n",
    "else:\n",
    "    print(quotient)"
   ]
  },
  {
   "cell_type": "code",
   "execution_count": 13,
   "metadata": {},
   "outputs": [
    {
     "name": "stdout",
     "output_type": "stream",
     "text": [
      "Error: Could not find file or read data\n"
     ]
    }
   ],
   "source": [
    "# File opening:\n",
    "try:\n",
    "    f = open('testfile','r')\n",
    "    f.write('Test write this')\n",
    "except:\n",
    "    # This will check for any exception and then execute this print statement\n",
    "    print(\"Error: Could not find file or read data\")\n",
    "else:\n",
    "    print(\"Content written successfully\")\n",
    "    f.close()"
   ]
  },
  {
   "cell_type": "code",
   "execution_count": 27,
   "metadata": {},
   "outputs": [
    {
     "name": "stdout",
     "output_type": "stream",
     "text": [
      "The input value is: 50\n",
      "The code ended.\n"
     ]
    }
   ],
   "source": [
    "# Input an integer:\n",
    "def askint():\n",
    "    i = input(\"Please enter an integer: \")\n",
    "    try:\n",
    "        val = int(i)\n",
    "    except:\n",
    "        print(f\"Error: The input '{i}' is not an integer. Please input an integer!\")\n",
    "    else:\n",
    "        print(f\"The input value is: {val}\")\n",
    "    finally:\n",
    "        print(\"The code ended.\")\n",
    "\n",
    "askint()"
   ]
  },
  {
   "cell_type": "code",
   "execution_count": 36,
   "metadata": {},
   "outputs": [
    {
     "name": "stdout",
     "output_type": "stream",
     "text": [
      "Error: The input 'a' is not an integer. Please input an integer!\n",
      "The code ended.\n",
      "Error: The input 'l' is not an integer. Please input an integer!\n",
      "The code ended.\n",
      "The input value is an integer and its value is: 25\n",
      "The code ended.\n"
     ]
    }
   ],
   "source": [
    "# Continual check for an input value:\n",
    "def askint():\n",
    "    while True:\n",
    "        i = input(\"Please enter an integer: \")\n",
    "        try:\n",
    "            val = int(i)\n",
    "        except:\n",
    "            print(f\"Error: The input '{i}' is not an integer. Please input an integer!\")\n",
    "            continue\n",
    "        else:\n",
    "            print(f\"The input value is an integer and its value is: {val}\")\n",
    "            break\n",
    "        finally:\n",
    "            print(\"The code ended.\")\n",
    "            \n",
    "askint()"
   ]
  },
  {
   "cell_type": "markdown",
   "metadata": {},
   "source": [
    "### Excercise 01:"
   ]
  },
  {
   "cell_type": "code",
   "execution_count": 50,
   "metadata": {},
   "outputs": [
    {
     "ename": "TypeError",
     "evalue": "unsupported operand type(s) for ** or pow(): 'str' and 'int'",
     "output_type": "error",
     "traceback": [
      "\u001b[1;31m---------------------------------------------------------------------------\u001b[0m",
      "\u001b[1;31mTypeError\u001b[0m                                 Traceback (most recent call last)",
      "Cell \u001b[1;32mIn[50], line 3\u001b[0m\n\u001b[0;32m      1\u001b[0m \u001b[38;5;66;03m# Handle the exception thrown by the code below by using try and except blocks:\u001b[39;00m\n\u001b[0;32m      2\u001b[0m \u001b[38;5;28;01mfor\u001b[39;00m i \u001b[38;5;129;01min\u001b[39;00m [\u001b[38;5;124m'\u001b[39m\u001b[38;5;124ma\u001b[39m\u001b[38;5;124m'\u001b[39m,\u001b[38;5;241m20\u001b[39m,\u001b[38;5;124m'\u001b[39m\u001b[38;5;124mb\u001b[39m\u001b[38;5;124m'\u001b[39m,\u001b[38;5;241m100\u001b[39m,\u001b[38;5;124m'\u001b[39m\u001b[38;5;124mc\u001b[39m\u001b[38;5;124m'\u001b[39m, \u001b[38;5;241m10\u001b[39m]:\n\u001b[1;32m----> 3\u001b[0m     \u001b[38;5;28mprint\u001b[39m(\u001b[43mi\u001b[49m\u001b[38;5;241;43m*\u001b[39;49m\u001b[38;5;241;43m*\u001b[39;49m\u001b[38;5;241;43m2\u001b[39;49m)\n",
      "\u001b[1;31mTypeError\u001b[0m: unsupported operand type(s) for ** or pow(): 'str' and 'int'"
     ]
    }
   ],
   "source": [
    "# Handle the exception thrown by the code below by using try and except blocks:\n",
    "for i in ['a',20,'b',100,'c', 10]:\n",
    "    print(i**2)"
   ]
  },
  {
   "cell_type": "code",
   "execution_count": 49,
   "metadata": {},
   "outputs": [
    {
     "name": "stdout",
     "output_type": "stream",
     "text": [
      "'a' is not a number.\n",
      "20^2 is: 400\n",
      "'b' is not a number.\n",
      "100^2 is: 10000\n",
      "'c' is not a number.\n",
      "10^2 is: 100\n"
     ]
    }
   ],
   "source": [
    "# My solution:\n",
    "for i in ['a',20,'b',100,'c', 10]:\n",
    "    try:\n",
    "        val = i**2\n",
    "    except:\n",
    "        print(f\"'{i}' is not a number.\")\n",
    "    else:\n",
    "        print(f\"{i}^2 is: {val}\")"
   ]
  },
  {
   "cell_type": "markdown",
   "metadata": {},
   "source": [
    "### Excercise 02:"
   ]
  },
  {
   "cell_type": "code",
   "execution_count": 51,
   "metadata": {},
   "outputs": [],
   "source": [
    "# Ask constantly for an input number until there is an integer input, \n",
    "# then print a square root of a number,\n",
    "# otherwise handle the error messages:"
   ]
  },
  {
   "cell_type": "code",
   "execution_count": 2,
   "metadata": {},
   "outputs": [
    {
     "name": "stdout",
     "output_type": "stream",
     "text": [
      "The input value 'a' is not an integer. Please try again!\n",
      "The input value 'g' is not an integer. Please try again!\n",
      "The input value 't' is not an integer. Please try again!\n",
      "The input value 'hello' is not an integer. Please try again!\n",
      "The input value is: 25 and its square root is: 5.0\n"
     ]
    }
   ],
   "source": [
    "# My solution:\n",
    "def askint():\n",
    "    while True:\n",
    "        i = input(\"Please input a number: \")\n",
    "        try:\n",
    "            val = int(i)\n",
    "        except:\n",
    "            print(f\"The input value '{i}' is not an integer. Please try again!\")\n",
    "        else:\n",
    "            print(f\"The input value is: {val} and its square root is: {val**0.5}\")\n",
    "            break\n",
    "            \n",
    "askint()"
   ]
  },
  {
   "cell_type": "markdown",
   "metadata": {},
   "source": [
    "## Assertion error"
   ]
  },
  {
   "cell_type": "markdown",
   "metadata": {},
   "source": [
    "**Programming concept** used when **writing a code** where the user declares a **condition** to be **true** using **assert statement** prior to running the module. If the condition is True, the control simply moves to the next line of code. In case if it is **False** the program stops running and returns **AssertionError exception**. \n",
    "\n",
    "The function of assert statement is the same irrespective of the language in which it is implemented, it is a **language-independent concept**, only the syntax varies with the programming language. "
   ]
  },
  {
   "cell_type": "markdown",
   "metadata": {},
   "source": [
    "### Example 01"
   ]
  },
  {
   "cell_type": "code",
   "execution_count": 6,
   "metadata": {},
   "outputs": [
    {
     "ename": "AssertionError",
     "evalue": "Invalid Operation",
     "output_type": "error",
     "traceback": [
      "\u001b[1;31m---------------------------------------------------------------------------\u001b[0m",
      "\u001b[1;31mAssertionError\u001b[0m                            Traceback (most recent call last)",
      "Cell \u001b[1;32mIn[6], line 5\u001b[0m\n\u001b[0;32m      2\u001b[0m x \u001b[38;5;241m=\u001b[39m \u001b[38;5;241m1\u001b[39m\n\u001b[0;32m      3\u001b[0m y \u001b[38;5;241m=\u001b[39m \u001b[38;5;241m0\u001b[39m\n\u001b[1;32m----> 5\u001b[0m \u001b[38;5;28;01massert\u001b[39;00m (y \u001b[38;5;241m!=\u001b[39m \u001b[38;5;241m0\u001b[39m), \u001b[38;5;124m\"\u001b[39m\u001b[38;5;124mInvalid Operation\u001b[39m\u001b[38;5;124m\"\u001b[39m \u001b[38;5;66;03m# denominator can't be 0\u001b[39;00m\n\u001b[0;32m      6\u001b[0m \u001b[38;5;28mprint\u001b[39m(x \u001b[38;5;241m/\u001b[39m y)\n",
      "\u001b[1;31mAssertionError\u001b[0m: Invalid Operation"
     ]
    }
   ],
   "source": [
    "# AssertionError with error_message.\n",
    "x = 1\n",
    "y = 0\n",
    "\n",
    "assert (y != 0), \"Invalid Operation\" # denominator can't be 0\n",
    "print(x / y)"
   ]
  },
  {
   "cell_type": "markdown",
   "metadata": {},
   "source": [
    "### Example 02"
   ]
  },
  {
   "cell_type": "code",
   "execution_count": 9,
   "metadata": {},
   "outputs": [
    {
     "name": "stdout",
     "output_type": "stream",
     "text": [
      "y parameter cannot be zero\n"
     ]
    }
   ],
   "source": [
    "# Handling error using try-except and assert manually:\n",
    "try:\n",
    "    x = 1\n",
    "    y = 0\n",
    "    assert (y != 0), \"y parameter cannot be zero\"\n",
    "    print(x / y)\n",
    " \n",
    "# The specified errror_message gets printed:\n",
    "except AssertionError as msg: \n",
    "    print(msg)"
   ]
  },
  {
   "cell_type": "markdown",
   "metadata": {},
   "source": [
    "### Example 03"
   ]
  },
  {
   "cell_type": "markdown",
   "metadata": {},
   "source": [
    "Using `assert` together with `try`-`except` can raise only a desired `AssertionError` (a specified error message, not all types of errors):"
   ]
  },
  {
   "cell_type": "code",
   "execution_count": 22,
   "metadata": {},
   "outputs": [
    {
     "name": "stdout",
     "output_type": "stream",
     "text": [
      "Coefficient 'a' is 0 (equation is linear, not quadratic)!\n",
      "Roots are imaginary!\n",
      "The roots of the quadratic equation are: a = -3.0, b = -3.0.\n"
     ]
    }
   ],
   "source": [
    "# Creating a function for calculation of roots of a quadratic equation (a*x^2 + b*x + c = 0):\n",
    "import math\n",
    "def quadratic_roots(a, b, c):\n",
    "    try:\n",
    "        assert a != 0, \"Coefficient 'a' is 0 (equation is linear, not quadratic)!\"\n",
    "        \n",
    "        D = (b**2 - 4*a*c)\n",
    "        assert D >= 0, \"Roots are imaginary!\"\n",
    "        \n",
    "        r1 = (-b + math.sqrt(D))/(2*a)\n",
    "        r2 = (-b - math.sqrt(D))/(2*a)\n",
    "        print(f\"The roots of the quadratic equation are: a = {r1}, b = {r2}.\")\n",
    "    \n",
    "    except AssertionError as msg:\n",
    "        print(msg)\n",
    "        \n",
    "# Testing the function:\n",
    "quadratic_roots(0, 5, -6)\n",
    "quadratic_roots(1, 1, 6)\n",
    "quadratic_roots(2, 12, 18)"
   ]
  },
  {
   "cell_type": "markdown",
   "metadata": {},
   "source": [
    "# Tests of code (Unit testing):"
   ]
  },
  {
   "cell_type": "markdown",
   "metadata": {},
   "source": [
    "## Simple tools - style checks:\n",
    "- [pylint](https://www.pylint.org/)\n",
    "- [pyflakes](https://pypi.python.org/pypi/pyflakes/)\n",
    "- [pep8](https://pypi.python.org/pypi/pep8)"
   ]
  },
  {
   "cell_type": "markdown",
   "metadata": {},
   "source": [
    "### pylint"
   ]
  },
  {
   "cell_type": "code",
   "execution_count": 4,
   "metadata": {},
   "outputs": [
    {
     "name": "stdout",
     "output_type": "stream",
     "text": [
      "Collecting pylint\n",
      "  Downloading pylint-3.1.0-py3-none-any.whl.metadata (12 kB)\n",
      "Requirement already satisfied: platformdirs>=2.2.0 in c:\\users\\jakub.cajzl\\appdata\\roaming\\python\\python312\\site-packages (from pylint) (4.2.0)\n",
      "Collecting astroid<=3.2.0-dev0,>=3.1.0 (from pylint)\n",
      "  Downloading astroid-3.1.0-py3-none-any.whl.metadata (4.5 kB)\n",
      "Collecting isort!=5.13.0,<6,>=4.2.5 (from pylint)\n",
      "  Downloading isort-5.13.2-py3-none-any.whl.metadata (12 kB)\n",
      "Collecting mccabe<0.8,>=0.6 (from pylint)\n",
      "  Downloading mccabe-0.7.0-py2.py3-none-any.whl.metadata (5.0 kB)\n",
      "Collecting tomlkit>=0.10.1 (from pylint)\n",
      "  Downloading tomlkit-0.12.4-py3-none-any.whl.metadata (2.7 kB)\n",
      "Collecting dill>=0.3.6 (from pylint)\n",
      "  Downloading dill-0.3.8-py3-none-any.whl.metadata (10 kB)\n",
      "Requirement already satisfied: colorama>=0.4.5 in c:\\users\\jakub.cajzl\\appdata\\roaming\\python\\python312\\site-packages (from pylint) (0.4.6)\n",
      "Downloading pylint-3.1.0-py3-none-any.whl (515 kB)\n",
      "   ---------------------------------------- 0.0/515.6 kB ? eta -:--:--\n",
      "   -------------- ------------------------- 184.3/515.6 kB 5.6 MB/s eta 0:00:01\n",
      "   ---------------------------------------  512.0/515.6 kB 8.0 MB/s eta 0:00:01\n",
      "   ---------------------------------------- 515.6/515.6 kB 6.5 MB/s eta 0:00:00\n",
      "Downloading astroid-3.1.0-py3-none-any.whl (275 kB)\n",
      "   ---------------------------------------- 0.0/275.6 kB ? eta -:--:--\n",
      "   ---------------------------------------- 275.6/275.6 kB 8.3 MB/s eta 0:00:00\n",
      "Downloading dill-0.3.8-py3-none-any.whl (116 kB)\n",
      "   ---------------------------------------- 0.0/116.3 kB ? eta -:--:--\n",
      "   ---------------------------------------- 116.3/116.3 kB 6.6 MB/s eta 0:00:00\n",
      "Downloading isort-5.13.2-py3-none-any.whl (92 kB)\n",
      "   ---------------------------------------- 0.0/92.3 kB ? eta -:--:--\n",
      "   ---------------------------------------- 92.3/92.3 kB 5.1 MB/s eta 0:00:00\n",
      "Downloading mccabe-0.7.0-py2.py3-none-any.whl (7.3 kB)\n",
      "Downloading tomlkit-0.12.4-py3-none-any.whl (37 kB)\n",
      "Installing collected packages: tomlkit, mccabe, isort, dill, astroid, pylint\n",
      "Successfully installed astroid-3.1.0 dill-0.3.8 isort-5.13.2 mccabe-0.7.0 pylint-3.1.0 tomlkit-0.12.4\n"
     ]
    }
   ],
   "source": [
    "# pylint tests for style as well as some very basic program logic\n",
    "! pip install pylint"
   ]
  },
  {
   "cell_type": "code",
   "execution_count": null,
   "metadata": {},
   "outputs": [],
   "source": [
    "# Writing a test file:"
   ]
  },
  {
   "cell_type": "code",
   "execution_count": 25,
   "metadata": {},
   "outputs": [
    {
     "name": "stdout",
     "output_type": "stream",
     "text": [
      "Writing file_1.py\n"
     ]
    }
   ],
   "source": [
    "%%writefile file_1.py\n",
    "a = 1\n",
    "b = 2\n",
    "print(a)\n",
    "print(B)"
   ]
  },
  {
   "cell_type": "code",
   "execution_count": 26,
   "metadata": {},
   "outputs": [
    {
     "name": "stdout",
     "output_type": "stream",
     "text": [
      "************* Module file_1\n",
      "file_1.py:1:0: C0114: Missing module docstring (missing-module-docstring)\n",
      "file_1.py:1:0: C0103: Constant name \"a\" doesn't conform to UPPER_CASE naming style (invalid-name)\n",
      "file_1.py:2:0: C0103: Constant name \"b\" doesn't conform to UPPER_CASE naming style (invalid-name)\n",
      "file_1.py:4:6: E0602: Undefined variable 'B' (undefined-variable)\n",
      "\n",
      "-----------------------------------\n",
      "Your code has been rated at 0.00/10\n",
      "\n"
     ]
    }
   ],
   "source": [
    "# Checking a test file:\n",
    "! pylint file_1.py"
   ]
  },
  {
   "cell_type": "code",
   "execution_count": 15,
   "metadata": {},
   "outputs": [],
   "source": [
    "# Writing a better test file:"
   ]
  },
  {
   "cell_type": "code",
   "execution_count": 27,
   "metadata": {},
   "outputs": [
    {
     "name": "stdout",
     "output_type": "stream",
     "text": [
      "Overwriting file_1.py\n"
     ]
    }
   ],
   "source": [
    "%%writefile file_1.py\n",
    "\n",
    "'''\n",
    "A very simple script.\n",
    "'''\n",
    "\n",
    "def myfunc():\n",
    "    '''\n",
    "    An extremely simple function.\n",
    "    '''\n",
    "    first = 1\n",
    "    second = 2\n",
    "    print(first)\n",
    "    print(second)\n",
    "\n",
    "myfunc()"
   ]
  },
  {
   "cell_type": "code",
   "execution_count": 28,
   "metadata": {},
   "outputs": [
    {
     "name": "stdout",
     "output_type": "stream",
     "text": [
      "\n",
      "--------------------------------------------------------------------\n",
      "Your code has been rated at 10.00/10 (previous run: 0.00/10, +10.00)\n",
      "\n"
     ]
    }
   ],
   "source": [
    "# Checking a test file:\n",
    "! pylint file_1.py"
   ]
  },
  {
   "cell_type": "markdown",
   "metadata": {},
   "source": [
    "## Advanced tools - unit testing:\n",
    "- [unittest](https://docs.python.org/3/library/unittest.html)\n",
    "- [doctest](https://docs.python.org/3/library/doctest.html)"
   ]
  },
  {
   "cell_type": "markdown",
   "metadata": {},
   "source": [
    "### unittest"
   ]
  },
  {
   "cell_type": "code",
   "execution_count": 18,
   "metadata": {},
   "outputs": [],
   "source": [
    "# Writing a file:"
   ]
  },
  {
   "cell_type": "code",
   "execution_count": 29,
   "metadata": {},
   "outputs": [
    {
     "name": "stdout",
     "output_type": "stream",
     "text": [
      "Writing file_2.py\n"
     ]
    }
   ],
   "source": [
    "%%writefile file_2.py\n",
    "def cap_text(text):\n",
    "    return text.capitalize()"
   ]
  },
  {
   "cell_type": "code",
   "execution_count": null,
   "metadata": {},
   "outputs": [],
   "source": [
    "# Writing a test of the file:"
   ]
  },
  {
   "cell_type": "code",
   "execution_count": 30,
   "metadata": {},
   "outputs": [
    {
     "name": "stdout",
     "output_type": "stream",
     "text": [
      "Writing file_2_test.py\n"
     ]
    }
   ],
   "source": [
    "%%writefile file_2_test.py\n",
    "import unittest\n",
    "import file_2\n",
    "\n",
    "class TestCap(unittest.TestCase):\n",
    "    \n",
    "    def test_one_word(self):\n",
    "        text = 'python'\n",
    "        result = file_2.cap_text(text)\n",
    "        self.assertEqual(result, 'Python')\n",
    "        \n",
    "    def test_multiple_words(self):\n",
    "        text = 'monty python'\n",
    "        result = file_2.cap_text(text)\n",
    "        self.assertEqual(result, 'Monty Python')\n",
    "        \n",
    "if __name__ == '__main__':\n",
    "    unittest.main()"
   ]
  },
  {
   "cell_type": "code",
   "execution_count": 38,
   "metadata": {},
   "outputs": [],
   "source": [
    "# Running a test:"
   ]
  },
  {
   "cell_type": "code",
   "execution_count": 34,
   "metadata": {},
   "outputs": [
    {
     "name": "stderr",
     "output_type": "stream",
     "text": [
      "F.\n",
      "======================================================================\n",
      "FAIL: test_multiple_words (__main__.TestCap.test_multiple_words)\n",
      "----------------------------------------------------------------------\n",
      "Traceback (most recent call last):\n",
      "  File \"c:\\Users\\Jakub.Cajzl\\OneDrive - Adastra, s.r.o\\Work\\Projects\\00_Learning\\Python\\GitLab\\learning-python\\file_2_test.py\", line 14, in test_multiple_words\n",
      "    self.assertEqual(result, 'Monty Python')\n",
      "AssertionError: 'Monty python' != 'Monty Python'\n",
      "- Monty python\n",
      "?       ^\n",
      "+ Monty Python\n",
      "?       ^\n",
      "\n",
      "\n",
      "----------------------------------------------------------------------\n",
      "Ran 2 tests in 0.001s\n",
      "\n",
      "FAILED (failures=1)\n"
     ]
    }
   ],
   "source": [
    "! python file_2_test.py"
   ]
  },
  {
   "cell_type": "code",
   "execution_count": 35,
   "metadata": {},
   "outputs": [],
   "source": [
    "# .capitalize() is capitalizing only the first word in a string, not every word. \n",
    "# Let's use .title():"
   ]
  },
  {
   "cell_type": "code",
   "execution_count": 36,
   "metadata": {},
   "outputs": [
    {
     "name": "stdout",
     "output_type": "stream",
     "text": [
      "Overwriting file_2.py\n"
     ]
    }
   ],
   "source": [
    "%%writefile file_2.py\n",
    "def cap_text(text):\n",
    "    return text.title()"
   ]
  },
  {
   "cell_type": "code",
   "execution_count": null,
   "metadata": {},
   "outputs": [],
   "source": [
    "# Writing a test of the file:"
   ]
  },
  {
   "cell_type": "code",
   "execution_count": 37,
   "metadata": {},
   "outputs": [
    {
     "name": "stdout",
     "output_type": "stream",
     "text": [
      "Overwriting file_2_test.py\n"
     ]
    }
   ],
   "source": [
    "%%writefile file_2_test.py\n",
    "import unittest\n",
    "import file_2\n",
    "\n",
    "class TestCap(unittest.TestCase):\n",
    "    \n",
    "    def test_one_word(self):\n",
    "        text = 'python'\n",
    "        result = file_2.cap_text(text)\n",
    "        self.assertEqual(result, 'Python')\n",
    "        \n",
    "    def test_multiple_words(self):\n",
    "        text = 'monty python'\n",
    "        result = file_2.cap_text(text)\n",
    "        self.assertEqual(result, 'Monty Python')\n",
    "        \n",
    "if __name__ == '__main__':\n",
    "    unittest.main()"
   ]
  },
  {
   "cell_type": "code",
   "execution_count": 39,
   "metadata": {},
   "outputs": [],
   "source": [
    "# Running a test:"
   ]
  },
  {
   "cell_type": "code",
   "execution_count": 40,
   "metadata": {},
   "outputs": [
    {
     "name": "stderr",
     "output_type": "stream",
     "text": [
      "..\n",
      "----------------------------------------------------------------------\n",
      "Ran 2 tests in 0.000s\n",
      "\n",
      "OK\n"
     ]
    }
   ],
   "source": [
    "! python file_2_test.py"
   ]
  },
  {
   "cell_type": "code",
   "execution_count": 41,
   "metadata": {},
   "outputs": [],
   "source": [
    "# Now it's OK!"
   ]
  },
  {
   "cell_type": "code",
   "execution_count": null,
   "metadata": {},
   "outputs": [],
   "source": [
    "# But let's try another test - words with apostrophes:"
   ]
  },
  {
   "cell_type": "code",
   "execution_count": null,
   "metadata": {},
   "outputs": [],
   "source": [
    "# Writing a test of the file:"
   ]
  },
  {
   "cell_type": "code",
   "execution_count": 42,
   "metadata": {},
   "outputs": [
    {
     "name": "stdout",
     "output_type": "stream",
     "text": [
      "Overwriting file_2_test.py\n"
     ]
    }
   ],
   "source": [
    "%%writefile file_2_test.py\n",
    "import unittest\n",
    "import file_2\n",
    "\n",
    "class TestCap(unittest.TestCase):\n",
    "    \n",
    "    def test_one_word(self):\n",
    "        text = 'python'\n",
    "        result = file_2.cap_text(text)\n",
    "        self.assertEqual(result, 'Python')\n",
    "        \n",
    "    def test_multiple_words(self):\n",
    "        text = 'monty python'\n",
    "        result = file_2.cap_text(text)\n",
    "        self.assertEqual(result, 'Monty Python')\n",
    "        \n",
    "    def test_with_apostrophes(self):\n",
    "        text = \"monty python's flying circus\"\n",
    "        result = file_2.cap_text(text)\n",
    "        self.assertEqual(result, \"Monty Python's Flying Circus\")\n",
    "        \n",
    "if __name__ == '__main__':\n",
    "    unittest.main()"
   ]
  },
  {
   "cell_type": "code",
   "execution_count": null,
   "metadata": {},
   "outputs": [],
   "source": [
    "# Running a test:"
   ]
  },
  {
   "cell_type": "code",
   "execution_count": 43,
   "metadata": {},
   "outputs": [
    {
     "name": "stderr",
     "output_type": "stream",
     "text": [
      "..F\n",
      "======================================================================\n",
      "FAIL: test_with_apostrophes (__main__.TestCap.test_with_apostrophes)\n",
      "----------------------------------------------------------------------\n",
      "Traceback (most recent call last):\n",
      "  File \"c:\\Users\\Jakub.Cajzl\\OneDrive - Adastra, s.r.o\\Work\\Projects\\00_Learning\\Python\\GitLab\\learning-python\\file_2_test.py\", line 19, in test_with_apostrophes\n",
      "    self.assertEqual(result, \"Monty Python's Flying Circus\")\n",
      "AssertionError: \"Monty Python'S Flying Circus\" != \"Monty Python's Flying Circus\"\n",
      "- Monty Python'S Flying Circus\n",
      "?              ^\n",
      "+ Monty Python's Flying Circus\n",
      "?              ^\n",
      "\n",
      "\n",
      "----------------------------------------------------------------------\n",
      "Ran 3 tests in 0.002s\n",
      "\n",
      "FAILED (failures=1)\n"
     ]
    }
   ],
   "source": [
    "! python file_2_test.py"
   ]
  },
  {
   "cell_type": "code",
   "execution_count": 44,
   "metadata": {},
   "outputs": [],
   "source": [
    "# Writing a corrected file using .capwords():"
   ]
  },
  {
   "cell_type": "code",
   "execution_count": 60,
   "metadata": {},
   "outputs": [
    {
     "name": "stdout",
     "output_type": "stream",
     "text": [
      "Overwriting file_2.py\n"
     ]
    }
   ],
   "source": [
    "%%writefile file_2.py\n",
    "import string\n",
    "def cap_text(text):\n",
    "    return string.capwords(text)"
   ]
  },
  {
   "cell_type": "code",
   "execution_count": 61,
   "metadata": {},
   "outputs": [],
   "source": [
    "# Running a test:"
   ]
  },
  {
   "cell_type": "code",
   "execution_count": 62,
   "metadata": {},
   "outputs": [
    {
     "name": "stderr",
     "output_type": "stream",
     "text": [
      "...\n",
      "----------------------------------------------------------------------\n",
      "Ran 3 tests in 0.000s\n",
      "\n",
      "OK\n"
     ]
    }
   ],
   "source": [
    "! python file_2_test.py"
   ]
  },
  {
   "cell_type": "code",
   "execution_count": 63,
   "metadata": {},
   "outputs": [],
   "source": [
    "# Now, all tests are good!"
   ]
  },
  {
   "cell_type": "markdown",
   "metadata": {},
   "source": [
    "# Code execution time:"
   ]
  },
  {
   "cell_type": "markdown",
   "metadata": {},
   "source": [
    "## **.time()** method:"
   ]
  },
  {
   "cell_type": "code",
   "execution_count": null,
   "metadata": {},
   "outputs": [],
   "source": [
    "def func_one(n):\n",
    "    '''\n",
    "    Given a number n, return a list of string integers\n",
    "    ['0','1','2',...'n]\n",
    "    '''\n",
    "    return [str(num) for num in range(n)]\n",
    "    #return [num for num in range(n)]"
   ]
  },
  {
   "cell_type": "code",
   "execution_count": null,
   "metadata": {},
   "outputs": [],
   "source": [
    "def func_two(n):\n",
    "    '''\n",
    "    Given a number n, return a list of string integers\n",
    "    ['0','1','2',...'n]\n",
    "    '''\n",
    "    return list( map(str, range(n)) )"
   ]
  },
  {
   "cell_type": "code",
   "execution_count": null,
   "metadata": {},
   "outputs": [
    {
     "name": "stdout",
     "output_type": "stream",
     "text": [
      "The code execution time for func_one() is: 0.09102272987365723 seconds\n"
     ]
    }
   ],
   "source": [
    "# Calculating execution time for func_one():\n",
    "import time\n",
    "\n",
    "# Start the timer:\n",
    "start_time = time.time()\n",
    "\n",
    "# Code to evaluate:\n",
    "result = func_one(1000000)\n",
    "\n",
    "# End the timer:\n",
    "end_time = time.time()\n",
    "\n",
    "# Calculate the execution time:\n",
    "execution_time_f1 = end_time - start_time\n",
    "print(f\"The code execution time for func_one() is: {execution_time_f1} seconds\")"
   ]
  },
  {
   "cell_type": "code",
   "execution_count": null,
   "metadata": {},
   "outputs": [
    {
     "name": "stdout",
     "output_type": "stream",
     "text": [
      "The code execution time for func_two() is: 0.11408853530883789 seconds\n"
     ]
    }
   ],
   "source": [
    "# Calculating execution time for func_two():\n",
    "import time\n",
    "\n",
    "# Start the timer:\n",
    "start_time = time.time()\n",
    "\n",
    "# Code to evaluate:\n",
    "result = func_two(1000000)\n",
    "\n",
    "# End the timer:\n",
    "end_time = time.time()\n",
    "\n",
    "# Calculate the execution time:\n",
    "execution_time_f2 = end_time - start_time\n",
    "print(f\"The code execution time for func_two() is: {execution_time_f2} seconds\")"
   ]
  },
  {
   "cell_type": "code",
   "execution_count": null,
   "metadata": {},
   "outputs": [
    {
     "name": "stdout",
     "output_type": "stream",
     "text": [
      "The func_one() is 25.3% faster than func_two()!\n"
     ]
    }
   ],
   "source": [
    "difference = ((execution_time_f2-execution_time_f1)/execution_time_f1)*100\n",
    "\n",
    "if difference >=0:\n",
    "    print(f\"The func_one() is {difference:.1f}% faster than func_two()!\")\n",
    "else:\n",
    "    print(f\"The func_two() is {difference:.1f}% faster than func_one()!\")"
   ]
  },
  {
   "cell_type": "markdown",
   "metadata": {},
   "source": [
    "## **.timeit()** method:"
   ]
  },
  {
   "cell_type": "markdown",
   "metadata": {},
   "source": [
    "`.timeit()` provides higher resolution for fast codes where `.time()` doesn't work"
   ]
  },
  {
   "cell_type": "markdown",
   "metadata": {},
   "source": [
    "### Simple example:"
   ]
  },
  {
   "cell_type": "code",
   "execution_count": 5,
   "metadata": {},
   "outputs": [
    {
     "name": "stdout",
     "output_type": "stream",
     "text": [
      "11.1 µs ± 73.8 ns per loop (mean ± std. dev. of 7 runs, 100,000 loops each)\n"
     ]
    }
   ],
   "source": [
    "# NumPy array of 20 random numbers using NumPy randint():\n",
    "import numpy as np\n",
    "\n",
    "%timeit np.random.randint(0,100,20)"
   ]
  },
  {
   "cell_type": "code",
   "execution_count": 9,
   "metadata": {},
   "outputs": [
    {
     "name": "stdout",
     "output_type": "stream",
     "text": [
      "11.1 µs ± 115 ns per loop (mean ± std. dev. of 7 runs, 100,000 loops each)\n"
     ]
    }
   ],
   "source": [
    "# NumPy array of 20 random numbers using NumPy numpy.random.Generator.integers:\n",
    "rng = np.random.default_rng()\n",
    "%timeit rng.integers(0,100,20)"
   ]
  },
  {
   "cell_type": "code",
   "execution_count": 6,
   "metadata": {},
   "outputs": [
    {
     "name": "stdout",
     "output_type": "stream",
     "text": [
      "76.7 µs ± 3.54 µs per loop (mean ± std. dev. of 7 runs, 10,000 loops each)\n"
     ]
    }
   ],
   "source": [
    "# NumPy array of 20 random numbers using Random randint():\n",
    "from random import randint\n",
    "\n",
    "%timeit np.array([randint(0,20) for num in range(0,100)])"
   ]
  },
  {
   "cell_type": "code",
   "execution_count": 14,
   "metadata": {},
   "outputs": [
    {
     "name": "stdout",
     "output_type": "stream",
     "text": [
      "89 µs ± 912 ns per loop (mean ± std. dev. of 7 runs, 10,000 loops each)\n"
     ]
    }
   ],
   "source": [
    "# Pandas DataFrame of 20 random numbers using randint():\n",
    "import pandas as pd\n",
    "%timeit pd.DataFrame(np.random.randint(0,100,20), columns=['Column_1'])"
   ]
  },
  {
   "cell_type": "markdown",
   "metadata": {},
   "source": [
    "### More complex examples:"
   ]
  },
  {
   "cell_type": "code",
   "execution_count": null,
   "metadata": {},
   "outputs": [
    {
     "name": "stdout",
     "output_type": "stream",
     "text": [
      "The code execution time for func_one() is: 0.000862 seconds, i.e. 862 µs\n"
     ]
    }
   ],
   "source": [
    "import timeit\n",
    "\n",
    "# Defining function:\n",
    "setup = '''\n",
    "def func_one(n):\n",
    "    return [str(num) for num in range(n)]\n",
    "'''\n",
    "\n",
    "# Function to be evaluated:\n",
    "stmt = 'func_one(100)'\n",
    "\n",
    "# Number of runs:\n",
    "runs = 100\n",
    "\n",
    "execution_time_f1 = timeit.timeit(stmt, setup, number=runs)\n",
    "print(f\"The code execution time for func_one() is: {execution_time_f1:.6f} seconds, i.e. {execution_time_f1*1000000:.0f} µs\")"
   ]
  },
  {
   "cell_type": "code",
   "execution_count": null,
   "metadata": {},
   "outputs": [
    {
     "name": "stdout",
     "output_type": "stream",
     "text": [
      "The code execution time for func_two() is: 0.000758 seconds, i.e. 758 µs\n"
     ]
    }
   ],
   "source": [
    "setup2 = '''\n",
    "def func_two(n):\n",
    "    return list(map(str,range(n)))\n",
    "'''\n",
    "# Function to be evaluated:\n",
    "stmt2 = 'func_two(100)'\n",
    "\n",
    "# Number of runs:\n",
    "runs = 100\n",
    "\n",
    "execution_time_f2 = timeit.timeit(stmt2, setup2, number=runs)\n",
    "print(f\"The code execution time for func_two() is: {execution_time_f2:.6f} seconds, i.e. {execution_time_f2*1000000:.0f} µs\")"
   ]
  },
  {
   "cell_type": "code",
   "execution_count": null,
   "metadata": {},
   "outputs": [
    {
     "name": "stdout",
     "output_type": "stream",
     "text": [
      "The func_one() is 21.0% faster than func_two()!\n"
     ]
    }
   ],
   "source": [
    "difference = ((execution_time_f2-execution_time_f1)/execution_time_f1)*100\n",
    "\n",
    "if difference >=0:\n",
    "    print(f\"The func_one() is {difference:.1f}% faster than func_two()!\")\n",
    "else:\n",
    "    print(f\"The func_two() is {difference:.1f}% faster than func_one()!\")"
   ]
  }
 ],
 "metadata": {
  "kernelspec": {
   "display_name": "Python 3",
   "language": "python",
   "name": "python3"
  },
  "language_info": {
   "codemirror_mode": {
    "name": "ipython",
    "version": 3
   },
   "file_extension": ".py",
   "mimetype": "text/x-python",
   "name": "python",
   "nbconvert_exporter": "python",
   "pygments_lexer": "ipython3",
   "version": "3.12.3"
  }
 },
 "nbformat": 4,
 "nbformat_minor": 2
}
