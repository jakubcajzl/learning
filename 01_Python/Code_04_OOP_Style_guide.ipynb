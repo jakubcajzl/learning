{
 "cells": [
  {
   "cell_type": "markdown",
   "metadata": {},
   "source": [
    "# OOP (Object Oriented Programming) - Style guide"
   ]
  },
  {
   "cell_type": "markdown",
   "metadata": {},
   "source": [
    "Object-oriented programming is a programming paradigm that is based on the concept of \"objects\", which can contain data and code that manipulates that data. In OOP, objects are created from templates called \"classes\", which define the properties and behavior of the objects they create. OOP allows to create reusable code and model real-world concepts more closely, making it a popular choice for many software projects."
   ]
  },
  {
   "cell_type": "markdown",
   "metadata": {},
   "source": [
    "**OOP principles are defined by:**\n",
    "\n",
    "**1) Encapsulation**: Encapsulation refers to the **bundling of data and methods** that **operate on** the **data** within a **single unit**, known as an `object`. It hides the internal state of an object from the outside world and only exposes the necessary functionalities.\n",
    "   \n",
    "**2) Inheritance**: Inheritance allows a **class** (or object) to **inherit properties** and behaviors **from another class** (or object). This promotes code reuse and enables the creation of a hierarchical classification.\n",
    "   \n",
    "**3) Polymorphism**: Polymorphism allows **objects** to be **treated as instances** of their **parent class**, thereby allowing **different classes to be treated uniformly**. This enables flexibility and extensibility in code design.\n",
    "   \n",
    "**4) Abstraction**: Abstraction involves **simplifying complex reality** by **modeling classes** appropriate to the problem and ignoring irrelevant details. It allows developers to focus on high-level concepts without getting bogged down in implementation specifics."
   ]
  },
  {
   "cell_type": "markdown",
   "metadata": {},
   "source": [
    "**OOP in Python:**\n",
    "- using **`class` keyword**\n",
    "- class can contain many **methods** (i.e. functions) = **encapsulation**\n",
    "- in Python **everything** is an **object**\n",
    "\n",
    "- `class` are user defined objects created using the class keyword. From classes we can construct **instances** of a class - e.g. a = [1,2,3] is an instance of a *list* object.\n",
    "- **Names** of classes are by convention with **capital letters**, e.g. class Count\n",
    "- `class` can contain many **methods** (i.e. **functions**) = **encapsulation**, e.g. Dog.bark() where Dog is a class and .bark() is a method (function) that prints 'Woof' string.\n",
    "- `class` can have one or more **attributes** (i.e. **properties**), e.g. Dog.name where Dog is a class and name is an attribute of Dog\n",
    "- `class` contain special **method** called `__init__()`  (also known as a **constructor**) used to **initialize new objects**. All **attributes in a class** definition begins with a **reference to the instance object**. It is by convention named `self`.\n",
    "- `class` also contain the **class object attributes** - these are attributes **shared for all** the **methods** inside the class"
   ]
  },
  {
   "cell_type": "markdown",
   "metadata": {},
   "source": [
    "Differences between Python **functions** and **methods**:\n",
    "- **methods** are **functions** that act on an object in a **'dot-way'**: `object.method(args)`\n",
    "- **methods** are nested **inside classes**\n",
    "- **methods** need to have specified a `self` parameter (a connection to a main class)\n",
    "- **methods** have **attributes** from a class: `self.attribute`"
   ]
  },
  {
   "cell_type": "markdown",
   "metadata": {},
   "source": [
    "## Basic examples"
   ]
  },
  {
   "cell_type": "markdown",
   "metadata": {},
   "source": [
    "**Example 01:**"
   ]
  },
  {
   "cell_type": "code",
   "execution_count": 8,
   "metadata": {},
   "outputs": [],
   "source": [
    "# General example of a CLASS:\n",
    "class MyClass:\n",
    "    \n",
    "    def __init__(self, param1, param2):\n",
    "        self.param1 = param1\n",
    "        self.param2 = param2"
   ]
  },
  {
   "cell_type": "code",
   "execution_count": 13,
   "metadata": {},
   "outputs": [],
   "source": [
    "# Creating an INSTANCE of MyClass (i.e. inheritance principle):\n",
    "obj = MyClass(\"John\", 'Caroline')"
   ]
  },
  {
   "cell_type": "code",
   "execution_count": 14,
   "metadata": {},
   "outputs": [
    {
     "name": "stdout",
     "output_type": "stream",
     "text": [
      "John\n",
      "Caroline\n"
     ]
    }
   ],
   "source": [
    "# Accessing the ATTRIBUTES initialized in __init__()\n",
    "print(obj.param1)  # Output: Hello\n",
    "print(obj.param2)  # Output: 42"
   ]
  },
  {
   "cell_type": "markdown",
   "metadata": {},
   "source": [
    "**Example 02:**"
   ]
  },
  {
   "cell_type": "code",
   "execution_count": 55,
   "metadata": {},
   "outputs": [],
   "source": [
    "class Dog:  # Class name\n",
    "    \n",
    "    species = 'Mammal'  # Class object attribute\n",
    "    \n",
    "    # Initializing method (constructor) with default name value of 'Sammy':\n",
    "    def __init__(self, breed, name='Sammy'):  \n",
    "        self.breed = breed  # Attribute 1\n",
    "        self.name = name  # Attribute 2\n",
    "        \n",
    "    def bark(self):\n",
    "        print('Woof!')"
   ]
  },
  {
   "cell_type": "code",
   "execution_count": 60,
   "metadata": {},
   "outputs": [
    {
     "data": {
      "text/plain": [
       "'Sammy'"
      ]
     },
     "execution_count": 60,
     "metadata": {},
     "output_type": "execute_result"
    }
   ],
   "source": [
    "# Creating instance of the class Dog without specifying the name:\n",
    "dog = Dog(breed='Labrador')\n",
    "dog.name"
   ]
  },
  {
   "cell_type": "code",
   "execution_count": 62,
   "metadata": {},
   "outputs": [],
   "source": [
    "# Creating instances of the class Dog:\n",
    "sammy = Dog(breed='Labrador', name='Sammy')\n",
    "frank = Dog(breed='Husky', name='Frank')\n",
    "\n",
    "# Shorter version of the above:\n",
    "dog_01 = Dog('Labrador','Sammy')\n",
    "dog_02 = Dog('Husky','Frank')"
   ]
  },
  {
   "cell_type": "code",
   "execution_count": 36,
   "metadata": {},
   "outputs": [
    {
     "data": {
      "text/plain": [
       "'Labrador'"
      ]
     },
     "execution_count": 36,
     "metadata": {},
     "output_type": "execute_result"
    }
   ],
   "source": [
    "dog_01.breed"
   ]
  },
  {
   "cell_type": "code",
   "execution_count": 38,
   "metadata": {},
   "outputs": [
    {
     "data": {
      "text/plain": [
       "'Sammy'"
      ]
     },
     "execution_count": 38,
     "metadata": {},
     "output_type": "execute_result"
    }
   ],
   "source": [
    "dog_01.name"
   ]
  },
  {
   "cell_type": "code",
   "execution_count": 39,
   "metadata": {},
   "outputs": [
    {
     "data": {
      "text/plain": [
       "'Mammal'"
      ]
     },
     "execution_count": 39,
     "metadata": {},
     "output_type": "execute_result"
    }
   ],
   "source": [
    "dog_01.species"
   ]
  },
  {
   "cell_type": "code",
   "execution_count": 63,
   "metadata": {},
   "outputs": [
    {
     "name": "stdout",
     "output_type": "stream",
     "text": [
      "Woof!\n"
     ]
    }
   ],
   "source": [
    "# Calling the bark() function from the Dog class:\n",
    "dog_01.bark()"
   ]
  },
  {
   "cell_type": "markdown",
   "metadata": {},
   "source": [
    "**Example 03:**"
   ]
  },
  {
   "cell_type": "code",
   "execution_count": 65,
   "metadata": {},
   "outputs": [
    {
     "name": "stdout",
     "output_type": "stream",
     "text": [
      "Radius is:  1\n",
      "Area is:  3.14\n",
      "Circumference is:  6.28\n"
     ]
    }
   ],
   "source": [
    "class Circle:\n",
    "    pi = 3.14\n",
    "\n",
    "    # Circle gets instantiated with a radius (default is 1)\n",
    "    def __init__(self, radius=1):\n",
    "        self.radius = radius \n",
    "        self.area = radius * radius * Circle.pi\n",
    "\n",
    "    # Method for resetting Radius\n",
    "    def setRadius(self, new_radius):\n",
    "        self.radius = new_radius\n",
    "        self.area = new_radius * new_radius * self.pi\n",
    "\n",
    "    # Method for getting Circumference\n",
    "    def getCircumference(self):\n",
    "        return self.radius * self.pi * 2\n",
    "\n",
    "\n",
    "# Creating an instance of a class object (inheritance):\n",
    "c = Circle()\n",
    "\n",
    "# Using an istance in calculations:\n",
    "print('Radius is: ', c.radius)\n",
    "print('Area is: ', c.area)\n",
    "print('Circumference is: ', c.getCircumference())"
   ]
  },
  {
   "cell_type": "markdown",
   "metadata": {},
   "source": [
    "## Inheritance principle"
   ]
  },
  {
   "cell_type": "markdown",
   "metadata": {},
   "source": [
    "**Inheritance** is a way to form **new classes** using classes that have already been defined. The **newly formed classes** are called **derived classes**, the classes that we **derive from** are called **base classes**. \n",
    "\n",
    "Important **benefits** of **inheritance** are **code reuse** and **reduction of complexity** of a program. The derived classes (descendants) override or extend the functionality of base classes (ancestors)."
   ]
  },
  {
   "cell_type": "code",
   "execution_count": 66,
   "metadata": {},
   "outputs": [],
   "source": [
    "# New class definition:\n",
    "class Animal:\n",
    "    def __init__(self):\n",
    "        print(\"Animal created\")\n",
    "\n",
    "    def whoAmI(self):\n",
    "        print(\"Animal\")\n",
    "\n",
    "    def eat(self):\n",
    "        print(\"Eating\")\n",
    "\n",
    "# Another class definition using a previous class:\n",
    "class Dog(Animal):\n",
    "    def __init__(self):\n",
    "        Animal.__init__(self)\n",
    "        print(\"Dog created\")\n",
    "\n",
    "    def whoAmI(self):\n",
    "        print(\"Dog\")\n",
    "\n",
    "    def bark(self):\n",
    "        print(\"Woof!\")"
   ]
  },
  {
   "cell_type": "code",
   "execution_count": 67,
   "metadata": {},
   "outputs": [
    {
     "name": "stdout",
     "output_type": "stream",
     "text": [
      "Animal created\n",
      "Dog created\n"
     ]
    }
   ],
   "source": [
    "d = Dog()"
   ]
  },
  {
   "cell_type": "code",
   "execution_count": 68,
   "metadata": {},
   "outputs": [
    {
     "name": "stdout",
     "output_type": "stream",
     "text": [
      "Dog\n"
     ]
    }
   ],
   "source": [
    "d.whoAmI()"
   ]
  },
  {
   "cell_type": "code",
   "execution_count": 69,
   "metadata": {},
   "outputs": [
    {
     "name": "stdout",
     "output_type": "stream",
     "text": [
      "Eating\n"
     ]
    }
   ],
   "source": [
    "d.eat()"
   ]
  },
  {
   "cell_type": "code",
   "execution_count": 70,
   "metadata": {},
   "outputs": [
    {
     "name": "stdout",
     "output_type": "stream",
     "text": [
      "Woof!\n"
     ]
    }
   ],
   "source": [
    "d.bark()"
   ]
  },
  {
   "cell_type": "markdown",
   "metadata": {},
   "source": [
    "## Polymorphism principle"
   ]
  },
  {
   "cell_type": "markdown",
   "metadata": {},
   "source": [
    "While **functions** can take in different **arguments**, **methods** belong to the **objects** they act on. \n",
    "\n",
    "In Python, **polymorphism** refers to the **way** in which different object **classes** can **share the same method name**, and those **methods can be called** from the same place even though a variety of different objects might be passed in. "
   ]
  },
  {
   "cell_type": "code",
   "execution_count": 73,
   "metadata": {},
   "outputs": [],
   "source": [
    "# New class definitions that both have SPEAK() method:\n",
    "class Dog:\n",
    "    def __init__(self, name):\n",
    "        self.name = name\n",
    "\n",
    "    def speak(self):\n",
    "        return self.name + ' says Woof!'\n",
    "\n",
    "\n",
    "# Creating a class Cat that \n",
    "class Cat:\n",
    "    def __init__(self, name):\n",
    "        self.name = name\n",
    "\n",
    "    def speak(self):\n",
    "        return self.name + ' says Meow!'"
   ]
  },
  {
   "cell_type": "code",
   "execution_count": 78,
   "metadata": {},
   "outputs": [
    {
     "name": "stdout",
     "output_type": "stream",
     "text": [
      "Sammy says Woof!\n",
      "Lucy says Meow!\n"
     ]
    }
   ],
   "source": [
    "# Creating objects and calling the methods from above classes:\n",
    "dog = Dog('Sammy')\n",
    "cat = Cat('Lucy')\n",
    "\n",
    "print(dog.speak())\n",
    "print(cat.speak())"
   ]
  },
  {
   "cell_type": "markdown",
   "metadata": {},
   "source": [
    "We can call the shared method (function) using iteration in **FOR loop**:"
   ]
  },
  {
   "cell_type": "code",
   "execution_count": 81,
   "metadata": {},
   "outputs": [
    {
     "name": "stdout",
     "output_type": "stream",
     "text": [
      "Sammy says Woof!\n",
      "Lucy says Meow!\n"
     ]
    }
   ],
   "source": [
    "# Using a POLYMORPHISM principle with speak() method from both classes:\n",
    "# Iterating through a list of both classes and calling a speak() function \n",
    "# that both methods have the same:\n",
    "\n",
    "for pet in [dog, cat]:\n",
    "    print(pet.speak())"
   ]
  },
  {
   "cell_type": "markdown",
   "metadata": {},
   "source": [
    "We can also call a shared method from the **function**:"
   ]
  },
  {
   "cell_type": "code",
   "execution_count": 83,
   "metadata": {},
   "outputs": [
    {
     "name": "stdout",
     "output_type": "stream",
     "text": [
      "Lucy says Meow!\n",
      "Sammy says Woof!\n"
     ]
    }
   ],
   "source": [
    "# Defining a function:\n",
    "def pet_speak(pet):\n",
    "    print(pet.speak())\n",
    "\n",
    "# Calling a function:\n",
    "pet_speak(cat)\n",
    "pet_speak(dog)"
   ]
  },
  {
   "cell_type": "markdown",
   "metadata": {},
   "source": [
    "## Abstract classes and inheritance"
   ]
  },
  {
   "cell_type": "markdown",
   "metadata": {},
   "source": [
    "A more common practice is to use abstract classes and inheritance. An abstract class is one that never expects to be instantiated. For example, we will never have an Animal object, only Dog and Cat objects, although Dogs and Cats are derived from Animals:"
   ]
  },
  {
   "cell_type": "code",
   "execution_count": 84,
   "metadata": {},
   "outputs": [
    {
     "name": "stdout",
     "output_type": "stream",
     "text": [
      "Fido says Woof!\n",
      "Isis says Meow!\n"
     ]
    }
   ],
   "source": [
    "class Animal:\n",
    "    def __init__(self, name):    # Constructor of the class\n",
    "        self.name = name\n",
    "\n",
    "    def speak(self):              # Abstract method, defined by convention only\n",
    "        raise NotImplementedError(\"Subclass must implement abstract method\")\n",
    "\n",
    "\n",
    "class Dog(Animal):\n",
    "    \n",
    "    def speak(self):\n",
    "        return self.name+' says Woof!'\n",
    "    \n",
    "class Cat(Animal):\n",
    "\n",
    "    def speak(self):\n",
    "        return self.name+' says Meow!'\n",
    "    \n",
    "fido = Dog('Fido')\n",
    "isis = Cat('Isis')\n",
    "\n",
    "print(fido.speak())\n",
    "print(isis.speak())"
   ]
  },
  {
   "cell_type": "markdown",
   "metadata": {},
   "source": [
    "Real life examples of polymorphism include:\n",
    "\n",
    "- opening different file types - different tools are needed to display Word, pdf and Excel files\n",
    "- adding different objects - the + operator performs arithmetic and concatenation"
   ]
  },
  {
   "cell_type": "markdown",
   "metadata": {},
   "source": [
    "## Special Methods"
   ]
  },
  {
   "cell_type": "markdown",
   "metadata": {},
   "source": [
    "Finally let's go over special methods. Classes in Python can implement certain operations with special method names. These methods are not actually called directly but by Python specific language syntax. For example let's create a Book class:"
   ]
  },
  {
   "cell_type": "code",
   "execution_count": 85,
   "metadata": {},
   "outputs": [],
   "source": [
    "class Book:\n",
    "    def __init__(self, title, author, pages):\n",
    "        print(\"A book is created\")\n",
    "        self.title = title\n",
    "        self.author = author\n",
    "        self.pages = pages\n",
    "\n",
    "    def __str__(self):\n",
    "        return \"Title: %s, author: %s, pages: %s\" %(self.title, self.author, self.pages)\n",
    "\n",
    "    def __len__(self):\n",
    "        return self.pages\n",
    "\n",
    "    def __del__(self):\n",
    "        print(\"A book is destroyed\")"
   ]
  },
  {
   "cell_type": "code",
   "execution_count": 87,
   "metadata": {},
   "outputs": [
    {
     "name": "stdout",
     "output_type": "stream",
     "text": [
      "A book is created\n",
      "Title: Python Rocks!, author: John Smith, pages: 159\n",
      "159\n",
      "A book is destroyed\n"
     ]
    }
   ],
   "source": [
    "book = Book(\"Python Rocks!\", \"John Smith\", 159)\n",
    "\n",
    "#Special Methods:\n",
    "print(book)\n",
    "print(len(book))\n",
    "del book"
   ]
  },
  {
   "cell_type": "markdown",
   "metadata": {},
   "source": [
    "These **special methods** are **defined** by their use of **underscores**. They allow us to use Python specific functions on objects created through our class."
   ]
  },
  {
   "cell_type": "markdown",
   "metadata": {},
   "source": [
    "## Advanced Examples"
   ]
  },
  {
   "cell_type": "markdown",
   "metadata": {},
   "source": [
    "### 01"
   ]
  },
  {
   "cell_type": "markdown",
   "metadata": {},
   "source": [
    "Fill in the Line class methods to accept coordinates as a pair of tuples and return the slope and distance of the line."
   ]
  },
  {
   "cell_type": "code",
   "execution_count": 95,
   "metadata": {},
   "outputs": [],
   "source": [
    "class Line:\n",
    "    \n",
    "    def __init__(self, coor1, coor2):\n",
    "        pass\n",
    "    \n",
    "    def distance(self):\n",
    "        pass\n",
    "    \n",
    "    def slope(self):\n",
    "        pass"
   ]
  },
  {
   "cell_type": "code",
   "execution_count": 102,
   "metadata": {},
   "outputs": [],
   "source": [
    "coordinate1 = (3,2)\n",
    "coordinate2 = (8,10)\n",
    "\n",
    "li = Line(coordinate1, coordinate2)"
   ]
  },
  {
   "cell_type": "code",
   "execution_count": 103,
   "metadata": {},
   "outputs": [],
   "source": [
    "li.distance()"
   ]
  },
  {
   "cell_type": "code",
   "execution_count": 104,
   "metadata": {},
   "outputs": [],
   "source": [
    "li.slope()"
   ]
  },
  {
   "cell_type": "markdown",
   "metadata": {},
   "source": [
    "### 02"
   ]
  },
  {
   "cell_type": "code",
   "execution_count": 105,
   "metadata": {},
   "outputs": [],
   "source": [
    "class Cylinder:\n",
    "    \n",
    "    def __init__(self,height=1,radius=1):\n",
    "        pass\n",
    "        \n",
    "    def volume(self):\n",
    "        pass\n",
    "    \n",
    "    def surface_area(self):\n",
    "        pass"
   ]
  },
  {
   "cell_type": "code",
   "execution_count": 106,
   "metadata": {},
   "outputs": [],
   "source": [
    "c = Cylinder(2,3)"
   ]
  },
  {
   "cell_type": "code",
   "execution_count": 109,
   "metadata": {},
   "outputs": [],
   "source": [
    "c.volume()"
   ]
  },
  {
   "cell_type": "code",
   "execution_count": 110,
   "metadata": {},
   "outputs": [],
   "source": [
    "c.surface_area()"
   ]
  },
  {
   "cell_type": "code",
   "execution_count": null,
   "metadata": {},
   "outputs": [],
   "source": []
  }
 ],
 "metadata": {
  "kernelspec": {
   "display_name": "Python 3",
   "language": "python",
   "name": "python3"
  },
  "language_info": {
   "codemirror_mode": {
    "name": "ipython",
    "version": 3
   },
   "file_extension": ".py",
   "mimetype": "text/x-python",
   "name": "python",
   "nbconvert_exporter": "python",
   "pygments_lexer": "ipython3",
   "version": "3.12.3"
  }
 },
 "nbformat": 4,
 "nbformat_minor": 2
}
