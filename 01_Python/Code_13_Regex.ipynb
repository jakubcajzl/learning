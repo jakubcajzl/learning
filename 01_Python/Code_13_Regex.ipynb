{
 "cells": [
  {
   "cell_type": "markdown",
   "metadata": {},
   "source": [
    "# Regex (Regular Expressions)"
   ]
  },
  {
   "cell_type": "markdown",
   "metadata": {},
   "source": [
    "Regular Expressions (sometimes called regex for short) allows a user to search for **strings** using almost any sort of **rule** they can come up. For example, finding all capital letters in a string, or finding a phone number in a document.\n",
    "\n",
    "Regular expressions are notorious for their seemingly **complex syntax**. This strange syntax is a byproduct of their flexibility. Regular expressions have to be able to **filter out any string pattern** you can imagine, which is why they have a complex string pattern format.\n",
    "\n",
    "Regex in Python is in library `re`\n",
    "\n",
    "All the **Regex** info from the official **Python library**: [link](https://docs.python.org/3/howto/regex.html)"
   ]
  },
  {
   "cell_type": "code",
   "execution_count": 1,
   "metadata": {},
   "outputs": [],
   "source": [
    "# Importing a Python Regex library:\n",
    "import re"
   ]
  },
  {
   "cell_type": "markdown",
   "metadata": {},
   "source": [
    "## Simple Regex pattern searches in strings"
   ]
  },
  {
   "cell_type": "code",
   "execution_count": 5,
   "metadata": {},
   "outputs": [
    {
     "name": "stdout",
     "output_type": "stream",
     "text": [
      "True\n"
     ]
    },
    {
     "data": {
      "text/plain": [
       "<re.Match object; span=(12, 17), match='phone'>"
      ]
     },
     "execution_count": 5,
     "metadata": {},
     "output_type": "execute_result"
    }
   ],
   "source": [
    "# Example 01 - search of a word in a string:\n",
    "\n",
    "string = \"The agent's phone number is (555)-123-4567\"\n",
    "pattern = 'phone'\n",
    "\n",
    "# Using Python's 'in' clause:\n",
    "print('phone' in string)\n",
    "\n",
    "# Using Regex search (this outputs also a span = from-to indexes in a string):\n",
    "match = re.search(pattern, string)\n",
    "match"
   ]
  },
  {
   "cell_type": "code",
   "execution_count": 6,
   "metadata": {},
   "outputs": [
    {
     "name": "stdout",
     "output_type": "stream",
     "text": [
      "(12, 17)\n",
      "12\n",
      "17\n"
     ]
    }
   ],
   "source": [
    "# Outputting other valuable information - span, start and end:\n",
    "print( match.span() )\n",
    "print( match.start() )\n",
    "print( match.end() )"
   ]
  },
  {
   "cell_type": "code",
   "execution_count": 8,
   "metadata": {},
   "outputs": [
    {
     "data": {
      "text/plain": [
       "<re.Match object; span=(3, 8), match='phone'>"
      ]
     },
     "execution_count": 8,
     "metadata": {},
     "output_type": "execute_result"
    }
   ],
   "source": [
    "# Example 02 - pattern occuring more than once:\n",
    "string = \"my phone is a new phone\"\n",
    "match = re.search('phone', string)\n",
    "match  ## This outputs only one occurence."
   ]
  },
  {
   "cell_type": "code",
   "execution_count": 16,
   "metadata": {},
   "outputs": [
    {
     "name": "stdout",
     "output_type": "stream",
     "text": [
      "Occurences: ['phone', 'phone']\n",
      "Number of occurences: 2\n"
     ]
    }
   ],
   "source": [
    "matches = re.findall('phone', string)\n",
    "print('Occurences:', matches)\n",
    "print('Number of occurences:', len(matches))"
   ]
  },
  {
   "cell_type": "code",
   "execution_count": 17,
   "metadata": {},
   "outputs": [
    {
     "name": "stdout",
     "output_type": "stream",
     "text": [
      "(3, 8)\n",
      "(18, 23)\n"
     ]
    }
   ],
   "source": [
    "# Iterating through all the occurences:\n",
    "for match in re.finditer('phone', string):\n",
    "    print(match.span())"
   ]
  },
  {
   "cell_type": "code",
   "execution_count": 18,
   "metadata": {},
   "outputs": [
    {
     "data": {
      "text/plain": [
       "'phone'"
      ]
     },
     "execution_count": 18,
     "metadata": {},
     "output_type": "execute_result"
    }
   ],
   "source": [
    "# Returning only a matched text:\n",
    "match.group()"
   ]
  },
  {
   "cell_type": "markdown",
   "metadata": {},
   "source": [
    "## Regex **Patterns**"
   ]
  },
  {
   "cell_type": "markdown",
   "metadata": {},
   "source": [
    "| Character | Description | Example Pattern Code | Example Match |\n",
    "| -- | -- | -- | -- |\n",
    "| \\d |\tA digit |\tfile_\\d\\d |\tfile_25 |\n",
    "| \\w |\tAlphanumeric |\t\\w-\\w\\w\\w |\tA-b_1 |\n",
    "| \\s |\tWhite space |\ta\\sb\\sc |\ta b c |\n",
    "| \\D |\tA non digit |\t\\D\\D\\D |\tABC \n",
    "| \\W |\tNon-alphanumeric |\t\\W\\W\\W\\W\\W | \t*-+=) |\n",
    "| \\S |\tNon-whitespace |\t\\S\\S\\S\\S |\tYoyo |"
   ]
  },
  {
   "cell_type": "code",
   "execution_count": 38,
   "metadata": {},
   "outputs": [
    {
     "name": "stdout",
     "output_type": "stream",
     "text": [
      "<re.Match object; span=(0, 12), match='555-123-4567'>\n",
      "The match: 555-123-4567\n"
     ]
    }
   ],
   "source": [
    "# Example 01 - find a digit pattern:\n",
    "phone_number = '555-123-4567'\n",
    "pattern = r'\\d\\d\\d-\\d\\d\\d-\\d\\d\\d\\d'\n",
    "match = re.search(pattern, phone_number)\n",
    "print(match)\n",
    "print('The match:', match.group())"
   ]
  },
  {
   "cell_type": "markdown",
   "metadata": {},
   "source": [
    "## Regex **Quantifiers**"
   ]
  },
  {
   "cell_type": "markdown",
   "metadata": {},
   "source": [
    "| Character |\tDescription |\tExample Pattern Code |\tExample Match |\n",
    "| -- | -- | -- | -- |\n",
    "| +\t| Occurs one or more times\t| Version \\w-\\w+ |\tVersion A-b1_1 |\n",
    "| {3} |\tOccurs exactly 3 times\t| \\D{3} |\tabc |\n",
    "| {2,4}\t| Occurs 2 to 4 times\t| \\d{2,4} |\t123 |\n",
    "| {3,}\t| Occurs 3 or more\t| \\w{3,} |\tanycharacters |\n",
    "| \\*\t| Occurs zero or more times\t| A\\*B\\*C* |\tAAACC |\n",
    "| ? |\tOnce or none |\tplurals? |\tplural |"
   ]
  },
  {
   "cell_type": "code",
   "execution_count": 41,
   "metadata": {},
   "outputs": [
    {
     "name": "stdout",
     "output_type": "stream",
     "text": [
      "<re.Match object; span=(0, 12), match='555-123-4567'>\n",
      "The match: 555-123-4567\n"
     ]
    }
   ],
   "source": [
    "# The above example, just with quantifiers (Example 01 - find a digit pattern):\n",
    "phone_number = '555-123-4567'\n",
    "pattern = r'\\d{3}-\\d{3}-\\d{4}'\n",
    "match = re.search(pattern, phone_number)\n",
    "print(match)\n",
    "print('The match:', match.group())"
   ]
  },
  {
   "cell_type": "markdown",
   "metadata": {},
   "source": [
    "## Regex **Groups**"
   ]
  },
  {
   "cell_type": "markdown",
   "metadata": {},
   "source": [
    "**Groups** serve for searching for a pattern, but being able to search for **sub-patterns** as well, i.e. **without** the necessity to **write separate patterns** for each sub-search.\n",
    "\n",
    "Groups are created using `.compile`."
   ]
  },
  {
   "cell_type": "code",
   "execution_count": 47,
   "metadata": {},
   "outputs": [
    {
     "name": "stdout",
     "output_type": "stream",
     "text": [
      "<re.Match object; span=(0, 12), match='555-123-4567'>\n",
      "Compiled group: 555-123-4567\n",
      "Group 1: 555\n",
      "Group 2: 123\n",
      "Group 3: 4567\n"
     ]
    }
   ],
   "source": [
    "phone_number = '555-123-4567'\n",
    "phone_pattern = re.compile(r'(\\d{3})-(\\d{3})-(\\d{4})')\n",
    "\n",
    "results = re.search(phone_pattern, phone_number)\n",
    "print(results)\n",
    "\n",
    "# The compiled group:\n",
    "print('Compiled group:', results.group() )\n",
    "\n",
    "# The group 1:\n",
    "print('Group 1:', results.group(1) )\n",
    "\n",
    "# The group 2:\n",
    "print('Group 2:', results.group(2) )\n",
    "\n",
    "# The group 3:\n",
    "print('Group 3:', results.group(3) )"
   ]
  },
  {
   "cell_type": "markdown",
   "metadata": {},
   "source": [
    "## Regex **Additional operators**"
   ]
  },
  {
   "cell_type": "markdown",
   "metadata": {},
   "source": [
    "### Logical operator **OR**"
   ]
  },
  {
   "cell_type": "code",
   "execution_count": 48,
   "metadata": {},
   "outputs": [
    {
     "data": {
      "text/plain": [
       "<re.Match object; span=(5, 8), match='man'>"
      ]
     },
     "execution_count": 48,
     "metadata": {},
     "output_type": "execute_result"
    }
   ],
   "source": [
    "re.search(r\"man|woman\", \"This man was here.\")"
   ]
  },
  {
   "cell_type": "markdown",
   "metadata": {},
   "source": [
    "### Regex **Wildcard characters**"
   ]
  },
  {
   "cell_type": "markdown",
   "metadata": {},
   "source": [
    "Wildcards are used for any matches that are on the position of a wildcard."
   ]
  },
  {
   "cell_type": "code",
   "execution_count": 50,
   "metadata": {},
   "outputs": [
    {
     "data": {
      "text/plain": [
       "['cat', 'hat', 'sat']"
      ]
     },
     "execution_count": 50,
     "metadata": {},
     "output_type": "execute_result"
    }
   ],
   "source": [
    "# Example 01 - find all occurences of \"-at\", i.e. cat, hat, sat ...:\n",
    "re.findall(r\".at\", \"The cat in the hat sat here.\")"
   ]
  },
  {
   "cell_type": "code",
   "execution_count": 52,
   "metadata": {},
   "outputs": [
    {
     "data": {
      "text/plain": [
       "['e bat', 'splat']"
      ]
     },
     "execution_count": 52,
     "metadata": {},
     "output_type": "execute_result"
    }
   ],
   "source": [
    "# Example 02 - using more than one wildcard:\n",
    "re.findall(r\"...at\", \"The bat went splat\")"
   ]
  },
  {
   "cell_type": "code",
   "execution_count": 54,
   "metadata": {},
   "outputs": [
    {
     "data": {
      "text/plain": [
       "['bat', 'splat']"
      ]
     },
     "execution_count": 54,
     "metadata": {},
     "output_type": "execute_result"
    }
   ],
   "source": [
    "# Previous example with only words \n",
    "# (here \\S+ stands for 'one or more non-whitespace characters'):\n",
    "re.findall(r'\\S+at', \"The bat went splat\")"
   ]
  },
  {
   "cell_type": "markdown",
   "metadata": {},
   "source": [
    "### **Starts with** and **Ends With**"
   ]
  },
  {
   "cell_type": "markdown",
   "metadata": {},
   "source": [
    "- **Starts with** - **^** \n",
    "- **Ends with** - **$** \n",
    "- Applies for the entire string, not individual words!"
   ]
  },
  {
   "cell_type": "code",
   "execution_count": 56,
   "metadata": {},
   "outputs": [
    {
     "data": {
      "text/plain": [
       "['1']"
      ]
     },
     "execution_count": 56,
     "metadata": {},
     "output_type": "execute_result"
    }
   ],
   "source": [
    "# Starts with a Number:\n",
    "re.findall(r'^\\d','1 is the loneliest number.')"
   ]
  },
  {
   "cell_type": "code",
   "execution_count": 57,
   "metadata": {},
   "outputs": [
    {
     "data": {
      "text/plain": [
       "['2']"
      ]
     },
     "execution_count": 57,
     "metadata": {},
     "output_type": "execute_result"
    }
   ],
   "source": [
    "# Ends with a Number:\n",
    "re.findall(r'\\d$','This ends with a number 2')"
   ]
  },
  {
   "cell_type": "markdown",
   "metadata": {},
   "source": [
    "### **Brackets** for **Exclusion**"
   ]
  },
  {
   "cell_type": "markdown",
   "metadata": {},
   "source": [
    "- To exclude characters, we can use the **^** symbol in conjunction with a set of brackets **[]**. \n",
    "- Anything inside the brackets is excluded."
   ]
  },
  {
   "cell_type": "code",
   "execution_count": 59,
   "metadata": {},
   "outputs": [
    {
     "data": {
      "text/plain": [
       "['T',\n",
       " 'h',\n",
       " 'e',\n",
       " 'r',\n",
       " 'e',\n",
       " ' ',\n",
       " 'a',\n",
       " 'r',\n",
       " 'e',\n",
       " ' ',\n",
       " ' ',\n",
       " 'n',\n",
       " 'u',\n",
       " 'm',\n",
       " 'b',\n",
       " 'e',\n",
       " 'r',\n",
       " 's',\n",
       " ' ',\n",
       " ' ',\n",
       " 'i',\n",
       " 'n',\n",
       " 's',\n",
       " 'i',\n",
       " 'd',\n",
       " 'e',\n",
       " ' ',\n",
       " ' ',\n",
       " 't',\n",
       " 'h',\n",
       " 'i',\n",
       " 's',\n",
       " ' ',\n",
       " 's',\n",
       " 'e',\n",
       " 'n',\n",
       " 't',\n",
       " 'e',\n",
       " 'n',\n",
       " 'c',\n",
       " 'e',\n",
       " '.']"
      ]
     },
     "execution_count": 59,
     "metadata": {},
     "output_type": "execute_result"
    }
   ],
   "source": [
    "# Example 01 - find all characters that does not start with number:\n",
    "phrase = \"There are 3 numbers 34 inside 5 this sentence.\"\n",
    "re.findall(r'[^\\d]', phrase)"
   ]
  },
  {
   "cell_type": "code",
   "execution_count": 61,
   "metadata": {},
   "outputs": [
    {
     "data": {
      "text/plain": [
       "['There are ', ' numbers ', ' inside ', ' this sentence.']"
      ]
     },
     "execution_count": 61,
     "metadata": {},
     "output_type": "execute_result"
    }
   ],
   "source": [
    "# Above example with words together (not single characters) using + sign for one or more occurences:\n",
    "re.findall(r'[^\\d]+', phrase)"
   ]
  },
  {
   "cell_type": "code",
   "execution_count": 62,
   "metadata": {},
   "outputs": [
    {
     "data": {
      "text/plain": [
       "['This',\n",
       " 'is',\n",
       " 'a',\n",
       " 'string',\n",
       " 'But',\n",
       " 'it',\n",
       " 'has',\n",
       " 'punctuation',\n",
       " 'How',\n",
       " 'can',\n",
       " 'we',\n",
       " 'remove',\n",
       " 'it']"
      ]
     },
     "execution_count": 62,
     "metadata": {},
     "output_type": "execute_result"
    }
   ],
   "source": [
    "# Example 02 - removing punctations:\n",
    "test_phrase = 'This is a string! But it has punctuation. How can we remove it?'\n",
    "\n",
    "re.findall('[^!.? ]+', test_phrase)"
   ]
  },
  {
   "cell_type": "code",
   "execution_count": 66,
   "metadata": {},
   "outputs": [
    {
     "data": {
      "text/plain": [
       "'This is a string But it has punctuation How can we remove it'"
      ]
     },
     "execution_count": 66,
     "metadata": {},
     "output_type": "execute_result"
    }
   ],
   "source": [
    "# Above example with all sentence together, just without punctation by\n",
    "# joining the occurenes by whitespaces:\n",
    "clean = ' '.join(re.findall('[^!.? ]+', test_phrase))\n",
    "clean"
   ]
  },
  {
   "cell_type": "markdown",
   "metadata": {},
   "source": [
    "### **Brackets** for **Grouping**"
   ]
  },
  {
   "cell_type": "markdown",
   "metadata": {},
   "source": [
    "We can use **brackets** to **group together options**."
   ]
  },
  {
   "cell_type": "code",
   "execution_count": 68,
   "metadata": {},
   "outputs": [
    {
     "data": {
      "text/plain": [
       "['hypen-words', 'long-ish']"
      ]
     },
     "execution_count": 68,
     "metadata": {},
     "output_type": "execute_result"
    }
   ],
   "source": [
    "# Example 01 - finding hyphenated words:\n",
    "text = 'Only find the hypen-words in this sentence. But you do not know how long-ish they are'\n",
    "\n",
    "re.findall(r'[\\w]+-[\\w]+',text)"
   ]
  },
  {
   "cell_type": "markdown",
   "metadata": {},
   "source": [
    "### **Parenthesis** for Multiple Options"
   ]
  },
  {
   "cell_type": "markdown",
   "metadata": {},
   "source": [
    "If we have **multiple options** for **matching**, we can use **parenthesis** (brackets) to **list out** these **options**."
   ]
  },
  {
   "cell_type": "code",
   "execution_count": 69,
   "metadata": {},
   "outputs": [
    {
     "data": {
      "text/plain": [
       "<re.Match object; span=(27, 34), match='catfish'>"
      ]
     },
     "execution_count": 69,
     "metadata": {},
     "output_type": "execute_result"
    }
   ],
   "source": [
    "# Example 01 - finding words that start with cat and end with one of these options: \n",
    "# 'fish','nap', or 'claw':\n",
    "text = 'Hello, would you like some catfish?'\n",
    "\n",
    "re.search(r'cat(fish|nap|claw)', text)"
   ]
  }
 ],
 "metadata": {
  "kernelspec": {
   "display_name": "Python 3",
   "language": "python",
   "name": "python3"
  },
  "language_info": {
   "codemirror_mode": {
    "name": "ipython",
    "version": 3
   },
   "file_extension": ".py",
   "mimetype": "text/x-python",
   "name": "python",
   "nbconvert_exporter": "python",
   "pygments_lexer": "ipython3",
   "version": "3.12.3"
  }
 },
 "nbformat": 4,
 "nbformat_minor": 2
}
