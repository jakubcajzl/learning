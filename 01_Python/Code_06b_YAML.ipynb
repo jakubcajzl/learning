{
 "cells": [
  {
   "cell_type": "markdown",
   "metadata": {},
   "source": [
    "# YAML"
   ]
  },
  {
   "cell_type": "markdown",
   "metadata": {},
   "source": [
    "Tutorial for YAML: https://www.cloudbees.com/blog/yaml-tutorial-everything-you-need-get-started"
   ]
  },
  {
   "cell_type": "raw",
   "metadata": {
    "vscode": {
     "languageId": "raw"
    }
   },
   "source": [
    "---\n",
    " doe: \"a deer, a female deer\"\n",
    " ray: \"a drop of golden sun\"\n",
    " pi: 3.14159\n",
    " xmas: true\n",
    " french-hens: 3\n",
    " calling-birds:\n",
    "   - huey\n",
    "   - dewey\n",
    "   - louie\n",
    "   - fred\n",
    " xmas-fifth-day:\n",
    "   calling-birds: four\n",
    "   french-hens: 3\n",
    "   golden-rings: 5\n",
    "   partridges:\n",
    "     count: 1\n",
    "     location: \"a pear tree\"\n",
    "   turtle-doves: two"
   ]
  },
  {
   "cell_type": "markdown",
   "metadata": {},
   "source": []
  }
 ],
 "metadata": {
  "language_info": {
   "name": "python"
  }
 },
 "nbformat": 4,
 "nbformat_minor": 2
}
