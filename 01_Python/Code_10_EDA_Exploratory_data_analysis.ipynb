{
 "cells": [
  {
   "cell_type": "markdown",
   "metadata": {},
   "source": [
    "# EDA (Exploratory Data Analysis)"
   ]
  },
  {
   "cell_type": "markdown",
   "metadata": {},
   "source": [
    "## Main commands in Python packages:"
   ]
  },
  {
   "cell_type": "markdown",
   "metadata": {},
   "source": [
    "### Analysis:"
   ]
  },
  {
   "cell_type": "markdown",
   "metadata": {},
   "source": [
    "\n",
    "\n",
    "**1) Pandas:**\n",
    "- Importing Pandas: import pandas as pd\n",
    "- shape: Get the dimensions of the dataframe (rows, columns).\n",
    "- head(): Displays the first few rows of the DataFrame.\n",
    "- info(): Provides a concise summary of the DataFrame, including data types and missing values.\n",
    "- describe(): Generates descriptive statistics of the DataFrame's numerical columns.\n",
    "- value_counts(): Computes frequency counts of unique values in a column.\n",
    "- groupby(): Groups data based on specified criteria.\n",
    "- pd.pivot_table(): Creates a spreadsheet-style pivot table as a DataFrame.\n",
    "- isnull(), notnull(): Checks for missing values in the DataFrame.\n",
    "- drop_duplicates(): Remove duplicate rows.\n",
    "- astype(): Convert data types of columns.\n",
    "\n",
    "**2) NumPy:**\n",
    "- Importing NumPy: import numpy as np\n",
    "- np.mean(), np.median(), np.std(): Computes mean, median, and standard deviation of numerical data.\n",
    "- np.min(), np.max(): Finds the minimum and maximum values in an array.\n",
    "- np.percentile(), np.quantile(): Calculates percentiles and quantiles to understand data distribution.\n",
    "- np.corrcoef(): Computes the correlation coefficient between two variables.\n",
    "- np.histogram(): Generate histogram counts.\n",
    "\n",
    "**3) SciPy:**\n",
    "- Importing SciPy: import scipy as stats\n",
    "- stats.describe(): Generates descriptive statistics for a given array or DataFrame.\n",
    "- stats.ttest_ind(): Performs a t-test to compare means of two independent samples.\n",
    "- stats.pearsonr(), stats.spearmanr(): Calculates Pearson and Spearman correlation coefficients between two variables."
   ]
  },
  {
   "cell_type": "markdown",
   "metadata": {},
   "source": [
    "### Visualization:"
   ]
  },
  {
   "cell_type": "markdown",
   "metadata": {},
   "source": [
    "**1) Matplotlib**:\n",
    "- Importing Matplotlib: import matplotlib.pyplot as plt\n",
    "- plt.plot(), plt.scatter(): Create line plots and scatter plots.\n",
    "- plt.hist(): Plots histograms to show the distribution of a single variable.\n",
    "- plt.boxplot(): Visualize the distribution of numerical data using box plots.\n",
    "- plt.bar(), plt.barh(): Create bar plots.\n",
    "- plt.xlabel(), plt.ylabel(), plt.title(): Set labels and titles for the plot.\n",
    "\n",
    "**2) Seaborn**:\n",
    "- Importing Seaborn: import seaborn as sns\n",
    "- sns.scatterplot(): Creates a scatter plot to visualize relationships between two variables.\n",
    "- sns.pairplot(): Creates a matrix of scatter plots for pairwise relationships in the dataset.\n",
    "- sns.heatmap(): Displays a heatmap to visualize the correlation matrix between variables.\n",
    "- sns.boxplot(), sns.violinplot(): violinplot(): Draws box plots or violin plots to identify outliers and visualize distribution across different categories.\n",
    "- sns.distplot(): Plots histograms to show the distribution of a single variable.\n",
    "\n",
    "**3) Plotly** (for interactive visualizations):\n",
    "- Importing Plotly: import plotly.express as px \n",
    "- scatter(): Creates interactive scatter plots.\n",
    "- histogram(), density_heatmap(): Generates interactive histograms and density heatmaps.\n",
    "- box(), violin(): Produces interactive box plots and violin plots."
   ]
  },
  {
   "cell_type": "markdown",
   "metadata": {},
   "source": [
    "## EDA packages in Python"
   ]
  },
  {
   "cell_type": "code",
   "execution_count": 3,
   "metadata": {},
   "outputs": [],
   "source": [
    "# Importing main libraries:\n",
    "import pandas as pd\n",
    "import numpy as np\n",
    "import datetime\n",
    "\n",
    "# Statistics and EDA libraries:\n",
    "import scipy as stats\n",
    "import sweetviz as sv\n",
    "from ydata_profiling import ProfileReport  # former pandas_profiling!\n",
    "\n",
    "# Plotting libraries:\n",
    "import matplotlib.pyplot as plt\n",
    "import seaborn as sns\n",
    "import plotly.express as px\n",
    "\n",
    "# Setting-up the display options for Pandas dataframes to display all the columns (not truncated):\n",
    "pd.options.display.max_columns = None\n",
    "pd.options.display.max_rows = None\n",
    "\n",
    "# Creating a class for different print styles:\n",
    "class style:\n",
    "    #-------------------\n",
    "    BOLD = '\\033[1m'\n",
    "    UNDERLINE = '\\033[4m'\n",
    "    BLUE = '\\033[94m'\n",
    "    GREEN = '\\033[92m'\n",
    "    RED = '\\033[91m'\n",
    "    #-------------------\n",
    "    YELLOW = '\\033[93m'\n",
    "    PURPLE = '\\033[95m'\n",
    "    CYAN = '\\033[96m'\n",
    "    DARKCYAN = '\\033[36m'\n",
    "    #-------------------\n",
    "    END = '\\033[0m'\n",
    "    #-------------------"
   ]
  },
  {
   "cell_type": "code",
   "execution_count": 10,
   "metadata": {},
   "outputs": [
    {
     "name": "stdout",
     "output_type": "stream",
     "text": [
      "File was succesfully loaded to the dataframe!\n"
     ]
    }
   ],
   "source": [
    "# Read the CSV file into a Pandas DataFrame\n",
    "try:\n",
    "    data = pd.read_csv('Project_01_Linkedin_jobs/dataset/job_postings.csv')\n",
    "    print('File was succesfully loaded to the dataframe!')\n",
    "except:\n",
    "    print('File was not loaded into the dataframe!')"
   ]
  },
  {
   "cell_type": "markdown",
   "metadata": {},
   "source": [
    "### **Sweetviz**"
   ]
  },
  {
   "cell_type": "markdown",
   "metadata": {},
   "source": [
    "[**Sweetviz**](https://pypi.org/project/sweetviz/) is an open-source Python library that generates beautiful, high-density visualizations to kickstart **EDA (Exploratory Data Analysis)** with just **two lines of code**. Output is a fully self-contained **HTML application**.\n",
    "\n",
    "The system is built around quickly **visualizing target values** and **comparing datasets**. Its goal is to help quick analysis of target characteristics, training vs testing data, and other such data characterization tasks."
   ]
  },
  {
   "cell_type": "code",
   "execution_count": null,
   "metadata": {},
   "outputs": [],
   "source": [
    "import sweetviz as sv\n",
    "\n",
    "my_report = sv.analyze(data)\n",
    "my_report.show_html(filepath='EDA_sweetviz_report.html', open_browser=True, layout='widescreen', scale=None)"
   ]
  },
  {
   "cell_type": "markdown",
   "metadata": {},
   "source": [
    "### **ydata profiling** (former Pandas profiling)"
   ]
  },
  {
   "cell_type": "markdown",
   "metadata": {},
   "source": [
    "The **pandas-profiling** package name was recently changed to [**ydata-profiling**](https://pypi.org/project/ydata-profiling/)!"
   ]
  },
  {
   "cell_type": "markdown",
   "metadata": {},
   "source": [
    "[**ydata-profiling**](https://pypi.org/project/ydata-profiling/) is used to generate a **complete and exhaustive report for the dataset**, with many features and customizations in the generated report. This report includes various pieces of information such as dataset **statistics**, **distributions** of values, **missings**, **memory usage**, etc., which are very useful for exploring and analyzing data efficiently.\n",
    "\n",
    "ydata profiling also helps a lot in **Exploratory Data Analysis (EDA)**. EDA is used to understand the underlying structure of data, detect patterns, and generate insights in a visual format."
   ]
  },
  {
   "cell_type": "code",
   "execution_count": 11,
   "metadata": {},
   "outputs": [
    {
     "data": {
      "application/vnd.jupyter.widget-view+json": {
       "model_id": "599fdc84df03447783a1077298a23dd5",
       "version_major": 2,
       "version_minor": 0
      },
      "text/plain": [
       "Summarize dataset:   0%|          | 0/5 [00:00<?, ?it/s]"
      ]
     },
     "metadata": {},
     "output_type": "display_data"
    },
    {
     "name": "stderr",
     "output_type": "stream",
     "text": [
      "c:\\Users\\Jakub.Cajzl\\AppData\\Local\\Programs\\Python\\Python312\\Lib\\site-packages\\ydata_profiling\\model\\correlations.py:66: UserWarning: There was an attempt to calculate the auto correlation, but this failed.\n",
      "To hide this warning, disable the calculation\n",
      "(using `df.profile_report(correlations={\"auto\": {\"calculate\": False}})`\n",
      "If this is problematic for your use case, please report this as an issue:\n",
      "https://github.com/ydataai/ydata-profiling/issues\n",
      "(include the error message: 'could not convert string to float: 'OffsiteApply'')\n",
      "  warnings.warn(\n",
      "c:\\Users\\Jakub.Cajzl\\AppData\\Local\\Programs\\Python\\Python312\\Lib\\site-packages\\seaborn\\matrix.py:260: FutureWarning: Format strings passed to MaskedConstant are ignored, but in future may error or produce different behavior\n",
      "  annotation = (\"{:\" + self.fmt + \"}\").format(val)\n",
      "c:\\Users\\Jakub.Cajzl\\AppData\\Local\\Programs\\Python\\Python312\\Lib\\site-packages\\ydata_profiling\\model\\missing.py:78: UserWarning: There was an attempt to generate the Heatmap missing values diagrams, but this failed.\n",
      "To hide this warning, disable the calculation\n",
      "(using `df.profile_report(missing_diagrams={\"Heatmap\": False}`)\n",
      "If this is problematic for your use case, please report this as an issue:\n",
      "https://github.com/ydataai/ydata-profiling/issues\n",
      "(include the error message: 'could not convert string to float: '--'')\n",
      "  warnings.warn(\n"
     ]
    },
    {
     "data": {
      "application/vnd.jupyter.widget-view+json": {
       "model_id": "b694e19178c542dabb7740fcd0c77b00",
       "version_major": 2,
       "version_minor": 0
      },
      "text/plain": [
       "Generate report structure:   0%|          | 0/1 [00:00<?, ?it/s]"
      ]
     },
     "metadata": {},
     "output_type": "display_data"
    },
    {
     "ename": "AttributeError",
     "evalue": "'NoneType' object has no attribute 'replace'",
     "output_type": "error",
     "traceback": [
      "\u001b[1;31m---------------------------------------------------------------------------\u001b[0m",
      "\u001b[1;31mAttributeError\u001b[0m                            Traceback (most recent call last)",
      "Cell \u001b[1;32mIn[11], line 4\u001b[0m\n\u001b[0;32m      1\u001b[0m \u001b[38;5;28;01mfrom\u001b[39;00m \u001b[38;5;21;01mydata_profiling\u001b[39;00m \u001b[38;5;28;01mimport\u001b[39;00m ProfileReport\n\u001b[0;32m      3\u001b[0m profile \u001b[38;5;241m=\u001b[39m ProfileReport(data, title\u001b[38;5;241m=\u001b[39m\u001b[38;5;124m\"\u001b[39m\u001b[38;5;124mPandas Profiling Report\u001b[39m\u001b[38;5;124m\"\u001b[39m, explorative\u001b[38;5;241m=\u001b[39m\u001b[38;5;28;01mTrue\u001b[39;00m)\n\u001b[1;32m----> 4\u001b[0m \u001b[43mprofile\u001b[49m\u001b[38;5;241;43m.\u001b[39;49m\u001b[43mto_widgets\u001b[49m\u001b[43m(\u001b[49m\u001b[43m)\u001b[49m\n",
      "File \u001b[1;32mc:\\Users\\Jakub.Cajzl\\AppData\\Local\\Programs\\Python\\Python312\\Lib\\site-packages\\ydata_profiling\\profile_report.py:533\u001b[0m, in \u001b[0;36mProfileReport.to_widgets\u001b[1;34m(self)\u001b[0m\n\u001b[0;32m    529\u001b[0m     \u001b[38;5;28;01mpass\u001b[39;00m\n\u001b[0;32m    531\u001b[0m \u001b[38;5;28;01mfrom\u001b[39;00m \u001b[38;5;21;01mIPython\u001b[39;00m\u001b[38;5;21;01m.\u001b[39;00m\u001b[38;5;21;01mcore\u001b[39;00m\u001b[38;5;21;01m.\u001b[39;00m\u001b[38;5;21;01mdisplay\u001b[39;00m \u001b[38;5;28;01mimport\u001b[39;00m display\n\u001b[1;32m--> 533\u001b[0m display(\u001b[38;5;28;43mself\u001b[39;49m\u001b[38;5;241;43m.\u001b[39;49m\u001b[43mwidgets\u001b[49m)\n",
      "File \u001b[1;32mc:\\Users\\Jakub.Cajzl\\AppData\\Local\\Programs\\Python\\Python312\\Lib\\site-packages\\ydata_profiling\\profile_report.py:303\u001b[0m, in \u001b[0;36mProfileReport.widgets\u001b[1;34m(self)\u001b[0m\n\u001b[0;32m    298\u001b[0m     \u001b[38;5;28;01mraise\u001b[39;00m \u001b[38;5;167;01mRuntimeError\u001b[39;00m(\n\u001b[0;32m    299\u001b[0m         \u001b[38;5;124m\"\u001b[39m\u001b[38;5;124mWidgets interface not (yet) supported for comparing reports, please use the HTML rendering.\u001b[39m\u001b[38;5;124m\"\u001b[39m\n\u001b[0;32m    300\u001b[0m     )\n\u001b[0;32m    302\u001b[0m \u001b[38;5;28;01mif\u001b[39;00m \u001b[38;5;28mself\u001b[39m\u001b[38;5;241m.\u001b[39m_widgets \u001b[38;5;129;01mis\u001b[39;00m \u001b[38;5;28;01mNone\u001b[39;00m:\n\u001b[1;32m--> 303\u001b[0m     \u001b[38;5;28mself\u001b[39m\u001b[38;5;241m.\u001b[39m_widgets \u001b[38;5;241m=\u001b[39m \u001b[38;5;28;43mself\u001b[39;49m\u001b[38;5;241;43m.\u001b[39;49m\u001b[43m_render_widgets\u001b[49m\u001b[43m(\u001b[49m\u001b[43m)\u001b[49m\n\u001b[0;32m    304\u001b[0m \u001b[38;5;28;01mreturn\u001b[39;00m \u001b[38;5;28mself\u001b[39m\u001b[38;5;241m.\u001b[39m_widgets\n",
      "File \u001b[1;32mc:\\Users\\Jakub.Cajzl\\AppData\\Local\\Programs\\Python\\Python312\\Lib\\site-packages\\ydata_profiling\\profile_report.py:428\u001b[0m, in \u001b[0;36mProfileReport._render_widgets\u001b[1;34m(self)\u001b[0m\n\u001b[0;32m    425\u001b[0m \u001b[38;5;28;01mdef\u001b[39;00m \u001b[38;5;21m_render_widgets\u001b[39m(\u001b[38;5;28mself\u001b[39m) \u001b[38;5;241m-\u001b[39m\u001b[38;5;241m>\u001b[39m Any:\n\u001b[0;32m    426\u001b[0m     \u001b[38;5;28;01mfrom\u001b[39;00m \u001b[38;5;21;01mydata_profiling\u001b[39;00m\u001b[38;5;21;01m.\u001b[39;00m\u001b[38;5;21;01mreport\u001b[39;00m\u001b[38;5;21;01m.\u001b[39;00m\u001b[38;5;21;01mpresentation\u001b[39;00m\u001b[38;5;21;01m.\u001b[39;00m\u001b[38;5;21;01mflavours\u001b[39;00m \u001b[38;5;28;01mimport\u001b[39;00m WidgetReport\n\u001b[1;32m--> 428\u001b[0m     report \u001b[38;5;241m=\u001b[39m \u001b[38;5;28;43mself\u001b[39;49m\u001b[38;5;241;43m.\u001b[39;49m\u001b[43mreport\u001b[49m\n\u001b[0;32m    430\u001b[0m     \u001b[38;5;28;01mwith\u001b[39;00m tqdm(\n\u001b[0;32m    431\u001b[0m         total\u001b[38;5;241m=\u001b[39m\u001b[38;5;241m1\u001b[39m,\n\u001b[0;32m    432\u001b[0m         desc\u001b[38;5;241m=\u001b[39m\u001b[38;5;124m\"\u001b[39m\u001b[38;5;124mRender widgets\u001b[39m\u001b[38;5;124m\"\u001b[39m,\n\u001b[0;32m    433\u001b[0m         disable\u001b[38;5;241m=\u001b[39m\u001b[38;5;129;01mnot\u001b[39;00m \u001b[38;5;28mself\u001b[39m\u001b[38;5;241m.\u001b[39mconfig\u001b[38;5;241m.\u001b[39mprogress_bar,\n\u001b[0;32m    434\u001b[0m         leave\u001b[38;5;241m=\u001b[39m\u001b[38;5;28;01mFalse\u001b[39;00m,\n\u001b[0;32m    435\u001b[0m     ) \u001b[38;5;28;01mas\u001b[39;00m pbar:\n\u001b[0;32m    436\u001b[0m         widgets \u001b[38;5;241m=\u001b[39m WidgetReport(copy\u001b[38;5;241m.\u001b[39mdeepcopy(report))\u001b[38;5;241m.\u001b[39mrender()\n",
      "File \u001b[1;32mc:\\Users\\Jakub.Cajzl\\AppData\\Local\\Programs\\Python\\Python312\\Lib\\site-packages\\ydata_profiling\\profile_report.py:277\u001b[0m, in \u001b[0;36mProfileReport.report\u001b[1;34m(self)\u001b[0m\n\u001b[0;32m    274\u001b[0m \u001b[38;5;129m@property\u001b[39m\n\u001b[0;32m    275\u001b[0m \u001b[38;5;28;01mdef\u001b[39;00m \u001b[38;5;21mreport\u001b[39m(\u001b[38;5;28mself\u001b[39m) \u001b[38;5;241m-\u001b[39m\u001b[38;5;241m>\u001b[39m Root:\n\u001b[0;32m    276\u001b[0m     \u001b[38;5;28;01mif\u001b[39;00m \u001b[38;5;28mself\u001b[39m\u001b[38;5;241m.\u001b[39m_report \u001b[38;5;129;01mis\u001b[39;00m \u001b[38;5;28;01mNone\u001b[39;00m:\n\u001b[1;32m--> 277\u001b[0m         \u001b[38;5;28mself\u001b[39m\u001b[38;5;241m.\u001b[39m_report \u001b[38;5;241m=\u001b[39m \u001b[43mget_report_structure\u001b[49m\u001b[43m(\u001b[49m\u001b[38;5;28;43mself\u001b[39;49m\u001b[38;5;241;43m.\u001b[39;49m\u001b[43mconfig\u001b[49m\u001b[43m,\u001b[49m\u001b[43m \u001b[49m\u001b[38;5;28;43mself\u001b[39;49m\u001b[38;5;241;43m.\u001b[39;49m\u001b[43mdescription_set\u001b[49m\u001b[43m)\u001b[49m\n\u001b[0;32m    278\u001b[0m     \u001b[38;5;28;01mreturn\u001b[39;00m \u001b[38;5;28mself\u001b[39m\u001b[38;5;241m.\u001b[39m_report\n",
      "File \u001b[1;32mc:\\Users\\Jakub.Cajzl\\AppData\\Local\\Programs\\Python\\Python312\\Lib\\site-packages\\ydata_profiling\\report\\structure\\report.py:387\u001b[0m, in \u001b[0;36mget_report_structure\u001b[1;34m(config, summary)\u001b[0m\n\u001b[0;32m    368\u001b[0m section_items: List[Renderable] \u001b[38;5;241m=\u001b[39m [\n\u001b[0;32m    369\u001b[0m     Container(\n\u001b[0;32m    370\u001b[0m         get_dataset_items(config, summary, alerts),\n\u001b[1;32m   (...)\u001b[0m\n\u001b[0;32m    374\u001b[0m     ),\n\u001b[0;32m    375\u001b[0m ]\n\u001b[0;32m    377\u001b[0m \u001b[38;5;28;01mif\u001b[39;00m \u001b[38;5;28mlen\u001b[39m(summary\u001b[38;5;241m.\u001b[39mvariables) \u001b[38;5;241m>\u001b[39m \u001b[38;5;241m0\u001b[39m:\n\u001b[0;32m    378\u001b[0m     section_items\u001b[38;5;241m.\u001b[39mappend(\n\u001b[0;32m    379\u001b[0m         Dropdown(\n\u001b[0;32m    380\u001b[0m             name\u001b[38;5;241m=\u001b[39m\u001b[38;5;124m\"\u001b[39m\u001b[38;5;124mVariables\u001b[39m\u001b[38;5;124m\"\u001b[39m,\n\u001b[0;32m    381\u001b[0m             anchor_id\u001b[38;5;241m=\u001b[39m\u001b[38;5;124m\"\u001b[39m\u001b[38;5;124mvariables-dropdown\u001b[39m\u001b[38;5;124m\"\u001b[39m,\n\u001b[0;32m    382\u001b[0m             \u001b[38;5;28mid\u001b[39m\u001b[38;5;241m=\u001b[39m\u001b[38;5;124m\"\u001b[39m\u001b[38;5;124mvariables-dropdown\u001b[39m\u001b[38;5;124m\"\u001b[39m,\n\u001b[0;32m    383\u001b[0m             is_row\u001b[38;5;241m=\u001b[39m\u001b[38;5;28;01mTrue\u001b[39;00m,\n\u001b[0;32m    384\u001b[0m             classes\u001b[38;5;241m=\u001b[39m[\u001b[38;5;124m\"\u001b[39m\u001b[38;5;124mdropdown-toggle\u001b[39m\u001b[38;5;124m\"\u001b[39m],\n\u001b[0;32m    385\u001b[0m             items\u001b[38;5;241m=\u001b[39m\u001b[38;5;28mlist\u001b[39m(summary\u001b[38;5;241m.\u001b[39mvariables),\n\u001b[0;32m    386\u001b[0m             item\u001b[38;5;241m=\u001b[39mContainer(\n\u001b[1;32m--> 387\u001b[0m                 \u001b[43mrender_variables_section\u001b[49m\u001b[43m(\u001b[49m\u001b[43mconfig\u001b[49m\u001b[43m,\u001b[49m\u001b[43m \u001b[49m\u001b[43msummary\u001b[49m\u001b[43m)\u001b[49m,\n\u001b[0;32m    388\u001b[0m                 sequence_type\u001b[38;5;241m=\u001b[39m\u001b[38;5;124m\"\u001b[39m\u001b[38;5;124maccordion\u001b[39m\u001b[38;5;124m\"\u001b[39m,\n\u001b[0;32m    389\u001b[0m                 name\u001b[38;5;241m=\u001b[39m\u001b[38;5;124m\"\u001b[39m\u001b[38;5;124mVariables\u001b[39m\u001b[38;5;124m\"\u001b[39m,\n\u001b[0;32m    390\u001b[0m                 anchor_id\u001b[38;5;241m=\u001b[39m\u001b[38;5;124m\"\u001b[39m\u001b[38;5;124mvariables\u001b[39m\u001b[38;5;124m\"\u001b[39m,\n\u001b[0;32m    391\u001b[0m             ),\n\u001b[0;32m    392\u001b[0m         )\n\u001b[0;32m    393\u001b[0m     )\n\u001b[0;32m    395\u001b[0m scatter_items \u001b[38;5;241m=\u001b[39m get_interactions(config, summary\u001b[38;5;241m.\u001b[39mscatter)\n\u001b[0;32m    396\u001b[0m \u001b[38;5;28;01mif\u001b[39;00m \u001b[38;5;28mlen\u001b[39m(scatter_items) \u001b[38;5;241m>\u001b[39m \u001b[38;5;241m0\u001b[39m:\n",
      "File \u001b[1;32mc:\\Users\\Jakub.Cajzl\\AppData\\Local\\Programs\\Python\\Python312\\Lib\\site-packages\\ydata_profiling\\report\\structure\\report.py:162\u001b[0m, in \u001b[0;36mrender_variables_section\u001b[1;34m(config, dataframe_summary)\u001b[0m\n\u001b[0;32m    160\u001b[0m     variable_type \u001b[38;5;241m=\u001b[39m summary[\u001b[38;5;124m\"\u001b[39m\u001b[38;5;124mtype\u001b[39m\u001b[38;5;124m\"\u001b[39m]\n\u001b[0;32m    161\u001b[0m render_map_type \u001b[38;5;241m=\u001b[39m render_map\u001b[38;5;241m.\u001b[39mget(variable_type, render_map[\u001b[38;5;124m\"\u001b[39m\u001b[38;5;124mUnsupported\u001b[39m\u001b[38;5;124m\"\u001b[39m])\n\u001b[1;32m--> 162\u001b[0m template_variables\u001b[38;5;241m.\u001b[39mupdate(\u001b[43mrender_map_type\u001b[49m\u001b[43m(\u001b[49m\u001b[43mconfig\u001b[49m\u001b[43m,\u001b[49m\u001b[43m \u001b[49m\u001b[43mtemplate_variables\u001b[49m\u001b[43m)\u001b[49m)\n\u001b[0;32m    164\u001b[0m \u001b[38;5;66;03m# Ignore these\u001b[39;00m\n\u001b[0;32m    165\u001b[0m \u001b[38;5;28;01mif\u001b[39;00m reject_variables:\n",
      "File \u001b[1;32mc:\\Users\\Jakub.Cajzl\\AppData\\Local\\Programs\\Python\\Python312\\Lib\\site-packages\\ydata_profiling\\report\\structure\\variables\\render_text.py:100\u001b[0m, in \u001b[0;36mrender_text\u001b[1;34m(config, summary)\u001b[0m\n\u001b[0;32m     98\u001b[0m unitab \u001b[38;5;241m=\u001b[39m \u001b[38;5;28;01mNone\u001b[39;00m\n\u001b[0;32m     99\u001b[0m \u001b[38;5;28;01mif\u001b[39;00m characters \u001b[38;5;129;01mand\u001b[39;00m \u001b[38;5;124m\"\u001b[39m\u001b[38;5;124mcategory_alias_counts\u001b[39m\u001b[38;5;124m\"\u001b[39m \u001b[38;5;129;01min\u001b[39;00m summary:\n\u001b[1;32m--> 100\u001b[0m     overview_table_char, unitab \u001b[38;5;241m=\u001b[39m \u001b[43mrender_categorical_unicode\u001b[49m\u001b[43m(\u001b[49m\u001b[43mconfig\u001b[49m\u001b[43m,\u001b[49m\u001b[43m \u001b[49m\u001b[43msummary\u001b[49m\u001b[43m,\u001b[49m\u001b[43m \u001b[49m\u001b[43mvarid\u001b[49m\u001b[43m)\u001b[49m\n\u001b[0;32m    101\u001b[0m     overview_items\u001b[38;5;241m.\u001b[39mappend(overview_table_char)\n\u001b[0;32m    103\u001b[0m unique_stats \u001b[38;5;241m=\u001b[39m render_categorical_frequency(config, summary, varid)\n",
      "File \u001b[1;32mc:\\Users\\Jakub.Cajzl\\AppData\\Local\\Programs\\Python\\Python312\\Lib\\site-packages\\ydata_profiling\\report\\structure\\variables\\render_categorical.py:139\u001b[0m, in \u001b[0;36mrender_categorical_unicode\u001b[1;34m(config, summary, varid)\u001b[0m\n\u001b[0;32m    135\u001b[0m cats \u001b[38;5;241m=\u001b[39m []\n\u001b[0;32m    136\u001b[0m \u001b[38;5;28;01mfor\u001b[39;00m category_alias_name, category_alias_counts \u001b[38;5;129;01min\u001b[39;00m \u001b[38;5;28msorted\u001b[39m(\n\u001b[0;32m    137\u001b[0m     summary[\u001b[38;5;124m\"\u001b[39m\u001b[38;5;124mcategory_alias_char_counts\u001b[39m\u001b[38;5;124m\"\u001b[39m]\u001b[38;5;241m.\u001b[39mitems(), key\u001b[38;5;241m=\u001b[39m\u001b[38;5;28;01mlambda\u001b[39;00m x: \u001b[38;5;241m-\u001b[39m\u001b[38;5;28mlen\u001b[39m(x[\u001b[38;5;241m1\u001b[39m])\n\u001b[0;32m    138\u001b[0m ):\n\u001b[1;32m--> 139\u001b[0m     category_alias_name \u001b[38;5;241m=\u001b[39m \u001b[43mcategory_alias_name\u001b[49m\u001b[38;5;241;43m.\u001b[39;49m\u001b[43mreplace\u001b[49m(\u001b[38;5;124m\"\u001b[39m\u001b[38;5;124m_\u001b[39m\u001b[38;5;124m\"\u001b[39m, \u001b[38;5;124m\"\u001b[39m\u001b[38;5;124m \u001b[39m\u001b[38;5;124m\"\u001b[39m)\n\u001b[0;32m    140\u001b[0m     cats\u001b[38;5;241m.\u001b[39mappend(\n\u001b[0;32m    141\u001b[0m         FrequencyTable(\n\u001b[0;32m    142\u001b[0m             freq_table(\n\u001b[1;32m   (...)\u001b[0m\n\u001b[0;32m    150\u001b[0m         )\n\u001b[0;32m    151\u001b[0m     )\n\u001b[0;32m    153\u001b[0m category_items \u001b[38;5;241m=\u001b[39m [\n\u001b[0;32m    154\u001b[0m     category_overview,\n\u001b[0;32m    155\u001b[0m     Container(\n\u001b[1;32m   (...)\u001b[0m\n\u001b[0;32m    162\u001b[0m     ),\n\u001b[0;32m    163\u001b[0m ]\n",
      "\u001b[1;31mAttributeError\u001b[0m: 'NoneType' object has no attribute 'replace'"
     ]
    }
   ],
   "source": [
    "from ydata_profiling import ProfileReport\n",
    "\n",
    "profile = ProfileReport(data, title=\"Pandas Profiling Report\", explorative=True)\n",
    "profile.to_widgets()"
   ]
  },
  {
   "cell_type": "markdown",
   "metadata": {},
   "source": [
    "## Examples of code:"
   ]
  },
  {
   "cell_type": "code",
   "execution_count": null,
   "metadata": {},
   "outputs": [
    {
     "data": {
      "text/plain": [
       "job_id                          int64\n",
       "company_id                    float64\n",
       "title                          object\n",
       "description                    object\n",
       "max_salary                    float64\n",
       "med_salary                    float64\n",
       "min_salary                    float64\n",
       "pay_period                     object\n",
       "formatted_work_type            object\n",
       "location                       object\n",
       "applies                       float64\n",
       "original_listed_time          float64\n",
       "remote_allowed                float64\n",
       "views                         float64\n",
       "job_posting_url                object\n",
       "application_url                object\n",
       "application_type               object\n",
       "expiry                        float64\n",
       "closed_time                   float64\n",
       "formatted_experience_level     object\n",
       "skills_desc                    object\n",
       "listed_time                   float64\n",
       "posting_domain                 object\n",
       "sponsored                       int64\n",
       "work_type                      object\n",
       "currency                       object\n",
       "compensation_type              object\n",
       "scraped                         int64\n",
       "dtype: object"
      ]
     },
     "metadata": {},
     "output_type": "display_data"
    }
   ],
   "source": [
    "# Column data types:\n",
    "data.dtypes"
   ]
  },
  {
   "cell_type": "code",
   "execution_count": null,
   "metadata": {},
   "outputs": [
    {
     "data": {
      "text/plain": [
       "skills_desc                   32909\n",
       "closed_time                   32074\n",
       "med_salary                    31005\n",
       "remote_allowed                28444\n",
       "max_salary                    22135\n",
       "min_salary                    22135\n",
       "compensation_type             19894\n",
       "pay_period                    19894\n",
       "currency                      19894\n",
       "applies                       17008\n",
       "posting_domain                13558\n",
       "application_url               12250\n",
       "formatted_experience_level     9181\n",
       "views                          7360\n",
       "company_id                      654\n",
       "description                       1\n",
       "sponsored                         0\n",
       "work_type                         0\n",
       "listed_time                       0\n",
       "job_id                            0\n",
       "job_posting_url                   0\n",
       "expiry                            0\n",
       "application_type                  0\n",
       "original_listed_time              0\n",
       "location                          0\n",
       "formatted_work_type               0\n",
       "title                             0\n",
       "scraped                           0\n",
       "dtype: int64"
      ]
     },
     "metadata": {},
     "output_type": "display_data"
    }
   ],
   "source": [
    "# Showing the count of NULLs in each column (descending count order):\n",
    "null_counts = data.isnull().sum().sort_values(ascending=False)\n",
    "null_counts"
   ]
  },
  {
   "cell_type": "code",
   "execution_count": null,
   "metadata": {},
   "outputs": [
    {
     "name": "stdout",
     "output_type": "stream",
     "text": [
      "<class 'pandas.core.frame.DataFrame'>\n",
      "RangeIndex: 33246 entries, 0 to 33245\n",
      "Data columns (total 28 columns):\n",
      " #   Column                      Non-Null Count  Dtype  \n",
      "---  ------                      --------------  -----  \n",
      " 0   job_id                      33246 non-null  int64  \n",
      " 1   company_id                  32592 non-null  float64\n",
      " 2   title                       33246 non-null  object \n",
      " 3   description                 33245 non-null  object \n",
      " 4   max_salary                  11111 non-null  float64\n",
      " 5   med_salary                  2241 non-null   float64\n",
      " 6   min_salary                  11111 non-null  float64\n",
      " 7   pay_period                  13352 non-null  object \n",
      " 8   formatted_work_type         33246 non-null  object \n",
      " 9   location                    33246 non-null  object \n",
      " 10  applies                     16238 non-null  float64\n",
      " 11  original_listed_time        33246 non-null  float64\n",
      " 12  remote_allowed              4802 non-null   float64\n",
      " 13  views                       25886 non-null  float64\n",
      " 14  job_posting_url             33246 non-null  object \n",
      " 15  application_url             20996 non-null  object \n",
      " 16  application_type            33246 non-null  object \n",
      " 17  expiry                      33246 non-null  float64\n",
      " 18  closed_time                 1172 non-null   float64\n",
      " 19  formatted_experience_level  24065 non-null  object \n",
      " 20  skills_desc                 337 non-null    object \n",
      " 21  listed_time                 33246 non-null  float64\n",
      " 22  posting_domain              19688 non-null  object \n",
      " 23  sponsored                   33246 non-null  int64  \n",
      " 24  work_type                   33246 non-null  object \n",
      " 25  currency                    13352 non-null  object \n",
      " 26  compensation_type           13352 non-null  object \n",
      " 27  scraped                     33246 non-null  int64  \n",
      "dtypes: float64(11), int64(3), object(14)\n",
      "memory usage: 7.1+ MB\n"
     ]
    }
   ],
   "source": [
    "# Basic info including missings:\n",
    "data.info()"
   ]
  },
  {
   "cell_type": "code",
   "execution_count": null,
   "metadata": {},
   "outputs": [
    {
     "data": {
      "text/html": [
       "<div>\n",
       "<style scoped>\n",
       "    .dataframe tbody tr th:only-of-type {\n",
       "        vertical-align: middle;\n",
       "    }\n",
       "\n",
       "    .dataframe tbody tr th {\n",
       "        vertical-align: top;\n",
       "    }\n",
       "\n",
       "    .dataframe thead th {\n",
       "        text-align: right;\n",
       "    }\n",
       "</style>\n",
       "<table border=\"1\" class=\"dataframe\">\n",
       "  <thead>\n",
       "    <tr style=\"text-align: right;\">\n",
       "      <th></th>\n",
       "      <th>job_id</th>\n",
       "      <th>sponsored</th>\n",
       "      <th>scraped</th>\n",
       "    </tr>\n",
       "  </thead>\n",
       "  <tbody>\n",
       "    <tr>\n",
       "      <th>0</th>\n",
       "      <td>3757940104</td>\n",
       "      <td>0</td>\n",
       "      <td>1699138101</td>\n",
       "    </tr>\n",
       "    <tr>\n",
       "      <th>1</th>\n",
       "      <td>3757940025</td>\n",
       "      <td>0</td>\n",
       "      <td>1699085420</td>\n",
       "    </tr>\n",
       "    <tr>\n",
       "      <th>2</th>\n",
       "      <td>3757938019</td>\n",
       "      <td>0</td>\n",
       "      <td>1699085644</td>\n",
       "    </tr>\n",
       "    <tr>\n",
       "      <th>3</th>\n",
       "      <td>3757938018</td>\n",
       "      <td>0</td>\n",
       "      <td>1699087461</td>\n",
       "    </tr>\n",
       "    <tr>\n",
       "      <th>4</th>\n",
       "      <td>3757937095</td>\n",
       "      <td>0</td>\n",
       "      <td>1699085346</td>\n",
       "    </tr>\n",
       "  </tbody>\n",
       "</table>\n",
       "</div>"
      ],
      "text/plain": [
       "       job_id  sponsored     scraped\n",
       "0  3757940104          0  1699138101\n",
       "1  3757940025          0  1699085420\n",
       "2  3757938019          0  1699085644\n",
       "3  3757938018          0  1699087461\n",
       "4  3757937095          0  1699085346"
      ]
     },
     "metadata": {},
     "output_type": "display_data"
    }
   ],
   "source": [
    "# Selecting columns by their data type:\n",
    "data.select_dtypes('int64').head()"
   ]
  },
  {
   "cell_type": "code",
   "execution_count": null,
   "metadata": {},
   "outputs": [
    {
     "data": {
      "text/plain": [
       "skills_desc                   32909\n",
       "closed_time                   32074\n",
       "med_salary                    31005\n",
       "remote_allowed                28444\n",
       "max_salary                    22135\n",
       "min_salary                    22135\n",
       "compensation_type             19894\n",
       "pay_period                    19894\n",
       "currency                      19894\n",
       "applies                       17008\n",
       "posting_domain                13558\n",
       "application_url               12250\n",
       "formatted_experience_level     9181\n",
       "views                          7360\n",
       "company_id                      654\n",
       "description                       1\n",
       "sponsored                         0\n",
       "work_type                         0\n",
       "listed_time                       0\n",
       "job_id                            0\n",
       "job_posting_url                   0\n",
       "expiry                            0\n",
       "application_type                  0\n",
       "original_listed_time              0\n",
       "location                          0\n",
       "formatted_work_type               0\n",
       "title                             0\n",
       "scraped                           0\n",
       "Name: NULLs, dtype: object"
      ]
     },
     "metadata": {},
     "output_type": "display_data"
    }
   ],
   "source": [
    "data_counts['NULLs']"
   ]
  },
  {
   "cell_type": "code",
   "execution_count": null,
   "metadata": {},
   "outputs": [
    {
     "data": {
      "text/plain": [
       "26"
      ]
     },
     "metadata": {},
     "output_type": "display_data"
    }
   ],
   "source": [
    "# Maximum length of the column name:\n",
    "max(len(col) for col in data.columns)"
   ]
  },
  {
   "cell_type": "markdown",
   "metadata": {},
   "source": [
    "### Binning data"
   ]
  },
  {
   "cell_type": "code",
   "execution_count": null,
   "metadata": {},
   "outputs": [],
   "source": [
    "# Binning of the Maturity months::\n",
    "#bins = [0, 13, 25, 37, 49, 61, 73, 85, np.inf]  # Nastavení hranic bins\n",
    "#labels = ['01: 0-12', '02: 13-24', '03: 25-36', '04: 37-48', '05: 49-60', '06: 61-72', '07: 73-84', '08: 85-96']  # Názvy kategorií\n",
    "bins = [0, 24, 36, 48, 60, 72, 84, np.inf]  # Nastavení hranic bins\n",
    "labels = ['01: 0-24', '02: 25-36', '03: 37-48', '04: 49-60', '05: 61-72', '06: 73-84', '07: 85-96']  # Názvy kategorií\n",
    "data['Maturity_Months_cat'] = pd.cut(data['Maturity_Months'], bins=bins, labels=labels)\n",
    "data['Maturity_Months_cat'].value_counts()"
   ]
  },
  {
   "cell_type": "markdown",
   "metadata": {},
   "source": [
    "### Plotting"
   ]
  },
  {
   "cell_type": "code",
   "execution_count": null,
   "metadata": {},
   "outputs": [],
   "source": [
    "plt.figure(figsize=(7,5))\n",
    "plt.title('Probability of prepayment - Decision_score_new_cat', fontsize=12, y=1.02)\n",
    "plt.xlabel('Score', fontsize=12, labelpad=10)\n",
    "plt.xticks(fontsize=10)\n",
    "plt.ylabel('Probability of prepayment', fontsize=12, labelpad=10)\n",
    "plt.yticks(fontsize=10)\n",
    "ax=plt.gca()\n",
    "\n",
    "# Get the values from the results dataframe:\n",
    "x_values = ['0-349',350,400,450,500,550,600,650,'700-inf']\n",
    "y1_values = result[target_flag,'mean'].values\n",
    "y2_values = result[new_pred,'mean'].values\n",
    "plt.plot(x_values, y1_values, '-o', label='Data (Prepayments)')\n",
    "plt.plot(x_values, y2_values, '-o', label='Prediction (Prepayments)')\n",
    "plt.legend(fontsize=10)\n",
    "#ax.set_xlim(xmin=0)\n",
    "ax.set_ylim([0, 1.4*max(result[target_flag,'mean'])])  # Setting y-axis limits from 0 to 40% above the maximum data value\n",
    "\n",
    "# Recording a plot to MLFlow experiment:\n",
    "fig = plt.gcf()\n",
    "mlflow.log_figure(fig, 'Probability of prepayment - Decision_score_new_cat.png')\n",
    "\n",
    "# Showing the results:\n",
    "plt.show()\n",
    "print('\\n')\n",
    "result"
   ]
  },
  {
   "cell_type": "code",
   "execution_count": null,
   "metadata": {},
   "outputs": [],
   "source": [
    "# Probability of Default - Decision Score:\n",
    "result = data.groupby('Decision_score_new_cat')[[target_flag, new_pred]].aggregate(['mean', 'size'])\n",
    "\n",
    "# In percentage:\n",
    "#result[target_flag, 'mean'] *= 100\n",
    "#result[new_pred, 'mean'] *= 100\n",
    "\n",
    "plt.figure(figsize=(7,5))\n",
    "plt.title('Probability of default - Decision_score_new_cat', fontsize=12, y=1.02)\n",
    "plt.xlabel('Score', fontsize=12, labelpad=10)\n",
    "plt.xticks(fontsize=10)\n",
    "plt.ylabel('Probability of default', fontsize=12, labelpad=10)\n",
    "plt.yticks(fontsize=10)\n",
    "\n",
    "# Get the values from the results dataframe:\n",
    "x_values = ['0-349',350,400,450,500,550,600,650,'700-inf']\n",
    "y1_values = result[target_flag,'mean'].values\n",
    "y2_values = result[new_pred,'mean'].values\n",
    "plt.plot(x_values, y1_values, '-o', label='Data (Defaults)')\n",
    "plt.plot(x_values, y2_values, '-o', label='Prediction (Defaults)')\n",
    "plt.legend(fontsize=10)\n",
    "\n",
    "# Recording a plot to MLFlow experiment:\n",
    "fig = plt.gcf()\n",
    "mlflow.log_figure(fig, 'Probability of default - Decision_score_new_cat.png')\n",
    "\n",
    "# Showing the results:\n",
    "plt.show()\n",
    "print('\\n')\n",
    "result"
   ]
  },
  {
   "cell_type": "code",
   "execution_count": null,
   "metadata": {},
   "outputs": [],
   "source": [
    "# Calculating results grouped by Rating:\n",
    "\n",
    "# Group the dataframe by the rating column:\n",
    "grouped_by_rating = data_ERM.groupby('Decision_Rating_New_MSE')\n",
    "\n",
    "# Calculate the count of the observations for each rating\n",
    "count_by_rating = data_ERM.groupby('Decision_Rating_New_MSE').size().reset_index(name='Count')\n",
    "\n",
    "# Define a function to calculate the weighted average:\n",
    "def volume_weighted_averages(df):\n",
    "    weights = df['Loan_Amount']\n",
    "    volume_weighted_avg = (df[['survival_prediction_prep', 'survival_prediction_bad', 'cum_survival', 'cum_default', 'cum_prep', 'ERM_FINAL']] * weights.values[:, np.newaxis]).sum() / weights.sum()\n",
    "    return volume_weighted_avg\n",
    "\n",
    "# Calculate the weighted average for each value of the rating column:\n",
    "volume_weighted_avg = grouped_by_rating.apply(volume_weighted_averages).reset_index()\n",
    "volume_weighted_avg = grouped_by_rating.apply(volume_weighted_averages)\n",
    "\n",
    "# Join the count and the weighted averages dataframes using the rating column:\n",
    "result = volume_weighted_avg.merge(count_by_rating, on='Decision_Rating_New_MSE')\n",
    "\n",
    "result['ERM_FINAL'] = result['ERM_FINAL']*12\n",
    "results_grouped_by_rating = result\n",
    "\n",
    "# Exporting the results to MLFlow artifact:\n",
    "results_grouped_by_rating.to_csv('Results_grouped_by_rating.csv', float_format='%.9f', index=False)\n",
    "mlflow.log_artifact('Results_grouped_by_rating.csv')\n",
    "\n",
    "# Creating a plot:\n",
    "plt.figure(figsize=(7,5))\n",
    "plt.title('Estimation of ERM', fontsize=12, y=1.02)\n",
    "plt.xlabel('Decision_Rating_New_MSE', fontsize=12, labelpad=10)\n",
    "plt.xticks(fontsize=10)\n",
    "plt.ylabel('Probability', fontsize=12, labelpad=10)\n",
    "plt.yticks(fontsize=10)\n",
    "ax=plt.gca()\n",
    "\n",
    "# Get the values from the results dataframe:\n",
    "x_values = results_grouped_by_rating['Decision_Rating_New_MSE']\n",
    "#y1_values = results_grouped_by_rating['survival_prediction_prep'].values\n",
    "#y2_values = results_grouped_by_rating['survival_prediction_bad'].values\n",
    "y1_values = results_grouped_by_rating['cum_prep'].values\n",
    "y2_values = results_grouped_by_rating['cum_default'].values\n",
    "#y3_values = results_grouped_by_rating['cum_survival'].values\n",
    "y4_values = results_grouped_by_rating['ERM_FINAL'].values\n",
    "\n",
    "plt.plot(x_values, y1_values, '-o', label='Prepayments (cumulative)')\n",
    "plt.plot(x_values, y2_values, '-o', label='Defaults (cumulative)')\n",
    "#plt.plot(x_values, y3_values, '-o', label='Survival', linewidth=4.0)\n",
    "plt.plot(x_values, y4_values, '-o', label='ERM')\n",
    "plt.legend(fontsize=10)\n",
    "#ax.set_xlim(xmin=0)\n",
    "#ax.set_ylim([0, 1.4*max(result[target_flag,'mean'])])  # Setting y-axis limits from 0 to 40% above the maximum data value\n",
    "\n",
    "# Recording a plot to MLFlow experiment:\n",
    "fig = plt.gcf()\n",
    "mlflow.log_figure(fig, 'Estimation of ERM - Rating.png')\n",
    "\n",
    "# Showing the results:\n",
    "plt.show()\n",
    "print('\\n')\n",
    "results_grouped_by_rating"
   ]
  },
  {
   "cell_type": "code",
   "execution_count": null,
   "metadata": {},
   "outputs": [],
   "source": [
    "# Changing data type to float:\n",
    "for column in data:\n",
    "    try:\n",
    "        data[column] = data[column].astype('float')\n",
    "    except:\n",
    "        print(column + ' is not float.')"
   ]
  },
  {
   "cell_type": "code",
   "execution_count": null,
   "metadata": {},
   "outputs": [
    {
     "name": "stdout",
     "output_type": "stream",
     "text": [
      "   name  state  ssss\n",
      "0     1      2     3\n",
      "1     4      5     6\n",
      "2     7      8     9\n"
     ]
    }
   ],
   "source": [
    "# Convert the array to a DataFrame:\n",
    "\n",
    "array = np.array([[1, 2, 3],\n",
    "                  [4, 5, 6],\n",
    "                  [7, 8, 9]])\n",
    "\n",
    "df = pd.DataFrame(array, columns=['name','state','ssss'])\n",
    "\n",
    "# Display the DataFrame\n",
    "print(df)"
   ]
  }
 ],
 "metadata": {
  "kernelspec": {
   "display_name": "Python 3",
   "language": "python",
   "name": "python3"
  },
  "language_info": {
   "codemirror_mode": {
    "name": "ipython",
    "version": 3
   },
   "file_extension": ".py",
   "mimetype": "text/x-python",
   "name": "python",
   "nbconvert_exporter": "python",
   "pygments_lexer": "ipython3",
   "version": "3.12.3"
  }
 },
 "nbformat": 4,
 "nbformat_minor": 2
}
