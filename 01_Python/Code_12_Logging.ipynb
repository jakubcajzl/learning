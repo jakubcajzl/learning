{
 "cells": [
  {
   "cell_type": "markdown",
   "metadata": {},
   "source": [
    "# Logging"
   ]
  },
  {
   "cell_type": "markdown",
   "metadata": {},
   "source": [
    "- promazávat logy - dávat např. do jednoho file - např. max 10'000 řádků\n",
    "- do souboru spíše dávat náhodné a málo časté logy\n",
    "- jinak se používá AirFlow (orchestrátor úloh) pro logging každodenních úloh\n",
    "- napsat logger.config aby tahal info z json nebo yaml\n",
    "- "
   ]
  }
 ],
 "metadata": {
  "language_info": {
   "name": "python"
  }
 },
 "nbformat": 4,
 "nbformat_minor": 2
}
