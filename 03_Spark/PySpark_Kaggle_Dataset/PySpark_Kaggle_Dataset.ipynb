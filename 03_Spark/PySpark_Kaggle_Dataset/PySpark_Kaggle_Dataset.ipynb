{
 "cells": [
  {
   "cell_type": "markdown",
   "metadata": {},
   "source": [
    "# **Kaggle Dataset Code**"
   ]
  },
  {
   "cell_type": "code",
   "execution_count": null,
   "metadata": {},
   "outputs": [],
   "source": [
    "- DDL pro Impalu nebo Hive\n",
    "- DDL pro tabulky CSV 1:1 - HDFS cesta - simulování vrstev - kouknout se na LinFaDu a GaFadu"
   ]
  },
  {
   "cell_type": "markdown",
   "metadata": {},
   "source": [
    "[**Dataset link**](https://www.kaggle.com/datasets/arshkon/linkedin-job-postings/)"
   ]
  },
  {
   "cell_type": "markdown",
   "metadata": {},
   "source": [
    "# Airflow"
   ]
  },
  {
   "cell_type": "markdown",
   "metadata": {},
   "source": [
    "## Installing Airflow"
   ]
  },
  {
   "cell_type": "code",
   "execution_count": 472,
   "metadata": {},
   "outputs": [
    {
     "name": "stdout",
     "output_type": "stream",
     "text": [
      "Requirement already satisfied: apache-airflow in /mnt/disk-1/anaconda3/lib/python3.7/site-packages (1.10.10)\n",
      "Requirement already satisfied: cached-property~=1.5 in /mnt/disk-1/anaconda3/lib/python3.7/site-packages (from apache-airflow) (1.5.2)\n",
      "Requirement already satisfied: lazy-object-proxy~=1.3 in /mnt/disk-1/anaconda3/lib/python3.7/site-packages (from apache-airflow) (1.3.1)\n",
      "Collecting python-daemon<2.2,>=2.1.1 (from apache-airflow)\n",
      "  Downloading https://files.pythonhosted.org/packages/f4/59/816004688f8e8602526553cd96226f34657ce4a86daa2240c3eebb0568a3/python_daemon-2.1.2-py2.py3-none-any.whl\n",
      "Requirement already satisfied: thrift>=0.9.2 in /mnt/disk-1/anaconda3/lib/python3.7/site-packages (from apache-airflow) (0.13.0)\n",
      "Requirement already satisfied: typing-extensions>=3.7.4; python_version < \"3.8\" in /mnt/disk-1/anaconda3/lib/python3.7/site-packages (from apache-airflow) (3.7.4.3)\n",
      "Requirement already satisfied: sqlalchemy-jsonfield~=0.9; python_version >= \"3.5\" in /mnt/disk-1/anaconda3/lib/python3.7/site-packages (from apache-airflow) (0.9.0)\n",
      "Requirement already satisfied: future<0.19,>=0.16.0 in /mnt/disk-1/anaconda3/lib/python3.7/site-packages (from apache-airflow) (0.18.2)\n",
      "Requirement already satisfied: croniter<0.4,>=0.3.17 in /mnt/disk-1/anaconda3/lib/python3.7/site-packages (from apache-airflow) (0.3.34)\n",
      "Requirement already satisfied: alembic<2.0,>=1.0 in /mnt/disk-1/anaconda3/lib/python3.7/site-packages (from apache-airflow) (1.0.8)\n",
      "Requirement already satisfied: iso8601>=0.1.12 in /mnt/disk-1/anaconda3/lib/python3.7/site-packages (from apache-airflow) (0.1.13)\n",
      "Requirement already satisfied: pygments<3.0,>=2.0.1 in /mnt/disk-1/anaconda3/lib/python3.7/site-packages (from apache-airflow) (2.3.1)\n",
      "Requirement already satisfied: jsonschema~=3.0 in /mnt/disk-1/anaconda3/lib/python3.7/site-packages (from apache-airflow) (3.0.2)\n",
      "Collecting tenacity==4.12.0 (from apache-airflow)\n",
      "  Downloading https://files.pythonhosted.org/packages/75/1b/46a6a7b7c2b16811665ea09b7e63e7e6b7f9b5dedf2d0ba67e029668403c/tenacity-4.12.0-py2.py3-none-any.whl\n",
      "Requirement already satisfied: funcsigs<2.0.0,>=1.0.0 in /mnt/disk-1/anaconda3/lib/python3.7/site-packages (from apache-airflow) (1.0.2)\n",
      "Requirement already satisfied: pandas<1.0.0,>=0.17.1 in /mnt/disk-1/anaconda3/lib/python3.7/site-packages (from apache-airflow) (0.23.4)\n",
      "Requirement already satisfied: pendulum==1.4.4 in /mnt/disk-1/anaconda3/lib/python3.7/site-packages (from apache-airflow) (1.4.4)\n",
      "Requirement already satisfied: setproctitle<2,>=1.1.8 in /mnt/disk-1/anaconda3/lib/python3.7/site-packages (from apache-airflow) (1.1.10)\n",
      "Collecting cattrs~=0.9 (from apache-airflow)\n",
      "\u001b[?25l  Downloading https://files.pythonhosted.org/packages/0e/4f/165edbb76d21cf95a0c9003df85cfaca419d64ede766498201ef720d3104/cattrs-0.9.2-py2.py3-none-any.whl (61kB)\n",
      "\u001b[K     |████████████████████████████████| 61kB 6.7MB/s \n",
      "\u001b[?25hRequirement already satisfied: python-dateutil<3,>=2.3 in /mnt/disk-1/anaconda3/lib/python3.7/site-packages (from apache-airflow) (2.7.5)\n",
      "Requirement already satisfied: sqlalchemy~=1.3 in /mnt/disk-1/anaconda3/lib/python3.7/site-packages (from apache-airflow) (1.3.19)\n",
      "Collecting configparser<3.6.0,>=3.5.0 (from apache-airflow)\n",
      "  Downloading https://files.pythonhosted.org/packages/55/c0/e0206081eaad646c6f5e2dc266edf457110d9031b363518d3264880e675d/configparser-3.5.3-py3-none-any.whl\n",
      "Requirement already satisfied: flask-admin==1.5.4 in /mnt/disk-1/anaconda3/lib/python3.7/site-packages (from apache-airflow) (1.5.4)\n",
      "Requirement already satisfied: argcomplete~=1.10 in /mnt/disk-1/anaconda3/lib/python3.7/site-packages (from apache-airflow) (1.12.1)\n",
      "Requirement already satisfied: dill<0.4,>=0.2.2 in /mnt/disk-1/anaconda3/lib/python3.7/site-packages (from apache-airflow) (0.3.2)\n",
      "Requirement already satisfied: graphviz>=0.12 in /mnt/disk-1/anaconda3/lib/python3.7/site-packages (from apache-airflow) (0.14)\n",
      "Collecting colorlog==4.0.2 (from apache-airflow)\n",
      "  Downloading https://files.pythonhosted.org/packages/68/4d/892728b0c14547224f0ac40884e722a3d00cb54e7a146aea0b3186806c9e/colorlog-4.0.2-py2.py3-none-any.whl\n",
      "Requirement already satisfied: flask-appbuilder~=2.2; python_version >= \"3.6\" in /mnt/disk-1/anaconda3/lib/python3.7/site-packages (from apache-airflow) (2.2.1)\n",
      "Requirement already satisfied: attrs~=19.3 in /mnt/disk-1/anaconda3/lib/python3.7/site-packages (from apache-airflow) (19.3.0)\n",
      "Collecting markdown<3.0,>=2.5.2 (from apache-airflow)\n",
      "\u001b[?25l  Downloading https://files.pythonhosted.org/packages/6d/7d/488b90f470b96531a3f5788cf12a93332f543dbab13c423a5e7ce96a0493/Markdown-2.6.11-py2.py3-none-any.whl (78kB)\n",
      "\u001b[K     |████████████████████████████████| 81kB 12.8MB/s \n",
      "\u001b[?25hRequirement already satisfied: unicodecsv>=0.14.1 in /mnt/disk-1/anaconda3/lib/python3.7/site-packages (from apache-airflow) (0.14.1)\n",
      "Collecting tzlocal<2.0.0,>=1.4 (from apache-airflow)\n",
      "  Downloading https://files.pythonhosted.org/packages/cb/89/e3687d3ed99bc882793f82634e9824e62499fdfdc4b1ae39e211c5b05017/tzlocal-1.5.1.tar.gz\n",
      "Requirement already satisfied: flask<2.0,>=1.1.0 in /mnt/disk-1/anaconda3/lib/python3.7/site-packages (from apache-airflow) (1.1.1)\n",
      "Collecting flask-caching<1.4.0,>=1.3.3 (from apache-airflow)\n",
      "  Downloading https://files.pythonhosted.org/packages/88/f1/7bbd68a4d79eb53c33863a17926f14268749b897c8a77ab589f2e9117d47/Flask_Caching-1.3.3-py2.py3-none-any.whl\n",
      "Requirement already satisfied: flask-wtf<0.15,>=0.14.2 in /mnt/disk-1/anaconda3/lib/python3.7/site-packages (from apache-airflow) (0.14.3)\n",
      "Requirement already satisfied: termcolor==1.1.0 in /mnt/disk-1/anaconda3/lib/python3.7/site-packages (from apache-airflow) (1.1.0)\n",
      "Requirement already satisfied: psutil<6.0.0,>=4.2.0 in /mnt/disk-1/anaconda3/lib/python3.7/site-packages (from apache-airflow) (5.4.8)\n",
      "Requirement already satisfied: zope.deprecation<5.0,>=4.0 in /mnt/disk-1/anaconda3/lib/python3.7/site-packages (from apache-airflow) (4.4.0)\n",
      "Requirement already satisfied: werkzeug<1.0.0 in /mnt/disk-1/anaconda3/lib/python3.7/site-packages (from apache-airflow) (0.14.1)\n",
      "Requirement already satisfied: requests<3,>=2.20.0 in /mnt/disk-1/anaconda3/lib/python3.7/site-packages (from apache-airflow) (2.21.0)\n",
      "Collecting gunicorn<20.0,>=19.5.0 (from apache-airflow)\n",
      "\u001b[?25l  Downloading https://files.pythonhosted.org/packages/5f/54/c15f2c243c19074cbf06ce6c48732d99aec825487f87e57e86e9a22990f2/gunicorn-19.10.0-py2.py3-none-any.whl (113kB)\n",
      "\u001b[K     |████████████████████████████████| 122kB 23.3MB/s \n",
      "\u001b[?25hRequirement already satisfied: json-merge-patch==0.2 in /mnt/disk-1/anaconda3/lib/python3.7/site-packages (from apache-airflow) (0.2)\n",
      "Requirement already satisfied: tabulate<0.9,>=0.7.5 in /mnt/disk-1/anaconda3/lib/python3.7/site-packages (from apache-airflow) (0.8.7)\n",
      "Requirement already satisfied: flask-login<0.5,>=0.3 in /mnt/disk-1/anaconda3/lib/python3.7/site-packages (from apache-airflow) (0.4.1)\n",
      "Requirement already satisfied: flask-swagger==0.2.13 in /mnt/disk-1/anaconda3/lib/python3.7/site-packages (from apache-airflow) (0.2.13)\n",
      "Collecting jinja2<2.11.0,>=2.10.1 (from apache-airflow)\n",
      "\u001b[?25l  Downloading https://files.pythonhosted.org/packages/65/e0/eb35e762802015cab1ccee04e8a277b03f1d8e53da3ec3106882ec42558b/Jinja2-2.10.3-py2.py3-none-any.whl (125kB)\n",
      "\u001b[K     |████████████████████████████████| 133kB 23.3MB/s \n",
      "\u001b[?25hCollecting text-unidecode==1.2 (from apache-airflow)\n",
      "\u001b[?25l  Downloading https://files.pythonhosted.org/packages/79/42/d717cc2b4520fb09e45b344b1b0b4e81aa672001dd128c180fabc655c341/text_unidecode-1.2-py2.py3-none-any.whl (77kB)\n",
      "\u001b[K     |████████████████████████████████| 81kB 11.2MB/s \n",
      "\u001b[?25hRequirement already satisfied: setuptools in /mnt/disk-1/anaconda3/lib/python3.7/site-packages (from python-daemon<2.2,>=2.1.1->apache-airflow) (41.2.0)\n",
      "Requirement already satisfied: docutils in /mnt/disk-1/anaconda3/lib/python3.7/site-packages (from python-daemon<2.2,>=2.1.1->apache-airflow) (0.14)\n",
      "Requirement already satisfied: lockfile>=0.10 in /mnt/disk-1/anaconda3/lib/python3.7/site-packages (from python-daemon<2.2,>=2.1.1->apache-airflow) (0.12.2)\n",
      "Requirement already satisfied: six>=1.7.2 in /mnt/disk-1/anaconda3/lib/python3.7/site-packages (from thrift>=0.9.2->apache-airflow) (1.12.0)\n",
      "Requirement already satisfied: natsort in /mnt/disk-1/anaconda3/lib/python3.7/site-packages (from croniter<0.4,>=0.3.17->apache-airflow) (7.0.1)\n",
      "Requirement already satisfied: Mako in /mnt/disk-1/anaconda3/lib/python3.7/site-packages (from alembic<2.0,>=1.0->apache-airflow) (1.0.7)\n",
      "Requirement already satisfied: python-editor>=0.3 in /mnt/disk-1/anaconda3/lib/python3.7/site-packages (from alembic<2.0,>=1.0->apache-airflow) (1.0.4)\n",
      "Requirement already satisfied: pyrsistent>=0.14.0 in /mnt/disk-1/anaconda3/lib/python3.7/site-packages (from jsonschema~=3.0->apache-airflow) (0.17.3)\n",
      "Requirement already satisfied: pytz>=2011k in /mnt/disk-1/anaconda3/lib/python3.7/site-packages (from pandas<1.0.0,>=0.17.1->apache-airflow) (2018.7)\n",
      "Requirement already satisfied: numpy>=1.9.0 in /mnt/disk-1/anaconda3/lib/python3.7/site-packages (from pandas<1.0.0,>=0.17.1->apache-airflow) (1.16.2)\n",
      "Requirement already satisfied: pytzdata>=2018.3.0.0 in /mnt/disk-1/anaconda3/lib/python3.7/site-packages (from pendulum==1.4.4->apache-airflow) (2020.1)\n",
      "Requirement already satisfied: wtforms in /mnt/disk-1/anaconda3/lib/python3.7/site-packages (from flask-admin==1.5.4->apache-airflow) (2.3.3)\n",
      "Requirement already satisfied: importlib-metadata<3,>=0.23; python_version == \"3.7\" in /mnt/disk-1/anaconda3/lib/python3.7/site-packages (from argcomplete~=1.10->apache-airflow) (1.7.0)\n",
      "Requirement already satisfied: colorama<1,>=0.3.9 in /mnt/disk-1/anaconda3/lib/python3.7/site-packages (from flask-appbuilder~=2.2; python_version >= \"3.6\"->apache-airflow) (0.4.1)\n",
      "Requirement already satisfied: PyJWT>=1.7.1 in /mnt/disk-1/anaconda3/lib/python3.7/site-packages (from flask-appbuilder~=2.2; python_version >= \"3.6\"->apache-airflow) (1.7.1)\n",
      "Requirement already satisfied: Flask-OpenID<2,>=1.2.5 in /mnt/disk-1/anaconda3/lib/python3.7/site-packages (from flask-appbuilder~=2.2; python_version >= \"3.6\"->apache-airflow) (1.2.5)\n",
      "Requirement already satisfied: Flask-JWT-Extended<4,>=3.18 in /mnt/disk-1/anaconda3/lib/python3.7/site-packages (from flask-appbuilder~=2.2; python_version >= \"3.6\"->apache-airflow) (3.24.1)\n",
      "Requirement already satisfied: marshmallow-enum<2,>=1.4.1 in /mnt/disk-1/anaconda3/lib/python3.7/site-packages (from flask-appbuilder~=2.2; python_version >= \"3.6\"->apache-airflow) (1.5.1)\n",
      "Requirement already satisfied: apispec[yaml]<2,>=1.1.1 in /mnt/disk-1/anaconda3/lib/python3.7/site-packages (from flask-appbuilder~=2.2; python_version >= \"3.6\"->apache-airflow) (1.3.3)\n",
      "Requirement already satisfied: Flask-Babel<1,>=0.11.1 in /mnt/disk-1/anaconda3/lib/python3.7/site-packages (from flask-appbuilder~=2.2; python_version >= \"3.6\"->apache-airflow) (0.12.2)\n",
      "Requirement already satisfied: sqlalchemy-utils<1,>=0.32.21 in /mnt/disk-1/anaconda3/lib/python3.7/site-packages (from flask-appbuilder~=2.2; python_version >= \"3.6\"->apache-airflow) (0.36.8)\n",
      "Collecting marshmallow<2.20,>=2.18.0 (from flask-appbuilder~=2.2; python_version >= \"3.6\"->apache-airflow)\n",
      "\u001b[?25l  Downloading https://files.pythonhosted.org/packages/77/0b/ee5a4d0b7bc88bb3b59a25fb40e1811810c039f7faa1e87dcdcbcb1fdc33/marshmallow-2.19.5-py2.py3-none-any.whl (50kB)\n",
      "\u001b[K     |████████████████████████████████| 51kB 13.9MB/s \n",
      "\u001b[?25hRequirement already satisfied: click<8,>=6.7 in /mnt/disk-1/anaconda3/lib/python3.7/site-packages (from flask-appbuilder~=2.2; python_version >= \"3.6\"->apache-airflow) (7.0)\n",
      "Requirement already satisfied: marshmallow-sqlalchemy<1,>=0.16.1 in /mnt/disk-1/anaconda3/lib/python3.7/site-packages (from flask-appbuilder~=2.2; python_version >= \"3.6\"->apache-airflow) (0.23.1)\n",
      "Requirement already satisfied: prison<1.0.0,>=0.1.2 in /mnt/disk-1/anaconda3/lib/python3.7/site-packages (from flask-appbuilder~=2.2; python_version >= \"3.6\"->apache-airflow) (0.1.3)\n",
      "Requirement already satisfied: Flask-SQLAlchemy<3,>=2.4 in /mnt/disk-1/anaconda3/lib/python3.7/site-packages (from flask-appbuilder~=2.2; python_version >= \"3.6\"->apache-airflow) (2.4.4)\n",
      "Requirement already satisfied: itsdangerous>=0.24 in /mnt/disk-1/anaconda3/lib/python3.7/site-packages (from flask<2.0,>=1.1.0->apache-airflow) (1.1.0)\n",
      "Requirement already satisfied: chardet<3.1.0,>=3.0.2 in /mnt/disk-1/anaconda3/lib/python3.7/site-packages (from requests<3,>=2.20.0->apache-airflow) (3.0.4)\n",
      "Requirement already satisfied: idna<2.9,>=2.5 in /mnt/disk-1/anaconda3/lib/python3.7/site-packages (from requests<3,>=2.20.0->apache-airflow) (2.8)\n",
      "Requirement already satisfied: urllib3<1.25,>=1.21.1 in /mnt/disk-1/anaconda3/lib/python3.7/site-packages (from requests<3,>=2.20.0->apache-airflow) (1.24.1)\n",
      "Requirement already satisfied: certifi>=2017.4.17 in /mnt/disk-1/anaconda3/lib/python3.7/site-packages (from requests<3,>=2.20.0->apache-airflow) (2021.10.8)\n",
      "Requirement already satisfied: PyYAML>=3.0 in /mnt/disk-1/anaconda3/lib/python3.7/site-packages (from flask-swagger==0.2.13->apache-airflow) (5.3.1)\n",
      "Requirement already satisfied: MarkupSafe>=0.23 in /mnt/disk-1/anaconda3/lib/python3.7/site-packages (from jinja2<2.11.0,>=2.10.1->apache-airflow) (1.1.0)\n",
      "Requirement already satisfied: zipp>=0.5 in /mnt/disk-1/anaconda3/lib/python3.7/site-packages (from importlib-metadata<3,>=0.23; python_version == \"3.7\"->argcomplete~=1.10->apache-airflow) (3.1.0)\n",
      "Requirement already satisfied: python3-openid>=2.0 in /mnt/disk-1/anaconda3/lib/python3.7/site-packages (from Flask-OpenID<2,>=1.2.5->flask-appbuilder~=2.2; python_version >= \"3.6\"->apache-airflow) (3.1.0)\n",
      "Collecting enum34 (from marshmallow-enum<2,>=1.4.1->flask-appbuilder~=2.2; python_version >= \"3.6\"->apache-airflow)\n",
      "  Downloading https://files.pythonhosted.org/packages/63/f6/ccb1c83687756aeabbf3ca0f213508fcfb03883ff200d201b3a4c60cedcc/enum34-1.1.10-py3-none-any.whl\n",
      "Requirement already satisfied: Babel>=2.3 in /mnt/disk-1/anaconda3/lib/python3.7/site-packages (from Flask-Babel<1,>=0.11.1->flask-appbuilder~=2.2; python_version >= \"3.6\"->apache-airflow) (2.6.0)\n",
      "Requirement already satisfied: defusedxml in /mnt/disk-1/anaconda3/lib/python3.7/site-packages (from python3-openid>=2.0->Flask-OpenID<2,>=1.2.5->flask-appbuilder~=2.2; python_version >= \"3.6\"->apache-airflow) (0.5.0)\n",
      "Building wheels for collected packages: tzlocal\n",
      "  Building wheel for tzlocal (setup.py) ... \u001b[?25ldone\n",
      "\u001b[?25h  Created wheel for tzlocal: filename=tzlocal-1.5.1-cp37-none-any.whl size=17545 sha256=83067c3f158093a11e248bb497067b60499eface49c34e1ffc3d7724ad76186b\n",
      "  Stored in directory: /home/jakub.cajzl/.cache/pip/wheels/15/ae/df/a67bf1ed84e9bf230187d36d8dcfd30072bea0236cb059ed91\n",
      "Successfully built tzlocal\n",
      "\u001b[31mERROR: flask 1.1.1 has requirement Werkzeug>=0.15, but you'll have werkzeug 0.14.1 which is incompatible.\u001b[0m\n",
      "Installing collected packages: python-daemon, tenacity, cattrs, configparser, colorlog, markdown, tzlocal, flask-caching, gunicorn, jinja2, text-unidecode, marshmallow, enum34\n",
      "  Found existing installation: python-daemon 2.2.4\n",
      "    Uninstalling python-daemon-2.2.4:\n",
      "\u001b[31mERROR: Could not install packages due to an EnvironmentError: [Errno 30] Read-only file system: 'daemon.py'\n",
      "\u001b[0m\n"
     ]
    }
   ],
   "source": [
    "!pip install apache-airflow"
   ]
  },
  {
   "cell_type": "code",
   "execution_count": 474,
   "metadata": {},
   "outputs": [
    {
     "name": "stdout",
     "output_type": "stream",
     "text": [
      "Collecting Werkzeug\n",
      "\u001b[?25l  Downloading https://files.pythonhosted.org/packages/f6/f8/9da63c1617ae2a1dec2fbf6412f3a0cfe9d4ce029eccbda6e1e4258ca45f/Werkzeug-2.2.3-py3-none-any.whl (233kB)\n",
      "\u001b[K     |████████████████████████████████| 235kB 6.1MB/s \n",
      "\u001b[?25hCollecting MarkupSafe>=2.1.1 (from Werkzeug)\n",
      "  Downloading https://files.pythonhosted.org/packages/87/5b/aae44c6655f3801e81aa3eef09dbbf012431987ba564d7231722f68df02d/MarkupSafe-2.1.5.tar.gz\n",
      "Building wheels for collected packages: MarkupSafe\n",
      "  Building wheel for MarkupSafe (setup.py) ... \u001b[?25ldone\n",
      "\u001b[?25h  Created wheel for MarkupSafe: filename=MarkupSafe-2.1.5-cp37-none-any.whl size=9890 sha256=8f667d00912fa5430176dd67f1525cf20b875c34b0c0904c6fc5a3a67e1d14af\n",
      "  Stored in directory: /home/jakub.cajzl/.cache/pip/wheels/bd/d4/28/f67d8848991ef01185aec9d27a5bf346a74e39f5b8ac3ccbdb\n",
      "Successfully built MarkupSafe\n",
      "\u001b[31mERROR: flask-appbuilder 2.2.1 has requirement marshmallow<2.20,>=2.18.0, but you'll have marshmallow 3.8.0 which is incompatible.\u001b[0m\n",
      "\u001b[31mERROR: apache-airflow 1.10.10 has requirement cattrs~=0.9, but you'll have cattrs 1.0.0 which is incompatible.\u001b[0m\n",
      "\u001b[31mERROR: apache-airflow 1.10.10 has requirement colorlog==4.0.2, but you'll have colorlog 4.2.1 which is incompatible.\u001b[0m\n",
      "\u001b[31mERROR: apache-airflow 1.10.10 has requirement configparser<3.6.0,>=3.5.0, but you'll have configparser 5.0.0 which is incompatible.\u001b[0m\n",
      "\u001b[31mERROR: apache-airflow 1.10.10 has requirement flask-caching<1.4.0,>=1.3.3, but you'll have flask-caching 1.9.0 which is incompatible.\u001b[0m\n",
      "\u001b[31mERROR: apache-airflow 1.10.10 has requirement gunicorn<20.0,>=19.5.0, but you'll have gunicorn 20.0.4 which is incompatible.\u001b[0m\n",
      "\u001b[31mERROR: apache-airflow 1.10.10 has requirement jinja2<2.11.0,>=2.10.1, but you'll have jinja2 2.11.2 which is incompatible.\u001b[0m\n",
      "\u001b[31mERROR: apache-airflow 1.10.10 has requirement markdown<3.0,>=2.5.2, but you'll have markdown 3.2.2 which is incompatible.\u001b[0m\n",
      "\u001b[31mERROR: apache-airflow 1.10.10 has requirement python-daemon<2.2,>=2.1.1, but you'll have python-daemon 2.2.4 which is incompatible.\u001b[0m\n",
      "\u001b[31mERROR: apache-airflow 1.10.10 has requirement tenacity==4.12.0, but you'll have tenacity 6.2.0 which is incompatible.\u001b[0m\n",
      "\u001b[31mERROR: apache-airflow 1.10.10 has requirement text-unidecode==1.2, but you'll have text-unidecode 1.3 which is incompatible.\u001b[0m\n",
      "\u001b[31mERROR: apache-airflow 1.10.10 has requirement tzlocal<2.0.0,>=1.4, but you'll have tzlocal 2.1 which is incompatible.\u001b[0m\n",
      "\u001b[31mERROR: apache-airflow 1.10.10 has requirement werkzeug<1.0.0, but you'll have werkzeug 2.2.3 which is incompatible.\u001b[0m\n",
      "Installing collected packages: MarkupSafe, Werkzeug\n",
      "  Found existing installation: MarkupSafe 1.1.0\n",
      "    Uninstalling MarkupSafe-1.1.0:\n",
      "\u001b[31mERROR: Could not install packages due to an EnvironmentError: [Errno 30] Read-only file system: 'PKG-INFO'\n",
      "\u001b[0m\n"
     ]
    }
   ],
   "source": [
    "!pip install --upgrade Werkzeug"
   ]
  },
  {
   "cell_type": "code",
   "execution_count": 480,
   "metadata": {},
   "outputs": [
    {
     "ename": "ModuleNotFoundError",
     "evalue": "No module named 'werkzeug.wrappers.json'; 'werkzeug.wrappers' is not a package",
     "output_type": "error",
     "traceback": [
      "\u001b[0;31m---------------------------------------------------------------------------\u001b[0m",
      "\u001b[0;31mModuleNotFoundError\u001b[0m                       Traceback (most recent call last)",
      "\u001b[0;32m<ipython-input-480-6452413eb644>\u001b[0m in \u001b[0;36m<module>\u001b[0;34m\u001b[0m\n\u001b[0;32m----> 1\u001b[0;31m \u001b[0;32mimport\u001b[0m \u001b[0mairflow\u001b[0m\u001b[0;34m\u001b[0m\u001b[0;34m\u001b[0m\u001b[0m\n\u001b[0m",
      "\u001b[0;32m/mnt/disk-1/anaconda3/lib/python3.7/site-packages/airflow/__init__.py\u001b[0m in \u001b[0;36m<module>\u001b[0;34m\u001b[0m\n\u001b[1;32m     41\u001b[0m \u001b[0;32mfrom\u001b[0m \u001b[0mairflow\u001b[0m\u001b[0;34m.\u001b[0m\u001b[0mconfiguration\u001b[0m \u001b[0;32mimport\u001b[0m \u001b[0mconf\u001b[0m\u001b[0;34m\u001b[0m\u001b[0;34m\u001b[0m\u001b[0m\n\u001b[1;32m     42\u001b[0m \u001b[0;32mfrom\u001b[0m \u001b[0mairflow\u001b[0m\u001b[0;34m.\u001b[0m\u001b[0mmodels\u001b[0m \u001b[0;32mimport\u001b[0m \u001b[0mDAG\u001b[0m\u001b[0;34m\u001b[0m\u001b[0;34m\u001b[0m\u001b[0m\n\u001b[0;32m---> 43\u001b[0;31m \u001b[0;32mfrom\u001b[0m \u001b[0mflask_admin\u001b[0m \u001b[0;32mimport\u001b[0m \u001b[0mBaseView\u001b[0m\u001b[0;34m\u001b[0m\u001b[0;34m\u001b[0m\u001b[0m\n\u001b[0m\u001b[1;32m     44\u001b[0m \u001b[0;32mfrom\u001b[0m \u001b[0mimportlib\u001b[0m \u001b[0;32mimport\u001b[0m \u001b[0mimport_module\u001b[0m\u001b[0;34m\u001b[0m\u001b[0;34m\u001b[0m\u001b[0m\n\u001b[1;32m     45\u001b[0m \u001b[0;32mfrom\u001b[0m \u001b[0mairflow\u001b[0m\u001b[0;34m.\u001b[0m\u001b[0mexceptions\u001b[0m \u001b[0;32mimport\u001b[0m \u001b[0mAirflowException\u001b[0m\u001b[0;34m\u001b[0m\u001b[0;34m\u001b[0m\u001b[0m\n",
      "\u001b[0;32m/mnt/disk-1/anaconda3/lib/python3.7/site-packages/flask_admin/__init__.py\u001b[0m in \u001b[0;36m<module>\u001b[0;34m\u001b[0m\n\u001b[1;32m      4\u001b[0m \u001b[0;34m\u001b[0m\u001b[0m\n\u001b[1;32m      5\u001b[0m \u001b[0;34m\u001b[0m\u001b[0m\n\u001b[0;32m----> 6\u001b[0;31m \u001b[0;32mfrom\u001b[0m \u001b[0;34m.\u001b[0m\u001b[0mbase\u001b[0m \u001b[0;32mimport\u001b[0m \u001b[0mexpose\u001b[0m\u001b[0;34m,\u001b[0m \u001b[0mexpose_plugview\u001b[0m\u001b[0;34m,\u001b[0m \u001b[0mAdmin\u001b[0m\u001b[0;34m,\u001b[0m \u001b[0mBaseView\u001b[0m\u001b[0;34m,\u001b[0m \u001b[0mAdminIndexView\u001b[0m  \u001b[0;31m# noqa: F401\u001b[0m\u001b[0;34m\u001b[0m\u001b[0;34m\u001b[0m\u001b[0m\n\u001b[0m",
      "\u001b[0;32m/mnt/disk-1/anaconda3/lib/python3.7/site-packages/flask_admin/base.py\u001b[0m in \u001b[0;36m<module>\u001b[0;34m\u001b[0m\n\u001b[1;32m      4\u001b[0m \u001b[0;32mfrom\u001b[0m \u001b[0mfunctools\u001b[0m \u001b[0;32mimport\u001b[0m \u001b[0mwraps\u001b[0m\u001b[0;34m\u001b[0m\u001b[0;34m\u001b[0m\u001b[0m\n\u001b[1;32m      5\u001b[0m \u001b[0;34m\u001b[0m\u001b[0m\n\u001b[0;32m----> 6\u001b[0;31m \u001b[0;32mfrom\u001b[0m \u001b[0mflask\u001b[0m \u001b[0;32mimport\u001b[0m \u001b[0mBlueprint\u001b[0m\u001b[0;34m,\u001b[0m \u001b[0mcurrent_app\u001b[0m\u001b[0;34m,\u001b[0m \u001b[0mrender_template\u001b[0m\u001b[0;34m,\u001b[0m \u001b[0mabort\u001b[0m\u001b[0;34m,\u001b[0m \u001b[0mg\u001b[0m\u001b[0;34m,\u001b[0m \u001b[0murl_for\u001b[0m\u001b[0;34m\u001b[0m\u001b[0;34m\u001b[0m\u001b[0m\n\u001b[0m\u001b[1;32m      7\u001b[0m \u001b[0;32mfrom\u001b[0m \u001b[0mflask_admin\u001b[0m \u001b[0;32mimport\u001b[0m \u001b[0mbabel\u001b[0m\u001b[0;34m\u001b[0m\u001b[0;34m\u001b[0m\u001b[0m\n\u001b[1;32m      8\u001b[0m \u001b[0;32mfrom\u001b[0m \u001b[0mflask_admin\u001b[0m\u001b[0;34m.\u001b[0m\u001b[0m_compat\u001b[0m \u001b[0;32mimport\u001b[0m \u001b[0mwith_metaclass\u001b[0m\u001b[0;34m,\u001b[0m \u001b[0mas_unicode\u001b[0m\u001b[0;34m\u001b[0m\u001b[0;34m\u001b[0m\u001b[0m\n",
      "\u001b[0;32m/mnt/disk-1/anaconda3/lib/python3.7/site-packages/flask/__init__.py\u001b[0m in \u001b[0;36m<module>\u001b[0;34m\u001b[0m\n\u001b[1;32m     19\u001b[0m \u001b[0;32mfrom\u001b[0m \u001b[0;34m.\u001b[0m \u001b[0;32mimport\u001b[0m \u001b[0mjson\u001b[0m\u001b[0;34m\u001b[0m\u001b[0;34m\u001b[0m\u001b[0m\n\u001b[1;32m     20\u001b[0m \u001b[0;32mfrom\u001b[0m \u001b[0;34m.\u001b[0m\u001b[0m_compat\u001b[0m \u001b[0;32mimport\u001b[0m \u001b[0mjson_available\u001b[0m\u001b[0;34m\u001b[0m\u001b[0;34m\u001b[0m\u001b[0m\n\u001b[0;32m---> 21\u001b[0;31m \u001b[0;32mfrom\u001b[0m \u001b[0;34m.\u001b[0m\u001b[0mapp\u001b[0m \u001b[0;32mimport\u001b[0m \u001b[0mFlask\u001b[0m\u001b[0;34m\u001b[0m\u001b[0;34m\u001b[0m\u001b[0m\n\u001b[0m\u001b[1;32m     22\u001b[0m \u001b[0;32mfrom\u001b[0m \u001b[0;34m.\u001b[0m\u001b[0mapp\u001b[0m \u001b[0;32mimport\u001b[0m \u001b[0mRequest\u001b[0m\u001b[0;34m\u001b[0m\u001b[0;34m\u001b[0m\u001b[0m\n\u001b[1;32m     23\u001b[0m \u001b[0;32mfrom\u001b[0m \u001b[0;34m.\u001b[0m\u001b[0mapp\u001b[0m \u001b[0;32mimport\u001b[0m \u001b[0mResponse\u001b[0m\u001b[0;34m\u001b[0m\u001b[0;34m\u001b[0m\u001b[0m\n",
      "\u001b[0;32m/mnt/disk-1/anaconda3/lib/python3.7/site-packages/flask/app.py\u001b[0m in \u001b[0;36m<module>\u001b[0;34m\u001b[0m\n\u001b[1;32m     67\u001b[0m \u001b[0;32mfrom\u001b[0m \u001b[0;34m.\u001b[0m\u001b[0mtemplating\u001b[0m \u001b[0;32mimport\u001b[0m \u001b[0mDispatchingJinjaLoader\u001b[0m\u001b[0;34m\u001b[0m\u001b[0;34m\u001b[0m\u001b[0m\n\u001b[1;32m     68\u001b[0m \u001b[0;32mfrom\u001b[0m \u001b[0;34m.\u001b[0m\u001b[0mtemplating\u001b[0m \u001b[0;32mimport\u001b[0m \u001b[0mEnvironment\u001b[0m\u001b[0;34m\u001b[0m\u001b[0;34m\u001b[0m\u001b[0m\n\u001b[0;32m---> 69\u001b[0;31m \u001b[0;32mfrom\u001b[0m \u001b[0;34m.\u001b[0m\u001b[0mwrappers\u001b[0m \u001b[0;32mimport\u001b[0m \u001b[0mRequest\u001b[0m\u001b[0;34m\u001b[0m\u001b[0;34m\u001b[0m\u001b[0m\n\u001b[0m\u001b[1;32m     70\u001b[0m \u001b[0;32mfrom\u001b[0m \u001b[0;34m.\u001b[0m\u001b[0mwrappers\u001b[0m \u001b[0;32mimport\u001b[0m \u001b[0mResponse\u001b[0m\u001b[0;34m\u001b[0m\u001b[0;34m\u001b[0m\u001b[0m\n\u001b[1;32m     71\u001b[0m \u001b[0;34m\u001b[0m\u001b[0m\n",
      "\u001b[0;32m/mnt/disk-1/anaconda3/lib/python3.7/site-packages/flask/wrappers.py\u001b[0m in \u001b[0;36m<module>\u001b[0;34m\u001b[0m\n\u001b[1;32m     12\u001b[0m \u001b[0;32mfrom\u001b[0m \u001b[0mwerkzeug\u001b[0m\u001b[0;34m.\u001b[0m\u001b[0mwrappers\u001b[0m \u001b[0;32mimport\u001b[0m \u001b[0mRequest\u001b[0m \u001b[0;32mas\u001b[0m \u001b[0mRequestBase\u001b[0m\u001b[0;34m\u001b[0m\u001b[0;34m\u001b[0m\u001b[0m\n\u001b[1;32m     13\u001b[0m \u001b[0;32mfrom\u001b[0m \u001b[0mwerkzeug\u001b[0m\u001b[0;34m.\u001b[0m\u001b[0mwrappers\u001b[0m \u001b[0;32mimport\u001b[0m \u001b[0mResponse\u001b[0m \u001b[0;32mas\u001b[0m \u001b[0mResponseBase\u001b[0m\u001b[0;34m\u001b[0m\u001b[0;34m\u001b[0m\u001b[0m\n\u001b[0;32m---> 14\u001b[0;31m \u001b[0;32mfrom\u001b[0m \u001b[0mwerkzeug\u001b[0m\u001b[0;34m.\u001b[0m\u001b[0mwrappers\u001b[0m\u001b[0;34m.\u001b[0m\u001b[0mjson\u001b[0m \u001b[0;32mimport\u001b[0m \u001b[0mJSONMixin\u001b[0m \u001b[0;32mas\u001b[0m \u001b[0m_JSONMixin\u001b[0m\u001b[0;34m\u001b[0m\u001b[0;34m\u001b[0m\u001b[0m\n\u001b[0m\u001b[1;32m     15\u001b[0m \u001b[0;34m\u001b[0m\u001b[0m\n\u001b[1;32m     16\u001b[0m \u001b[0;32mfrom\u001b[0m \u001b[0;34m.\u001b[0m \u001b[0;32mimport\u001b[0m \u001b[0mjson\u001b[0m\u001b[0;34m\u001b[0m\u001b[0;34m\u001b[0m\u001b[0m\n",
      "\u001b[0;31mModuleNotFoundError\u001b[0m: No module named 'werkzeug.wrappers.json'; 'werkzeug.wrappers' is not a package"
     ]
    }
   ],
   "source": [
    "import airflow"
   ]
  },
  {
   "cell_type": "markdown",
   "metadata": {},
   "source": [
    "## Setting up Airflow"
   ]
  },
  {
   "cell_type": "code",
   "execution_count": null,
   "metadata": {},
   "outputs": [],
   "source": [
    "# Initialize the Airflow database\n",
    "airflow db init\n",
    "\n",
    "# Start the Airflow web server\n",
    "airflow webserver --port 8080\n",
    "\n",
    "# Start the Airflow scheduler\n",
    "airflow scheduler"
   ]
  },
  {
   "cell_type": "markdown",
   "metadata": {},
   "source": [
    "## Testing Airflow"
   ]
  },
  {
   "cell_type": "code",
   "execution_count": null,
   "metadata": {},
   "outputs": [],
   "source": [
    "# Example .py script:\n",
    "\n",
    "from pyspark.sql import SparkSession\n",
    "\n",
    "def main():\n",
    "    spark = SparkSession.builder \\\n",
    "        .appName(\"Example PySpark Job\") \\\n",
    "        .getOrCreate()\n",
    "\n",
    "    data = [(\"Alice\", 34), (\"Bob\", 45), (\"Cathy\", 29)]\n",
    "    df = spark.createDataFrame(data, [\"Name\", \"Age\"])\n",
    "\n",
    "    df.show()\n",
    "\n",
    "    spark.stop()\n",
    "\n",
    "if __name__ == \"__main__\":\n",
    "    main()"
   ]
  },
  {
   "cell_type": "markdown",
   "metadata": {},
   "source": [
    "### Creating an Airflow DAG"
   ]
  },
  {
   "cell_type": "code",
   "execution_count": null,
   "metadata": {},
   "outputs": [],
   "source": [
    "from airflow import DAG\n",
    "from airflow.operators.bash_operator import BashOperator\n",
    "from datetime import datetime, timedelta\n",
    "\n",
    "# Define default arguments\n",
    "default_args = {\n",
    "    'owner': 'airflow',\n",
    "    'depends_on_past': False,\n",
    "    'start_date': datetime(2023, 1, 1),\n",
    "    'email_on_failure': False,\n",
    "    'email_on_retry': False,\n",
    "    'retries': 1,\n",
    "    'retry_delay': timedelta(minutes=5),\n",
    "    }\n",
    "\n",
    "# Define the DAG\n",
    "dag = DAG(\n",
    "    'pyspark_job',\n",
    "    default_args=default_args,\n",
    "    description='A simple DAG to run a PySpark job',\n",
    "    schedule_interval=timedelta(days=1),\n",
    "    )\n",
    "\n",
    "# Define the BashOperator to run the PySpark script\n",
    "run_pyspark_job = BashOperator(\n",
    "    task_id='run_pyspark_job',\n",
    "    bash_command='spark-submit /path/to/pyspark_job.py',\n",
    "    dag=dag,\n",
    "    )\n",
    "\n",
    "# Set the task in the DAG\n",
    "run_pyspark_job"
   ]
  },
  {
   "cell_type": "markdown",
   "metadata": {},
   "source": [
    "# Setting up environment"
   ]
  },
  {
   "cell_type": "markdown",
   "metadata": {},
   "source": [
    "## Python version"
   ]
  },
  {
   "cell_type": "code",
   "execution_count": 527,
   "metadata": {},
   "outputs": [
    {
     "data": {
      "text/plain": [
       "'3.7.3 | packaged by conda-forge | (default, Jul  1 2019, 21:52:21) \\n[GCC 7.3.0]'"
      ]
     },
     "execution_count": 527,
     "metadata": {},
     "output_type": "execute_result"
    }
   ],
   "source": [
    "sys.version"
   ]
  },
  {
   "cell_type": "markdown",
   "metadata": {},
   "source": [
    "## Kerberos login"
   ]
  },
  {
   "cell_type": "code",
   "execution_count": 492,
   "metadata": {},
   "outputs": [
    {
     "name": "stdout",
     "output_type": "stream",
     "text": [
      "Ticket cache: FILE:/tmp/krb5cc_1512864696\n",
      "Default principal: Jakub.Cajzl@ADASTRA.CZ\n",
      "\n",
      "Valid starting       Expires              Service principal\n",
      "06/26/2024 11:10:42  06/27/2024 11:10:42  krbtgt/ADASTRA.CZ@ADASTRA.CZ\n"
     ]
    }
   ],
   "source": [
    "# Closing all active Kerberos connections (tickets):\n",
    "# !kdestroy\n",
    "\n",
    "# Starting a Kerberos connection:\n",
    "!kinit -kt Jakub.Cajzl.keytab Jakub.Cajzl\n",
    "\n",
    "# Displaying active tickets:\n",
    "!klist"
   ]
  },
  {
   "cell_type": "markdown",
   "metadata": {},
   "source": [
    "## Hadoop server and Spark home"
   ]
  },
  {
   "cell_type": "code",
   "execution_count": 481,
   "metadata": {},
   "outputs": [
    {
     "name": "stdout",
     "output_type": "stream",
     "text": [
      "/opt/cloudera/parcels/SPARK3/lib/spark3\n"
     ]
    }
   ],
   "source": [
    "!echo $SPARK_HOME"
   ]
  },
  {
   "cell_type": "code",
   "execution_count": 482,
   "metadata": {},
   "outputs": [
    {
     "name": "stdout",
     "output_type": "stream",
     "text": [
      "/etc/hive/conf\n"
     ]
    }
   ],
   "source": [
    "!echo $HADOOP_CONF_DIR "
   ]
  },
  {
   "cell_type": "markdown",
   "metadata": {},
   "source": [
    "## Libraries"
   ]
  },
  {
   "cell_type": "code",
   "execution_count": 493,
   "metadata": {},
   "outputs": [],
   "source": [
    "# ========================================================== #\n",
    "# Importing Python libraries:\n",
    "# ========================================================== #\n",
    "\n",
    "# Main libraries:\n",
    "import sys, os, subprocess\n",
    "from datetime import datetime, date\n",
    "\n",
    "# Logging:\n",
    "import logging\n",
    "from logging.handlers import QueueHandler, QueueListener\n",
    "from queue import Queue\n",
    "import yaml\n",
    "from yaml import load\n",
    "\n",
    "try:\n",
    "    from yaml import CLoader as Loader\n",
    "except ImportError:\n",
    "    from yaml import Loader\n",
    "\n",
    "# Main libraries:\n",
    "import pandas as pd\n",
    "import numpy as np\n",
    "\n",
    "# Statistics libraries:\n",
    "import scipy as stats\n",
    "\n",
    "# Plotting libraries:\n",
    "import matplotlib.pyplot as plt\n",
    "# import seaborn as sns\n",
    "# import plotly.express as px\n",
    "\n",
    "# ========================================================== #\n",
    "# Importing PySpark libraries:\n",
    "# ========================================================== #\n",
    "\n",
    "import pyspark\n",
    "from pyspark import SparkConf, SparkContext, StorageLevel\n",
    "from pyspark.sql import SparkSession, DataFrame, SQLContext\n",
    "\n",
    "# from pyspark.sql import types as T, functions as F\n",
    "\n",
    "from pyspark.sql.functions import col\n",
    "from pyspark.sql.types import *\n",
    "\n",
    "# It is better to load pySpark version of Pandas as 'ps' instead of 'pd'\n",
    "# because pySpark has differences in their version of Pandas \n",
    "# (mainly because pySpark is masivelly parallelized and has many \n",
    "# parallelization parameters).\n",
    "# from pyspark import pandas as ps"
   ]
  },
  {
   "cell_type": "code",
   "execution_count": 494,
   "metadata": {},
   "outputs": [],
   "source": [
    "# Setting-up the display options for Pandas dataframes to display 100 columns and rows (not truncated):\n",
    "pd.options.display.max_columns = 1000\n",
    "pd.options.display.max_rows = 1000"
   ]
  },
  {
   "cell_type": "code",
   "execution_count": 614,
   "metadata": {},
   "outputs": [
    {
     "name": "stdout",
     "output_type": "stream",
     "text": [
      "Current configuration:\n",
      "\n",
      "logger: \n",
      "  file: log_file.log\n",
      "  encoding: utf-8\n",
      "  level: logging.INFO\n",
      "  format: %(asctime)s | %(levelname)s | line: %(lineno)d | %(funcName)s: %(message)s\n",
      "files: \n",
      "  jobs: hdfs_files/kaggle_dataset/job_postings.csv\n",
      "  companies: hdfs_files/kaggle_dataset/companies.csv\n",
      "  industries: hdfs_files/kaggle_dataset/company_industries.csv\n",
      "  salaries: hdfs_files/kaggle_dataset/salaries.csv\n",
      "  employee_counts: hdfs_files/kaggle_dataset/employee_counts.csv\n",
      "  job_skills: hdfs_files/kaggle_dataset/job_skills.csv\n",
      "  skills_map: hdfs_files/kaggle_dataset/skills.csv\n",
      "delimiter_import: ,\n",
      "delimiter_export: `\n",
      "dataframes_to_check: \n",
      "  df_jobs: job_id\n",
      "  df_companies: company_id\n",
      "  df_salaries: job_id\n",
      "  df_industries: company_id\n",
      "  df_employee_counts: company_id\n",
      "  df_skills: job_id\n"
     ]
    }
   ],
   "source": [
    "# ======================================================================== #\n",
    "\n",
    "# Importing configuration settings from a YAML file:\n",
    "if __name__ == '__main__':\n",
    "    \n",
    "    configuration_file = \"configuration.yaml\"\n",
    "    \n",
    "    with open(configuration_file, 'r', encoding='utf-8') as stream:\n",
    "        configuration = yaml.load(stream, Loader)\n",
    "        \n",
    "        \n",
    "# Function to print YAML (nested dictionary):\n",
    "def print_configuration(dictionary, indent=0):    \n",
    "    for key, value in dictionary.items():\n",
    "        \n",
    "        # Printing a key:\n",
    "        print('  ' * indent + str(key) + ':', end=' ')\n",
    "        \n",
    "        # Printing a value:\n",
    "        if isinstance(value, dict):\n",
    "            print()\n",
    "            print_configuration(value, indent+1)\n",
    "        else:\n",
    "            print(value)\n",
    "\n",
    "            \n",
    "# Displaying the configuration (printing out the nested YAML data):\n",
    "print(\"Current configuration:\\n\")\n",
    "print_configuration(configuration)"
   ]
  },
  {
   "cell_type": "markdown",
   "metadata": {},
   "source": [
    "## Logger"
   ]
  },
  {
   "cell_type": "code",
   "execution_count": 510,
   "metadata": {},
   "outputs": [
    {
     "data": {
      "text/plain": [
       "[<StreamHandler stderr (NOTSET)>,\n",
       " <StreamHandler stdout (DEBUG)>,\n",
       " <StreamHandler stdout (INFO)>,\n",
       " <StreamHandler stdout (DEBUG)>]"
      ]
     },
     "execution_count": 510,
     "metadata": {},
     "output_type": "execute_result"
    }
   ],
   "source": [
    "# Displaying all current handlers of logging (should be none):\n",
    "logger = logging.getLogger()  # Initializing a logger\n",
    "logger.handlers[:]"
   ]
  },
  {
   "cell_type": "code",
   "execution_count": 603,
   "metadata": {},
   "outputs": [],
   "source": [
    "# Removing all old handlers:\n",
    "for handler in logger.handlers[:]:\n",
    "    logger.removeHandler(handler)"
   ]
  },
  {
   "cell_type": "code",
   "execution_count": 597,
   "metadata": {},
   "outputs": [
    {
     "data": {
      "text/plain": [
       "[]"
      ]
     },
     "execution_count": 597,
     "metadata": {},
     "output_type": "execute_result"
    }
   ],
   "source": [
    "# Displaying all current handlers of logging (should be none):\n",
    "logger.handlers[:]"
   ]
  },
  {
   "cell_type": "code",
   "execution_count": 611,
   "metadata": {},
   "outputs": [
    {
     "name": "stdout",
     "output_type": "stream",
     "text": [
      "Logger configuration succesfully loaded.\n"
     ]
    }
   ],
   "source": [
    "# Setting-up and starting a logger:\n",
    "\n",
    "# Starting a logger:\n",
    "logger = logging.getLogger(__name__)\n",
    "\n",
    "\n",
    "# Setting-up a logger:\n",
    "\n",
    "# IMPORTANT INFO:\n",
    "# \"logging.basicConfig\" does *nothing* if a handler has been set up already. The only option is to set the keyword argument \"force\" to \"True\"\n",
    "\n",
    "try:\n",
    "    logging.basicConfig(\n",
    "        # force = True,  # From Python 3.8 (I have 3.7.3.). If this keyword argument is specified as true, any existing handlers attached to the root logger are removed and closed, before carrying out the configuration as specified by the other arguments.\n",
    "        filename = configuration['logger']['file'],  # Using a FileHandler rather than a StreamHandler\n",
    "        # stream = sys.stdout,  # Using a StreamHandler rather than a FileHandler. IMPORTANT: This argument is incompatible with *filename* - if both are present, a ValueError is raised.\n",
    "        encoding = configuration['logger']['encoding'],\n",
    "        level = logging.INFO,\n",
    "        format = configuration['logger']['format'],\n",
    "        )\n",
    "    print(\"Logger configuration succesfully loaded.\")\n",
    "    logger.info(f'Logger configuration succesfully loaded from a file \"{logger_filename}\"')\n",
    "except Exception as error:\n",
    "    logger.error(f'Error: {error}')\n",
    "    logger.warning(f'Logger configuration was not loaded from a file \"{logger_filename}\"')\n",
    "\n",
    "    \n",
    "# Setting a logger level:\n",
    "#logger.setLevel(logging.INFO)\n",
    "    \n",
    "# Adding a logger handler:\n",
    "#logger.addHandler(handler)"
   ]
  },
  {
   "cell_type": "code",
   "execution_count": null,
   "metadata": {},
   "outputs": [],
   "source": [
    "# Other version of logging configuration:\n",
    "\n",
    "# Logging configuration:\n",
    "#formatter = logging.Formatter('[%(asctime)s] %(levelname)s @ line %(lineno)d: %(message)s')\n",
    "#handler = logging.StreamHandler(sys.stdout)\n",
    "#handler.setLevel(logging.INFO)\n",
    "#handler.setFormatter(formatter)\n",
    "#logger = logging.getLogger()\n",
    "#logger.setLevel(logging.INFO)\n",
    "#logger.addHandler(handler)"
   ]
  },
  {
   "cell_type": "code",
   "execution_count": 488,
   "metadata": {},
   "outputs": [],
   "source": [
    "# Defining a function for clearing Log file (i.e. deleting rows > 'max_rows'):\n",
    "def clear_log(file_path, max_rows):\n",
    "    \"\"\"\n",
    "    The function clears log file, i.e. deletes rows > 'max_rows'.\n",
    "    \n",
    "    Parameters:\n",
    "    - file_path (string): path of the log file\n",
    "    - max_rows (str): maximum number of rows that the log file should have\n",
    "    \"\"\"\n",
    "    \n",
    "    # Read the content of the file:\n",
    "    with open(file_path, 'r', encoding='utf8') as file:\n",
    "        lines = file.readlines()\n",
    "    \n",
    "    # If the log file has more lines than specified 'max_rows', then delete one or more runs:\n",
    "    while len(lines) > max_rows:\n",
    "        # If the occurence of the 'New run of the program' is in the log, delete this run:\n",
    "        for index, line in enumerate(lines[1:]): # Excluding a first row from search, because I want the log to start with a \"New run of the program\" line.\n",
    "            if \"New run of the program\" in line:\n",
    "                lines = lines[(index+1):]\n",
    "                break\n",
    "\n",
    "    with open(file_path, 'w') as file:\n",
    "        file.writelines(lines)"
   ]
  },
  {
   "cell_type": "code",
   "execution_count": 489,
   "metadata": {},
   "outputs": [],
   "source": [
    "# Calling the function to delete log file lines (more than 1000):\n",
    "max_log_lines = 1000\n",
    "clear_log(configuration['logger']['file'], max_log_lines)"
   ]
  },
  {
   "cell_type": "code",
   "execution_count": 612,
   "metadata": {},
   "outputs": [],
   "source": [
    "# \"New run\" logger info message:\n",
    "logger.info('\\n\\n============= New run of the program =============\\n')\n",
    "\n",
    "# Examples of different logger levels:\n",
    "# INFO: logger.info('Info')\n",
    "# DEBUG: logger.debug('Debugging info')\n",
    "# WARNING: logger.warning('Warning')\n",
    "# ERROR: logger.error('Error')\n",
    "\n",
    "# ======================================================================== #"
   ]
  },
  {
   "cell_type": "markdown",
   "metadata": {},
   "source": [
    "## Spark session"
   ]
  },
  {
   "cell_type": "code",
   "execution_count": 15,
   "metadata": {},
   "outputs": [],
   "source": [
    "# Starting a Spark session:\n",
    "spark = (SparkSession\n",
    "     .builder\n",
    "     .master(\"local\")\n",
    "     .appName(\"app_01\")\n",
    "     .getOrCreate()\n",
    "     )"
   ]
  },
  {
   "cell_type": "code",
   "execution_count": 16,
   "metadata": {},
   "outputs": [
    {
     "name": "stdout",
     "output_type": "stream",
     "text": [
      "created_dataset_csv\t industries.csv      PySpark_Kaggle_Dataset.ipynb\n",
      "created_dataset_parquet  Jakub.Cajzl.keytab  Spark_Excercises.ipynb\n",
      "final_dataset.csv\t kaggle_dataset\n"
     ]
    }
   ],
   "source": [
    "# Listing a main (local) directory:\n",
    "!ls"
   ]
  },
  {
   "cell_type": "code",
   "execution_count": 10,
   "metadata": {},
   "outputs": [],
   "source": [
    "# Removing a parquet dataset file:\n",
    "# !rm -r created_dataset.parquet"
   ]
  },
  {
   "cell_type": "markdown",
   "metadata": {},
   "source": [
    "# Main Code"
   ]
  },
  {
   "cell_type": "code",
   "execution_count": 15,
   "metadata": {},
   "outputs": [
    {
     "ename": "NameError",
     "evalue": "name 'pyspark' is not defined",
     "output_type": "error",
     "traceback": [
      "\u001b[1;31m---------------------------------------------------------------------------\u001b[0m",
      "\u001b[1;31mNameError\u001b[0m                                 Traceback (most recent call last)",
      "Cell \u001b[1;32mIn[15], line 4\u001b[0m\n\u001b[0;32m      1\u001b[0m \u001b[38;5;66;03m### FUNCTIONS ###\u001b[39;00m\n\u001b[0;32m      2\u001b[0m \n\u001b[0;32m      3\u001b[0m \u001b[38;5;66;03m# =================================================================================================================== #\u001b[39;00m\n\u001b[1;32m----> 4\u001b[0m \u001b[38;5;28;01mdef\u001b[39;00m \u001b[38;5;21mget_dataframe_name\u001b[39m(dataframe_file: \u001b[43mpyspark\u001b[49m\u001b[38;5;241m.\u001b[39msql\u001b[38;5;241m.\u001b[39mDataFrame) \u001b[38;5;241m-\u001b[39m\u001b[38;5;241m>\u001b[39m \u001b[38;5;28mstr\u001b[39m:\n\u001b[0;32m      5\u001b[0m \u001b[38;5;250m    \u001b[39m\u001b[38;5;124;03m\"\"\"\u001b[39;00m\n\u001b[0;32m      6\u001b[0m \u001b[38;5;124;03m    The function returns a name of the DataFrame variable as a string.\u001b[39;00m\n\u001b[0;32m      7\u001b[0m \u001b[38;5;124;03m    \u001b[39;00m\n\u001b[1;32m   (...)\u001b[0m\n\u001b[0;32m     12\u001b[0m \u001b[38;5;124;03m    - str: name of the DataFrame variable as a string\u001b[39;00m\n\u001b[0;32m     13\u001b[0m \u001b[38;5;124;03m    \"\"\"\u001b[39;00m\n\u001b[0;32m     15\u001b[0m     \u001b[38;5;28;01mfor\u001b[39;00m obj_name, obj \u001b[38;5;129;01min\u001b[39;00m \u001b[38;5;28mglobals\u001b[39m()\u001b[38;5;241m.\u001b[39mitems():\n",
      "\u001b[1;31mNameError\u001b[0m: name 'pyspark' is not defined"
     ]
    }
   ],
   "source": [
    "### FUNCTIONS ###\n",
    "\n",
    "# =================================================================================================================== #\n",
    "def get_dataframe_name(dataframe_file: pyspark.sql.DataFrame) -> str:\n",
    "    \"\"\"\n",
    "    The function returns a name of the DataFrame variable as a string.\n",
    "    \n",
    "    Parameters: \n",
    "    - dataframe (pd.DataFrame): DataFrame variable\n",
    "    \n",
    "    Returns: \n",
    "    - str: name of the DataFrame variable as a string\n",
    "    \"\"\"\n",
    "    \n",
    "    for obj_name, obj in globals().items():\n",
    "        if obj is dataframe_file and isinstance(obj, pyspark.sql.DataFrame):\n",
    "            return obj_name\n",
    "# =================================================================================================================== #\n",
    "\n",
    "\n",
    "# =================================================================================================================== #\n",
    "def csv_load(file: str, delimiter: str) -> pd.DataFrame:\n",
    "    \"\"\"\n",
    "    The function loads the files in the CSV format (with specified delimiter) into Pandas dataframe.\n",
    "    \n",
    "    Parameters:\n",
    "    - file (string): the whole path of the CSV file (including a file name with file extension), e.g.: '../dataset/job_postings.csv'\n",
    "    - delimiter (str): the delimiter used in the CSV, e.g.: comma, semicolon, etc.\n",
    "    \n",
    "    Return:\n",
    "    - pd.Dataframe: the dataframe that holds the data from the CSV file\n",
    "    \"\"\"\n",
    "    \n",
    "    try:\n",
    "        print(f'Loading the {file} file using a delimiter: {delimiter}')\n",
    "        pd.read_csv(file, delimiter=delimiter)\n",
    "        print(f'File was succesfully loaded into the dataframe using a delimiter: {delimiter}\\n')\n",
    "        logger.info(f'File {file} succesfully loaded into the dataframe using a delimiter: {delimiter}')\n",
    "    except Exception as error:\n",
    "        print(f'Error: {error}')\n",
    "        print('File was not loaded into the dataframe!\\n')\n",
    "        logger.error(f'Error: {error}')\n",
    "        logger.warning(f'File {file} was not loaded into the dataframe using a delimiter: {delimiter}')\n",
    "    else:\n",
    "        return pd.read_csv(file, delimiter=delimiter)\n",
    "# =================================================================================================================== #\n",
    "\n",
    "\n",
    "# =================================================================================================================== #\n",
    "def basic_info(dataframe: pd.DataFrame):\n",
    "    \"\"\"\"\n",
    "    The function displays an info about the dataset - both as a print and log.\n",
    "    \n",
    "    Parameters:\n",
    "    - dataframe (pd.DataFrame): dataframe for which we want to have a basic info\n",
    "    \"\"\"\n",
    "    \n",
    "    dataframe_name = get_dataframe_name(dataframe)\n",
    "    duplicates = dataframe[dataframe.iloc[:, 0].duplicated()].shape[0]\n",
    "    print(f'=={dataframe_name}== is object of type: | {type(dataframe)}')\n",
    "    print(f'Number of rows:         | {dataframe.shape[0]}')\n",
    "    print(f'Number of columns:      | {dataframe.shape[1]}')\n",
    "    print(f'Number of duplicated rows of {dataframe.columns[0]} column:      | {duplicates}\\n')\n",
    "    \n",
    "    logger.info('\\n'\n",
    "                f'\\t=={dataframe_name}== is object of type: \\t| {type(dataframe)}\\n'\n",
    "                f'\\tNumber of rows: \\t\\t\\t\\t\\t| {dataframe.shape[0]}\\n'\n",
    "                f'\\tNumber of columns: \\t\\t\\t\\t\\t| {dataframe.shape[1]}\\n'\n",
    "                f'\\tColumns names: | {dataframe.columns}'\n",
    "                '\\n'\n",
    "                )\n",
    "# =================================================================================================================== #   \n",
    "\n",
    "\n",
    "# =================================================================================================================== #\n",
    "def print_data_types(dataframe: pd.DataFrame):\n",
    "    \"\"\"\n",
    "    The function displays column data types of the given dataframe.\n",
    "    \n",
    "    Parameters:\n",
    "    - dataframe (pd.DataFrame): the dataframe for which we want to know column data types\n",
    "    \"\"\"\n",
    "    \n",
    "    for column in dataframe.columns:\n",
    "        print(f'{column: <28} | {dataframe[column].dtype}')\n",
    "# =================================================================================================================== #\n",
    "\n",
    "\n",
    "# =================================================================================================================== #\n",
    "def column_unique_values(dataframe: pd.DataFrame, column: str):\n",
    "    \"\"\"\n",
    "    The function displays unique values of the specified column.\n",
    "    \n",
    "    Parameters:\n",
    "    - dataframe (pd.DataFrame): the dataframe for which we want to know column unique values\n",
    "    - column (str): the dataframe column name\n",
    "    \"\"\"\n",
    "    \n",
    "    # Column name:\n",
    "    print(f'Column name: {column}')\n",
    "    \n",
    "    # Getting the unique values in the column, sorted ascending:\n",
    "    if dataframe[column].dtype != 'O':\n",
    "        unique_values = np.sort(dataframe[column].unique()) # If dataframe is not string, then do also the sort() function. \n",
    "        print('Number of unique values:', len(unique_values))\n",
    "        \n",
    "        # Setting numpy print formatter to display numbers as floats, not scientific:\n",
    "        float_formatter = '{:.1f}'.format\n",
    "        np.set_printoptions(formatter={'float_kind': float_formatter})\n",
    "        #np.set_printoptions(formatter=None)  # Undo the changes to formatter, if necessary\n",
    "    \n",
    "        print('Min:', min(unique_values))\n",
    "        print('Max:', max(unique_values))\n",
    "        print('Values:', unique_values)\n",
    "    else:\n",
    "        unique_values = dataframe[column].unique()\n",
    "        print('Number of unique values:', len(unique_values))\n",
    "        print('Values:', unique_values[0:10])\n",
    "    \n",
    "    # If the dataframe type doesn't support min() and max(), don't count min and max values:\n",
    "    #try:\n",
    "    #    print('Min:', min(unique_values))\n",
    "    #    print('Max:', max(unique_values))\n",
    "    #except:\n",
    "    #    pass\n",
    "# =================================================================================================================== #\n",
    "\n",
    "\n",
    "# =================================================================================================================== #\n",
    "def compare(dataframe: pd.DataFrame, column_name_1: str, column_name_2: str) -> pd.DataFrame:\n",
    "    \"\"\"\n",
    "    The function compares two columns of a given dataframe to return a comparison dataframe.\n",
    "    \n",
    "    Parameters:\n",
    "    - dataframe (pd.DataFrame): the dataframe for which we want to know column unique values\n",
    "    - column_name_1 (str): the first dataframe column to compare\n",
    "    - column_name_2 (str): the second dataframe column to compare\n",
    "    \n",
    "    Return:\n",
    "    - pd.DataFrame: the comparison dataframe that has both columns\n",
    "    \"\"\"\n",
    "    return dataframe[column_name_1].compare(dataframe[column_name_2], result_names=(column_name_1, column_name_2))\n",
    "# =================================================================================================================== #\n",
    "\n",
    "\n",
    "# =================================================================================================================== #\n",
    "def columns_rename(dataframe: pd.DataFrame, columns_names: dict):\n",
    "    \"\"\"\n",
    "    The function renames columns in the specified dataframe.\n",
    "    \n",
    "    Parameters:\n",
    "    - dataframe (pd.DataFrame): the dataframe for which we want to rename the columns\n",
    "    - columns_names (dict): the columns to rename\n",
    "    \"\"\"\n",
    "    \n",
    "    dataframe_name = get_dataframe_name(dataframe)\n",
    "    \n",
    "    print(f'Renaming columns in dataframe {dataframe_name}:\\n')\n",
    "    logger.info(f'Renaming columns in dataframe =={dataframe_name}==')\n",
    "    \n",
    "    for column_name_original, column_name_new in columns_names.items():\n",
    "        dataframe.rename(columns={column_name_original:column_name_new}, inplace = True)\n",
    "    \n",
    "    print(f\"Renamed columns are ('old_name', 'new_name'): \\n\\t{columns_names.items()}\\n\")\n",
    "    logger.info(\n",
    "                f\"Renamed columns are ('old_name', 'new_name'): \\n\\t{columns_names.items()}\"\n",
    "                )\n",
    "# =================================================================================================================== #\n",
    "\n",
    "\n",
    "# =================================================================================================================== #\n",
    "def columns_rename_prefix(dataframe: pd.DataFrame, prefix: str):\n",
    "    \"\"\"\n",
    "    The function puts a given prefix in front of all the column names in the specified dataframe.\n",
    "    Info: The function will not add a prefix if there is already a prefix in the column. \n",
    "    \n",
    "    Parameters:\n",
    "    - dataframe (pd.DataFrame): the dataframe for which we want to add a prefix\n",
    "    - prefix (str): prefix string\n",
    "    \"\"\"\n",
    "    \n",
    "    dataframe_name = get_dataframe_name(dataframe)\n",
    "    \n",
    "    print(f'Renaming columns in dataframe =={dataframe_name}== by adding a prefix \"{prefix}\":\\n')\n",
    "    logger.info(f'Renaming columns in dataframe =={dataframe_name}== by adding a prefix \"{prefix}\"')\n",
    "    \n",
    "    for column in dataframe.columns:\n",
    "        if prefix not in column:\n",
    "            dataframe.rename(columns={column: f'{prefix}{column}'}, inplace = True)\n",
    "        else:\n",
    "            continue\n",
    "        \n",
    "    print(f'Renamed columns are: \\n\\t{dataframe.columns}\\n')\n",
    "    logger.info(\n",
    "                f'Renamed columns are: \\n\\t{dataframe.columns}'\n",
    "                )\n",
    "# =================================================================================================================== #\n",
    "\n",
    "\n",
    "# =================================================================================================================== #\n",
    "def columns_drop(dataframe: pd.DataFrame, columns_list: list):\n",
    "    \"\"\"\n",
    "    The function deletes/drops columns in the specified dataframe. \n",
    "    \n",
    "    Parameters:\n",
    "    - dataframe (pd.DataFrame): the dataframe for which we want to delete/drop column(s)\n",
    "    - columns_list (list): a list of columns to drop from a dataframe\n",
    "    \"\"\"\n",
    "    \n",
    "    dataframe_name = get_dataframe_name(dataframe)\n",
    "    \n",
    "    print(f'Deleting columns in dataframe {dataframe_name}:')\n",
    "    logger.info(f'Deleting columns in dataframe =={dataframe_name}==')\n",
    "    \n",
    "    for column in columns_list:\n",
    "        print(f'Deleted column: {column}')\n",
    "        logger.info(f'Deleted column: {column}')\n",
    "        \n",
    "        dataframe.drop(column, axis='columns', inplace=True)\n",
    "        \n",
    "    print('Deleting of columns finished succesfully!\\n')\n",
    "    logger.info('Deleting of columns finished succesfully!')\n",
    "# =================================================================================================================== #"
   ]
  },
  {
   "cell_type": "markdown",
   "metadata": {},
   "source": [
    "## Loading a Kaggle dataset (csv's) to Hadoop server"
   ]
  },
  {
   "cell_type": "code",
   "execution_count": 569,
   "metadata": {},
   "outputs": [
    {
     "name": "stdout",
     "output_type": "stream",
     "text": [
      "Found 6 items\n",
      "drwx------   - Jakub.Cajzl jakub_cajzl          0 2024-06-26 12:00 .Trash\n",
      "drwxrwxrwx   - Jakub.Cajzl jakub_cajzl          0 2024-05-10 12:04 .scratchdir\n",
      "drwxr-xr-x   - Jakub.Cajzl jakub_cajzl          0 2024-06-24 13:50 .sparkStaging\n",
      "-rw-r--r--   3 Jakub.Cajzl jakub_cajzl        146 2024-04-19 11:18 Jakub.Cajzl.keytab\n",
      "-rw-r--r--   3 Jakub.Cajzl jakub_cajzl       2082 2024-04-19 11:17 Jakub.Cajzl.ppk\n",
      "drwxr-xr-x   - Jakub.Cajzl jakub_cajzl          0 2024-06-24 11:38 hdfs_files\n"
     ]
    }
   ],
   "source": [
    "# Listing all files on Hadoop server:\n",
    "!hadoop fs -ls"
   ]
  },
  {
   "cell_type": "code",
   "execution_count": 249,
   "metadata": {},
   "outputs": [
    {
     "name": "stdout",
     "output_type": "stream",
     "text": [
      "24/06/25 11:19:56 INFO fs.TrashPolicyDefault: Moved: 'hdfs://head1-virtual.hadoop.local:8020/user/Jakub.Cajzl/industries.csv' to trash at: hdfs://head1-virtual.hadoop.local:8020/user/Jakub.Cajzl/.Trash/Current/user/Jakub.Cajzl/industries.csv\n",
      "Found 6 items\n",
      "drwx------   - Jakub.Cajzl jakub_cajzl          0 2024-06-25 11:19 .Trash\n",
      "drwxrwxrwx   - Jakub.Cajzl jakub_cajzl          0 2024-05-10 12:04 .scratchdir\n",
      "drwxr-xr-x   - Jakub.Cajzl jakub_cajzl          0 2024-06-24 13:50 .sparkStaging\n",
      "-rw-r--r--   3 Jakub.Cajzl jakub_cajzl        146 2024-04-19 11:18 Jakub.Cajzl.keytab\n",
      "-rw-r--r--   3 Jakub.Cajzl jakub_cajzl       2082 2024-04-19 11:17 Jakub.Cajzl.ppk\n",
      "drwxr-xr-x   - Jakub.Cajzl jakub_cajzl          0 2024-06-24 11:38 hdfs_files\n"
     ]
    }
   ],
   "source": [
    "# Removing a file from HDFS:\n",
    "# !hadoop fs -rm -r industries.csv\n",
    "# !hadoop fs -ls"
   ]
  },
  {
   "cell_type": "code",
   "execution_count": 251,
   "metadata": {},
   "outputs": [
    {
     "name": "stdout",
     "output_type": "stream",
     "text": [
      "benefits.csv\n",
      "job_postings.csv\n",
      "job_industries.csv\n",
      "employee_counts.csv\n",
      "company_specialities.csv\n",
      "skills.csv\n",
      "salaries.csv\n",
      "job_skills.csv\n",
      "companies.csv\n",
      "company_industries.csv\n",
      ".ipynb_checkpoints\n",
      "industries.csv\n"
     ]
    }
   ],
   "source": [
    "# Listing local files:\n",
    "for file in os.listdir(\"kaggle_dataset\"): print(file)  # The same as \"!ls kaggle_dataset/\""
   ]
  },
  {
   "cell_type": "code",
   "execution_count": 46,
   "metadata": {},
   "outputs": [],
   "source": [
    "# Moving files from sub-directories to a main directory:\n",
    "!mv kaggle_dataset/company_details/* kaggle_dataset/\n",
    "!mv kaggle_dataset/job_details/* kaggle_dataset/\n",
    "!mv kaggle_dataset/maps/* kaggle_dataset/\n",
    "\n",
    "# Listing the files:\n",
    "!ls"
   ]
  },
  {
   "cell_type": "code",
   "execution_count": 51,
   "metadata": {},
   "outputs": [
    {
     "name": "stdout",
     "output_type": "stream",
     "text": [
      "benefits.csv\t\t  employee_counts.csv  job_skills.csv\n",
      "companies.csv\t\t  industries.csv       salaries.csv\n",
      "company_industries.csv\t  job_industries.csv   skills.csv\n",
      "company_specialities.csv  job_postings.csv\n"
     ]
    }
   ],
   "source": [
    "# Removing sub-directories in the main directory:\n",
    "!rm -r kaggle_dataset/company_details/\n",
    "!rm -r kaggle_dataset/job_details/\n",
    "!rm -r kaggle_dataset/maps/\n",
    "\n",
    "# Listing the files:\n",
    "!ls kaggle_dataset/"
   ]
  },
  {
   "cell_type": "code",
   "execution_count": 59,
   "metadata": {},
   "outputs": [
    {
     "name": "stdout",
     "output_type": "stream",
     "text": [
      "Found 7 items\n",
      "drwx------   - Jakub.Cajzl jakub_cajzl          0 2024-06-24 11:37 .Trash\n",
      "drwxrwxrwx   - Jakub.Cajzl jakub_cajzl          0 2024-05-10 12:04 .scratchdir\n",
      "drwxr-xr-x   - Jakub.Cajzl jakub_cajzl          0 2024-06-24 08:41 .sparkStaging\n",
      "-rw-r--r--   3 Jakub.Cajzl jakub_cajzl        146 2024-04-19 11:18 Jakub.Cajzl.keytab\n",
      "-rw-r--r--   3 Jakub.Cajzl jakub_cajzl       2082 2024-04-19 11:17 Jakub.Cajzl.ppk\n",
      "drwxr-xr-x   - Jakub.Cajzl jakub_cajzl          0 2024-06-24 11:38 hdfs_files\n",
      "-rw-r--r--   3 Jakub.Cajzl jakub_cajzl       6292 2024-06-24 08:59 industries.csv\n"
     ]
    }
   ],
   "source": [
    "# Making a directory for Kaggle dataset on Hadoop server:\n",
    "!hadoop fs -mkdir -p hdfs_files/kaggle_dataset/\n",
    "!hadoop fs -ls"
   ]
  },
  {
   "cell_type": "code",
   "execution_count": 60,
   "metadata": {},
   "outputs": [
    {
     "name": "stdout",
     "output_type": "stream",
     "text": [
      "Found 1 items\n",
      "drwxr-xr-x   - Jakub.Cajzl jakub_cajzl          0 2024-06-24 11:38 hdfs_files/kaggle_dataset\n"
     ]
    }
   ],
   "source": [
    "# Checking for a \"kaggle_dataset\" folder in \"hdfs_files\":\n",
    "!hadoop fs -ls hdfs_files/"
   ]
  },
  {
   "cell_type": "code",
   "execution_count": 61,
   "metadata": {},
   "outputs": [
    {
     "name": "stdout",
     "output_type": "stream",
     "text": [
      "Found 11 items\n",
      "-rw-r--r--   3 Jakub.Cajzl jakub_cajzl     840280 2024-06-24 11:49 hdfs_files/kaggle_dataset/benefits.csv\n",
      "-rw-r--r--   3 Jakub.Cajzl jakub_cajzl   10953429 2024-06-24 11:49 hdfs_files/kaggle_dataset/companies.csv\n",
      "-rw-r--r--   3 Jakub.Cajzl jakub_cajzl     390677 2024-06-24 11:49 hdfs_files/kaggle_dataset/company_industries.csv\n",
      "-rw-r--r--   3 Jakub.Cajzl jakub_cajzl    2036857 2024-06-24 11:49 hdfs_files/kaggle_dataset/company_specialities.csv\n",
      "-rw-r--r--   3 Jakub.Cajzl jakub_cajzl     416749 2024-06-24 11:49 hdfs_files/kaggle_dataset/employee_counts.csv\n",
      "-rw-r--r--   3 Jakub.Cajzl jakub_cajzl       6292 2024-06-24 11:49 hdfs_files/kaggle_dataset/industries.csv\n",
      "-rw-r--r--   3 Jakub.Cajzl jakub_cajzl     666212 2024-06-24 11:49 hdfs_files/kaggle_dataset/job_industries.csv\n",
      "-rw-r--r--   3 Jakub.Cajzl jakub_cajzl  134845243 2024-06-24 11:49 hdfs_files/kaggle_dataset/job_postings.csv\n",
      "-rw-r--r--   3 Jakub.Cajzl jakub_cajzl     925814 2024-06-24 11:49 hdfs_files/kaggle_dataset/job_skills.csv\n",
      "-rw-r--r--   3 Jakub.Cajzl jakub_cajzl     731493 2024-06-24 11:49 hdfs_files/kaggle_dataset/salaries.csv\n",
      "-rw-r--r--   3 Jakub.Cajzl jakub_cajzl        679 2024-06-24 11:49 hdfs_files/kaggle_dataset/skills.csv\n"
     ]
    }
   ],
   "source": [
    "# Copying CSV files to a Hadoop server:\n",
    "!hadoop fs -put kaggle_dataset/* hdfs_files/kaggle_dataset/\n",
    "\n",
    "# Listing files:\n",
    "!hadoop fs -ls hdfs_files/kaggle_dataset/"
   ]
  },
  {
   "cell_type": "markdown",
   "metadata": {},
   "source": [
    "## Loading a Kaggle dataset to workers:"
   ]
  },
  {
   "cell_type": "markdown",
   "metadata": {},
   "source": [
    "### 1. Loading a main \"job_postings\" dataset:"
   ]
  },
  {
   "cell_type": "code",
   "execution_count": 571,
   "metadata": {},
   "outputs": [],
   "source": [
    "# =================================================================================================================== #\n",
    "\n",
    "def csv_load(file: str, delimiter: str) -> pyspark.sql.DataFrame:\n",
    "    '''\n",
    "    The function loads the files in the CSV format (with specified delimiter) as a PySpark DataFrame.\n",
    "    \n",
    "    Parameters:\n",
    "    - file (string): the path of the CSV file, e.g. \"../dataset/job_postings.csv\"\n",
    "    - delimiter (str): the delimiter used in the CSV, e.g.: comma, semicolon, etc.\n",
    "    \n",
    "    Return:\n",
    "    - Dataframe: the PySpark DataFrame that holds the data from the CSV file\n",
    "    '''\n",
    "    \n",
    "    print(f'Loading the \"{file}\" file using a delimiter: \"{delimiter}\"')\n",
    "        \n",
    "    try:\n",
    "        df = (\n",
    "            spark.read\n",
    "                .format(\"csv\")\n",
    "                .option(\"encoding\", \"UTF-8\")\n",
    "                #.option(\"mode\", \"PERMISSIVE\")  # NULLs are inserted for fields that could not be parsed correctly\n",
    "                .option(\"mode\", \"DROPMALFORMED\") # Drops lines that contain fields that could not be parsed\n",
    "                #.option(\"mode\", \"FAILFAST\")  # Aborts the reading if any malformed data is found. Aborts file parsing with a RuntimeException if malformed lines are encountered.\n",
    "                .option(\"multiLine\", \"true\")  # Option for loading CSV files when they have cell content over multiple lines (e.g. job description)\n",
    "                .option(\"header\", True)\n",
    "                .option(\"delimiter\", delimiter)\n",
    "                .option(\"inferSchema\", \"true\")\n",
    "                .option(\"ignoreLeadingWhiteSpace\", \"true\")  # pySpark will ignore leading white spaces\n",
    "                .load(file)\n",
    "                )\n",
    "        \n",
    "        print(f'File was succesfully loaded into the DataFrame!')\n",
    "        return df\n",
    "    \n",
    "    except Exception as error:\n",
    "        print(f'Error: {error}')\n",
    "        print('File was not loaded into the DataFrame!')\n",
    "        return None\n",
    "    \n",
    "#    try:\n",
    "#        df.show(1)\n",
    "#    except Exception as error:\n",
    "#        print(f'Error: \"FAILFAST\" option caused abort of the CSV loading - malformed data was found')\n",
    "#        print('File was not loaded into the DataFrame!')\n",
    "        \n",
    "        \n",
    "    # NOTE: Reading large CSV files with *multiline* records in can be time-consuming due to the complexity of parsing multiline records. \n",
    "    \n",
    "# =================================================================================================================== #"
   ]
  },
  {
   "cell_type": "code",
   "execution_count": 258,
   "metadata": {},
   "outputs": [],
   "source": [
    "# Defining a function for loading filenames from HDFS path:\n",
    "\n",
    "# =================================================================================================================== #\n",
    "\n",
    "def list_hdfs_files(hdfs_path: str) -> list:\n",
    "    '''\n",
    "    Function for loading filenames from HDFS path.\n",
    "    \n",
    "    Parameters:\n",
    "    - hdfs_path (string): \n",
    "    \n",
    "    Return: \n",
    "    - list\n",
    "    '''\n",
    "    try:\n",
    "        # Execute the command\n",
    "        ls_output = subprocess.run(\n",
    "            [\"hadoop\", \"fs\", \"-ls\", hdfs_path],\n",
    "            capture_output=True,\n",
    "            text=True,\n",
    "            check=True\n",
    "            ).stdout\n",
    "        \n",
    "        # Parsing the ls output:\n",
    "        ls_output_split = []\n",
    "        for line in ls_output.split('\\n'):\n",
    "            ls_output_split.append(line.split('/'))\n",
    "        \n",
    "        filenames = []\n",
    "        for line in ls_output_split:\n",
    "            if line[-1].endswith(\".csv\") == True:\n",
    "                filenames.append(line[-1])\n",
    "            else:\n",
    "                continue\n",
    "        \n",
    "        return filenames\n",
    "    \n",
    "    except subprocess.CalledProcessError as e:\n",
    "        print(f\"An error occurred: {e}\")\n",
    "\n",
    "# =================================================================================================================== #"
   ]
  },
  {
   "cell_type": "code",
   "execution_count": 259,
   "metadata": {},
   "outputs": [
    {
     "name": "stdout",
     "output_type": "stream",
     "text": [
      "benefits.csv\n",
      "companies.csv\n",
      "company_industries.csv\n",
      "company_specialities.csv\n",
      "employee_counts.csv\n",
      "industries.csv\n",
      "job_industries.csv\n",
      "job_postings.csv\n",
      "job_skills.csv\n",
      "salaries.csv\n",
      "skills.csv\n"
     ]
    }
   ],
   "source": [
    "# Listing HDFS files:\n",
    "hdfs_path = \"hdfs_files/kaggle_dataset/\"\n",
    "filenames = list_hdfs_files(hdfs_path)\n",
    "for file in filenames: print(file)"
   ]
  },
  {
   "cell_type": "code",
   "execution_count": 380,
   "metadata": {},
   "outputs": [],
   "source": [
    "# Defining a function for loading all CSV files in new DataFrames:\n",
    "\n",
    "# =================================================================================================================== #\n",
    "\n",
    "def csv_load_from_list(hdfs_path: str, filenames_list: list) -> pyspark.sql.DataFrame:\n",
    "    '''\n",
    "    Function for loading pySpark DataFrames from a list of CSV files.\n",
    "    \n",
    "    Parameters:\n",
    "    - hdfs_path (string): path to the HDFS location of the files\n",
    "    - filenames_list (list): a list of pySpark DataFrame names\n",
    "    \n",
    "    Return: \n",
    "    - PySpark DataFrame\n",
    "    '''\n",
    "    for i in range(0, len(filenames_list)):\n",
    "        \n",
    "        # Loading a file:\n",
    "        file = f\"{hdfs_path}{filenames_list[i]}\"\n",
    "\n",
    "        # Extracting filename without a \".csv\" extension:\n",
    "        filename = f\"{filenames_list[i]}\".split(\".\")[0]\n",
    "        \n",
    "        try:\n",
    "            # Checking if there is not error in file loading:\n",
    "            #if \"\" in csv_load(file, delimiter=\",\")\n",
    "            \n",
    "            # Loading a file in the \"df_xxx\" DataFrame name:\n",
    "            globals()[f\"df_{filename}\"] = csv_load(file, delimiter=\",\")\n",
    "        \n",
    "            # Displaying a DataFrame:\n",
    "            print(\"\\n\")\n",
    "            print(f\"df_{filename}: \")\n",
    "            globals()[f\"df_{filename}\"].show(5)\n",
    "            print(\"\\n\")\n",
    "            \n",
    "        except Exception as error:\n",
    "            print(error)\n",
    "        \n",
    "# =================================================================================================================== #"
   ]
  },
  {
   "cell_type": "code",
   "execution_count": 430,
   "metadata": {},
   "outputs": [
    {
     "name": "stdout",
     "output_type": "stream",
     "text": [
      "Loading the \"hdfs_files/kaggle_dataset/job_postings.csv\" file using a delimiter: \",\"\n",
      "File was succesfully loaded into the DataFrame!\n",
      "File is loaded into the DataFrame: df_jobs\n",
      "\n",
      "\n",
      "Loading the \"hdfs_files/kaggle_dataset/companies.csv\" file using a delimiter: \",\"\n",
      "File was succesfully loaded into the DataFrame!\n",
      "File is loaded into the DataFrame: df_companies\n",
      "\n",
      "\n",
      "Loading the \"hdfs_files/kaggle_dataset/company_industries.csv\" file using a delimiter: \",\"\n",
      "File was succesfully loaded into the DataFrame!\n",
      "File is loaded into the DataFrame: df_industries\n",
      "\n",
      "\n",
      "Loading the \"hdfs_files/kaggle_dataset/salaries.csv\" file using a delimiter: \",\"\n",
      "File was succesfully loaded into the DataFrame!\n",
      "File is loaded into the DataFrame: df_salaries\n",
      "\n",
      "\n",
      "Loading the \"hdfs_files/kaggle_dataset/employee_counts.csv\" file using a delimiter: \",\"\n",
      "File was succesfully loaded into the DataFrame!\n",
      "File is loaded into the DataFrame: df_employee_counts\n",
      "\n",
      "\n",
      "Loading the \"hdfs_files/kaggle_dataset/job_skills.csv\" file using a delimiter: \",\"\n",
      "File was succesfully loaded into the DataFrame!\n",
      "File is loaded into the DataFrame: df_job_skills\n",
      "\n",
      "\n",
      "Loading the \"hdfs_files/kaggle_dataset/skills.csv\" file using a delimiter: \",\"\n",
      "File was succesfully loaded into the DataFrame!\n",
      "File is loaded into the DataFrame: df_skills_map\n",
      "\n",
      "\n"
     ]
    }
   ],
   "source": [
    "# Loading files into DataFrames using configuration file:\n",
    "for filename, file in configuration['files'].items():\n",
    "    globals()[\"df_\" + filename] = csv_load(file, delimiter = configuration['delimiter_import'])\n",
    "    print(f\"File is loaded into the DataFrame: df_{filename}\")\n",
    "    print(\"\\n\")"
   ]
  },
  {
   "cell_type": "markdown",
   "metadata": {},
   "source": [
    "### 2. Repartitioning DataFrames"
   ]
  },
  {
   "cell_type": "code",
   "execution_count": 431,
   "metadata": {},
   "outputs": [
    {
     "data": {
      "text/plain": [
       "1"
      ]
     },
     "execution_count": 431,
     "metadata": {},
     "output_type": "execute_result"
    }
   ],
   "source": [
    "# Checking the number of partitions of the largest main DataFrame \"df_job_postings\":\n",
    "df_jobs.rdd.getNumPartitions()"
   ]
  },
  {
   "cell_type": "code",
   "execution_count": 432,
   "metadata": {},
   "outputs": [
    {
     "data": {
      "text/plain": [
       "4"
      ]
     },
     "execution_count": 432,
     "metadata": {},
     "output_type": "execute_result"
    }
   ],
   "source": [
    "# Repartitioning the \"df_job_postings\" from 1 to 4 (in order to have faster transformations): \n",
    "df_jobs = df_jobs.repartition(4)\n",
    "df_jobs.rdd.getNumPartitions()"
   ]
  },
  {
   "cell_type": "markdown",
   "metadata": {},
   "source": [
    "### 3. Checking DataFrames (if correctly loaded)"
   ]
  },
  {
   "cell_type": "code",
   "execution_count": 318,
   "metadata": {},
   "outputs": [],
   "source": [
    "# Defining a function for displaying selected columns from a DataFrame:\n",
    "\n",
    "# =================================================================================================================== #\n",
    "\n",
    "def selected_columns(df: pyspark.sql.DataFrame, first_column=0, last_column=5):\n",
    "    '''\n",
    "    The function for displaying selected columns from a DataFrame based on a number range.\n",
    "    \n",
    "    Parameters:\n",
    "    - df (pyspark.sql.DataFrame): a DataFrame to display the columns from\n",
    "    - first_column (int, default=0): left boundary of the range of columns to display\n",
    "    - last_column (int, default=5): right boundary of the range of columns to display\n",
    "    '''\n",
    "    selected_columns = df.columns[first_column:last_column]\n",
    "    print(f\"{get_dataframe_name(df)} (displaying column numbers from {first_column} to {last_column}):\")\n",
    "    df.select([column for column in selected_columns]).show(5)\n",
    "    \n",
    "# =================================================================================================================== #"
   ]
  },
  {
   "cell_type": "code",
   "execution_count": 411,
   "metadata": {},
   "outputs": [
    {
     "name": "stdout",
     "output_type": "stream",
     "text": [
      "df_jobs (displaying column numbers from 0 to 3):\n",
      "+----------+----------+--------------------+\n",
      "|    job_id|company_id|               title|\n",
      "+----------+----------+--------------------+\n",
      "|3693072362|   6103794|Senior Project Ma...|\n",
      "|3693054208|  76849729|Assistant Develop...|\n",
      "|3756108341|    261456|Social Media Spec...|\n",
      "|3755579408|     15546|Vice President, O...|\n",
      "|3699087184|   3308308|Panel Manufacturi...|\n",
      "+----------+----------+--------------------+\n",
      "only showing top 5 rows\n",
      "\n"
     ]
    }
   ],
   "source": [
    "# Testing a \"selected_columns\" function:\n",
    "selected_columns(df_jobs, 0, 3)"
   ]
  },
  {
   "cell_type": "code",
   "execution_count": 325,
   "metadata": {},
   "outputs": [],
   "source": [
    "# Defining a function for displaying a DataFrame schema and columns:\n",
    "\n",
    "# =================================================================================================================== #\n",
    "\n",
    "def dataframe_info(df: pyspark.sql.DataFrame):\n",
    "    '''\n",
    "    Function for displaying a DataFrame schema and columns.\n",
    "    \n",
    "    Parameters:\n",
    "    - df (pyspark.sql.DataFrame): a pySpark DataFrame to display info about\n",
    "    '''\n",
    "    print(\"Schema:\")\n",
    "    df.printSchema()\n",
    "    print(\"Columns:\")\n",
    "    for col in df.columns: print(col)\n",
    "    print(\"\\n\")\n",
    "    \n",
    "    selected_columns(df, 0, 7)\n",
    "\n",
    "# =================================================================================================================== #"
   ]
  },
  {
   "cell_type": "code",
   "execution_count": 412,
   "metadata": {},
   "outputs": [
    {
     "name": "stdout",
     "output_type": "stream",
     "text": [
      "Schema:\n",
      "root\n",
      " |-- job_id: string (nullable = true)\n",
      " |-- company_id: string (nullable = true)\n",
      " |-- title: string (nullable = true)\n",
      " |-- description: string (nullable = true)\n",
      " |-- max_salary: string (nullable = true)\n",
      " |-- med_salary: string (nullable = true)\n",
      " |-- min_salary: string (nullable = true)\n",
      " |-- pay_period: string (nullable = true)\n",
      " |-- formatted_work_type: string (nullable = true)\n",
      " |-- location: string (nullable = true)\n",
      " |-- applies: string (nullable = true)\n",
      " |-- original_listed_time: string (nullable = true)\n",
      " |-- remote_allowed: string (nullable = true)\n",
      " |-- views: string (nullable = true)\n",
      " |-- job_posting_url: string (nullable = true)\n",
      " |-- application_url: string (nullable = true)\n",
      " |-- application_type: string (nullable = true)\n",
      " |-- expiry: string (nullable = true)\n",
      " |-- closed_time: string (nullable = true)\n",
      " |-- formatted_experience_level: string (nullable = true)\n",
      " |-- skills_desc: string (nullable = true)\n",
      " |-- listed_time: string (nullable = true)\n",
      " |-- posting_domain: string (nullable = true)\n",
      " |-- sponsored: string (nullable = true)\n",
      " |-- work_type: string (nullable = true)\n",
      " |-- currency: string (nullable = true)\n",
      " |-- compensation_type: string (nullable = true)\n",
      " |-- scraped: string (nullable = true)\n",
      "\n",
      "Columns:\n",
      "job_id\n",
      "company_id\n",
      "title\n",
      "description\n",
      "max_salary\n",
      "med_salary\n",
      "min_salary\n",
      "pay_period\n",
      "formatted_work_type\n",
      "location\n",
      "applies\n",
      "original_listed_time\n",
      "remote_allowed\n",
      "views\n",
      "job_posting_url\n",
      "application_url\n",
      "application_type\n",
      "expiry\n",
      "closed_time\n",
      "formatted_experience_level\n",
      "skills_desc\n",
      "listed_time\n",
      "posting_domain\n",
      "sponsored\n",
      "work_type\n",
      "currency\n",
      "compensation_type\n",
      "scraped\n",
      "\n",
      "\n",
      "df_jobs (displaying column numbers from 0 to 7):\n",
      "+----------+----------+--------------------+--------------------+----------+----------+----------+\n",
      "|    job_id|company_id|               title|         description|max_salary|med_salary|min_salary|\n",
      "+----------+----------+--------------------+--------------------+----------+----------+----------+\n",
      "|3757496326|      1103|Cable Splicing Te...|\"When you join Ve...|      null|      null|      null|\n",
      "|3749357031|      5666|Engineer III - Au...|At Dominion Energ...|      null|      null|      null|\n",
      "|3755133761|  56119190|  Operations Manager|Local Private Ane...|     95000|      null|     85000|\n",
      "|3699418007|      6250|Scheduling Specia...|Job Summary\\nThe ...|      null|      null|      null|\n",
      "|3701301478|    522411|Front Desk Recept...|Munck Wilson Mand...|        23|      null|        20|\n",
      "+----------+----------+--------------------+--------------------+----------+----------+----------+\n",
      "only showing top 5 rows\n",
      "\n"
     ]
    }
   ],
   "source": [
    "# Displaying a DataFrame schema and columns:\n",
    "dataframe_info(df_jobs)"
   ]
  },
  {
   "cell_type": "code",
   "execution_count": 413,
   "metadata": {},
   "outputs": [
    {
     "name": "stdout",
     "output_type": "stream",
     "text": [
      "+----------+\n",
      "|    job_id|\n",
      "+----------+\n",
      "|3700554640|\n",
      "|3755595049|\n",
      "|3701312533|\n",
      "|3693586512|\n",
      "|3701068524|\n",
      "|3694103482|\n",
      "|3757490787|\n",
      "|3699078501|\n",
      "|3757446975|\n",
      "|3756904592|\n",
      "|3757735611|\n",
      "|3697382314|\n",
      "|3757732849|\n",
      "|3757728526|\n",
      "|3701303988|\n",
      "|3757498393|\n",
      "|3693058220|\n",
      "|3693057102|\n",
      "|3697384245|\n",
      "|3757459969|\n",
      "+----------+\n",
      "only showing top 20 rows\n",
      "\n"
     ]
    }
   ],
   "source": [
    "# Displaying ID's in a main job_postings DataFrame:\n",
    "(df_jobs\n",
    " .select(\"job_id\")\n",
    " .show(20)\n",
    "    )"
   ]
  },
  {
   "cell_type": "code",
   "execution_count": 414,
   "metadata": {},
   "outputs": [
    {
     "name": "stdout",
     "output_type": "stream",
     "text": [
      "Number of incorrect ID's in job_postings DataFrame:\n",
      " 1016 from 34260 rows.\n"
     ]
    }
   ],
   "source": [
    "# Investigating a main job_postings DataFrame for correct ID's:\n",
    "count_incorrect_ids = (df_jobs.filter( ~col('job_id').rlike(r'^\\d+$') ).count())\n",
    "print(\"Number of incorrect ID's in job_postings DataFrame:\\n\", count_incorrect_ids, \"from\", df_jobs.count(), \"rows.\")"
   ]
  },
  {
   "cell_type": "code",
   "execution_count": 415,
   "metadata": {},
   "outputs": [
    {
     "name": "stdout",
     "output_type": "stream",
     "text": [
      "+--------------------------------------------------+--------------------------------------------------+--------------------------------------------------+\n",
      "|                                            job_id|                                        company_id|                                             title|\n",
      "+--------------------------------------------------+--------------------------------------------------+--------------------------------------------------+\n",
      "|\"\"IntelyCare allows me to have the work-life ba...|                                              null|                                              null|\n",
      "|We like to say we bring the \"\"&\"\" to work every...|three-generations-savvy & next-generation-bold....|as we bring empathy & expertise to personal car...|\n",
      "|Salary: $120k - $140k Base + $90k - $120k varia...|                                          uncapped|based on low targets and up to $300k OTE once u...|\n",
      "|COOK | Full-Time\\n\\nPosition Summary\\n\\nPrepare...|guests and employees.\\n\\nEssential Position Fun...|                                          policies|\n",
      "|In addition to a comprehensive compensation and...|                                              a $3|000 sign-on bonus is available for qualified ca...|\n",
      "|Nurses will be required to cover several locati...|                      together with their families|                 in achieving greater independence|\n",
      "|NYU Langone Health provides a salary range to c...|                                      740.11 - $52|164.72 Annually. Actual salaries depend on a va...|\n",
      "|      Test(s) Required\\nNetwork Systems Assessment|Verizon Job Fit Test B\\n\\nTest Previews\\n\\nWher...|you'll work onsite at a defined location(s).\\n\\...|\n",
      "|After you apply...\\n\\nYou may be required to ta...|one of our recruiters will reach out to tell yo...|you'll work onsite at a defined location(s).\\n\\...|\n",
      "|After you apply...\\n\\nYou may be required to ta...|one of our recruiters will reach out to tell yo...|you'll work onsite at a defined location(s).\\n\\...|\n",
      "|What is in it for you?\\n\\n Become a part of LG'...|                                   unique products|and cutting-edge designs that are an investment...|\n",
      "|NYC Health and Hospitals offers a competitive b...|                                              null|                                              null|\n",
      "|NYC Health and Hospitals offers a competitive b...|                                              null|                                              null|\n",
      "|HOW YOU’LL MAKE A DIFFERENCE IN THIS ROLE (ESSE...|    ensuring client and client family satisfaction|and thoroughly completes all paperwork to ensur...|\n",
      "|                                        Salary $90|                                        000 - $110|000 per year\\nA Bit About Us\\nLuxury residentia...|\n",
      "|Memorial Satilla Health is a 230+ bed acute-car...|                including an ER where more than 45|             000 emergencies are treated each year|\n",
      "|                                       Salary $100|                                        000 - $125|000 per year\\n\\nA Bit About Us\\n\\nOur Client is...|\n",
      "|We are looking for someone committed to helping...|                                              play|                                              grow|\n",
      "|                                        Salary $80|                                         000 - $80|000 per year\\nA Bit About Us\\nWe offer a no app...|\n",
      "|                       Our Commitment to Diversity|                                          Equality|                                         Inclusion|\n",
      "+--------------------------------------------------+--------------------------------------------------+--------------------------------------------------+\n",
      "only showing top 20 rows\n",
      "\n"
     ]
    }
   ],
   "source": [
    "# Displaying ID's with a wrong format:\n",
    "(df_jobs\n",
    " .select('job_id','company_id','title')\n",
    " .filter( ~col('job_id').rlike(r'^\\d+$') )\n",
    " .show(20, truncate=50)\n",
    "    )"
   ]
  },
  {
   "cell_type": "markdown",
   "metadata": {},
   "source": [
    "### 4. Cleaning DataFrames"
   ]
  },
  {
   "cell_type": "code",
   "execution_count": 433,
   "metadata": {},
   "outputs": [
    {
     "name": "stdout",
     "output_type": "stream",
     "text": [
      "Number of wrong ID rows: 0\n",
      "df_jobs (displaying column numbers from 0 to 5):\n",
      "+----------+----------+--------------------+--------------------+----------+\n",
      "|    job_id|company_id|               title|         description|max_salary|\n",
      "+----------+----------+--------------------+--------------------+----------+\n",
      "|3699077610|      1441|Senior Data Scien...|Note: By applying...|    220000|\n",
      "|3757483629|    931863|Information Techn...|Candidates for th...|      null|\n",
      "|3755593312|    164880|CT Technologist (...|The CAT/CT Scan T...|      null|\n",
      "|3757703524|   1401813|Torpedo Technicia...|DescriptionAbout ...|      null|\n",
      "|3693048144|    240179|Executive Adminis...|GCI's Executive A...|     83149|\n",
      "+----------+----------+--------------------+--------------------+----------+\n",
      "only showing top 5 rows\n",
      "\n"
     ]
    }
   ],
   "source": [
    "# For now, cleaning a DataFrame \"df_job_postings\" from an incorrectly parsed CSV rows:\n",
    "df_jobs = df_jobs.filter(col('job_id').rlike(r'^\\d+$'))\n",
    "\n",
    "# Printing the number of wrong ID rows:\n",
    "print(\"Number of wrong ID rows:\", df_jobs.filter(~col('job_id').rlike(r'^\\d+$')).count())\n",
    "\n",
    "# Displaying the DataFrame:\n",
    "selected_columns(df_jobs, 0, 5)"
   ]
  },
  {
   "cell_type": "markdown",
   "metadata": {},
   "source": [
    "## Merging all the tables"
   ]
  },
  {
   "cell_type": "markdown",
   "metadata": {},
   "source": [
    "### Deleting columns before merge"
   ]
  },
  {
   "cell_type": "code",
   "execution_count": 575,
   "metadata": {},
   "outputs": [],
   "source": [
    "# =================================================================================================================== #\n",
    "def columns_drop(dataframe: pyspark.sql.DataFrame, columns_list: list):\n",
    "    '''\n",
    "    The function deletes/drops columns in the specified DataFrame. \n",
    "    \n",
    "    Parameters:\n",
    "    - dataframe (pyspark.sql.DataFrame): the DataFrame for which we want to delete/drop column(s)\n",
    "    - columns_list (list): a list of columns to drop from a DataFrame\n",
    "    '''\n",
    "    \n",
    "    dataframe_name = get_dataframe_name(dataframe)\n",
    "    \n",
    "    print(f'Deleting columns in dataframe {dataframe_name}:')\n",
    "    logger.info(f'Deleting columns in dataframe =={dataframe_name}==')\n",
    "    \n",
    "    for column in columns_list:\n",
    "        print(f'Deleted column: \"{column}\"')\n",
    "        logger.info(f'Deleted column: \"{column}\"')\n",
    "        \n",
    "        dataframe = dataframe.drop(column)\n",
    "        \n",
    "    print('Deleting of columns finished succesfully!\\n')\n",
    "    logger.info('Deleting of columns finished succesfully!')\n",
    "    \n",
    "    print('Final list of columns:\\n')\n",
    "    for column in dataframe.columns: print(column)\n",
    "# =================================================================================================================== #"
   ]
  },
  {
   "cell_type": "code",
   "execution_count": 576,
   "metadata": {},
   "outputs": [
    {
     "name": "stdout",
     "output_type": "stream",
     "text": [
      "Deleting columns in dataframe df_jobs:\n",
      "Deleted column: \"work_type\"\n",
      "Deleting of columns finished succesfully!\n",
      "\n",
      "Final list of columns:\n",
      "\n",
      "job_id\n",
      "company_id\n",
      "title\n",
      "description\n",
      "max_salary\n",
      "med_salary\n",
      "min_salary\n",
      "pay_period\n",
      "formatted_work_type\n",
      "location\n",
      "applies\n",
      "original_listed_time\n",
      "remote_allowed\n",
      "views\n",
      "job_posting_url\n",
      "application_url\n",
      "application_type\n",
      "expiry\n",
      "closed_time\n",
      "formatted_experience_level\n",
      "skills_desc\n",
      "listed_time\n",
      "posting_domain\n",
      "sponsored\n",
      "currency\n",
      "compensation_type\n",
      "scraped\n"
     ]
    }
   ],
   "source": [
    "# jobs #\n",
    "columns_drop(df_jobs, ['work_type'])"
   ]
  },
  {
   "cell_type": "markdown",
   "metadata": {},
   "source": [
    "### Renaming columns before merge"
   ]
  },
  {
   "cell_type": "code",
   "execution_count": 463,
   "metadata": {},
   "outputs": [],
   "source": [
    "# =================================================================================================================== #\n",
    "def columns_rename(dataframe: pyspark.sql.DataFrame, columns_names: dict):\n",
    "    \"\"\"\n",
    "    The function renames columns in the specified DataFrame.\n",
    "    \n",
    "    Parameters:\n",
    "    - dataframe (pyspark.sql.DataFrame): the DataFrame for which we want to rename the columns\n",
    "    - columns_names (dict): the columns to rename in a dictionary\n",
    "    \"\"\"\n",
    "    \n",
    "    dataframe_name = get_dataframe_name(dataframe)\n",
    "    \n",
    "    print(f'Renaming columns in dataframe {dataframe_name}:\\n')\n",
    "    logger.info(f'Renaming columns in dataframe =={dataframe_name}==')\n",
    "    \n",
    "    for column_name_original, column_name_new in columns_names.items():\n",
    "        dataframe = dataframe.withColumnRenamed(column_name_original, column_name_new)\n",
    "    \n",
    "    print('Renamed columns are (\"old_name\" -> \"new_name\"):')\n",
    "    for old_name, new_name in columns_names.items(): \n",
    "        print(f'\\t- \"{old_name}\" -> \"{new_name}\"')\n",
    "    logger.info(\n",
    "                f\"Renamed columns are ('old_name', 'new_name'): \\n\\t{columns_names.items()}\"\n",
    "                )\n",
    "# =================================================================================================================== #"
   ]
  },
  {
   "cell_type": "code",
   "execution_count": 464,
   "metadata": {},
   "outputs": [
    {
     "name": "stdout",
     "output_type": "stream",
     "text": [
      "Renaming columns in dataframe df_jobs:\n",
      "\n",
      "Renamed columns are (\"old_name\" -> \"new_name\"):\n",
      "\t- \"formatted_work_type\" -> \"work_type\"\n",
      "\t- \"formatted_experience_level\" -> \"experience_level\"\n",
      "\t- \"expiry\" -> \"expiry_time\"\n"
     ]
    }
   ],
   "source": [
    "# jobs #\n",
    "columns_names={'formatted_work_type':'work_type', 'formatted_experience_level':'experience_level','expiry':'expiry_time'}\n",
    "columns_rename(df_jobs, columns_names)"
   ]
  },
  {
   "cell_type": "code",
   "execution_count": 468,
   "metadata": {},
   "outputs": [],
   "source": [
    "# =================================================================================================================== #\n",
    "def columns_rename_prefix(dataframe: pd.DataFrame, prefix: str):\n",
    "    \"\"\"\n",
    "    The function puts a given prefix in front of all the column names in the specified dataframe.\n",
    "    Info: The function will not add a prefix if there is already a prefix in the column. \n",
    "    \n",
    "    Parameters:\n",
    "    - dataframe (pd.DataFrame): the dataframe for which we want to add a prefix\n",
    "    - prefix (str): prefix string\n",
    "    \"\"\"\n",
    "    \n",
    "    dataframe_name = get_dataframe_name(dataframe)\n",
    "    \n",
    "    print(f'Renaming columns in dataframe =={dataframe_name}== by adding a prefix \"{prefix}\":\\n')\n",
    "    logger.info(f'Renaming columns in dataframe =={dataframe_name}== by adding a prefix \"{prefix}\"')\n",
    "    \n",
    "    for column in dataframe.columns:\n",
    "        if prefix not in column:\n",
    "            dataframe = dataframe.withColumnRenamed(column, f'{prefix}{column}')\n",
    "        else:\n",
    "            continue\n",
    "        \n",
    "    print(\"Renamed columns are:\")\n",
    "    for column in dataframe.columns:\n",
    "          print(f\"\\t- {column}\")\n",
    "    logger.info(\n",
    "                f'Renamed columns are: \\n\\t{dataframe.columns}'\n",
    "                )\n",
    "# =================================================================================================================== #"
   ]
  },
  {
   "cell_type": "code",
   "execution_count": 469,
   "metadata": {},
   "outputs": [
    {
     "name": "stdout",
     "output_type": "stream",
     "text": [
      "Renaming columns in dataframe ==df_companies== by adding a prefix \"company_\":\n",
      "\n",
      "Renamed columns are:\n",
      "\t- company_id\n",
      "\t- company_name\n",
      "\t- company_description\n",
      "\t- company_size\n",
      "\t- company_state\n",
      "\t- company_country\n",
      "\t- company_city\n",
      "\t- company_zip_code\n",
      "\t- company_address\n",
      "\t- company_url\n"
     ]
    }
   ],
   "source": [
    "# companies #\n",
    "# Renaming the columns in companies with prefix 'company_':\n",
    "columns_rename_prefix(df_companies, 'company_')"
   ]
  },
  {
   "cell_type": "code",
   "execution_count": 580,
   "metadata": {},
   "outputs": [
    {
     "name": "stdout",
     "output_type": "stream",
     "text": [
      "+----------+---------+\n",
      "|    job_id|skill_abr|\n",
      "+----------+---------+\n",
      "|3690843087|     ACCT|\n",
      "|3690843087|      FIN|\n",
      "|3691763971|     MGMT|\n",
      "|3691763971|     MNFC|\n",
      "|3691775263|     MGMT|\n",
      "+----------+---------+\n",
      "only showing top 5 rows\n",
      "\n"
     ]
    }
   ],
   "source": [
    "df_job_skills.show(5)"
   ]
  },
  {
   "cell_type": "code",
   "execution_count": 579,
   "metadata": {},
   "outputs": [
    {
     "name": "stdout",
     "output_type": "stream",
     "text": [
      "+---------+-----------------+\n",
      "|skill_abr|       skill_name|\n",
      "+---------+-----------------+\n",
      "|     PRCH|       Purchasing|\n",
      "|     SUPL|     Supply Chain|\n",
      "|       PR| Public Relations|\n",
      "|      SCI|          Science|\n",
      "|     STRA|Strategy/Planning|\n",
      "+---------+-----------------+\n",
      "only showing top 5 rows\n",
      "\n"
     ]
    }
   ],
   "source": [
    "df_skills_map.show(5)"
   ]
  },
  {
   "cell_type": "markdown",
   "metadata": {},
   "source": [
    "### Merging skills tables"
   ]
  },
  {
   "cell_type": "code",
   "execution_count": 613,
   "metadata": {},
   "outputs": [
    {
     "name": "stdout",
     "output_type": "stream",
     "text": [
      "Merging skills tables.\n",
      "Merging of skills tables finished succesfully!\n",
      "\n"
     ]
    }
   ],
   "source": [
    "print('Merging skills tables.')\n",
    "logger.info('Merging skills tables')\n",
    "\n",
    "# Merging the tables of skills:\n",
    "globals()['df_skills'] = df_job_skills.join(df_skills_map, on='skill_abr', how='left')\n",
    "\n",
    "# Renaming the columns in skills table:\n",
    "df_skills = (df_skills\n",
    "    .withColumnRenamed('skill_abr', 'skills_abbr')\n",
    "    .withColumnRenamed('skill_name', 'skills')\n",
    "    )\n",
    "\n",
    "print('Merging of skills tables finished succesfully!\\n')\n",
    "logger.info('Merging of skills tables finished succesfully!')"
   ]
  },
  {
   "cell_type": "code",
   "execution_count": 590,
   "metadata": {},
   "outputs": [
    {
     "name": "stdout",
     "output_type": "stream",
     "text": [
      "+-----------+----------+-------------------+\n",
      "|skills_abbr|    job_id|             skills|\n",
      "+-----------+----------+-------------------+\n",
      "|       ACCT|3690843087|Accounting/Auditing|\n",
      "|        FIN|3690843087|            Finance|\n",
      "|       MGMT|3691763971|         Management|\n",
      "|       MNFC|3691763971|      Manufacturing|\n",
      "|       MGMT|3691775263|         Management|\n",
      "+-----------+----------+-------------------+\n",
      "only showing top 5 rows\n",
      "\n"
     ]
    }
   ],
   "source": [
    "df_skills.show(5)"
   ]
  },
  {
   "cell_type": "markdown",
   "metadata": {},
   "source": [
    "### Dealing with the duplicates"
   ]
  },
  {
   "cell_type": "code",
   "execution_count": null,
   "metadata": {},
   "outputs": [],
   "source": [
    "# Loading names of dataframes to check from 'configuration.yaml' file:\n",
    "globals()['dataframes_to_check'] = configuration['dataframes_to_check']\n",
    "\n",
    "# dataframes_to_check = {\n",
    "#     'jobs':'job_id', \n",
    "#     'companies': 'company_id',\n",
    "#     'salaries': 'job_id',\n",
    "#     'industries':'company_id',\n",
    "#     'employee_counts': 'company_id',\n",
    "#     'skills': 'job_id'\n",
    "#     }\n",
    "\n",
    "# Iterating through different keys and values in dictionary:\n",
    "for key, value in dataframes_to_check.items():\n",
    "    \n",
    "    column = value  # Column name\n",
    "    dataframe = globals()[key]  # Accessing dataframe by its name in globals()\n",
    "\n",
    "    duplicates = dataframe[dataframe[column].duplicated()].shape[0]\n",
    "\n",
    "    # Displaying and removing the duplicates:\n",
    "    print('Removing duplicates:\\n')\n",
    "\n",
    "    if duplicates == 0:\n",
    "        print(f'Column {column} from =={key}== table has {duplicates} duplicates.\\n')\n",
    "        logger.info(f'Column {column} from =={key}== table has {duplicates} duplicates.')\n",
    "    else:\n",
    "        duplicates_top_5 = dataframe.loc[dataframe.duplicated(subset=[column], keep=False) == True].sort_values(by=column, ascending=True)[0:5]\n",
    "\n",
    "        print(f'Column {column} from =={key}== table has {duplicates} duplicates:')\n",
    "        print('Duplicates (top 5 rows):')\n",
    "        print(duplicates_top_5)\n",
    "        logger.info(f'Column {column} from =={key}== table has {duplicates} duplicates:\\n'\n",
    "                'Duplicates (top 5 rows):'\n",
    "                f'\\n{duplicates_top_5}'\n",
    "                )\n",
    "\n",
    "        print(f'Removing the duplicates in =={key}== by grouping the records...')\n",
    "        logger.info(f'Removing the duplicates in =={key}== by grouping the records...')\n",
    "\n",
    "        groupby_column = column\n",
    "\n",
    "        # # Grouping with the result in the list:\n",
    "        dataframe = dataframe.groupby(groupby_column).agg({\n",
    "            col: list for col in dataframe.columns if col != groupby_column\n",
    "            }).reset_index()\n",
    "\n",
    "        globals()[key] = dataframe  # Assigning the modified DataFrame back to its original variable\n",
    "\n",
    "        # Checking the duplicates:\n",
    "        duplicates = dataframe.loc[dataframe[column].duplicated() == True, column].shape[0]\n",
    "        print(f'Final result: column {column} has {duplicates} duplicates.\\n')\n",
    "        logger.info(f'Final result: column {column} has {duplicates} duplicates.')"
   ]
  },
  {
   "cell_type": "markdown",
   "metadata": {},
   "source": [
    "### Merging all the tables"
   ]
  },
  {
   "cell_type": "code",
   "execution_count": null,
   "metadata": {},
   "outputs": [],
   "source": [
    "print('Starting merge of all tables.')\n",
    "logger.info('Starting merge of all tables.')\n",
    "\n",
    "# Creating a main table 'data' by merging the datasets:\n",
    "data = pd.merge(jobs, companies[['company_id','company_name','company_url']], on='company_id', how='left', suffixes=('_#jobs', '_#companies'))\n",
    "data = pd.merge(data, industries, on='company_id', how='left', suffixes=('_#jobs', '_#industries'))\n",
    "data = pd.merge(data, salaries, on='job_id', how='left', suffixes=('_#jobs', '_#salaries'))\n",
    "data = pd.merge(data, employee_counts[['company_id', 'employee_count', 'follower_count']], on='company_id', how='left', suffixes=('_#jobs', '_#employee_counts'))\n",
    "data = pd.merge(data, skills, on='job_id', how='left', suffixes=('_#jobs', '_#skills'))\n",
    "\n",
    "print('Merging of all tables completed succesfully!\\n')\n",
    "logger.info('Merging of all tables completed succesfully!')"
   ]
  },
  {
   "cell_type": "markdown",
   "metadata": {},
   "source": [
    "## Creating a discription dataframe"
   ]
  },
  {
   "cell_type": "code",
   "execution_count": null,
   "metadata": {},
   "outputs": [],
   "source": [
    "print('Creating a description dataframe...\\n')\n",
    "logger.info('Creating a description dataframe...')\n",
    "data_counts = pd.DataFrame(index = data.columns, columns = ['Rows', 'Values', 'Unique values', 'NULLs', 'Zeros','Duplicates'])\n",
    "\n",
    "# Filling the values into the dataframe:\n",
    "for column in data.columns:\n",
    "    data_counts.loc[column, 'Rows'] = len(data[column])\n",
    "    data_counts.loc[column, 'Values'] = data.loc[data[column].notnull() == True, column].shape[0]\n",
    "    data_counts.loc[column, 'Unique values'] = data.loc[data[column].duplicated() == False, column].shape[0]\n",
    "    data_counts.loc[column, 'NULLs'] = data.loc[data[column].isnull() == True, column].shape[0]\n",
    "    data_counts.loc[column, 'Zeros'] = data.loc[data[column] == 0, column].shape[0]\n",
    "    data_counts.loc[column, 'Duplicates'] = data.loc[data[column].duplicated() == True, column].shape[0]\n",
    "\n",
    "# Ordering the dataframe by number of NULLs descending:\n",
    "data_counts = data_counts.sort_values(by = 'NULLs', ascending=False)\n",
    "\n",
    "print('Discription table:')\n",
    "print(f'{data_counts}\\n')\n",
    "logger.info('Discription table:\\n'\n",
    "            f'{data_counts}'\n",
    "            )"
   ]
  },
  {
   "cell_type": "markdown",
   "metadata": {},
   "source": [
    "## Altering columns of the data"
   ]
  },
  {
   "cell_type": "markdown",
   "metadata": {},
   "source": [
    "### TITLE"
   ]
  },
  {
   "cell_type": "code",
   "execution_count": null,
   "metadata": {},
   "outputs": [],
   "source": [
    "# Clearing leading and trailing whitespaces:\n",
    "data['title'] = data['title'].str.strip()"
   ]
  },
  {
   "cell_type": "markdown",
   "metadata": {},
   "source": [
    "### TIMESTAMP"
   ]
  },
  {
   "cell_type": "code",
   "execution_count": null,
   "metadata": {},
   "outputs": [],
   "source": [
    "# Converting the UNIX time (in ms) to datetime:\n",
    "data['original_listed_time_ms'] = pd.to_datetime(data['original_listed_time'], unit='ms')\n",
    "data['expiry_time_ms'] = pd.to_datetime(data['expiry_time'], unit='ms')\n",
    "data['closed_time_ms'] = pd.to_datetime(data['closed_time'], unit='ms')\n",
    "data['listed_time_ms'] = pd.to_datetime(data['listed_time'], unit='ms')"
   ]
  },
  {
   "cell_type": "markdown",
   "metadata": {},
   "source": [
    "### SALARY"
   ]
  },
  {
   "cell_type": "code",
   "execution_count": null,
   "metadata": {},
   "outputs": [],
   "source": [
    "# Deleting salary columns from jobs table:\n",
    "data.drop(\n",
    "    ['min_salary_#jobs', 'med_salary_#jobs', 'max_salary_#jobs', 'pay_period_#jobs', 'currency_#jobs', 'compensation_type_#jobs']\n",
    "    , axis='columns'\n",
    "    , inplace=True\n",
    "    )\n",
    "\n",
    "# Renaming salary columns from salaries table:\n",
    "data.rename(columns={\n",
    "    'min_salary_#salaries': 'min_salary', \n",
    "    'med_salary_#salaries': 'med_salary',\n",
    "    'max_salary_#salaries': 'max_salary',\n",
    "    'pay_period_#salaries': 'pay_period',\n",
    "    'compensation_type_#salaries': 'compensation_type',\n",
    "    'currency_#salaries': 'currency'\n",
    "    }, inplace = True)\n",
    "\n",
    "# Creating a dictionary with time multiplier values:\n",
    "time_multiplier = {'YEARLY':1, 'MONTHLY':12, 'WEEKLY':52, 'HOURLY':52*40}\n",
    "\n",
    "# Creating new columns and initializing them with None values:\n",
    "data.loc[:, ['min_salary_normalized','med_salary_normalized','max_salary_normalized']] = np.NaN\n",
    "\n",
    "# Iterating through different multipliers in dictionary and calculating normalized salary columns:\n",
    "for key, value in time_multiplier.items():\n",
    "    for column, column_normalized in {\n",
    "        'min_salary':'min_salary_normalized', \n",
    "        'med_salary':'med_salary_normalized', \n",
    "        'max_salary':'max_salary_normalized'}.items():\n",
    "            data.loc[data['pay_period'] == key, column_normalized] = data.loc[data['pay_period'] == key, column] * time_multiplier[key]"
   ]
  },
  {
   "cell_type": "markdown",
   "metadata": {},
   "source": [
    "### LOCATION"
   ]
  },
  {
   "cell_type": "code",
   "execution_count": null,
   "metadata": {},
   "outputs": [],
   "source": [
    "# ------------------------------------------------------------------ #\n",
    "# Defining a function to resolve a state name from a string input:\n",
    "def find_USA_states(location: str) -> pd.Series:\n",
    "    '''\n",
    "    Function description: This function resolves a USA state name from the input string.\n",
    "    '''\n",
    "\n",
    "    # Dictionary of USA states (dictionary is faster than a list because it uses a hashmap):\n",
    "    states_USA = {\n",
    "        'AL': 'Alabama', 'AK': 'Alaska', 'AZ': 'Arizona', 'AR': 'Arkansas', 'CA': 'California',\n",
    "        'CO': 'Colorado', 'CT': 'Connecticut', 'DE': 'Delaware', 'FL': 'Florida', 'GA': 'Georgia',\n",
    "        'HI': 'Hawaii', 'ID': 'Idaho', 'IL': 'Illinois', 'IN': 'Indiana', 'IA': 'Iowa',\n",
    "        'KS': 'Kansas', 'KY': 'Kentucky', 'LA': 'Louisiana', 'ME': 'Maine', 'MD': 'Maryland',\n",
    "        'MA': 'Massachusetts', 'MI': 'Michigan', 'MN': 'Minnesota', 'MS': 'Mississippi', 'MO': 'Missouri',\n",
    "        'MT': 'Montana', 'NE': 'Nebraska', 'NV': 'Nevada', 'NH': 'New Hampshire', 'NJ': 'New Jersey',\n",
    "        'NM': 'New Mexico', 'NY': 'New York', 'NC': 'North Carolina', 'ND': 'North Dakota', 'OH': 'Ohio',\n",
    "        'OK': 'Oklahoma', 'OR': 'Oregon', 'PA': 'Pennsylvania', 'RI': 'Rhode Island', 'SC': 'South Carolina',\n",
    "        'SD': 'South Dakota', 'TN': 'Tennessee', 'TX': 'Texas', 'UT': 'Utah', 'VT': 'Vermont',\n",
    "        'VA': 'Virginia', 'WA': 'Washington', 'WV': 'West Virginia', 'WI': 'Wisconsin', 'WY': 'Wyoming'\n",
    "    }\n",
    "\n",
    "    # Lowercase of 'states_USA' dictionary (for case-insensitive search):\n",
    "    states_USA_lowercase = {key.lower(): value.lower() for key,value in states_USA.items() \n",
    "                            if isinstance(key, str) and isinstance(value, str)}\n",
    "\n",
    "    # Splitting the input location string into words:\n",
    "    words = location.lower().split()\n",
    "\n",
    "    # Defining column names of the return:\n",
    "    column_name_state = 'state'\n",
    "    column_name_state_abbr = 'state_abbr'\n",
    "\n",
    "    # Iterate through the words and check if they match the state names or abbreviations:\n",
    "    for word in words:\n",
    "        for state_abbr, state in states_USA_lowercase.items():\n",
    "            # First check state abbreviations (it is faster):\n",
    "            if word in state_abbr:\n",
    "                return pd.Series([states_USA[word.upper()].capitalize(), word.upper()], index=[column_name_state, column_name_state_abbr])\n",
    "            # If no abbreviation match is found, check for full state names:\n",
    "            elif word == state.lower():\n",
    "                return pd.Series([state.capitalize(), state_abbr.upper()], index=[column_name_state, column_name_state_abbr])\n",
    "            # If no match is found, return NaN:\n",
    "            else:\n",
    "                return pd.Series([None, None], index=[column_name_state, column_name_state_abbr])  \n",
    "# ------------------------------------------------------------------ #\n",
    "\n",
    "# Applying the 'find_USA_states' function to the final dataset (appending 2 columns to the main dataset: 'state' and 'state_abbr'):\n",
    "data = pd.concat([data, data['location'].apply(find_USA_states)], axis=1)"
   ]
  },
  {
   "cell_type": "code",
   "execution_count": 470,
   "metadata": {},
   "outputs": [
    {
     "name": "stdout",
     "output_type": "stream",
     "text": [
      "Altering of the columns of data finished succesfully!\n",
      "\n"
     ]
    }
   ],
   "source": [
    "print('Altering of the columns of data finished succesfully!\\n')\n",
    "logger.info('Altering of the columns of data finished succesfully!')\n",
    "\n",
    "# ============================================================= #"
   ]
  },
  {
   "cell_type": "markdown",
   "metadata": {},
   "source": [
    "## Exporting a dataset to CSV file:"
   ]
  },
  {
   "cell_type": "code",
   "execution_count": null,
   "metadata": {},
   "outputs": [],
   "source": [
    "# Exporting final dataset to CSV (using delimiter: `):\n",
    "print('Exporting data to CSV!')\n",
    "logger.info('Exporting data to CSV!')\n",
    "\n",
    "data.to_csv('final_dataset.csv', sep = configuration['delimiter_export'], index=False)\n",
    "\n",
    "print('Exporting data to CSV completed succesfully!\\n')\n",
    "logger.info('Exporting data to CSV completed succesfully!')\n",
    "\n",
    "print(f'Number of rows: {len(data)}')\n",
    "\n",
    "\n",
    "# Clearing the log file if larger than 1000 rows:\n",
    "clear_log(configuration['logger']['file'], max_log_lines)"
   ]
  },
  {
   "cell_type": "markdown",
   "metadata": {},
   "source": [
    "## Caching"
   ]
  },
  {
   "cell_type": "code",
   "execution_count": 69,
   "metadata": {},
   "outputs": [
    {
     "data": {
      "text/plain": [
       "5"
      ]
     },
     "execution_count": 69,
     "metadata": {},
     "output_type": "execute_result"
    }
   ],
   "source": [
    "# Caching the DataFrame to a memory:\n",
    "from pyspark import StorageLevel\n",
    "df.persist(StorageLevel.MEMORY_ONLY).count()   # count() action is used to trigger the caching"
   ]
  },
  {
   "cell_type": "code",
   "execution_count": 70,
   "metadata": {},
   "outputs": [
    {
     "name": "stdout",
     "output_type": "stream",
     "text": [
      "Memory Serialized 1x Replicated\n"
     ]
    }
   ],
   "source": [
    "print(df.storageLevel)"
   ]
  },
  {
   "cell_type": "code",
   "execution_count": 63,
   "metadata": {},
   "outputs": [
    {
     "data": {
      "text/plain": [
       "5"
      ]
     },
     "execution_count": 63,
     "metadata": {},
     "output_type": "execute_result"
    }
   ],
   "source": [
    "df.unpersist()"
   ]
  },
  {
   "cell_type": "code",
   "execution_count": null,
   "metadata": {},
   "outputs": [],
   "source": [
    "spark.sql.shuffle.partitions\n",
    "spark.sql.autoBroadcastJoinThreshold\n",
    "counter = spark.sparkContext.accumulator(0)"
   ]
  },
  {
   "cell_type": "code",
   "execution_count": 1,
   "metadata": {},
   "outputs": [
    {
     "data": {
      "image/png": "[encoded data removed]",
      "text/plain": [
       "<Figure size 1500x500 with 3 Axes>"
      ]
     },
     "metadata": {},
     "output_type": "display_data"
    }
   ],
   "source": [
    "import matplotlib.pyplot as plt\n",
    "\n",
    "fig, ax = plt.subplots(1, 3, figsize=(15, 5))\n",
    "\n",
    "# First subplot\n",
    "ax[0].plot([1, 2, 3], [4, 5, 6])\n",
    "ax[0].set_title(\"First Plot\")\n",
    "\n",
    "# Second subplot\n",
    "ax[1].scatter([1, 2, 3], [6, 5, 4])\n",
    "ax[1].set_title(\"Second Plot\")\n",
    "\n",
    "# Third subplot\n",
    "ax[2].bar([1, 2, 3], [7, 8, 9])\n",
    "ax[2].set_title(\"Third Plot\")\n",
    "\n",
    "plt.tight_layout()  # Adjust layout for better spacing\n",
    "plt.show()\n"
   ]
  },
  {
   "cell_type": "code",
   "execution_count": null,
   "metadata": {},
   "outputs": [
    {
     "name": "stderr",
     "output_type": "stream",
     "text": [
      "c:\\Users\\Jakub.Cajzl\\AppData\\Local\\Programs\\Python\\Python312\\Lib\\site-packages\\seaborn\\_oldcore.py:1119: FutureWarning: use_inf_as_na option is deprecated and will be removed in a future version. Convert inf values to NaN before operating instead.\n",
      "  with pd.option_context('mode.use_inf_as_na', True):\n",
      "c:\\Users\\Jakub.Cajzl\\AppData\\Local\\Programs\\Python\\Python312\\Lib\\site-packages\\seaborn\\_oldcore.py:1119: FutureWarning: use_inf_as_na option is deprecated and will be removed in a future version. Convert inf values to NaN before operating instead.\n",
      "  with pd.option_context('mode.use_inf_as_na', True):\n",
      "c:\\Users\\Jakub.Cajzl\\AppData\\Local\\Programs\\Python\\Python312\\Lib\\site-packages\\seaborn\\_oldcore.py:1119: FutureWarning: use_inf_as_na option is deprecated and will be removed in a future version. Convert inf values to NaN before operating instead.\n",
      "  with pd.option_context('mode.use_inf_as_na', True):\n",
      "c:\\Users\\Jakub.Cajzl\\AppData\\Local\\Programs\\Python\\Python312\\Lib\\site-packages\\seaborn\\_oldcore.py:1119: FutureWarning: use_inf_as_na option is deprecated and will be removed in a future version. Convert inf values to NaN before operating instead.\n",
      "  with pd.option_context('mode.use_inf_as_na', True):\n",
      "c:\\Users\\Jakub.Cajzl\\AppData\\Local\\Programs\\Python\\Python312\\Lib\\site-packages\\seaborn\\_oldcore.py:1119: FutureWarning: use_inf_as_na option is deprecated and will be removed in a future version. Convert inf values to NaN before operating instead.\n",
      "  with pd.option_context('mode.use_inf_as_na', True):\n",
      "c:\\Users\\Jakub.Cajzl\\AppData\\Local\\Programs\\Python\\Python312\\Lib\\site-packages\\seaborn\\_oldcore.py:1119: FutureWarning: use_inf_as_na option is deprecated and will be removed in a future version. Convert inf values to NaN before operating instead.\n",
      "  with pd.option_context('mode.use_inf_as_na', True):\n"
     ]
    },
    {
     "data": {
      "image/png": "[encoded data removed]",
      "text/plain": [
       "<Figure size 800x600 with 1 Axes>"
      ]
     },
     "metadata": {},
     "output_type": "display_data"
    },
    {
     "data": {
      "image/png": "[encoded data removed]",
      "text/plain": [
       "<Figure size 800x600 with 1 Axes>"
      ]
     },
     "metadata": {},
     "output_type": "display_data"
    },
    {
     "data": {
      "image/png": "[encoded data removed]",
      "text/plain": [
       "<Figure size 800x600 with 1 Axes>"
      ]
     },
     "metadata": {},
     "output_type": "display_data"
    }
   ],
   "source": [
    "import numpy as np\n",
    "import matplotlib.pyplot as plt\n",
    "import seaborn as sns\n",
    "\n",
    "# Generating synthetic data\n",
    "np.random.seed(0)\n",
    "n_samples = 100\n",
    "x1 = np.random.rand(n_samples)\n",
    "x2 = np.random.rand(n_samples)\n",
    "x3 = np.random.rand(n_samples)\n",
    "b = 2\n",
    "w1 = 3\n",
    "w2 = 4\n",
    "w3 = 5\n",
    "\n",
    "# Generate y using the model y = b + w1*x1 + w2*x2 + w3*x3\n",
    "y = b + w1*x1 + w2*x2 + w3*x3 + np.random.normal(0, 0.1, n_samples)\n",
    "\n",
    "# 1. Plot y vs x1 (holding x2, x3 constant)\n",
    "fig, ax = plt.subplots(figsize=(8, 6))\n",
    "sns.lineplot(x=x1, y=y, ax=ax)\n",
    "ax.set_title('y vs x1 (holding x2 and x3 constant)')\n",
    "ax.set_xlabel('x1')\n",
    "ax.set_ylabel('y')\n",
    "\n",
    "# 2. Plot y vs x2 (holding x1, x3 constant)\n",
    "fig2, ax2 = plt.subplots(figsize=(8, 6))\n",
    "sns.lineplot(x=x2, y=y, ax=ax2)\n",
    "ax2.set_title('y vs x2 (holding x1 and x3 constant)')\n",
    "ax2.set_xlabel('x2')\n",
    "ax2.set_ylabel('y')\n",
    "\n",
    "# 3. Plot y vs x3 (holding x1, x2 constant)\n",
    "fig3, ax3 = plt.subplots(figsize=(8, 6))\n",
    "sns.lineplot(x=x3, y=y, ax=ax3)\n",
    "ax3.set_title('y vs x3 (holding x1 and x2 constant)')\n",
    "ax3.set_xlabel('x3')\n",
    "ax3.set_ylabel('y')\n",
    "\n",
    "plt.tight_layout()\n",
    "plt.show()"
   ]
  },
  {
   "cell_type": "markdown",
   "metadata": {},
   "source": [
    "## Summary of hyperparameter tuning\n",
    "\n",
    "Most machine learning problems require a lot of hyperparameter tuning.  Unfortunately, we can't provide concrete tuning rules for every model. Lowering the learning rate can help one model converge efficiently but make another model converge much too slowly.  You must experiment to find the best set of hyperparameters for your dataset. That said, here are a few rules of thumb:\n",
    "\n",
    " * Training loss should steadily decrease, steeply at first, and then more slowly until the slope of the curve reaches or approaches zero.\n",
    " * If the training loss does not converge, train for more epochs.\n",
    " * If the training loss decreases too slowly, increase the learning rate. Note that setting the learning rate too high may also prevent training loss from converging.\n",
    " * If the training loss varies wildly (that is, the training loss jumps around), decrease the learning rate.\n",
    " * Lowering the learning rate while increasing the number of epochs or the batch size is often a good combination.\n",
    " * Setting the batch size to a *very* small batch number can also cause instability. First, try large batch size values. Then, decrease the batch size until you see degradation.\n",
    " * For real-world datasets consisting of a very large number of examples, the entire dataset might not fit into memory. In such cases, you'll need to reduce the batch size to enable a batch to fit into memory.\n",
    "\n",
    "Remember: the ideal combination of hyperparameters is data dependent, so you must always experiment and verify."
   ]
  }
 ],
 "metadata": {
  "kernelspec": {
   "display_name": "Python 3",
   "language": "python",
   "name": "python3"
  },
  "language_info": {
   "codemirror_mode": {
    "name": "ipython",
    "version": 3
   },
   "file_extension": ".py",
   "mimetype": "text/x-python",
   "name": "python",
   "nbconvert_exporter": "python",
   "pygments_lexer": "ipython3",
   "version": "3.12.3"
  }
 },
 "nbformat": 4,
 "nbformat_minor": 2
}
