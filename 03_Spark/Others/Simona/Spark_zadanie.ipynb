{
 "cells": [
  {
   "cell_type": "markdown",
   "id": "8bfd092b-62e9-4ee4-96fc-9806524acc21",
   "metadata": {},
   "source": [
    "# Spark\n",
    "## HDFS, Impala, Jupyter"
   ]
  },
  {
   "cell_type": "markdown",
   "id": "ea5158a1-87d4-4af6-bb30-26a180105f9a",
   "metadata": {},
   "source": [
    "## Vstup\n",
    "\n",
    "- Pomocí Spark.sql poslat select na libovolnou LinFada tabulku a vytvořit tempView.\n",
    "- CSV file (třeba Titanic)"
   ]
  },
  {
   "cell_type": "markdown",
   "id": "bc0fe5d6-578f-4ff9-81be-9efc84fefbfb",
   "metadata": {},
   "source": [
    "## Výstup\n",
    "\n",
    "- Jupyter notebook na GIT/email."
   ]
  },
  {
   "cell_type": "code",
   "execution_count": 135,
   "id": "5779b597-acd5-4630-9e79-fca4f54692c8",
   "metadata": {},
   "outputs": [
    {
     "name": "stdout",
     "output_type": "stream",
     "text": [
      "Ticket cache: FILE:/tmp/krb5cc_1512860934\n",
      "Default principal: Simona.Uhlikova@DATALAB.ADASTRA.CZ\n",
      "\n",
      "Valid starting       Expires              Service principal\n",
      "04/21/2023 07:18:42  04/22/2023 07:18:42  krbtgt/DATALAB.ADASTRA.CZ@DATALAB.ADASTRA.CZ\n"
     ]
    }
   ],
   "source": [
    "!kdestroy\n",
    "!kinit -kt ../Simona.Uhlikova.keytab Simona.Uhlikova\n",
    "!klist"
   ]
  },
  {
   "cell_type": "code",
   "execution_count": 136,
   "id": "274518ce-81ce-4af5-8500-650ac1f0f32e",
   "metadata": {},
   "outputs": [],
   "source": [
    "# import modules\n",
    "from pyspark.sql import SparkSession, DataFrame\n",
    "from pyspark.sql.functions import *\n",
    "from pyspark.sql.types import *"
   ]
  },
  {
   "cell_type": "code",
   "execution_count": null,
   "id": "c363046b-b8c9-459d-8d50-52591608a86f",
   "metadata": {},
   "outputs": [],
   "source": [
    "spark = SparkSession.builder.appName(\"app\").getOrCreate()"
   ]
  },
  {
   "cell_type": "markdown",
   "id": "3f008f2e-6f87-4435-886c-f0b01bdbafa1",
   "metadata": {
    "tags": []
   },
   "source": [
    "### 1) Data z tempView uložit do df\n",
    "### 2) Vypsat schema df\n",
    "### 3) Zobrazit df (vyzkoušet truncate), vypsat počet řádků "
   ]
  },
  {
   "cell_type": "code",
   "execution_count": 138,
   "id": "a0db9267-21d1-48b5-acd3-4ef82160b508",
   "metadata": {},
   "outputs": [],
   "source": [
    "def linfada_data(database_name, table_name) -> DataFrame:\n",
    "\n",
    "    # Load the data from the tempView into a DataFrame\n",
    "    df = spark.sql(f\"SELECT * FROM {database_name}.{table_name}\")\n",
    "    \n",
    "    df.createOrReplaceTempView(table_name)\n",
    "\n",
    "    # print the schema\n",
    "    df.printSchema()\n",
    "\n",
    "    # show contents of the DataFrame with the number of rows\n",
    "    df.show(truncate=True)\n",
    "    print(f\"Počet riadkov: {df.count()}\")\n",
    "    \n",
    "    return df"
   ]
  },
  {
   "cell_type": "code",
   "execution_count": 139,
   "id": "10bc5678-d2fc-4708-a528-74037105498c",
   "metadata": {},
   "outputs": [
    {
     "name": "stderr",
     "output_type": "stream",
     "text": [
      "23/04/21 07:20:55 WARN conf.HiveConf: HiveConf of name hive.masking.algo does not exist\n",
      "Hive Session ID = 4d3c0539-dbbb-4e31-ac8c-1b5aa2a386d4\n"
     ]
    },
    {
     "name": "stdout",
     "output_type": "stream",
     "text": [
      "root\n",
      " |-- id_downloaded_post: long (nullable = true)\n",
      " |-- post_text: string (nullable = true)\n",
      " |-- post_hashtags: string (nullable = true)\n",
      " |-- unique_impressions_count: integer (nullable = true)\n",
      " |-- share_count: integer (nullable = true)\n",
      " |-- engagement: float (nullable = true)\n",
      " |-- click_count: integer (nullable = true)\n",
      " |-- like_count: integer (nullable = true)\n",
      " |-- impression_count: integer (nullable = true)\n",
      " |-- comment_count: integer (nullable = true)\n",
      " |-- publish_time: timestamp (nullable = true)\n",
      " |-- last_edit_time: timestamp (nullable = true)\n",
      " |-- s_download_time: timestamp (nullable = true)\n",
      " |-- s_date: integer (nullable = true)\n",
      "\n"
     ]
    },
    {
     "name": "stderr",
     "output_type": "stream",
     "text": [
      "23/04/21 07:20:56 WARN security.ShellBasedUnixGroupsMapping: Some group names for 'simona.uhlikova' are not resolvable. id: cannot find name for group ID 1512800513\n",
      "id: cannot find name for group ID 1512800513\n",
      "\n",
      "[Stage 0:>                                                          (0 + 0) / 1]23/04/21 07:21:12 WARN cluster.YarnScheduler: Initial job has not accepted any resources; check your cluster UI to ensure that workers are registered and have sufficient resources\n",
      "23/04/21 07:21:27 WARN cluster.YarnScheduler: Initial job has not accepted any resources; check your cluster UI to ensure that workers are registered and have sufficient resources\n",
      "23/04/21 07:21:42 WARN cluster.YarnScheduler: Initial job has not accepted any resources; check your cluster UI to ensure that workers are registered and have sufficient resources\n",
      "23/04/21 07:21:57 WARN cluster.YarnScheduler: Initial job has not accepted any resources; check your cluster UI to ensure that workers are registered and have sufficient resources\n",
      "[Stage 0:>                                                          (0 + 0) / 1]23/04/21 07:22:12 WARN cluster.YarnScheduler: Initial job has not accepted any resources; check your cluster UI to ensure that workers are registered and have sufficient resources\n",
      "23/04/21 07:22:27 WARN cluster.YarnScheduler: Initial job has not accepted any resources; check your cluster UI to ensure that workers are registered and have sufficient resources\n",
      "23/04/21 07:22:42 WARN cluster.YarnScheduler: Initial job has not accepted any resources; check your cluster UI to ensure that workers are registered and have sufficient resources\n",
      "23/04/21 07:22:57 WARN cluster.YarnScheduler: Initial job has not accepted any resources; check your cluster UI to ensure that workers are registered and have sufficient resources\n",
      "[Stage 0:>                                                          (0 + 0) / 1]23/04/21 07:23:12 WARN cluster.YarnScheduler: Initial job has not accepted any resources; check your cluster UI to ensure that workers are registered and have sufficient resources\n",
      "                                                                                \r"
     ]
    },
    {
     "name": "stdout",
     "output_type": "stream",
     "text": [
      "+-------------------+--------------------+--------------------+------------------------+-----------+----------+-----------+----------+----------------+-------------+-------------------+-------------------+-------------------+------+\n",
      "| id_downloaded_post|           post_text|       post_hashtags|unique_impressions_count|share_count|engagement|click_count|like_count|impression_count|comment_count|       publish_time|     last_edit_time|    s_download_time|s_date|\n",
      "+-------------------+--------------------+--------------------+------------------------+-----------+----------+-----------+----------+----------------+-------------+-------------------+-------------------+-------------------+------+\n",
      "|6879515477618565120|Baví tě správa ap...|sql,linux,windows...|                       3|          0|       0.0|          0|         2|               3|            0|2021-12-22 20:19:18|2021-12-22 20:49:56|2023-02-22 08:27:51|202302|\n",
      "|6879515477618565120|Baví tě správa ap...|sql,linux,windows...|                       3|          0|       0.0|          0|         2|               3|            0|2021-12-22 20:19:18|2021-12-22 20:49:56|2023-02-22 08:27:51|202302|\n",
      "|6879515477618565120|Baví tě správa ap...|sql,linux,windows...|                       3|          0|       0.0|          0|         2|               3|            0|2021-12-22 20:19:18|2021-12-22 20:49:56|2023-02-22 08:27:51|202302|\n",
      "|6879515477618565120|Baví tě správa ap...|sql,linux,windows...|                       3|          0|       0.0|          0|         2|               3|            0|2021-12-22 20:19:18|2021-12-22 20:49:56|2023-02-22 08:27:51|202302|\n",
      "|6879515477618565120|Baví tě správa ap...|sql,linux,windows...|                       3|          0|       0.0|          0|         2|               3|            0|2021-12-22 20:19:18|2021-12-22 20:49:56|2023-02-22 08:27:51|202302|\n",
      "|6879515477618565120|Baví tě správa ap...|sql,linux,windows...|                       3|          0|       0.0|          0|         2|               3|            0|2021-12-22 20:19:18|2021-12-22 20:49:56|2023-02-22 08:27:51|202302|\n",
      "|6879515477618565120|Baví tě správa ap...|sql,linux,windows...|                       3|          0|       0.0|          0|         2|               3|            0|2021-12-22 20:19:18|2021-12-22 20:49:56|2023-02-22 08:27:51|202302|\n",
      "|6879515477618565120|Baví tě správa ap...|sql,linux,windows...|                       3|          0|       0.0|          0|         2|               3|            0|2021-12-22 20:19:18|2021-12-22 20:49:56|2023-02-22 08:27:51|202302|\n",
      "|6879515477618565120|Baví tě správa ap...|sql,linux,windows...|                       3|          0|       0.0|          0|         2|               3|            0|2021-12-22 20:19:18|2021-12-22 20:49:56|2023-02-22 08:27:51|202302|\n",
      "|6879515477618565120|Baví tě správa ap...|sql,linux,windows...|                       3|          0|       0.0|          0|         2|               3|            0|2021-12-22 20:19:18|2021-12-22 20:49:56|2023-02-22 08:27:51|202302|\n",
      "|6879515477618565120|Baví tě správa ap...|sql,linux,windows...|                       3|          0|       0.0|          0|         2|               3|            0|2021-12-22 20:19:18|2021-12-22 20:49:56|2023-02-22 08:27:51|202302|\n",
      "|6879515477618565120|Baví tě správa ap...|sql,linux,windows...|                       3|          0|       0.0|          0|         2|               3|            0|2021-12-22 20:19:18|2021-12-22 20:49:56|2023-02-22 08:27:51|202302|\n",
      "|6879515477618565120|Baví tě správa ap...|sql,linux,windows...|                       3|          0|       0.0|          0|         2|               3|            0|2021-12-22 20:19:18|2021-12-22 20:49:56|2023-02-22 08:27:51|202302|\n",
      "|6692351987050127360|🎉 Congratulation...|top10,top100,adas...|                       0|          0|       0.0|          0|         2|               0|            0|2020-07-24 08:57:31|2020-07-24 08:57:31|2023-02-22 08:27:51|202302|\n",
      "|6692351987050127360|🎉 Congratulation...|top10,top100,adas...|                       0|          0|       0.0|          0|         2|               0|            0|2020-07-24 08:57:31|2020-07-24 08:57:31|2023-02-22 08:27:51|202302|\n",
      "|6692351987050127360|🎉 Congratulation...|top10,top100,adas...|                       0|          0|       0.0|          0|         2|               0|            0|2020-07-24 08:57:31|2020-07-24 08:57:31|2023-02-22 08:27:51|202302|\n",
      "|6692351987050127360|🎉 Congratulation...|top10,top100,adas...|                       0|          0|       0.0|          0|         2|               0|            0|2020-07-24 08:57:31|2020-07-24 08:57:31|2023-02-22 08:27:51|202302|\n",
      "|6692351987050127360|🎉 Congratulation...|top10,top100,adas...|                       0|          0|       0.0|          0|         2|               0|            0|2020-07-24 08:57:31|2020-07-24 08:57:31|2023-02-22 08:27:51|202302|\n",
      "|6692351987050127360|🎉 Congratulation...|top10,top100,adas...|                       0|          0|       0.0|          0|         2|               0|            0|2020-07-24 08:57:31|2020-07-24 08:57:31|2023-02-22 08:27:51|202302|\n",
      "|6692351987050127360|🎉 Congratulation...|top10,top100,adas...|                       0|          0|       0.0|          0|         2|               0|            0|2020-07-24 08:57:31|2020-07-24 08:57:31|2023-02-22 08:27:51|202302|\n",
      "+-------------------+--------------------+--------------------+------------------------+-----------+----------+-----------+----------+----------------+-------------+-------------------+-------------------+-------------------+------+\n",
      "only showing top 20 rows\n",
      "\n"
     ]
    },
    {
     "name": "stderr",
     "output_type": "stream",
     "text": [
      "[Stage 1:=============================>                             (1 + 1) / 2]"
     ]
    },
    {
     "name": "stdout",
     "output_type": "stream",
     "text": [
      "Počet riadkov: 20688\n"
     ]
    },
    {
     "name": "stderr",
     "output_type": "stream",
     "text": [
      "                                                                                \r"
     ]
    }
   ],
   "source": [
    "#calling functions\n",
    "linfada = linfada_data(\"linfada_mart\",\"lin_downloaded_posts\")"
   ]
  },
  {
   "cell_type": "markdown",
   "id": "9b5b319e-2316-445e-9fd6-f961ee2f4438",
   "metadata": {},
   "source": [
    "### 4) Načíst přiložený CSV file s předem nadefinovaným schématem pomocí StructType (s hlavičkou, delimiterem)"
   ]
  },
  {
   "cell_type": "code",
   "execution_count": 140,
   "id": "641f9500-7ce9-40fe-bce7-92484e1036b4",
   "metadata": {},
   "outputs": [],
   "source": [
    "def read_titanic_csv_with_struct(titanic_path) -> DataFrame:\n",
    "    # Load Titanic CSV file with pre-defined StructType\n",
    "    titanic_schema = StructType([\n",
    "        StructField(\"PassengerId\", IntegerType(), True),\n",
    "        StructField(\"Survived\", IntegerType(), True),\n",
    "        StructField(\"Pclass\", IntegerType(), True),\n",
    "        StructField(\"Name\", StringType(), True),\n",
    "        StructField(\"Sex\", StringType(), True),\n",
    "        StructField(\"Age\", FloatType(), True),\n",
    "        StructField(\"SibSp\", IntegerType(), True),\n",
    "        StructField(\"Parch\", IntegerType(), True),\n",
    "        StructField(\"Ticket\", StringType(), True),\n",
    "        StructField(\"Fare\", FloatType(), True),\n",
    "        StructField(\"Cabin\", StringType(), True),\n",
    "        StructField(\"Embarked\", StringType(), True)\n",
    "    ])\n",
    "\n",
    "    # načtení dat s definovaným schématem\n",
    "    titanic_struct_df = spark.read.format(\"csv\") \\\n",
    "        .option(\"header\", True) \\\n",
    "        .option(\"delimiter\", \",\") \\\n",
    "        .schema(titanic_schema) \\\n",
    "        .load(titanic_path)\n",
    "    \n",
    "    # Show results\n",
    "    titanic_struct_df.show(truncate=True)\n",
    "\n",
    "    # Print schema\n",
    "    print(\"StructType schema:\")\n",
    "    titanic_struct_df.printSchema()\n",
    "\n",
    "    # Print row count\n",
    "    print(\"Row count:\")\n",
    "    print(f\"StructType: {titanic_struct_df.count()}\")\n",
    "\n",
    "    return titanic_struct_df"
   ]
  },
  {
   "cell_type": "code",
   "execution_count": 141,
   "id": "2c472f94-f4fc-4170-a559-b6d034feffc4",
   "metadata": {},
   "outputs": [
    {
     "name": "stderr",
     "output_type": "stream",
     "text": [
      "                                                                                \r"
     ]
    },
    {
     "name": "stdout",
     "output_type": "stream",
     "text": [
      "+-----------+--------+------+--------------------+------+----+-----+-----+----------------+-------+-----+--------+\n",
      "|PassengerId|Survived|Pclass|                Name|   Sex| Age|SibSp|Parch|          Ticket|   Fare|Cabin|Embarked|\n",
      "+-----------+--------+------+--------------------+------+----+-----+-----+----------------+-------+-----+--------+\n",
      "|          1|       0|     3|Braund, Mr. Owen ...|  male|22.0|    1|    0|       A/5 21171|   7.25| null|       S|\n",
      "|          2|       1|     1|Cumings, Mrs. Joh...|female|38.0|    1|    0|        PC 17599|71.2833|  C85|       C|\n",
      "|          3|       1|     3|Heikkinen, Miss. ...|female|26.0|    0|    0|STON/O2. 3101282|  7.925| null|       S|\n",
      "|          4|       1|     1|Futrelle, Mrs. Ja...|female|35.0|    1|    0|          113803|   53.1| C123|       S|\n",
      "|          5|       0|     3|Allen, Mr. Willia...|  male|35.0|    0|    0|          373450|   8.05| null|       S|\n",
      "|          6|       0|     3|    Moran, Mr. James|  male|null|    0|    0|          330877| 8.4583| null|       Q|\n",
      "|          7|       0|     1|McCarthy, Mr. Tim...|  male|54.0|    0|    0|           17463|51.8625|  E46|       S|\n",
      "|          8|       0|     3|Palsson, Master. ...|  male| 2.0|    3|    1|          349909| 21.075| null|       S|\n",
      "|          9|       1|     3|Johnson, Mrs. Osc...|female|27.0|    0|    2|          347742|11.1333| null|       S|\n",
      "|         10|       1|     2|Nasser, Mrs. Nich...|female|14.0|    1|    0|          237736|30.0708| null|       C|\n",
      "|         11|       1|     3|Sandstrom, Miss. ...|female| 4.0|    1|    1|         PP 9549|   16.7|   G6|       S|\n",
      "|         12|       1|     1|Bonnell, Miss. El...|female|58.0|    0|    0|          113783|  26.55| C103|       S|\n",
      "|         13|       0|     3|Saundercock, Mr. ...|  male|20.0|    0|    0|       A/5. 2151|   8.05| null|       S|\n",
      "|         14|       0|     3|Andersson, Mr. An...|  male|39.0|    1|    5|          347082| 31.275| null|       S|\n",
      "|         15|       0|     3|Vestrom, Miss. Hu...|female|14.0|    0|    0|          350406| 7.8542| null|       S|\n",
      "|         16|       1|     2|Hewlett, Mrs. (Ma...|female|55.0|    0|    0|          248706|   16.0| null|       S|\n",
      "|         17|       0|     3|Rice, Master. Eugene|  male| 2.0|    4|    1|          382652| 29.125| null|       Q|\n",
      "|         18|       1|     2|Williams, Mr. Cha...|  male|null|    0|    0|          244373|   13.0| null|       S|\n",
      "|         19|       0|     3|Vander Planke, Mr...|female|31.0|    1|    0|          345763|   18.0| null|       S|\n",
      "|         20|       1|     3|Masselmani, Mrs. ...|female|null|    0|    0|            2649|  7.225| null|       C|\n",
      "+-----------+--------+------+--------------------+------+----+-----+-----+----------------+-------+-----+--------+\n",
      "only showing top 20 rows\n",
      "\n",
      "StructType schema:\n",
      "root\n",
      " |-- PassengerId: integer (nullable = true)\n",
      " |-- Survived: integer (nullable = true)\n",
      " |-- Pclass: integer (nullable = true)\n",
      " |-- Name: string (nullable = true)\n",
      " |-- Sex: string (nullable = true)\n",
      " |-- Age: float (nullable = true)\n",
      " |-- SibSp: integer (nullable = true)\n",
      " |-- Parch: integer (nullable = true)\n",
      " |-- Ticket: string (nullable = true)\n",
      " |-- Fare: float (nullable = true)\n",
      " |-- Cabin: string (nullable = true)\n",
      " |-- Embarked: string (nullable = true)\n",
      "\n",
      "Row count:\n",
      "StructType: 891\n"
     ]
    }
   ],
   "source": [
    "titanic_struct_df = read_titanic_csv_with_struct(\"Data/titanic.csv\")"
   ]
  },
  {
   "cell_type": "markdown",
   "id": "ae54d401-a3f4-4917-a208-20aca32bd011",
   "metadata": {},
   "source": [
    "### 5) Načíst přiložený CSV file s předem nadefinovaným schématem pomocí DDL stringu"
   ]
  },
  {
   "cell_type": "code",
   "execution_count": 142,
   "id": "225f660a-e505-403d-8d83-c9762f63b77f",
   "metadata": {},
   "outputs": [],
   "source": [
    "def read_titanic_csv_with_ddl(titanic_path) -> DataFrame:\n",
    "\n",
    "    # Define schema using DDL string\n",
    "    ddl_schema = \"\"\"\n",
    "        PassengerId INT,\n",
    "        Survived INT,\n",
    "        Pclass INT,\n",
    "        Name STRING,\n",
    "        Sex STRING,\n",
    "        Age DOUBLE,\n",
    "        SibSp INT,\n",
    "        Parch INT,\n",
    "        Ticket STRING,\n",
    "        Fare DOUBLE,\n",
    "        Cabin STRING,\n",
    "        Embarked STRING\n",
    "    \"\"\"\n",
    "\n",
    "    # Load CSV file with defined schema\n",
    "    titanic_ddl_df = spark.read.format(\"csv\") \\\n",
    "        .option(\"header\", \"true\") \\\n",
    "        .option(\"delimiter\", \",\") \\\n",
    "        .schema(ddl_schema) \\\n",
    "        .load(titanic_path)\n",
    "    \n",
    "    # Show results\n",
    "    titanic_ddl_df.show(truncate=True)\n",
    "    \n",
    "    # Print schema\n",
    "    print(\"DDL schema:\")\n",
    "    titanic_ddl_df.printSchema()\n",
    "    \n",
    "    # Print row count\n",
    "    print(\"Row count:\")\n",
    "    print(f\"DDL: {titanic_ddl_df.count()}\")\n",
    "    \n",
    "    return titanic_ddl_df"
   ]
  },
  {
   "cell_type": "code",
   "execution_count": 143,
   "id": "a70079e4-78f8-4e53-a09e-dcad779ff7c8",
   "metadata": {},
   "outputs": [
    {
     "name": "stdout",
     "output_type": "stream",
     "text": [
      "+-----------+--------+------+--------------------+------+----+-----+-----+----------------+-------+-----+--------+\n",
      "|PassengerId|Survived|Pclass|                Name|   Sex| Age|SibSp|Parch|          Ticket|   Fare|Cabin|Embarked|\n",
      "+-----------+--------+------+--------------------+------+----+-----+-----+----------------+-------+-----+--------+\n",
      "|          1|       0|     3|Braund, Mr. Owen ...|  male|22.0|    1|    0|       A/5 21171|   7.25| null|       S|\n",
      "|          2|       1|     1|Cumings, Mrs. Joh...|female|38.0|    1|    0|        PC 17599|71.2833|  C85|       C|\n",
      "|          3|       1|     3|Heikkinen, Miss. ...|female|26.0|    0|    0|STON/O2. 3101282|  7.925| null|       S|\n",
      "|          4|       1|     1|Futrelle, Mrs. Ja...|female|35.0|    1|    0|          113803|   53.1| C123|       S|\n",
      "|          5|       0|     3|Allen, Mr. Willia...|  male|35.0|    0|    0|          373450|   8.05| null|       S|\n",
      "|          6|       0|     3|    Moran, Mr. James|  male|null|    0|    0|          330877| 8.4583| null|       Q|\n",
      "|          7|       0|     1|McCarthy, Mr. Tim...|  male|54.0|    0|    0|           17463|51.8625|  E46|       S|\n",
      "|          8|       0|     3|Palsson, Master. ...|  male| 2.0|    3|    1|          349909| 21.075| null|       S|\n",
      "|          9|       1|     3|Johnson, Mrs. Osc...|female|27.0|    0|    2|          347742|11.1333| null|       S|\n",
      "|         10|       1|     2|Nasser, Mrs. Nich...|female|14.0|    1|    0|          237736|30.0708| null|       C|\n",
      "|         11|       1|     3|Sandstrom, Miss. ...|female| 4.0|    1|    1|         PP 9549|   16.7|   G6|       S|\n",
      "|         12|       1|     1|Bonnell, Miss. El...|female|58.0|    0|    0|          113783|  26.55| C103|       S|\n",
      "|         13|       0|     3|Saundercock, Mr. ...|  male|20.0|    0|    0|       A/5. 2151|   8.05| null|       S|\n",
      "|         14|       0|     3|Andersson, Mr. An...|  male|39.0|    1|    5|          347082| 31.275| null|       S|\n",
      "|         15|       0|     3|Vestrom, Miss. Hu...|female|14.0|    0|    0|          350406| 7.8542| null|       S|\n",
      "|         16|       1|     2|Hewlett, Mrs. (Ma...|female|55.0|    0|    0|          248706|   16.0| null|       S|\n",
      "|         17|       0|     3|Rice, Master. Eugene|  male| 2.0|    4|    1|          382652| 29.125| null|       Q|\n",
      "|         18|       1|     2|Williams, Mr. Cha...|  male|null|    0|    0|          244373|   13.0| null|       S|\n",
      "|         19|       0|     3|Vander Planke, Mr...|female|31.0|    1|    0|          345763|   18.0| null|       S|\n",
      "|         20|       1|     3|Masselmani, Mrs. ...|female|null|    0|    0|            2649|  7.225| null|       C|\n",
      "+-----------+--------+------+--------------------+------+----+-----+-----+----------------+-------+-----+--------+\n",
      "only showing top 20 rows\n",
      "\n",
      "DDL schema:\n",
      "root\n",
      " |-- PassengerId: integer (nullable = true)\n",
      " |-- Survived: integer (nullable = true)\n",
      " |-- Pclass: integer (nullable = true)\n",
      " |-- Name: string (nullable = true)\n",
      " |-- Sex: string (nullable = true)\n",
      " |-- Age: double (nullable = true)\n",
      " |-- SibSp: integer (nullable = true)\n",
      " |-- Parch: integer (nullable = true)\n",
      " |-- Ticket: string (nullable = true)\n",
      " |-- Fare: double (nullable = true)\n",
      " |-- Cabin: string (nullable = true)\n",
      " |-- Embarked: string (nullable = true)\n",
      "\n",
      "Row count:\n",
      "DDL: 891\n"
     ]
    }
   ],
   "source": [
    "titanic_ddl_df = read_titanic_csv_with_ddl(\"Data/titanic.csv\")"
   ]
  },
  {
   "cell_type": "markdown",
   "id": "bd0d7656-e38f-49ab-94d9-abd3581e760a",
   "metadata": {},
   "source": [
    "### 6) Načíst přiložený CSV file za pomoci inferSchema (porovnat s ostatníma)\n",
    "\n",
    "- Funkcia načíta CSV súbor a automaticky určí typy dát pre každý stĺpec"
   ]
  },
  {
   "cell_type": "code",
   "execution_count": 144,
   "id": "e5d4c980-ff77-4346-be13-87becd98f4a4",
   "metadata": {},
   "outputs": [],
   "source": [
    "def read_titanic_csv_with_infer_schema(titanic_path) -> DataFrame:\n",
    "    spark = SparkSession.builder.appName(\"TitanicApp\").getOrCreate()\n",
    "\n",
    "    # Load CSV file with inferred schema\n",
    "    titanic_infer_df = spark.read.format(\"csv\") \\\n",
    "        .option(\"header\", \"true\") \\\n",
    "        .option(\"delimiter\", \",\") \\\n",
    "        .option(\"inferSchema\", \"true\") \\\n",
    "        .load(titanic_path)\n",
    "    \n",
    "    # Show results\n",
    "    titanic_infer_df.show(truncate=True)\n",
    "\n",
    "    # Print schema\n",
    "    print(\"Inferred schema:\")\n",
    "    titanic_infer_df.printSchema()\n",
    "\n",
    "    # Print row count\n",
    "    print(\"Row count:\")\n",
    "    print(f\"Inferred schema: {titanic_infer_df.count()}\")\n",
    "\n",
    "    return titanic_infer_df"
   ]
  },
  {
   "cell_type": "code",
   "execution_count": 145,
   "id": "e649f02a-d217-4bd6-b42a-ad8b32466346",
   "metadata": {},
   "outputs": [
    {
     "name": "stderr",
     "output_type": "stream",
     "text": [
      "                                                                                \r"
     ]
    },
    {
     "name": "stdout",
     "output_type": "stream",
     "text": [
      "+-----------+--------+------+--------------------+------+----+-----+-----+----------------+-------+-----+--------+\n",
      "|PassengerId|Survived|Pclass|                Name|   Sex| Age|SibSp|Parch|          Ticket|   Fare|Cabin|Embarked|\n",
      "+-----------+--------+------+--------------------+------+----+-----+-----+----------------+-------+-----+--------+\n",
      "|          1|       0|     3|Braund, Mr. Owen ...|  male|22.0|    1|    0|       A/5 21171|   7.25| null|       S|\n",
      "|          2|       1|     1|Cumings, Mrs. Joh...|female|38.0|    1|    0|        PC 17599|71.2833|  C85|       C|\n",
      "|          3|       1|     3|Heikkinen, Miss. ...|female|26.0|    0|    0|STON/O2. 3101282|  7.925| null|       S|\n",
      "|          4|       1|     1|Futrelle, Mrs. Ja...|female|35.0|    1|    0|          113803|   53.1| C123|       S|\n",
      "|          5|       0|     3|Allen, Mr. Willia...|  male|35.0|    0|    0|          373450|   8.05| null|       S|\n",
      "|          6|       0|     3|    Moran, Mr. James|  male|null|    0|    0|          330877| 8.4583| null|       Q|\n",
      "|          7|       0|     1|McCarthy, Mr. Tim...|  male|54.0|    0|    0|           17463|51.8625|  E46|       S|\n",
      "|          8|       0|     3|Palsson, Master. ...|  male| 2.0|    3|    1|          349909| 21.075| null|       S|\n",
      "|          9|       1|     3|Johnson, Mrs. Osc...|female|27.0|    0|    2|          347742|11.1333| null|       S|\n",
      "|         10|       1|     2|Nasser, Mrs. Nich...|female|14.0|    1|    0|          237736|30.0708| null|       C|\n",
      "|         11|       1|     3|Sandstrom, Miss. ...|female| 4.0|    1|    1|         PP 9549|   16.7|   G6|       S|\n",
      "|         12|       1|     1|Bonnell, Miss. El...|female|58.0|    0|    0|          113783|  26.55| C103|       S|\n",
      "|         13|       0|     3|Saundercock, Mr. ...|  male|20.0|    0|    0|       A/5. 2151|   8.05| null|       S|\n",
      "|         14|       0|     3|Andersson, Mr. An...|  male|39.0|    1|    5|          347082| 31.275| null|       S|\n",
      "|         15|       0|     3|Vestrom, Miss. Hu...|female|14.0|    0|    0|          350406| 7.8542| null|       S|\n",
      "|         16|       1|     2|Hewlett, Mrs. (Ma...|female|55.0|    0|    0|          248706|   16.0| null|       S|\n",
      "|         17|       0|     3|Rice, Master. Eugene|  male| 2.0|    4|    1|          382652| 29.125| null|       Q|\n",
      "|         18|       1|     2|Williams, Mr. Cha...|  male|null|    0|    0|          244373|   13.0| null|       S|\n",
      "|         19|       0|     3|Vander Planke, Mr...|female|31.0|    1|    0|          345763|   18.0| null|       S|\n",
      "|         20|       1|     3|Masselmani, Mrs. ...|female|null|    0|    0|            2649|  7.225| null|       C|\n",
      "+-----------+--------+------+--------------------+------+----+-----+-----+----------------+-------+-----+--------+\n",
      "only showing top 20 rows\n",
      "\n",
      "Inferred schema:\n",
      "root\n",
      " |-- PassengerId: integer (nullable = true)\n",
      " |-- Survived: integer (nullable = true)\n",
      " |-- Pclass: integer (nullable = true)\n",
      " |-- Name: string (nullable = true)\n",
      " |-- Sex: string (nullable = true)\n",
      " |-- Age: double (nullable = true)\n",
      " |-- SibSp: integer (nullable = true)\n",
      " |-- Parch: integer (nullable = true)\n",
      " |-- Ticket: string (nullable = true)\n",
      " |-- Fare: double (nullable = true)\n",
      " |-- Cabin: string (nullable = true)\n",
      " |-- Embarked: string (nullable = true)\n",
      "\n",
      "Row count:\n",
      "Inferred schema: 891\n"
     ]
    }
   ],
   "source": [
    "titanic_infer_df = read_titanic_csv_with_infer_schema(\"Data/titanic.csv\")"
   ]
  },
  {
   "cell_type": "markdown",
   "id": "7bee5bdd-d585-48ef-9824-a39cb740d856",
   "metadata": {},
   "source": [
    "### 7) Využití selectu na více sloupců se vstupem jako string, pyspark.sql.functions.col, colRegex\n",
    "\n",
    "- colRegex function was added in spark version 3.1.0. "
   ]
  },
  {
   "cell_type": "code",
   "execution_count": 146,
   "id": "038aa1e9-7754-4fd9-96a4-d217592c4e2e",
   "metadata": {},
   "outputs": [],
   "source": [
    "def titanic_df_select(titanic_df, select_string)-> DataFrame:\n",
    "    # Select columns using string\n",
    "    selected_cols = [col(c) for c in select_string.split(\",\")]\n",
    "    select_df = titanic_df.select(selected_cols)\n",
    "\n",
    "    # Select columns using col function\n",
    "    col_df = titanic_df.select(col(\"Name\"), col(\"Age\"), col(\"Fare\"))\n",
    "\n",
    "    # Select columns using colRegex function\n",
    "    #regex_df = titanic_df.select(colRegex(\"Na.e\"), colRegex(\"^Age$\"), colRegex(\"F.r$\"))\n",
    "\n",
    "    return select_df, col_df # ,regex_df"
   ]
  },
  {
   "cell_type": "code",
   "execution_count": 147,
   "id": "5dc5c91f-3463-42e7-9581-a0a4ac7e6beb",
   "metadata": {},
   "outputs": [
    {
     "name": "stdout",
     "output_type": "stream",
     "text": [
      "+--------------------+----+-------+\n",
      "|                Name| Age|   Fare|\n",
      "+--------------------+----+-------+\n",
      "|Braund, Mr. Owen ...|22.0|   7.25|\n",
      "|Cumings, Mrs. Joh...|38.0|71.2833|\n",
      "|Heikkinen, Miss. ...|26.0|  7.925|\n",
      "|Futrelle, Mrs. Ja...|35.0|   53.1|\n",
      "|Allen, Mr. Willia...|35.0|   8.05|\n",
      "|    Moran, Mr. James|null| 8.4583|\n",
      "|McCarthy, Mr. Tim...|54.0|51.8625|\n",
      "|Palsson, Master. ...| 2.0| 21.075|\n",
      "|Johnson, Mrs. Osc...|27.0|11.1333|\n",
      "|Nasser, Mrs. Nich...|14.0|30.0708|\n",
      "|Sandstrom, Miss. ...| 4.0|   16.7|\n",
      "|Bonnell, Miss. El...|58.0|  26.55|\n",
      "|Saundercock, Mr. ...|20.0|   8.05|\n",
      "|Andersson, Mr. An...|39.0| 31.275|\n",
      "|Vestrom, Miss. Hu...|14.0| 7.8542|\n",
      "|Hewlett, Mrs. (Ma...|55.0|   16.0|\n",
      "|Rice, Master. Eugene| 2.0| 29.125|\n",
      "|Williams, Mr. Cha...|null|   13.0|\n",
      "|Vander Planke, Mr...|31.0|   18.0|\n",
      "|Masselmani, Mrs. ...|null|  7.225|\n",
      "+--------------------+----+-------+\n",
      "only showing top 20 rows\n",
      "\n",
      "+--------------------+----+-------+\n",
      "|                Name| Age|   Fare|\n",
      "+--------------------+----+-------+\n",
      "|Braund, Mr. Owen ...|22.0|   7.25|\n",
      "|Cumings, Mrs. Joh...|38.0|71.2833|\n",
      "|Heikkinen, Miss. ...|26.0|  7.925|\n",
      "|Futrelle, Mrs. Ja...|35.0|   53.1|\n",
      "|Allen, Mr. Willia...|35.0|   8.05|\n",
      "|    Moran, Mr. James|null| 8.4583|\n",
      "|McCarthy, Mr. Tim...|54.0|51.8625|\n",
      "|Palsson, Master. ...| 2.0| 21.075|\n",
      "|Johnson, Mrs. Osc...|27.0|11.1333|\n",
      "|Nasser, Mrs. Nich...|14.0|30.0708|\n",
      "|Sandstrom, Miss. ...| 4.0|   16.7|\n",
      "|Bonnell, Miss. El...|58.0|  26.55|\n",
      "|Saundercock, Mr. ...|20.0|   8.05|\n",
      "|Andersson, Mr. An...|39.0| 31.275|\n",
      "|Vestrom, Miss. Hu...|14.0| 7.8542|\n",
      "|Hewlett, Mrs. (Ma...|55.0|   16.0|\n",
      "|Rice, Master. Eugene| 2.0| 29.125|\n",
      "|Williams, Mr. Cha...|null|   13.0|\n",
      "|Vander Planke, Mr...|31.0|   18.0|\n",
      "|Masselmani, Mrs. ...|null|  7.225|\n",
      "+--------------------+----+-------+\n",
      "only showing top 20 rows\n",
      "\n"
     ]
    }
   ],
   "source": [
    "# Call the function\n",
    "select_df, col_df = titanic_df_select(titanic_struct_df, \"Name,Age,Fare\")\n",
    "\n",
    "# Show the results\n",
    "select_df.show()\n",
    "col_df.show()\n",
    "#regex_df.show()"
   ]
  },
  {
   "cell_type": "markdown",
   "id": "e58579df-a3b1-4ea0-b35d-3b7fa82f9fe7",
   "metadata": {},
   "source": [
    "### 8) Vyselectit všechny sloupce, pouze prvních 5 indexů, selectExpr"
   ]
  },
  {
   "cell_type": "code",
   "execution_count": 148,
   "id": "769ee069-4232-48ea-9b67-b86aa99d1fcb",
   "metadata": {},
   "outputs": [],
   "source": [
    "def select_first_five_columns(titanic_df):\n",
    "    return titanic_df.selectExpr(titanic_df.columns[:5])"
   ]
  },
  {
   "cell_type": "code",
   "execution_count": 149,
   "id": "af3b9ad2-644b-4d4b-8828-4c714f6e9ace",
   "metadata": {},
   "outputs": [
    {
     "name": "stdout",
     "output_type": "stream",
     "text": [
      "+-----------+--------+------+--------------------+------+\n",
      "|PassengerId|Survived|Pclass|                Name|   Sex|\n",
      "+-----------+--------+------+--------------------+------+\n",
      "|          1|       0|     3|Braund, Mr. Owen ...|  male|\n",
      "|          2|       1|     1|Cumings, Mrs. Joh...|female|\n",
      "|          3|       1|     3|Heikkinen, Miss. ...|female|\n",
      "|          4|       1|     1|Futrelle, Mrs. Ja...|female|\n",
      "|          5|       0|     3|Allen, Mr. Willia...|  male|\n",
      "+-----------+--------+------+--------------------+------+\n",
      "only showing top 5 rows\n",
      "\n"
     ]
    }
   ],
   "source": [
    "select_first_five_columns(titanic_struct_df).show(5)"
   ]
  },
  {
   "cell_type": "markdown",
   "id": "6bba5f29-78a6-420a-a0bb-50c9a55d952f",
   "metadata": {},
   "source": [
    "### 9) Využití funkce filter, negace podmínky, && + ||, isin, contains, endswitch, like, array_contains "
   ]
  },
  {
   "cell_type": "code",
   "execution_count": 150,
   "id": "4e5c8689-725d-48c1-9192-4d82d3902b08",
   "metadata": {},
   "outputs": [
    {
     "name": "stdout",
     "output_type": "stream",
     "text": [
      "+-----------+--------+------+--------------------+------+----+-----+-----+----------------+-------+--------+----------+\n",
      "|PassengerId|Survived|Pclass|                Name|   Sex| Age|SibSp|Parch|          Ticket|   Fare|Embarked|CabinArray|\n",
      "+-----------+--------+------+--------------------+------+----+-----+-----+----------------+-------+--------+----------+\n",
      "|          1|       0|     3|Braund, Mr. Owen ...|  male|22.0|    1|    0|       A/5 21171|   7.25|       S|      null|\n",
      "|          2|       1|     1|Cumings, Mrs. Joh...|female|38.0|    1|    0|        PC 17599|71.2833|       C|     [C85]|\n",
      "|          3|       1|     3|Heikkinen, Miss. ...|female|26.0|    0|    0|STON/O2. 3101282|  7.925|       S|      null|\n",
      "|          4|       1|     1|Futrelle, Mrs. Ja...|female|35.0|    1|    0|          113803|   53.1|       S|    [C123]|\n",
      "|          5|       0|     3|Allen, Mr. Willia...|  male|35.0|    0|    0|          373450|   8.05|       S|      null|\n",
      "|          6|       0|     3|    Moran, Mr. James|  male|null|    0|    0|          330877| 8.4583|       Q|      null|\n",
      "|          7|       0|     1|McCarthy, Mr. Tim...|  male|54.0|    0|    0|           17463|51.8625|       S|     [E46]|\n",
      "|          8|       0|     3|Palsson, Master. ...|  male| 2.0|    3|    1|          349909| 21.075|       S|      null|\n",
      "|          9|       1|     3|Johnson, Mrs. Osc...|female|27.0|    0|    2|          347742|11.1333|       S|      null|\n",
      "|         10|       1|     2|Nasser, Mrs. Nich...|female|14.0|    1|    0|          237736|30.0708|       C|      null|\n",
      "|         11|       1|     3|Sandstrom, Miss. ...|female| 4.0|    1|    1|         PP 9549|   16.7|       S|      [G6]|\n",
      "|         12|       1|     1|Bonnell, Miss. El...|female|58.0|    0|    0|          113783|  26.55|       S|    [C103]|\n",
      "|         13|       0|     3|Saundercock, Mr. ...|  male|20.0|    0|    0|       A/5. 2151|   8.05|       S|      null|\n",
      "|         14|       0|     3|Andersson, Mr. An...|  male|39.0|    1|    5|          347082| 31.275|       S|      null|\n",
      "|         15|       0|     3|Vestrom, Miss. Hu...|female|14.0|    0|    0|          350406| 7.8542|       S|      null|\n",
      "|         16|       1|     2|Hewlett, Mrs. (Ma...|female|55.0|    0|    0|          248706|   16.0|       S|      null|\n",
      "|         17|       0|     3|Rice, Master. Eugene|  male| 2.0|    4|    1|          382652| 29.125|       Q|      null|\n",
      "|         18|       1|     2|Williams, Mr. Cha...|  male|null|    0|    0|          244373|   13.0|       S|      null|\n",
      "|         19|       0|     3|Vander Planke, Mr...|female|31.0|    1|    0|          345763|   18.0|       S|      null|\n",
      "|         20|       1|     3|Masselmani, Mrs. ...|female|null|    0|    0|            2649|  7.225|       C|      null|\n",
      "+-----------+--------+------+--------------------+------+----+-----+-----+----------------+-------+--------+----------+\n",
      "only showing top 20 rows\n",
      "\n"
     ]
    }
   ],
   "source": [
    "# split \"Cabin\" column into array\n",
    "titanic_struct_df = titanic_struct_df.withColumn(\"CabinArray\", split(col(\"Cabin\"), \",\"))\n",
    "\n",
    "# drop original \"Cabin\" column\n",
    "titanic_struct_df = titanic_struct_df.drop(\"Cabin\")\n",
    "\n",
    "# show result\n",
    "titanic_struct_df.show()"
   ]
  },
  {
   "cell_type": "code",
   "execution_count": 151,
   "id": "9a3c94ba-8382-4e84-a2bb-f3ec6779de06",
   "metadata": {},
   "outputs": [],
   "source": [
    "def titanic_dataframe_filter(titanic_df) -> DataFrame:\n",
    "    # Filter based on Age and Sex columns using '&&', '||', and negation\n",
    "    filtered_df = titanic_df.filter((col(\"Age\") > 20) & ((col(\"Sex\") == \"female\") | ~(col(\"Age\") > 50)))\n",
    "\n",
    "    # Filter based on Embarked column using isin function\n",
    "    filtered_df = filtered_df.filter(col(\"Embarked\").isin([\"C\", \"Q\"]))\n",
    "\n",
    "    # Filter based on Name column using contains and endswith functions\n",
    "    filtered_df = filtered_df.filter(col(\"Name\").contains(\"Mrs.\") | col(\"Name\").endswith(\"ovich\"))\n",
    "\n",
    "    # Filter based on Cabin column using like function\n",
    "    filtered_df = filtered_df.filter(col(\"Name\").like(\"%M%\"))\n",
    "\n",
    "    # Filter based on Ticket column using array_contains function\n",
    "    filtered_df = titanic_df.filter(array_contains(col(\"CabinArray\"), \"B18\"))\n",
    "\n",
    "    return filtered_df"
   ]
  },
  {
   "cell_type": "code",
   "execution_count": 152,
   "id": "1780c9a9-e564-4642-a3f3-67f084dd8d66",
   "metadata": {},
   "outputs": [
    {
     "name": "stdout",
     "output_type": "stream",
     "text": [
      "+-----------+--------+------+--------------------+------+----+-----+-----+------+-------+--------+----------+\n",
      "|PassengerId|Survived|Pclass|                Name|   Sex| Age|SibSp|Parch|Ticket|   Fare|Embarked|CabinArray|\n",
      "+-----------+--------+------+--------------------+------+----+-----+-----+------+-------+--------+----------+\n",
      "|        330|       1|     1|Hippach, Miss. Je...|female|16.0|    0|    1|111361|57.9792|       C|     [B18]|\n",
      "|        524|       1|     1|Hippach, Mrs. Lou...|female|44.0|    0|    1|111361|57.9792|       C|     [B18]|\n",
      "+-----------+--------+------+--------------------+------+----+-----+-----+------+-------+--------+----------+\n",
      "\n"
     ]
    }
   ],
   "source": [
    "filtered_df = titanic_dataframe_filter(titanic_struct_df).show()"
   ]
  },
  {
   "cell_type": "markdown",
   "id": "3e06b9ec-4c24-43ea-9709-550a8e212e99",
   "metadata": {},
   "source": [
    "### 10) Funkce where\n",
    "\n",
    "- V tejto funkcii sú riadky filtrované pomocou funkcie where namiesto funkcie filter."
   ]
  },
  {
   "cell_type": "code",
   "execution_count": 153,
   "id": "cb5e0a5b-8cba-412f-9076-bbf939a1d9f7",
   "metadata": {},
   "outputs": [],
   "source": [
    "def filter_titanic_data(titanic_df) -> DataFrame:\n",
    "    filtered_df = titanic_df.where(col(\"Age\") > 20) \\\n",
    "        .where((col(\"Sex\") == \"female\") | ~(col(\"Age\") > 50)) \\\n",
    "        .where(col(\"Embarked\").isin([\"C\", \"Q\"])) \\\n",
    "        .where(col(\"Name\").contains(\"Mrs.\") | col(\"Name\").endswith(\"ovich\")) \\\n",
    "        .where(array_contains(col(\"CabinArray\"), 'B18'))\n",
    "        \n",
    "    return filtered_df"
   ]
  },
  {
   "cell_type": "code",
   "execution_count": 154,
   "id": "9a0b7fd2-99f9-457b-8cb7-e4dbb42d72e8",
   "metadata": {},
   "outputs": [
    {
     "name": "stdout",
     "output_type": "stream",
     "text": [
      "+-----------+--------+------+--------------------+------+----+-----+-----+------+-------+--------+----------+\n",
      "|PassengerId|Survived|Pclass|                Name|   Sex| Age|SibSp|Parch|Ticket|   Fare|Embarked|CabinArray|\n",
      "+-----------+--------+------+--------------------+------+----+-----+-----+------+-------+--------+----------+\n",
      "|        330|       1|     1|Hippach, Miss. Je...|female|16.0|    0|    1|111361|57.9792|       C|     [B18]|\n",
      "|        524|       1|     1|Hippach, Mrs. Lou...|female|44.0|    0|    1|111361|57.9792|       C|     [B18]|\n",
      "+-----------+--------+------+--------------------+------+----+-----+-----+------+-------+--------+----------+\n",
      "\n"
     ]
    }
   ],
   "source": [
    "filtered_df = titanic_dataframe_filter(titanic_struct_df).show()"
   ]
  },
  {
   "cell_type": "markdown",
   "id": "2c9c0113-d5d9-4ea9-96ad-9d035570ba34",
   "metadata": {},
   "source": [
    "### 11) Vytvořit/přejmenovat sloupce s withColumnRenamed, withColumn\n",
    "### 12) Využít Drop, dropDuplicates (subset)\n",
    "### 13) Projít si agregace pomocí groupBy (agg,avg, count, sum) \n",
    "### 14) Řadit df za pomoci Sort, orderBy\n",
    "### 15) Zkusit si distinct, limit"
   ]
  },
  {
   "cell_type": "code",
   "execution_count": 155,
   "id": "d372226a-353c-4b10-8dc2-beb95cc6602b",
   "metadata": {},
   "outputs": [],
   "source": [
    "def manipulate_df(df) -> DataFrame:\n",
    "    # 11) Vytvořit/přejmenovat sloupce s withColumnRenamed, withColumn\n",
    "    df = df.withColumnRenamed(\"Pclass\", \"Class\")\\\n",
    "           .withColumn(\"NewAge\", col(\"Age\") + 10)\n",
    "    \n",
    "    # 12) Využít Drop, dropDuplicates (subset)\n",
    "    df = df.drop(\"SibSp\", \"Parch\")\\\n",
    "           .dropDuplicates(subset=[\"Name\", \"NewAge\"])\n",
    "    \n",
    "    # 13) Projít si agregace pomocí groupBy (agg,avg, count, sum)\n",
    "    df = df.groupBy(\"Class\", \"Sex\")\\\n",
    "           .agg(avg(\"NewAge\"), count(\"Name\"), sum(\"Fare\"))\n",
    "    \n",
    "    # 14) Řadit df za pomoci Sort, orderBy\n",
    "    df = df.sort(col(\"Class\"))\\\n",
    "           .orderBy(col(\"sum(Fare)\").desc())\n",
    "    \n",
    "    # 15) Zkusit si distinct, limit\n",
    "    df = df.distinct()\\\n",
    "           .limit(6)\n",
    "    \n",
    "    return df"
   ]
  },
  {
   "cell_type": "code",
   "execution_count": 156,
   "id": "eb4dede9-7217-4a2c-aec6-bf3d51ad2ab0",
   "metadata": {},
   "outputs": [
    {
     "name": "stderr",
     "output_type": "stream",
     "text": [
      "[Stage 25:=====================================================>(198 + 2) / 200]"
     ]
    },
    {
     "name": "stdout",
     "output_type": "stream",
     "text": [
      "+-----+------+------------------+-----------+------------------+\n",
      "|Class|   Sex|       avg(NewAge)|count(Name)|         sum(Fare)|\n",
      "+-----+------+------------------+-----------+------------------+\n",
      "|    1|female| 44.61176470588235|         94| 9975.824983596802|\n",
      "|    3|female|             31.75|        144|2321.1086139678955|\n",
      "|    2|  male| 40.74070706993643|        108|2132.1125020980835|\n",
      "|    2|female|38.722972972972975|         76|1669.7292032241821|\n",
      "|    1|  male|51.281386139369246|        122| 8201.587522506714|\n",
      "|    3|  male| 36.50758893310788|        347| 4393.586539268494|\n",
      "+-----+------+------------------+-----------+------------------+\n",
      "\n"
     ]
    },
    {
     "name": "stderr",
     "output_type": "stream",
     "text": [
      "                                                                                \r"
     ]
    }
   ],
   "source": [
    "df_updated = manipulate_df(titanic_struct_df).show()"
   ]
  },
  {
   "cell_type": "markdown",
   "id": "9b668092-5cf7-4cd1-9b3d-723ba0d656bf",
   "metadata": {},
   "source": [
    "### 16) Join dvou dataframů (inner, left, outer, semi - hlavně jak fungují)"
   ]
  },
  {
   "cell_type": "code",
   "execution_count": 157,
   "id": "08facc9c-e892-4aec-be59-3acd12c61d50",
   "metadata": {},
   "outputs": [
    {
     "data": {
      "text/plain": [
       "DataFrame[PassengerId: int, Survived: int, Pclass: int, Name: string, Sex: string, Age: float, SibSp: int, Parch: int, Ticket: string, Fare: float, Embarked: string, CabinArray: array<string>]"
      ]
     },
     "execution_count": 157,
     "metadata": {},
     "output_type": "execute_result"
    }
   ],
   "source": [
    "titanic_ddl_df\n",
    "titanic_struct_df"
   ]
  },
  {
   "cell_type": "markdown",
   "id": "ae778581-92ae-4916-87d7-2dbeb7009ab9",
   "metadata": {},
   "source": [
    "- Inner Join: Výsledkem inner joinu jsou pouze řádky, které mají odpovídající hodnoty v obou spojovaných DataFramech. Tento typ joinu můžeme provést pomocí parametru \"inner\"."
   ]
  },
  {
   "cell_type": "code",
   "execution_count": 158,
   "id": "55e9cb88-01ee-4fb3-a528-ad9d18871d26",
   "metadata": {},
   "outputs": [
    {
     "name": "stderr",
     "output_type": "stream",
     "text": [
      "[Stage 29:>                                                         (0 + 1) / 1]"
     ]
    },
    {
     "name": "stdout",
     "output_type": "stream",
     "text": [
      "+-----------+--------+------+--------------------+------+----+-----+-----+----------------+-------+--------+----------+-----------+--------+------+--------------------+------+----+-----+-----+----------------+-------+-----+--------+\n",
      "|PassengerId|Survived|Pclass|                Name|   Sex| Age|SibSp|Parch|          Ticket|   Fare|Embarked|CabinArray|PassengerId|Survived|Pclass|                Name|   Sex| Age|SibSp|Parch|          Ticket|   Fare|Cabin|Embarked|\n",
      "+-----------+--------+------+--------------------+------+----+-----+-----+----------------+-------+--------+----------+-----------+--------+------+--------------------+------+----+-----+-----+----------------+-------+-----+--------+\n",
      "|          1|       0|     3|Braund, Mr. Owen ...|  male|22.0|    1|    0|       A/5 21171|   7.25|       S|      null|          1|       0|     3|Braund, Mr. Owen ...|  male|22.0|    1|    0|       A/5 21171|   7.25| null|       S|\n",
      "|          2|       1|     1|Cumings, Mrs. Joh...|female|38.0|    1|    0|        PC 17599|71.2833|       C|     [C85]|          2|       1|     1|Cumings, Mrs. Joh...|female|38.0|    1|    0|        PC 17599|71.2833|  C85|       C|\n",
      "|          3|       1|     3|Heikkinen, Miss. ...|female|26.0|    0|    0|STON/O2. 3101282|  7.925|       S|      null|          3|       1|     3|Heikkinen, Miss. ...|female|26.0|    0|    0|STON/O2. 3101282|  7.925| null|       S|\n",
      "|          4|       1|     1|Futrelle, Mrs. Ja...|female|35.0|    1|    0|          113803|   53.1|       S|    [C123]|          4|       1|     1|Futrelle, Mrs. Ja...|female|35.0|    1|    0|          113803|   53.1| C123|       S|\n",
      "|          5|       0|     3|Allen, Mr. Willia...|  male|35.0|    0|    0|          373450|   8.05|       S|      null|          5|       0|     3|Allen, Mr. Willia...|  male|35.0|    0|    0|          373450|   8.05| null|       S|\n",
      "+-----------+--------+------+--------------------+------+----+-----+-----+----------------+-------+--------+----------+-----------+--------+------+--------------------+------+----+-----+-----+----------------+-------+-----+--------+\n",
      "only showing top 5 rows\n",
      "\n"
     ]
    },
    {
     "name": "stderr",
     "output_type": "stream",
     "text": [
      "                                                                                \r"
     ]
    }
   ],
   "source": [
    "inner_joined_df = titanic_struct_df.join(titanic_ddl_df, titanic_struct_df.PassengerId == titanic_ddl_df.PassengerId, how = \"inner\")\n",
    "inner_joined_df.show(5)"
   ]
  },
  {
   "cell_type": "code",
   "execution_count": 159,
   "id": "698c0fee-884e-4aa3-9e49-70cd6e87fb4c",
   "metadata": {},
   "outputs": [
    {
     "data": {
      "text/plain": [
       "DataFrame[PassengerId: int, Survived: int, Pclass: int, Name: string, Sex: string, Age: float, SibSp: int, Parch: int, Ticket: string, Fare: float, Embarked: string, CabinArray: array<string>]"
      ]
     },
     "execution_count": 159,
     "metadata": {},
     "output_type": "execute_result"
    }
   ],
   "source": [
    "titanic_struct_df"
   ]
  },
  {
   "cell_type": "code",
   "execution_count": 160,
   "id": "6be73c92-7921-4e20-826e-b80c14c59876",
   "metadata": {},
   "outputs": [
    {
     "data": {
      "text/plain": [
       "DataFrame[PassengerId: int, Survived: int, Pclass: int, Name: string, Sex: string, Age: double, SibSp: int, Parch: int, Ticket: string, Fare: double, Cabin: string, Embarked: string]"
      ]
     },
     "execution_count": 160,
     "metadata": {},
     "output_type": "execute_result"
    }
   ],
   "source": [
    "titanic_ddl_df"
   ]
  },
  {
   "cell_type": "markdown",
   "id": "2ab71e03-de27-4e4e-895d-55e869e1baa4",
   "metadata": {},
   "source": [
    "- Left Join: Výsledkem left joinu jsou všechny řádky z levého DataFramu a odpovídající řádky z pravého DataFramu. Pokud neexistuje odpovídající řádek v pravém DataFramu, budou výsledné hodnoty null. Tento typ joinu můžeme provést pomocí parametru \"left\"."
   ]
  },
  {
   "cell_type": "code",
   "execution_count": 161,
   "id": "7b7985f4-1f8f-4b91-a24a-4de6304953a1",
   "metadata": {},
   "outputs": [
    {
     "name": "stdout",
     "output_type": "stream",
     "text": [
      "+-----------+--------+------+--------------------+------+----+-----+-----+----------------+-------+--------+----------+-----------+--------+------+--------------------+------+----+-----+-----+----------------+-------+-----+--------+\n",
      "|PassengerId|Survived|Pclass|                Name|   Sex| Age|SibSp|Parch|          Ticket|   Fare|Embarked|CabinArray|PassengerId|Survived|Pclass|                Name|   Sex| Age|SibSp|Parch|          Ticket|   Fare|Cabin|Embarked|\n",
      "+-----------+--------+------+--------------------+------+----+-----+-----+----------------+-------+--------+----------+-----------+--------+------+--------------------+------+----+-----+-----+----------------+-------+-----+--------+\n",
      "|          1|       0|     3|Braund, Mr. Owen ...|  male|22.0|    1|    0|       A/5 21171|   7.25|       S|      null|          1|       0|     3|Braund, Mr. Owen ...|  male|22.0|    1|    0|       A/5 21171|   7.25| null|       S|\n",
      "|          2|       1|     1|Cumings, Mrs. Joh...|female|38.0|    1|    0|        PC 17599|71.2833|       C|     [C85]|          2|       1|     1|Cumings, Mrs. Joh...|female|38.0|    1|    0|        PC 17599|71.2833|  C85|       C|\n",
      "|          3|       1|     3|Heikkinen, Miss. ...|female|26.0|    0|    0|STON/O2. 3101282|  7.925|       S|      null|          3|       1|     3|Heikkinen, Miss. ...|female|26.0|    0|    0|STON/O2. 3101282|  7.925| null|       S|\n",
      "|          4|       1|     1|Futrelle, Mrs. Ja...|female|35.0|    1|    0|          113803|   53.1|       S|    [C123]|          4|       1|     1|Futrelle, Mrs. Ja...|female|35.0|    1|    0|          113803|   53.1| C123|       S|\n",
      "|          5|       0|     3|Allen, Mr. Willia...|  male|35.0|    0|    0|          373450|   8.05|       S|      null|          5|       0|     3|Allen, Mr. Willia...|  male|35.0|    0|    0|          373450|   8.05| null|       S|\n",
      "+-----------+--------+------+--------------------+------+----+-----+-----+----------------+-------+--------+----------+-----------+--------+------+--------------------+------+----+-----+-----+----------------+-------+-----+--------+\n",
      "only showing top 5 rows\n",
      "\n"
     ]
    }
   ],
   "source": [
    "left_joined_df = titanic_struct_df.join(titanic_ddl_df, titanic_struct_df.PassengerId == titanic_ddl_df.PassengerId, how = \"left\")\n",
    "left_joined_df.show(5)"
   ]
  },
  {
   "cell_type": "markdown",
   "id": "ab585bf5-5f87-45ee-a1ae-a23a19a958a0",
   "metadata": {},
   "source": [
    "- Right Join: Výsledkem right joinu jsou všechny řádky z pravého DataFramu a odpovídající řádky z levého DataFramu. Pokud neexistuje odpovídající řádek v levém DataFramu, budou výsledné hodnoty null. Tento typ joinu můžeme provést pomocí parametru \"right\"."
   ]
  },
  {
   "cell_type": "code",
   "execution_count": 162,
   "id": "bbfa5dfa-187b-4ac3-8124-a76a74c6f0a5",
   "metadata": {},
   "outputs": [
    {
     "name": "stdout",
     "output_type": "stream",
     "text": [
      "+-----------+--------+------+--------------------+------+----+-----+-----+----------------+-------+--------+----------+-----------+--------+------+--------------------+------+----+-----+-----+----------------+-------+-----+--------+\n",
      "|PassengerId|Survived|Pclass|                Name|   Sex| Age|SibSp|Parch|          Ticket|   Fare|Embarked|CabinArray|PassengerId|Survived|Pclass|                Name|   Sex| Age|SibSp|Parch|          Ticket|   Fare|Cabin|Embarked|\n",
      "+-----------+--------+------+--------------------+------+----+-----+-----+----------------+-------+--------+----------+-----------+--------+------+--------------------+------+----+-----+-----+----------------+-------+-----+--------+\n",
      "|          1|       0|     3|Braund, Mr. Owen ...|  male|22.0|    1|    0|       A/5 21171|   7.25|       S|      null|          1|       0|     3|Braund, Mr. Owen ...|  male|22.0|    1|    0|       A/5 21171|   7.25| null|       S|\n",
      "|          2|       1|     1|Cumings, Mrs. Joh...|female|38.0|    1|    0|        PC 17599|71.2833|       C|     [C85]|          2|       1|     1|Cumings, Mrs. Joh...|female|38.0|    1|    0|        PC 17599|71.2833|  C85|       C|\n",
      "|          3|       1|     3|Heikkinen, Miss. ...|female|26.0|    0|    0|STON/O2. 3101282|  7.925|       S|      null|          3|       1|     3|Heikkinen, Miss. ...|female|26.0|    0|    0|STON/O2. 3101282|  7.925| null|       S|\n",
      "|          4|       1|     1|Futrelle, Mrs. Ja...|female|35.0|    1|    0|          113803|   53.1|       S|    [C123]|          4|       1|     1|Futrelle, Mrs. Ja...|female|35.0|    1|    0|          113803|   53.1| C123|       S|\n",
      "|          5|       0|     3|Allen, Mr. Willia...|  male|35.0|    0|    0|          373450|   8.05|       S|      null|          5|       0|     3|Allen, Mr. Willia...|  male|35.0|    0|    0|          373450|   8.05| null|       S|\n",
      "+-----------+--------+------+--------------------+------+----+-----+-----+----------------+-------+--------+----------+-----------+--------+------+--------------------+------+----+-----+-----+----------------+-------+-----+--------+\n",
      "only showing top 5 rows\n",
      "\n"
     ]
    }
   ],
   "source": [
    "right_joined_df = titanic_struct_df.join(titanic_ddl_df, titanic_struct_df.PassengerId == titanic_ddl_df.PassengerId, how = \"right\")\n",
    "right_joined_df.show(5)"
   ]
  },
  {
   "cell_type": "markdown",
   "id": "b3407631-82e3-4c5e-a45b-87488a058f02",
   "metadata": {},
   "source": [
    "- Outer Join: Výsledkem outer joinu jsou všechny řádky z obou spojovaných DataFrame, pokud neexistuje odpovídající řádek v jednom z DataFrame, budou výsledné hodnoty null. Tento typ joinu můžeme provést pomocí parametru \"outer\"."
   ]
  },
  {
   "cell_type": "code",
   "execution_count": 163,
   "id": "243c397c-12fe-43cf-896e-878dde68650d",
   "metadata": {},
   "outputs": [
    {
     "name": "stdout",
     "output_type": "stream",
     "text": [
      "+-----------+--------+------+--------------------+------+----+-----+-----+----------+-------+--------+----------+-----------+--------+------+--------------------+------+----+-----+-----+----------+-------+-----+--------+\n",
      "|PassengerId|Survived|Pclass|                Name|   Sex| Age|SibSp|Parch|    Ticket|   Fare|Embarked|CabinArray|PassengerId|Survived|Pclass|                Name|   Sex| Age|SibSp|Parch|    Ticket|   Fare|Cabin|Embarked|\n",
      "+-----------+--------+------+--------------------+------+----+-----+-----+----------+-------+--------+----------+-----------+--------+------+--------------------+------+----+-----+-----+----------+-------+-----+--------+\n",
      "|        148|       0|     3|\"Ford, Miss. Robi...|female| 9.0|    2|    2|W./C. 6608| 34.375|       S|      null|        148|       0|     3|\"Ford, Miss. Robi...|female| 9.0|    2|    2|W./C. 6608| 34.375| null|       S|\n",
      "|        463|       0|     1|   Gee, Mr. Arthur H|  male|47.0|    0|    0|    111320|   38.5|       S|     [E63]|        463|       0|     1|   Gee, Mr. Arthur H|  male|47.0|    0|    0|    111320|   38.5|  E63|       S|\n",
      "|        471|       0|     3|   Keefe, Mr. Arthur|  male|null|    0|    0|    323592|   7.25|       S|      null|        471|       0|     3|   Keefe, Mr. Arthur|  male|null|    0|    0|    323592|   7.25| null|       S|\n",
      "|        496|       0|     3|Yousseff, Mr. Ger...|  male|null|    0|    0|      2627|14.4583|       C|      null|        496|       0|     3|Yousseff, Mr. Ger...|  male|null|    0|    0|      2627|14.4583| null|       C|\n",
      "|        833|       0|     3|      Saad, Mr. Amin|  male|null|    0|    0|      2671| 7.2292|       C|      null|        833|       0|     3|      Saad, Mr. Amin|  male|null|    0|    0|      2671| 7.2292| null|       C|\n",
      "+-----------+--------+------+--------------------+------+----+-----+-----+----------+-------+--------+----------+-----------+--------+------+--------------------+------+----+-----+-----+----------+-------+-----+--------+\n",
      "only showing top 5 rows\n",
      "\n"
     ]
    }
   ],
   "source": [
    "outer_joined_df = titanic_struct_df.join(titanic_ddl_df, titanic_struct_df.PassengerId == titanic_ddl_df.PassengerId, how = \"outer\")\n",
    "outer_joined_df.show(5)"
   ]
  },
  {
   "cell_type": "markdown",
   "id": "07f0d67d-2e06-415a-bb78-3b35b7ec4662",
   "metadata": {},
   "source": [
    "- Leftsemi Join: Semi join je speciální typ joinu, který vrací pouze řádky z levého DataFramu, které mají odpovídající hodnoty v pravém DataFramu. Výstup neobsahuje žádné sloupce z pravého DataFramu."
   ]
  },
  {
   "cell_type": "code",
   "execution_count": 164,
   "id": "320432f1-c543-43d9-81ff-809bc7512547",
   "metadata": {},
   "outputs": [
    {
     "name": "stderr",
     "output_type": "stream",
     "text": [
      "[Stage 41:===================================>                  (131 + 3) / 200]"
     ]
    },
    {
     "name": "stdout",
     "output_type": "stream",
     "text": [
      "+-----------+--------+------+--------------------+------+----+-----+-----+----------------+-------+--------+----------+\n",
      "|PassengerId|Survived|Pclass|                Name|   Sex| Age|SibSp|Parch|          Ticket|   Fare|Embarked|CabinArray|\n",
      "+-----------+--------+------+--------------------+------+----+-----+-----+----------------+-------+--------+----------+\n",
      "|          1|       0|     3|Braund, Mr. Owen ...|  male|22.0|    1|    0|       A/5 21171|   7.25|       S|      null|\n",
      "|          2|       1|     1|Cumings, Mrs. Joh...|female|38.0|    1|    0|        PC 17599|71.2833|       C|     [C85]|\n",
      "|          3|       1|     3|Heikkinen, Miss. ...|female|26.0|    0|    0|STON/O2. 3101282|  7.925|       S|      null|\n",
      "|          4|       1|     1|Futrelle, Mrs. Ja...|female|35.0|    1|    0|          113803|   53.1|       S|    [C123]|\n",
      "|          5|       0|     3|Allen, Mr. Willia...|  male|35.0|    0|    0|          373450|   8.05|       S|      null|\n",
      "+-----------+--------+------+--------------------+------+----+-----+-----+----------------+-------+--------+----------+\n",
      "only showing top 5 rows\n",
      "\n"
     ]
    },
    {
     "name": "stderr",
     "output_type": "stream",
     "text": [
      "                                                                                \r"
     ]
    }
   ],
   "source": [
    "semi_joined_df = titanic_struct_df.join(titanic_ddl_df.select(\"PassengerId\").distinct(), [\"PassengerId\"], \"leftsemi\")\n",
    "semi_joined_df.show(5)"
   ]
  },
  {
   "cell_type": "markdown",
   "id": "830c4831-d0de-4cf4-ab6e-2a2597cd4523",
   "metadata": {},
   "source": [
    "### 17) Cast data typů"
   ]
  },
  {
   "cell_type": "code",
   "execution_count": 165,
   "id": "e8e617a8-00dd-4bbd-afba-c5cb3cd9c423",
   "metadata": {},
   "outputs": [
    {
     "name": "stdout",
     "output_type": "stream",
     "text": [
      "root\n",
      " |-- PassengerId: integer (nullable = true)\n",
      " |-- Survived: integer (nullable = true)\n",
      " |-- Pclass: integer (nullable = true)\n",
      " |-- Name: string (nullable = true)\n",
      " |-- Sex: string (nullable = true)\n",
      " |-- Age: integer (nullable = true)\n",
      " |-- SibSp: integer (nullable = true)\n",
      " |-- Parch: integer (nullable = true)\n",
      " |-- Ticket: string (nullable = true)\n",
      " |-- Fare: double (nullable = true)\n",
      " |-- Cabin: string (nullable = true)\n",
      " |-- Embarked: string (nullable = true)\n",
      "\n"
     ]
    }
   ],
   "source": [
    "titanic_ddl_df = titanic_ddl_df.withColumn(\"Age\", col(\"Age\").cast(\"integer\"))\n",
    "\n",
    "titanic_ddl_df.printSchema()"
   ]
  },
  {
   "cell_type": "markdown",
   "id": "2dc74c01-33d1-4d5a-aea0-2b85fd13b698",
   "metadata": {},
   "source": [
    "### 18) Collect, explode, split, lit"
   ]
  },
  {
   "cell_type": "markdown",
   "id": "f39d330e-e20c-482a-93ed-428ceee4d19c",
   "metadata": {},
   "source": [
    "- collect() is an action operation that is used to retrieve all the elements of the dataset as an Array of Row type (from all nodes) to the driver node"
   ]
  },
  {
   "cell_type": "code",
   "execution_count": 166,
   "id": "6a6d9bf7-b038-4efd-b440-2a5df8fc2249",
   "metadata": {},
   "outputs": [],
   "source": [
    "def collect_rows(df) -> DataFrame:\n",
    "    \n",
    "    rows = df.collect()\n",
    "    \n",
    "    return rows"
   ]
  },
  {
   "cell_type": "code",
   "execution_count": 167,
   "id": "8e1eb262-9a0d-46aa-9237-8c57fbebbf24",
   "metadata": {},
   "outputs": [],
   "source": [
    "rows = collect_rows(titanic_struct_df)"
   ]
  },
  {
   "cell_type": "code",
   "execution_count": 168,
   "id": "9e269d3d-2c13-454d-871f-90a6bf0a4b60",
   "metadata": {},
   "outputs": [
    {
     "name": "stdout",
     "output_type": "stream",
     "text": [
      "[Row(PassengerId=1, Survived=0, Pclass=3, Name='Braund, Mr. Owen Harris', Sex='male', Age=22.0, SibSp=1, Parch=0, Ticket='A/5 21171', Fare=7.25, Embarked='S', CabinArray=None), Row(PassengerId=2, Survived=1, Pclass=1, Name='Cumings, Mrs. John Bradley (Florence Briggs Thayer)', Sex='female', Age=38.0, SibSp=1, Parch=0, Ticket='PC 17599', Fare=71.2833023071289, Embarked='C', CabinArray=['C85']), Row(PassengerId=3, Survived=1, Pclass=3, Name='Heikkinen, Miss. Laina', Sex='female', Age=26.0, SibSp=0, Parch=0, Ticket='STON/O2. 3101282', Fare=7.925000190734863, Embarked='S', CabinArray=None), Row(PassengerId=4, Survived=1, Pclass=1, Name='Futrelle, Mrs. Jacques Heath (Lily May Peel)', Sex='female', Age=35.0, SibSp=1, Parch=0, Ticket='113803', Fare=53.099998474121094, Embarked='S', CabinArray=['C123']), Row(PassengerId=5, Survived=0, Pclass=3, Name='Allen, Mr. William Henry', Sex='male', Age=35.0, SibSp=0, Parch=0, Ticket='373450', Fare=8.050000190734863, Embarked='S', CabinArray=None), Row(PassengerId=6, Survived=0, Pclass=3, Name='Moran, Mr. James', Sex='male', Age=None, SibSp=0, Parch=0, Ticket='330877', Fare=8.45829963684082, Embarked='Q', CabinArray=None), Row(PassengerId=7, Survived=0, Pclass=1, Name='McCarthy, Mr. Timothy J', Sex='male', Age=54.0, SibSp=0, Parch=0, Ticket='17463', Fare=51.86249923706055, Embarked='S', CabinArray=['E46']), Row(PassengerId=8, Survived=0, Pclass=3, Name='Palsson, Master. Gosta Leonard', Sex='male', Age=2.0, SibSp=3, Parch=1, Ticket='349909', Fare=21.075000762939453, Embarked='S', CabinArray=None), Row(PassengerId=9, Survived=1, Pclass=3, Name='Johnson, Mrs. Oscar W (Elisabeth Vilhelmina Berg)', Sex='female', Age=27.0, SibSp=0, Parch=2, Ticket='347742', Fare=11.133299827575684, Embarked='S', CabinArray=None), Row(PassengerId=10, Survived=1, Pclass=2, Name='Nasser, Mrs. Nicholas (Adele Achem)', Sex='female', Age=14.0, SibSp=1, Parch=0, Ticket='237736', Fare=30.07080078125, Embarked='C', CabinArray=None), Row(PassengerId=11, Survived=1, Pclass=3, Name='Sandstrom, Miss. Marguerite Rut', Sex='female', Age=4.0, SibSp=1, Parch=1, Ticket='PP 9549', Fare=16.700000762939453, Embarked='S', CabinArray=['G6']), Row(PassengerId=12, Survived=1, Pclass=1, Name='Bonnell, Miss. Elizabeth', Sex='female', Age=58.0, SibSp=0, Parch=0, Ticket='113783', Fare=26.549999237060547, Embarked='S', CabinArray=['C103']), Row(PassengerId=13, Survived=0, Pclass=3, Name='Saundercock, Mr. William Henry', Sex='male', Age=20.0, SibSp=0, Parch=0, Ticket='A/5. 2151', Fare=8.050000190734863, Embarked='S', CabinArray=None), Row(PassengerId=14, Survived=0, Pclass=3, Name='Andersson, Mr. Anders Johan', Sex='male', Age=39.0, SibSp=1, Parch=5, Ticket='347082', Fare=31.274999618530273, Embarked='S', CabinArray=None), Row(PassengerId=15, Survived=0, Pclass=3, Name='Vestrom, Miss. Hulda Amanda Adolfina', Sex='female', Age=14.0, SibSp=0, Parch=0, Ticket='350406', Fare=7.8541998863220215, Embarked='S', CabinArray=None), Row(PassengerId=16, Survived=1, Pclass=2, Name='Hewlett, Mrs. (Mary D Kingcome) ', Sex='female', Age=55.0, SibSp=0, Parch=0, Ticket='248706', Fare=16.0, Embarked='S', CabinArray=None), Row(PassengerId=17, Survived=0, Pclass=3, Name='Rice, Master. Eugene', Sex='male', Age=2.0, SibSp=4, Parch=1, Ticket='382652', Fare=29.125, Embarked='Q', CabinArray=None), Row(PassengerId=18, Survived=1, Pclass=2, Name='Williams, Mr. Charles Eugene', Sex='male', Age=None, SibSp=0, Parch=0, Ticket='244373', Fare=13.0, Embarked='S', CabinArray=None), Row(PassengerId=19, Survived=0, Pclass=3, Name='Vander Planke, Mrs. Julius (Emelia Maria Vandemoortele)', Sex='female', Age=31.0, SibSp=1, Parch=0, Ticket='345763', Fare=18.0, Embarked='S', CabinArray=None), Row(PassengerId=20, Survived=1, Pclass=3, Name='Masselmani, Mrs. Fatima', Sex='female', Age=None, SibSp=0, Parch=0, Ticket='2649', Fare=7.224999904632568, Embarked='C', CabinArray=None), Row(PassengerId=21, Survived=0, Pclass=2, Name='Fynney, Mr. Joseph J', Sex='male', Age=35.0, SibSp=0, Parch=0, Ticket='239865', Fare=26.0, Embarked='S', CabinArray=None), Row(PassengerId=22, Survived=1, Pclass=2, Name='Beesley, Mr. Lawrence', Sex='male', Age=34.0, SibSp=0, Parch=0, Ticket='248698', Fare=13.0, Embarked='S', CabinArray=['D56']), Row(PassengerId=23, Survived=1, Pclass=3, Name='\"McGowan, Miss. Anna \"\"Annie\"\"\"', Sex='female', Age=15.0, SibSp=0, Parch=0, Ticket='330923', Fare=8.029199600219727, Embarked='Q', CabinArray=None), Row(PassengerId=24, Survived=1, Pclass=1, Name='Sloper, Mr. William Thompson', Sex='male', Age=28.0, SibSp=0, Parch=0, Ticket='113788', Fare=35.5, Embarked='S', CabinArray=['A6']), Row(PassengerId=25, Survived=0, Pclass=3, Name='Palsson, Miss. Torborg Danira', Sex='female', Age=8.0, SibSp=3, Parch=1, Ticket='349909', Fare=21.075000762939453, Embarked='S', CabinArray=None), Row(PassengerId=26, Survived=1, Pclass=3, Name='Asplund, Mrs. Carl Oscar (Selma Augusta Emilia Johansson)', Sex='female', Age=38.0, SibSp=1, Parch=5, Ticket='347077', Fare=31.387500762939453, Embarked='S', CabinArray=None), Row(PassengerId=27, Survived=0, Pclass=3, Name='Emir, Mr. Farred Chehab', Sex='male', Age=None, SibSp=0, Parch=0, Ticket='2631', Fare=7.224999904632568, Embarked='C', CabinArray=None), Row(PassengerId=28, Survived=0, Pclass=1, Name='Fortune, Mr. Charles Alexander', Sex='male', Age=19.0, SibSp=3, Parch=2, Ticket='19950', Fare=263.0, Embarked='S', CabinArray=['C23 C25 C27']), Row(PassengerId=29, Survived=1, Pclass=3, Name='\"O\\'Dwyer, Miss. Ellen \"\"Nellie\"\"\"', Sex='female', Age=None, SibSp=0, Parch=0, Ticket='330959', Fare=7.879199981689453, Embarked='Q', CabinArray=None), Row(PassengerId=30, Survived=0, Pclass=3, Name='Todoroff, Mr. Lalio', Sex='male', Age=None, SibSp=0, Parch=0, Ticket='349216', Fare=7.8958001136779785, Embarked='S', CabinArray=None), Row(PassengerId=31, Survived=0, Pclass=1, Name='Uruchurtu, Don. Manuel E', Sex='male', Age=40.0, SibSp=0, Parch=0, Ticket='PC 17601', Fare=27.720800399780273, Embarked='C', CabinArray=None), Row(PassengerId=32, Survived=1, Pclass=1, Name='Spencer, Mrs. William Augustus (Marie Eugenie)', Sex='female', Age=None, SibSp=1, Parch=0, Ticket='PC 17569', Fare=146.5207977294922, Embarked='C', CabinArray=['B78']), Row(PassengerId=33, Survived=1, Pclass=3, Name='Glynn, Miss. Mary Agatha', Sex='female', Age=None, SibSp=0, Parch=0, Ticket='335677', Fare=7.75, Embarked='Q', CabinArray=None), Row(PassengerId=34, Survived=0, Pclass=2, Name='Wheadon, Mr. Edward H', Sex='male', Age=66.0, SibSp=0, Parch=0, Ticket='C.A. 24579', Fare=10.5, Embarked='S', CabinArray=None), Row(PassengerId=35, Survived=0, Pclass=1, Name='Meyer, Mr. Edgar Joseph', Sex='male', Age=28.0, SibSp=1, Parch=0, Ticket='PC 17604', Fare=82.1707992553711, Embarked='C', CabinArray=None), Row(PassengerId=36, Survived=0, Pclass=1, Name='Holverson, Mr. Alexander Oskar', Sex='male', Age=42.0, SibSp=1, Parch=0, Ticket='113789', Fare=52.0, Embarked='S', CabinArray=None), Row(PassengerId=37, Survived=1, Pclass=3, Name='Mamee, Mr. Hanna', Sex='male', Age=None, SibSp=0, Parch=0, Ticket='2677', Fare=7.2291998863220215, Embarked='C', CabinArray=None), Row(PassengerId=38, Survived=0, Pclass=3, Name='Cann, Mr. Ernest Charles', Sex='male', Age=21.0, SibSp=0, Parch=0, Ticket='A./5. 2152', Fare=8.050000190734863, Embarked='S', CabinArray=None), Row(PassengerId=39, Survived=0, Pclass=3, Name='Vander Planke, Miss. Augusta Maria', Sex='female', Age=18.0, SibSp=2, Parch=0, Ticket='345764', Fare=18.0, Embarked='S', CabinArray=None), Row(PassengerId=40, Survived=1, Pclass=3, Name='Nicola-Yarred, Miss. Jamila', Sex='female', Age=14.0, SibSp=1, Parch=0, Ticket='2651', Fare=11.241700172424316, Embarked='C', CabinArray=None), Row(PassengerId=41, Survived=0, Pclass=3, Name='Ahlin, Mrs. Johan (Johanna Persdotter Larsson)', Sex='female', Age=40.0, SibSp=1, Parch=0, Ticket='7546', Fare=9.475000381469727, Embarked='S', CabinArray=None), Row(PassengerId=42, Survived=0, Pclass=2, Name='Turpin, Mrs. William John Robert (Dorothy Ann Wonnacott)', Sex='female', Age=27.0, SibSp=1, Parch=0, Ticket='11668', Fare=21.0, Embarked='S', CabinArray=None), Row(PassengerId=43, Survived=0, Pclass=3, Name='Kraeff, Mr. Theodor', Sex='male', Age=None, SibSp=0, Parch=0, Ticket='349253', Fare=7.8958001136779785, Embarked='C', CabinArray=None), Row(PassengerId=44, Survived=1, Pclass=2, Name='Laroche, Miss. Simonne Marie Anne Andree', Sex='female', Age=3.0, SibSp=1, Parch=2, Ticket='SC/Paris 2123', Fare=41.579200744628906, Embarked='C', CabinArray=None), Row(PassengerId=45, Survived=1, Pclass=3, Name='Devaney, Miss. Margaret Delia', Sex='female', Age=19.0, SibSp=0, Parch=0, Ticket='330958', Fare=7.879199981689453, Embarked='Q', CabinArray=None), Row(PassengerId=46, Survived=0, Pclass=3, Name='Rogers, Mr. William John', Sex='male', Age=None, SibSp=0, Parch=0, Ticket='S.C./A.4. 23567', Fare=8.050000190734863, Embarked='S', CabinArray=None), Row(PassengerId=47, Survived=0, Pclass=3, Name='Lennon, Mr. Denis', Sex='male', Age=None, SibSp=1, Parch=0, Ticket='370371', Fare=15.5, Embarked='Q', CabinArray=None), Row(PassengerId=48, Survived=1, Pclass=3, Name=\"O'Driscoll, Miss. Bridget\", Sex='female', Age=None, SibSp=0, Parch=0, Ticket='14311', Fare=7.75, Embarked='Q', CabinArray=None), Row(PassengerId=49, Survived=0, Pclass=3, Name='Samaan, Mr. Youssef', Sex='male', Age=None, SibSp=2, Parch=0, Ticket='2662', Fare=21.67919921875, Embarked='C', CabinArray=None), Row(PassengerId=50, Survived=0, Pclass=3, Name='Arnold-Franchi, Mrs. Josef (Josefine Franchi)', Sex='female', Age=18.0, SibSp=1, Parch=0, Ticket='349237', Fare=17.799999237060547, Embarked='S', CabinArray=None), Row(PassengerId=51, Survived=0, Pclass=3, Name='Panula, Master. Juha Niilo', Sex='male', Age=7.0, SibSp=4, Parch=1, Ticket='3101295', Fare=39.6875, Embarked='S', CabinArray=None), Row(PassengerId=52, Survived=0, Pclass=3, Name='Nosworthy, Mr. Richard Cater', Sex='male', Age=21.0, SibSp=0, Parch=0, Ticket='A/4. 39886', Fare=7.800000190734863, Embarked='S', CabinArray=None), Row(PassengerId=53, Survived=1, Pclass=1, Name='Harper, Mrs. Henry Sleeper (Myna Haxtun)', Sex='female', Age=49.0, SibSp=1, Parch=0, Ticket='PC 17572', Fare=76.72920227050781, Embarked='C', CabinArray=['D33']), Row(PassengerId=54, Survived=1, Pclass=2, Name='Faunthorpe, Mrs. Lizzie (Elizabeth Anne Wilkinson)', Sex='female', Age=29.0, SibSp=1, Parch=0, Ticket='2926', Fare=26.0, Embarked='S', CabinArray=None), Row(PassengerId=55, Survived=0, Pclass=1, Name='Ostby, Mr. Engelhart Cornelius', Sex='male', Age=65.0, SibSp=0, Parch=1, Ticket='113509', Fare=61.97919845581055, Embarked='C', CabinArray=['B30']), Row(PassengerId=56, Survived=1, Pclass=1, Name='Woolner, Mr. Hugh', Sex='male', Age=None, SibSp=0, Parch=0, Ticket='19947', Fare=35.5, Embarked='S', CabinArray=['C52']), Row(PassengerId=57, Survived=1, Pclass=2, Name='Rugg, Miss. Emily', Sex='female', Age=21.0, SibSp=0, Parch=0, Ticket='C.A. 31026', Fare=10.5, Embarked='S', CabinArray=None), Row(PassengerId=58, Survived=0, Pclass=3, Name='Novel, Mr. Mansouer', Sex='male', Age=28.5, SibSp=0, Parch=0, Ticket='2697', Fare=7.2291998863220215, Embarked='C', CabinArray=None), Row(PassengerId=59, Survived=1, Pclass=2, Name='West, Miss. Constance Mirium', Sex='female', Age=5.0, SibSp=1, Parch=2, Ticket='C.A. 34651', Fare=27.75, Embarked='S', CabinArray=None), Row(PassengerId=60, Survived=0, Pclass=3, Name='Goodwin, Master. William Frederick', Sex='male', Age=11.0, SibSp=5, Parch=2, Ticket='CA 2144', Fare=46.900001525878906, Embarked='S', CabinArray=None), Row(PassengerId=61, Survived=0, Pclass=3, Name='Sirayanian, Mr. Orsen', Sex='male', Age=22.0, SibSp=0, Parch=0, Ticket='2669', Fare=7.2291998863220215, Embarked='C', CabinArray=None), Row(PassengerId=62, Survived=1, Pclass=1, Name='Icard, Miss. Amelie', Sex='female', Age=38.0, SibSp=0, Parch=0, Ticket='113572', Fare=80.0, Embarked=None, CabinArray=['B28']), Row(PassengerId=63, Survived=0, Pclass=1, Name='Harris, Mr. Henry Birkhardt', Sex='male', Age=45.0, SibSp=1, Parch=0, Ticket='36973', Fare=83.4749984741211, Embarked='S', CabinArray=['C83']), Row(PassengerId=64, Survived=0, Pclass=3, Name='Skoog, Master. Harald', Sex='male', Age=4.0, SibSp=3, Parch=2, Ticket='347088', Fare=27.899999618530273, Embarked='S', CabinArray=None), Row(PassengerId=65, Survived=0, Pclass=1, Name='Stewart, Mr. Albert A', Sex='male', Age=None, SibSp=0, Parch=0, Ticket='PC 17605', Fare=27.720800399780273, Embarked='C', CabinArray=None), Row(PassengerId=66, Survived=1, Pclass=3, Name='Moubarek, Master. Gerios', Sex='male', Age=None, SibSp=1, Parch=1, Ticket='2661', Fare=15.245800018310547, Embarked='C', CabinArray=None), Row(PassengerId=67, Survived=1, Pclass=2, Name='Nye, Mrs. (Elizabeth Ramell)', Sex='female', Age=29.0, SibSp=0, Parch=0, Ticket='C.A. 29395', Fare=10.5, Embarked='S', CabinArray=['F33']), Row(PassengerId=68, Survived=0, Pclass=3, Name='Crease, Mr. Ernest James', Sex='male', Age=19.0, SibSp=0, Parch=0, Ticket='S.P. 3464', Fare=8.158300399780273, Embarked='S', CabinArray=None), Row(PassengerId=69, Survived=1, Pclass=3, Name='Andersson, Miss. Erna Alexandra', Sex='female', Age=17.0, SibSp=4, Parch=2, Ticket='3101281', Fare=7.925000190734863, Embarked='S', CabinArray=None), Row(PassengerId=70, Survived=0, Pclass=3, Name='Kink, Mr. Vincenz', Sex='male', Age=26.0, SibSp=2, Parch=0, Ticket='315151', Fare=8.662500381469727, Embarked='S', CabinArray=None), Row(PassengerId=71, Survived=0, Pclass=2, Name='Jenkin, Mr. Stephen Curnow', Sex='male', Age=32.0, SibSp=0, Parch=0, Ticket='C.A. 33111', Fare=10.5, Embarked='S', CabinArray=None), Row(PassengerId=72, Survived=0, Pclass=3, Name='Goodwin, Miss. Lillian Amy', Sex='female', Age=16.0, SibSp=5, Parch=2, Ticket='CA 2144', Fare=46.900001525878906, Embarked='S', CabinArray=None), Row(PassengerId=73, Survived=0, Pclass=2, Name='Hood, Mr. Ambrose Jr', Sex='male', Age=21.0, SibSp=0, Parch=0, Ticket='S.O.C. 14879', Fare=73.5, Embarked='S', CabinArray=None), Row(PassengerId=74, Survived=0, Pclass=3, Name='Chronopoulos, Mr. Apostolos', Sex='male', Age=26.0, SibSp=1, Parch=0, Ticket='2680', Fare=14.45419979095459, Embarked='C', CabinArray=None), Row(PassengerId=75, Survived=1, Pclass=3, Name='Bing, Mr. Lee', Sex='male', Age=32.0, SibSp=0, Parch=0, Ticket='1601', Fare=56.49580001831055, Embarked='S', CabinArray=None), Row(PassengerId=76, Survived=0, Pclass=3, Name='Moen, Mr. Sigurd Hansen', Sex='male', Age=25.0, SibSp=0, Parch=0, Ticket='348123', Fare=7.650000095367432, Embarked='S', CabinArray=['F G73']), Row(PassengerId=77, Survived=0, Pclass=3, Name='Staneff, Mr. Ivan', Sex='male', Age=None, SibSp=0, Parch=0, Ticket='349208', Fare=7.8958001136779785, Embarked='S', CabinArray=None), Row(PassengerId=78, Survived=0, Pclass=3, Name='Moutal, Mr. Rahamin Haim', Sex='male', Age=None, SibSp=0, Parch=0, Ticket='374746', Fare=8.050000190734863, Embarked='S', CabinArray=None), Row(PassengerId=79, Survived=1, Pclass=2, Name='Caldwell, Master. Alden Gates', Sex='male', Age=0.8299999833106995, SibSp=0, Parch=2, Ticket='248738', Fare=29.0, Embarked='S', CabinArray=None), Row(PassengerId=80, Survived=1, Pclass=3, Name='Dowdell, Miss. Elizabeth', Sex='female', Age=30.0, SibSp=0, Parch=0, Ticket='364516', Fare=12.475000381469727, Embarked='S', CabinArray=None), Row(PassengerId=81, Survived=0, Pclass=3, Name='Waelens, Mr. Achille', Sex='male', Age=22.0, SibSp=0, Parch=0, Ticket='345767', Fare=9.0, Embarked='S', CabinArray=None), Row(PassengerId=82, Survived=1, Pclass=3, Name='Sheerlinck, Mr. Jan Baptist', Sex='male', Age=29.0, SibSp=0, Parch=0, Ticket='345779', Fare=9.5, Embarked='S', CabinArray=None), Row(PassengerId=83, Survived=1, Pclass=3, Name='McDermott, Miss. Brigdet Delia', Sex='female', Age=None, SibSp=0, Parch=0, Ticket='330932', Fare=7.787499904632568, Embarked='Q', CabinArray=None), Row(PassengerId=84, Survived=0, Pclass=1, Name='Carrau, Mr. Francisco M', Sex='male', Age=28.0, SibSp=0, Parch=0, Ticket='113059', Fare=47.099998474121094, Embarked='S', CabinArray=None), Row(PassengerId=85, Survived=1, Pclass=2, Name='Ilett, Miss. Bertha', Sex='female', Age=17.0, SibSp=0, Parch=0, Ticket='SO/C 14885', Fare=10.5, Embarked='S', CabinArray=None), Row(PassengerId=86, Survived=1, Pclass=3, Name='Backstrom, Mrs. Karl Alfred (Maria Mathilda Gustafsson)', Sex='female', Age=33.0, SibSp=3, Parch=0, Ticket='3101278', Fare=15.850000381469727, Embarked='S', CabinArray=None), Row(PassengerId=87, Survived=0, Pclass=3, Name='Ford, Mr. William Neal', Sex='male', Age=16.0, SibSp=1, Parch=3, Ticket='W./C. 6608', Fare=34.375, Embarked='S', CabinArray=None), Row(PassengerId=88, Survived=0, Pclass=3, Name='Slocovski, Mr. Selman Francis', Sex='male', Age=None, SibSp=0, Parch=0, Ticket='SOTON/OQ 392086', Fare=8.050000190734863, Embarked='S', CabinArray=None), Row(PassengerId=89, Survived=1, Pclass=1, Name='Fortune, Miss. Mabel Helen', Sex='female', Age=23.0, SibSp=3, Parch=2, Ticket='19950', Fare=263.0, Embarked='S', CabinArray=['C23 C25 C27']), Row(PassengerId=90, Survived=0, Pclass=3, Name='Celotti, Mr. Francesco', Sex='male', Age=24.0, SibSp=0, Parch=0, Ticket='343275', Fare=8.050000190734863, Embarked='S', CabinArray=None), Row(PassengerId=91, Survived=0, Pclass=3, Name='Christmann, Mr. Emil', Sex='male', Age=29.0, SibSp=0, Parch=0, Ticket='343276', Fare=8.050000190734863, Embarked='S', CabinArray=None), Row(PassengerId=92, Survived=0, Pclass=3, Name='Andreasson, Mr. Paul Edvin', Sex='male', Age=20.0, SibSp=0, Parch=0, Ticket='347466', Fare=7.8541998863220215, Embarked='S', CabinArray=None), Row(PassengerId=93, Survived=0, Pclass=1, Name='Chaffee, Mr. Herbert Fuller', Sex='male', Age=46.0, SibSp=1, Parch=0, Ticket='W.E.P. 5734', Fare=61.17499923706055, Embarked='S', CabinArray=['E31']), Row(PassengerId=94, Survived=0, Pclass=3, Name='Dean, Mr. Bertram Frank', Sex='male', Age=26.0, SibSp=1, Parch=2, Ticket='C.A. 2315', Fare=20.575000762939453, Embarked='S', CabinArray=None), Row(PassengerId=95, Survived=0, Pclass=3, Name='Coxon, Mr. Daniel', Sex='male', Age=59.0, SibSp=0, Parch=0, Ticket='364500', Fare=7.25, Embarked='S', CabinArray=None), Row(PassengerId=96, Survived=0, Pclass=3, Name='Shorney, Mr. Charles Joseph', Sex='male', Age=None, SibSp=0, Parch=0, Ticket='374910', Fare=8.050000190734863, Embarked='S', CabinArray=None), Row(PassengerId=97, Survived=0, Pclass=1, Name='Goldschmidt, Mr. George B', Sex='male', Age=71.0, SibSp=0, Parch=0, Ticket='PC 17754', Fare=34.65420150756836, Embarked='C', CabinArray=['A5']), Row(PassengerId=98, Survived=1, Pclass=1, Name='Greenfield, Mr. William Bertram', Sex='male', Age=23.0, SibSp=0, Parch=1, Ticket='PC 17759', Fare=63.358299255371094, Embarked='C', CabinArray=['D10 D12']), Row(PassengerId=99, Survived=1, Pclass=2, Name='Doling, Mrs. John T (Ada Julia Bone)', Sex='female', Age=34.0, SibSp=0, Parch=1, Ticket='231919', Fare=23.0, Embarked='S', CabinArray=None), Row(PassengerId=100, Survived=0, Pclass=2, Name='Kantor, Mr. Sinai', Sex='male', Age=34.0, SibSp=1, Parch=0, Ticket='244367', Fare=26.0, Embarked='S', CabinArray=None), Row(PassengerId=101, Survived=0, Pclass=3, Name='Petranec, Miss. Matilda', Sex='female', Age=28.0, SibSp=0, Parch=0, Ticket='349245', Fare=7.8958001136779785, Embarked='S', CabinArray=None), Row(PassengerId=102, Survived=0, Pclass=3, Name='\"Petroff, Mr. Pastcho (\"\"Pentcho\"\")\"', Sex='male', Age=None, SibSp=0, Parch=0, Ticket='349215', Fare=7.8958001136779785, Embarked='S', CabinArray=None), Row(PassengerId=103, Survived=0, Pclass=1, Name='White, Mr. Richard Frasar', Sex='male', Age=21.0, SibSp=0, Parch=1, Ticket='35281', Fare=77.2874984741211, Embarked='S', CabinArray=['D26']), Row(PassengerId=104, Survived=0, Pclass=3, Name='Johansson, Mr. Gustaf Joel', Sex='male', Age=33.0, SibSp=0, Parch=0, Ticket='7540', Fare=8.654199600219727, Embarked='S', CabinArray=None), Row(PassengerId=105, Survived=0, Pclass=3, Name='Gustafsson, Mr. Anders Vilhelm', Sex='male', Age=37.0, SibSp=2, Parch=0, Ticket='3101276', Fare=7.925000190734863, Embarked='S', CabinArray=None), Row(PassengerId=106, Survived=0, Pclass=3, Name='Mionoff, Mr. Stoytcho', Sex='male', Age=28.0, SibSp=0, Parch=0, Ticket='349207', Fare=7.8958001136779785, Embarked='S', CabinArray=None), Row(PassengerId=107, Survived=1, Pclass=3, Name='Salkjelsvik, Miss. Anna Kristine', Sex='female', Age=21.0, SibSp=0, Parch=0, Ticket='343120', Fare=7.650000095367432, Embarked='S', CabinArray=None), Row(PassengerId=108, Survived=1, Pclass=3, Name='Moss, Mr. Albert Johan', Sex='male', Age=None, SibSp=0, Parch=0, Ticket='312991', Fare=7.775000095367432, Embarked='S', CabinArray=None), Row(PassengerId=109, Survived=0, Pclass=3, Name='Rekic, Mr. Tido', Sex='male', Age=38.0, SibSp=0, Parch=0, Ticket='349249', Fare=7.8958001136779785, Embarked='S', CabinArray=None), Row(PassengerId=110, Survived=1, Pclass=3, Name='Moran, Miss. Bertha', Sex='female', Age=None, SibSp=1, Parch=0, Ticket='371110', Fare=24.149999618530273, Embarked='Q', CabinArray=None), Row(PassengerId=111, Survived=0, Pclass=1, Name='Porter, Mr. Walter Chamberlain', Sex='male', Age=47.0, SibSp=0, Parch=0, Ticket='110465', Fare=52.0, Embarked='S', CabinArray=['C110']), Row(PassengerId=112, Survived=0, Pclass=3, Name='Zabour, Miss. Hileni', Sex='female', Age=14.5, SibSp=1, Parch=0, Ticket='2665', Fare=14.45419979095459, Embarked='C', CabinArray=None), Row(PassengerId=113, Survived=0, Pclass=3, Name='Barton, Mr. David John', Sex='male', Age=22.0, SibSp=0, Parch=0, Ticket='324669', Fare=8.050000190734863, Embarked='S', CabinArray=None), Row(PassengerId=114, Survived=0, Pclass=3, Name='Jussila, Miss. Katriina', Sex='female', Age=20.0, SibSp=1, Parch=0, Ticket='4136', Fare=9.824999809265137, Embarked='S', CabinArray=None), Row(PassengerId=115, Survived=0, Pclass=3, Name='Attalah, Miss. Malake', Sex='female', Age=17.0, SibSp=0, Parch=0, Ticket='2627', Fare=14.45829963684082, Embarked='C', CabinArray=None), Row(PassengerId=116, Survived=0, Pclass=3, Name='Pekoniemi, Mr. Edvard', Sex='male', Age=21.0, SibSp=0, Parch=0, Ticket='STON/O 2. 3101294', Fare=7.925000190734863, Embarked='S', CabinArray=None), Row(PassengerId=117, Survived=0, Pclass=3, Name='Connors, Mr. Patrick', Sex='male', Age=70.5, SibSp=0, Parch=0, Ticket='370369', Fare=7.75, Embarked='Q', CabinArray=None), Row(PassengerId=118, Survived=0, Pclass=2, Name='Turpin, Mr. William John Robert', Sex='male', Age=29.0, SibSp=1, Parch=0, Ticket='11668', Fare=21.0, Embarked='S', CabinArray=None), Row(PassengerId=119, Survived=0, Pclass=1, Name='Baxter, Mr. Quigg Edmond', Sex='male', Age=24.0, SibSp=0, Parch=1, Ticket='PC 17558', Fare=247.5207977294922, Embarked='C', CabinArray=['B58 B60']), Row(PassengerId=120, Survived=0, Pclass=3, Name='Andersson, Miss. Ellis Anna Maria', Sex='female', Age=2.0, SibSp=4, Parch=2, Ticket='347082', Fare=31.274999618530273, Embarked='S', CabinArray=None), Row(PassengerId=121, Survived=0, Pclass=2, Name='Hickman, Mr. Stanley George', Sex='male', Age=21.0, SibSp=2, Parch=0, Ticket='S.O.C. 14879', Fare=73.5, Embarked='S', CabinArray=None), Row(PassengerId=122, Survived=0, Pclass=3, Name='Moore, Mr. Leonard Charles', Sex='male', Age=None, SibSp=0, Parch=0, Ticket='A4. 54510', Fare=8.050000190734863, Embarked='S', CabinArray=None), Row(PassengerId=123, Survived=0, Pclass=2, Name='Nasser, Mr. Nicholas', Sex='male', Age=32.5, SibSp=1, Parch=0, Ticket='237736', Fare=30.07080078125, Embarked='C', CabinArray=None), Row(PassengerId=124, Survived=1, Pclass=2, Name='Webber, Miss. Susan', Sex='female', Age=32.5, SibSp=0, Parch=0, Ticket='27267', Fare=13.0, Embarked='S', CabinArray=['E101']), Row(PassengerId=125, Survived=0, Pclass=1, Name='White, Mr. Percival Wayland', Sex='male', Age=54.0, SibSp=0, Parch=1, Ticket='35281', Fare=77.2874984741211, Embarked='S', CabinArray=['D26']), Row(PassengerId=126, Survived=1, Pclass=3, Name='Nicola-Yarred, Master. Elias', Sex='male', Age=12.0, SibSp=1, Parch=0, Ticket='2651', Fare=11.241700172424316, Embarked='C', CabinArray=None), Row(PassengerId=127, Survived=0, Pclass=3, Name='McMahon, Mr. Martin', Sex='male', Age=None, SibSp=0, Parch=0, Ticket='370372', Fare=7.75, Embarked='Q', CabinArray=None), Row(PassengerId=128, Survived=1, Pclass=3, Name='Madsen, Mr. Fridtjof Arne', Sex='male', Age=24.0, SibSp=0, Parch=0, Ticket='C 17369', Fare=7.14169979095459, Embarked='S', CabinArray=None), Row(PassengerId=129, Survived=1, Pclass=3, Name='Peter, Miss. Anna', Sex='female', Age=None, SibSp=1, Parch=1, Ticket='2668', Fare=22.358299255371094, Embarked='C', CabinArray=['F E69']), Row(PassengerId=130, Survived=0, Pclass=3, Name='Ekstrom, Mr. Johan', Sex='male', Age=45.0, SibSp=0, Parch=0, Ticket='347061', Fare=6.974999904632568, Embarked='S', CabinArray=None), Row(PassengerId=131, Survived=0, Pclass=3, Name='Drazenoic, Mr. Jozef', Sex='male', Age=33.0, SibSp=0, Parch=0, Ticket='349241', Fare=7.8958001136779785, Embarked='C', CabinArray=None), Row(PassengerId=132, Survived=0, Pclass=3, Name='Coelho, Mr. Domingos Fernandeo', Sex='male', Age=20.0, SibSp=0, Parch=0, Ticket='SOTON/O.Q. 3101307', Fare=7.050000190734863, Embarked='S', CabinArray=None), Row(PassengerId=133, Survived=0, Pclass=3, Name='Robins, Mrs. Alexander A (Grace Charity Laury)', Sex='female', Age=47.0, SibSp=1, Parch=0, Ticket='A/5. 3337', Fare=14.5, Embarked='S', CabinArray=None), Row(PassengerId=134, Survived=1, Pclass=2, Name='Weisz, Mrs. Leopold (Mathilde Francoise Pede)', Sex='female', Age=29.0, SibSp=1, Parch=0, Ticket='228414', Fare=26.0, Embarked='S', CabinArray=None), Row(PassengerId=135, Survived=0, Pclass=2, Name='Sobey, Mr. Samuel James Hayden', Sex='male', Age=25.0, SibSp=0, Parch=0, Ticket='C.A. 29178', Fare=13.0, Embarked='S', CabinArray=None), Row(PassengerId=136, Survived=0, Pclass=2, Name='Richard, Mr. Emile', Sex='male', Age=23.0, SibSp=0, Parch=0, Ticket='SC/PARIS 2133', Fare=15.04580020904541, Embarked='C', CabinArray=None), Row(PassengerId=137, Survived=1, Pclass=1, Name='Newsom, Miss. Helen Monypeny', Sex='female', Age=19.0, SibSp=0, Parch=2, Ticket='11752', Fare=26.283300399780273, Embarked='S', CabinArray=['D47']), Row(PassengerId=138, Survived=0, Pclass=1, Name='Futrelle, Mr. Jacques Heath', Sex='male', Age=37.0, SibSp=1, Parch=0, Ticket='113803', Fare=53.099998474121094, Embarked='S', CabinArray=['C123']), Row(PassengerId=139, Survived=0, Pclass=3, Name='Osen, Mr. Olaf Elon', Sex='male', Age=16.0, SibSp=0, Parch=0, Ticket='7534', Fare=9.216699600219727, Embarked='S', CabinArray=None), Row(PassengerId=140, Survived=0, Pclass=1, Name='Giglio, Mr. Victor', Sex='male', Age=24.0, SibSp=0, Parch=0, Ticket='PC 17593', Fare=79.19999694824219, Embarked='C', CabinArray=['B86']), Row(PassengerId=141, Survived=0, Pclass=3, Name='Boulos, Mrs. Joseph (Sultana)', Sex='female', Age=None, SibSp=0, Parch=2, Ticket='2678', Fare=15.245800018310547, Embarked='C', CabinArray=None), Row(PassengerId=142, Survived=1, Pclass=3, Name='Nysten, Miss. Anna Sofia', Sex='female', Age=22.0, SibSp=0, Parch=0, Ticket='347081', Fare=7.75, Embarked='S', CabinArray=None), Row(PassengerId=143, Survived=1, Pclass=3, Name='Hakkarainen, Mrs. Pekka Pietari (Elin Matilda Dolck)', Sex='female', Age=24.0, SibSp=1, Parch=0, Ticket='STON/O2. 3101279', Fare=15.850000381469727, Embarked='S', CabinArray=None), Row(PassengerId=144, Survived=0, Pclass=3, Name='Burke, Mr. Jeremiah', Sex='male', Age=19.0, SibSp=0, Parch=0, Ticket='365222', Fare=6.75, Embarked='Q', CabinArray=None), Row(PassengerId=145, Survived=0, Pclass=2, Name='Andrew, Mr. Edgardo Samuel', Sex='male', Age=18.0, SibSp=0, Parch=0, Ticket='231945', Fare=11.5, Embarked='S', CabinArray=None), Row(PassengerId=146, Survived=0, Pclass=2, Name='Nicholls, Mr. Joseph Charles', Sex='male', Age=19.0, SibSp=1, Parch=1, Ticket='C.A. 33112', Fare=36.75, Embarked='S', CabinArray=None), Row(PassengerId=147, Survived=1, Pclass=3, Name='\"Andersson, Mr. August Edvard (\"\"Wennerstrom\"\")\"', Sex='male', Age=27.0, SibSp=0, Parch=0, Ticket='350043', Fare=7.79580020904541, Embarked='S', CabinArray=None), Row(PassengerId=148, Survived=0, Pclass=3, Name='\"Ford, Miss. Robina Maggie \"\"Ruby\"\"\"', Sex='female', Age=9.0, SibSp=2, Parch=2, Ticket='W./C. 6608', Fare=34.375, Embarked='S', CabinArray=None), Row(PassengerId=149, Survived=0, Pclass=2, Name='\"Navratil, Mr. Michel (\"\"Louis M Hoffman\"\")\"', Sex='male', Age=36.5, SibSp=0, Parch=2, Ticket='230080', Fare=26.0, Embarked='S', CabinArray=['F2']), Row(PassengerId=150, Survived=0, Pclass=2, Name='Byles, Rev. Thomas Roussel Davids', Sex='male', Age=42.0, SibSp=0, Parch=0, Ticket='244310', Fare=13.0, Embarked='S', CabinArray=None), Row(PassengerId=151, Survived=0, Pclass=2, Name='Bateman, Rev. Robert James', Sex='male', Age=51.0, SibSp=0, Parch=0, Ticket='S.O.P. 1166', Fare=12.524999618530273, Embarked='S', CabinArray=None), Row(PassengerId=152, Survived=1, Pclass=1, Name='Pears, Mrs. Thomas (Edith Wearne)', Sex='female', Age=22.0, SibSp=1, Parch=0, Ticket='113776', Fare=66.5999984741211, Embarked='S', CabinArray=['C2']), Row(PassengerId=153, Survived=0, Pclass=3, Name='Meo, Mr. Alfonzo', Sex='male', Age=55.5, SibSp=0, Parch=0, Ticket='A.5. 11206', Fare=8.050000190734863, Embarked='S', CabinArray=None), Row(PassengerId=154, Survived=0, Pclass=3, Name='van Billiard, Mr. Austin Blyler', Sex='male', Age=40.5, SibSp=0, Parch=2, Ticket='A/5. 851', Fare=14.5, Embarked='S', CabinArray=None), Row(PassengerId=155, Survived=0, Pclass=3, Name='Olsen, Mr. Ole Martin', Sex='male', Age=None, SibSp=0, Parch=0, Ticket='Fa 265302', Fare=7.3125, Embarked='S', CabinArray=None), Row(PassengerId=156, Survived=0, Pclass=1, Name='Williams, Mr. Charles Duane', Sex='male', Age=51.0, SibSp=0, Parch=1, Ticket='PC 17597', Fare=61.37919998168945, Embarked='C', CabinArray=None), Row(PassengerId=157, Survived=1, Pclass=3, Name='\"Gilnagh, Miss. Katherine \"\"Katie\"\"\"', Sex='female', Age=16.0, SibSp=0, Parch=0, Ticket='35851', Fare=7.73330020904541, Embarked='Q', CabinArray=None), Row(PassengerId=158, Survived=0, Pclass=3, Name='Corn, Mr. Harry', Sex='male', Age=30.0, SibSp=0, Parch=0, Ticket='SOTON/OQ 392090', Fare=8.050000190734863, Embarked='S', CabinArray=None), Row(PassengerId=159, Survived=0, Pclass=3, Name='Smiljanic, Mr. Mile', Sex='male', Age=None, SibSp=0, Parch=0, Ticket='315037', Fare=8.662500381469727, Embarked='S', CabinArray=None), Row(PassengerId=160, Survived=0, Pclass=3, Name='Sage, Master. Thomas Henry', Sex='male', Age=None, SibSp=8, Parch=2, Ticket='CA. 2343', Fare=69.55000305175781, Embarked='S', CabinArray=None), Row(PassengerId=161, Survived=0, Pclass=3, Name='Cribb, Mr. John Hatfield', Sex='male', Age=44.0, SibSp=0, Parch=1, Ticket='371362', Fare=16.100000381469727, Embarked='S', CabinArray=None), Row(PassengerId=162, Survived=1, Pclass=2, Name='\"Watt, Mrs. James (Elizabeth \"\"Bessie\"\" Inglis Milne)\"', Sex='female', Age=40.0, SibSp=0, Parch=0, Ticket='C.A. 33595', Fare=15.75, Embarked='S', CabinArray=None), Row(PassengerId=163, Survived=0, Pclass=3, Name='Bengtsson, Mr. John Viktor', Sex='male', Age=26.0, SibSp=0, Parch=0, Ticket='347068', Fare=7.775000095367432, Embarked='S', CabinArray=None), Row(PassengerId=164, Survived=0, Pclass=3, Name='Calic, Mr. Jovo', Sex='male', Age=17.0, SibSp=0, Parch=0, Ticket='315093', Fare=8.662500381469727, Embarked='S', CabinArray=None), Row(PassengerId=165, Survived=0, Pclass=3, Name='Panula, Master. Eino Viljami', Sex='male', Age=1.0, SibSp=4, Parch=1, Ticket='3101295', Fare=39.6875, Embarked='S', CabinArray=None), Row(PassengerId=166, Survived=1, Pclass=3, Name='\"Goldsmith, Master. Frank John William \"\"Frankie\"\"\"', Sex='male', Age=9.0, SibSp=0, Parch=2, Ticket='363291', Fare=20.524999618530273, Embarked='S', CabinArray=None), Row(PassengerId=167, Survived=1, Pclass=1, Name='Chibnall, Mrs. (Edith Martha Bowerman)', Sex='female', Age=None, SibSp=0, Parch=1, Ticket='113505', Fare=55.0, Embarked='S', CabinArray=['E33']), Row(PassengerId=168, Survived=0, Pclass=3, Name='Skoog, Mrs. William (Anna Bernhardina Karlsson)', Sex='female', Age=45.0, SibSp=1, Parch=4, Ticket='347088', Fare=27.899999618530273, Embarked='S', CabinArray=None), Row(PassengerId=169, Survived=0, Pclass=1, Name='Baumann, Mr. John D', Sex='male', Age=None, SibSp=0, Parch=0, Ticket='PC 17318', Fare=25.924999237060547, Embarked='S', CabinArray=None), Row(PassengerId=170, Survived=0, Pclass=3, Name='Ling, Mr. Lee', Sex='male', Age=28.0, SibSp=0, Parch=0, Ticket='1601', Fare=56.49580001831055, Embarked='S', CabinArray=None), Row(PassengerId=171, Survived=0, Pclass=1, Name='Van der hoef, Mr. Wyckoff', Sex='male', Age=61.0, SibSp=0, Parch=0, Ticket='111240', Fare=33.5, Embarked='S', CabinArray=['B19']), Row(PassengerId=172, Survived=0, Pclass=3, Name='Rice, Master. Arthur', Sex='male', Age=4.0, SibSp=4, Parch=1, Ticket='382652', Fare=29.125, Embarked='Q', CabinArray=None), Row(PassengerId=173, Survived=1, Pclass=3, Name='Johnson, Miss. Eleanor Ileen', Sex='female', Age=1.0, SibSp=1, Parch=1, Ticket='347742', Fare=11.133299827575684, Embarked='S', CabinArray=None), Row(PassengerId=174, Survived=0, Pclass=3, Name='Sivola, Mr. Antti Wilhelm', Sex='male', Age=21.0, SibSp=0, Parch=0, Ticket='STON/O 2. 3101280', Fare=7.925000190734863, Embarked='S', CabinArray=None), Row(PassengerId=175, Survived=0, Pclass=1, Name='Smith, Mr. James Clinch', Sex='male', Age=56.0, SibSp=0, Parch=0, Ticket='17764', Fare=30.69580078125, Embarked='C', CabinArray=['A7']), Row(PassengerId=176, Survived=0, Pclass=3, Name='Klasen, Mr. Klas Albin', Sex='male', Age=18.0, SibSp=1, Parch=1, Ticket='350404', Fare=7.8541998863220215, Embarked='S', CabinArray=None), Row(PassengerId=177, Survived=0, Pclass=3, Name='Lefebre, Master. Henry Forbes', Sex='male', Age=None, SibSp=3, Parch=1, Ticket='4133', Fare=25.466699600219727, Embarked='S', CabinArray=None), Row(PassengerId=178, Survived=0, Pclass=1, Name='Isham, Miss. Ann Elizabeth', Sex='female', Age=50.0, SibSp=0, Parch=0, Ticket='PC 17595', Fare=28.712499618530273, Embarked='C', CabinArray=['C49']), Row(PassengerId=179, Survived=0, Pclass=2, Name='Hale, Mr. Reginald', Sex='male', Age=30.0, SibSp=0, Parch=0, Ticket='250653', Fare=13.0, Embarked='S', CabinArray=None), Row(PassengerId=180, Survived=0, Pclass=3, Name='Leonard, Mr. Lionel', Sex='male', Age=36.0, SibSp=0, Parch=0, Ticket='LINE', Fare=0.0, Embarked='S', CabinArray=None), Row(PassengerId=181, Survived=0, Pclass=3, Name='Sage, Miss. Constance Gladys', Sex='female', Age=None, SibSp=8, Parch=2, Ticket='CA. 2343', Fare=69.55000305175781, Embarked='S', CabinArray=None), Row(PassengerId=182, Survived=0, Pclass=2, Name='Pernot, Mr. Rene', Sex='male', Age=None, SibSp=0, Parch=0, Ticket='SC/PARIS 2131', Fare=15.050000190734863, Embarked='C', CabinArray=None), Row(PassengerId=183, Survived=0, Pclass=3, Name='Asplund, Master. Clarence Gustaf Hugo', Sex='male', Age=9.0, SibSp=4, Parch=2, Ticket='347077', Fare=31.387500762939453, Embarked='S', CabinArray=None), Row(PassengerId=184, Survived=1, Pclass=2, Name='Becker, Master. Richard F', Sex='male', Age=1.0, SibSp=2, Parch=1, Ticket='230136', Fare=39.0, Embarked='S', CabinArray=['F4']), Row(PassengerId=185, Survived=1, Pclass=3, Name='Kink-Heilmann, Miss. Luise Gretchen', Sex='female', Age=4.0, SibSp=0, Parch=2, Ticket='315153', Fare=22.024999618530273, Embarked='S', CabinArray=None), Row(PassengerId=186, Survived=0, Pclass=1, Name='Rood, Mr. Hugh Roscoe', Sex='male', Age=None, SibSp=0, Parch=0, Ticket='113767', Fare=50.0, Embarked='S', CabinArray=['A32']), Row(PassengerId=187, Survived=1, Pclass=3, Name='\"O\\'Brien, Mrs. Thomas (Johanna \"\"Hannah\"\" Godfrey)\"', Sex='female', Age=None, SibSp=1, Parch=0, Ticket='370365', Fare=15.5, Embarked='Q', CabinArray=None), Row(PassengerId=188, Survived=1, Pclass=1, Name='\"Romaine, Mr. Charles Hallace (\"\"Mr C Rolmane\"\")\"', Sex='male', Age=45.0, SibSp=0, Parch=0, Ticket='111428', Fare=26.549999237060547, Embarked='S', CabinArray=None), Row(PassengerId=189, Survived=0, Pclass=3, Name='Bourke, Mr. John', Sex='male', Age=40.0, SibSp=1, Parch=1, Ticket='364849', Fare=15.5, Embarked='Q', CabinArray=None), Row(PassengerId=190, Survived=0, Pclass=3, Name='Turcin, Mr. Stjepan', Sex='male', Age=36.0, SibSp=0, Parch=0, Ticket='349247', Fare=7.8958001136779785, Embarked='S', CabinArray=None), Row(PassengerId=191, Survived=1, Pclass=2, Name='Pinsky, Mrs. (Rosa)', Sex='female', Age=32.0, SibSp=0, Parch=0, Ticket='234604', Fare=13.0, Embarked='S', CabinArray=None), Row(PassengerId=192, Survived=0, Pclass=2, Name='Carbines, Mr. William', Sex='male', Age=19.0, SibSp=0, Parch=0, Ticket='28424', Fare=13.0, Embarked='S', CabinArray=None), Row(PassengerId=193, Survived=1, Pclass=3, Name='Andersen-Jensen, Miss. Carla Christine Nielsine', Sex='female', Age=19.0, SibSp=1, Parch=0, Ticket='350046', Fare=7.8541998863220215, Embarked='S', CabinArray=None), Row(PassengerId=194, Survived=1, Pclass=2, Name='Navratil, Master. Michel M', Sex='male', Age=3.0, SibSp=1, Parch=1, Ticket='230080', Fare=26.0, Embarked='S', CabinArray=['F2']), Row(PassengerId=195, Survived=1, Pclass=1, Name='Brown, Mrs. James Joseph (Margaret Tobin)', Sex='female', Age=44.0, SibSp=0, Parch=0, Ticket='PC 17610', Fare=27.720800399780273, Embarked='C', CabinArray=['B4']), Row(PassengerId=196, Survived=1, Pclass=1, Name='Lurette, Miss. Elise', Sex='female', Age=58.0, SibSp=0, Parch=0, Ticket='PC 17569', Fare=146.5207977294922, Embarked='C', CabinArray=['B80']), Row(PassengerId=197, Survived=0, Pclass=3, Name='Mernagh, Mr. Robert', Sex='male', Age=None, SibSp=0, Parch=0, Ticket='368703', Fare=7.75, Embarked='Q', CabinArray=None), Row(PassengerId=198, Survived=0, Pclass=3, Name='Olsen, Mr. Karl Siegwart Andreas', Sex='male', Age=42.0, SibSp=0, Parch=1, Ticket='4579', Fare=8.404199600219727, Embarked='S', CabinArray=None), Row(PassengerId=199, Survived=1, Pclass=3, Name='\"Madigan, Miss. Margaret \"\"Maggie\"\"\"', Sex='female', Age=None, SibSp=0, Parch=0, Ticket='370370', Fare=7.75, Embarked='Q', CabinArray=None), Row(PassengerId=200, Survived=0, Pclass=2, Name='\"Yrois, Miss. Henriette (\"\"Mrs Harbeck\"\")\"', Sex='female', Age=24.0, SibSp=0, Parch=0, Ticket='248747', Fare=13.0, Embarked='S', CabinArray=None), Row(PassengerId=201, Survived=0, Pclass=3, Name='Vande Walle, Mr. Nestor Cyriel', Sex='male', Age=28.0, SibSp=0, Parch=0, Ticket='345770', Fare=9.5, Embarked='S', CabinArray=None), Row(PassengerId=202, Survived=0, Pclass=3, Name='Sage, Mr. Frederick', Sex='male', Age=None, SibSp=8, Parch=2, Ticket='CA. 2343', Fare=69.55000305175781, Embarked='S', CabinArray=None), Row(PassengerId=203, Survived=0, Pclass=3, Name='Johanson, Mr. Jakob Alfred', Sex='male', Age=34.0, SibSp=0, Parch=0, Ticket='3101264', Fare=6.495800018310547, Embarked='S', CabinArray=None), Row(PassengerId=204, Survived=0, Pclass=3, Name='Youseff, Mr. Gerious', Sex='male', Age=45.5, SibSp=0, Parch=0, Ticket='2628', Fare=7.224999904632568, Embarked='C', CabinArray=None), Row(PassengerId=205, Survived=1, Pclass=3, Name='\"Cohen, Mr. Gurshon \"\"Gus\"\"\"', Sex='male', Age=18.0, SibSp=0, Parch=0, Ticket='A/5 3540', Fare=8.050000190734863, Embarked='S', CabinArray=None), Row(PassengerId=206, Survived=0, Pclass=3, Name='Strom, Miss. Telma Matilda', Sex='female', Age=2.0, SibSp=0, Parch=1, Ticket='347054', Fare=10.462499618530273, Embarked='S', CabinArray=['G6']), Row(PassengerId=207, Survived=0, Pclass=3, Name='Backstrom, Mr. Karl Alfred', Sex='male', Age=32.0, SibSp=1, Parch=0, Ticket='3101278', Fare=15.850000381469727, Embarked='S', CabinArray=None), Row(PassengerId=208, Survived=1, Pclass=3, Name='Albimona, Mr. Nassef Cassem', Sex='male', Age=26.0, SibSp=0, Parch=0, Ticket='2699', Fare=18.787500381469727, Embarked='C', CabinArray=None), Row(PassengerId=209, Survived=1, Pclass=3, Name='\"Carr, Miss. Helen \"\"Ellen\"\"\"', Sex='female', Age=16.0, SibSp=0, Parch=0, Ticket='367231', Fare=7.75, Embarked='Q', CabinArray=None), Row(PassengerId=210, Survived=1, Pclass=1, Name='Blank, Mr. Henry', Sex='male', Age=40.0, SibSp=0, Parch=0, Ticket='112277', Fare=31.0, Embarked='C', CabinArray=['A31']), Row(PassengerId=211, Survived=0, Pclass=3, Name='Ali, Mr. Ahmed', Sex='male', Age=24.0, SibSp=0, Parch=0, Ticket='SOTON/O.Q. 3101311', Fare=7.050000190734863, Embarked='S', CabinArray=None), Row(PassengerId=212, Survived=1, Pclass=2, Name='Cameron, Miss. Clear Annie', Sex='female', Age=35.0, SibSp=0, Parch=0, Ticket='F.C.C. 13528', Fare=21.0, Embarked='S', CabinArray=None), Row(PassengerId=213, Survived=0, Pclass=3, Name='Perkin, Mr. John Henry', Sex='male', Age=22.0, SibSp=0, Parch=0, Ticket='A/5 21174', Fare=7.25, Embarked='S', CabinArray=None), Row(PassengerId=214, Survived=0, Pclass=2, Name='Givard, Mr. Hans Kristensen', Sex='male', Age=30.0, SibSp=0, Parch=0, Ticket='250646', Fare=13.0, Embarked='S', CabinArray=None), Row(PassengerId=215, Survived=0, Pclass=3, Name='Kiernan, Mr. Philip', Sex='male', Age=None, SibSp=1, Parch=0, Ticket='367229', Fare=7.75, Embarked='Q', CabinArray=None), Row(PassengerId=216, Survived=1, Pclass=1, Name='Newell, Miss. Madeleine', Sex='female', Age=31.0, SibSp=1, Parch=0, Ticket='35273', Fare=113.2750015258789, Embarked='C', CabinArray=['D36']), Row(PassengerId=217, Survived=1, Pclass=3, Name='Honkanen, Miss. Eliina', Sex='female', Age=27.0, SibSp=0, Parch=0, Ticket='STON/O2. 3101283', Fare=7.925000190734863, Embarked='S', CabinArray=None), Row(PassengerId=218, Survived=0, Pclass=2, Name='Jacobsohn, Mr. Sidney Samuel', Sex='male', Age=42.0, SibSp=1, Parch=0, Ticket='243847', Fare=27.0, Embarked='S', CabinArray=None), Row(PassengerId=219, Survived=1, Pclass=1, Name='Bazzani, Miss. Albina', Sex='female', Age=32.0, SibSp=0, Parch=0, Ticket='11813', Fare=76.29170227050781, Embarked='C', CabinArray=['D15']), Row(PassengerId=220, Survived=0, Pclass=2, Name='Harris, Mr. Walter', Sex='male', Age=30.0, SibSp=0, Parch=0, Ticket='W/C 14208', Fare=10.5, Embarked='S', CabinArray=None), Row(PassengerId=221, Survived=1, Pclass=3, Name='Sunderland, Mr. Victor Francis', Sex='male', Age=16.0, SibSp=0, Parch=0, Ticket='SOTON/OQ 392089', Fare=8.050000190734863, Embarked='S', CabinArray=None), Row(PassengerId=222, Survived=0, Pclass=2, Name='Bracken, Mr. James H', Sex='male', Age=27.0, SibSp=0, Parch=0, Ticket='220367', Fare=13.0, Embarked='S', CabinArray=None), Row(PassengerId=223, Survived=0, Pclass=3, Name='Green, Mr. George Henry', Sex='male', Age=51.0, SibSp=0, Parch=0, Ticket='21440', Fare=8.050000190734863, Embarked='S', CabinArray=None), Row(PassengerId=224, Survived=0, Pclass=3, Name='Nenkoff, Mr. Christo', Sex='male', Age=None, SibSp=0, Parch=0, Ticket='349234', Fare=7.8958001136779785, Embarked='S', CabinArray=None), Row(PassengerId=225, Survived=1, Pclass=1, Name='Hoyt, Mr. Frederick Maxfield', Sex='male', Age=38.0, SibSp=1, Parch=0, Ticket='19943', Fare=90.0, Embarked='S', CabinArray=['C93']), Row(PassengerId=226, Survived=0, Pclass=3, Name='Berglund, Mr. Karl Ivar Sven', Sex='male', Age=22.0, SibSp=0, Parch=0, Ticket='PP 4348', Fare=9.350000381469727, Embarked='S', CabinArray=None), Row(PassengerId=227, Survived=1, Pclass=2, Name='Mellors, Mr. William John', Sex='male', Age=19.0, SibSp=0, Parch=0, Ticket='SW/PP 751', Fare=10.5, Embarked='S', CabinArray=None), Row(PassengerId=228, Survived=0, Pclass=3, Name='\"Lovell, Mr. John Hall (\"\"Henry\"\")\"', Sex='male', Age=20.5, SibSp=0, Parch=0, Ticket='A/5 21173', Fare=7.25, Embarked='S', CabinArray=None), Row(PassengerId=229, Survived=0, Pclass=2, Name='Fahlstrom, Mr. Arne Jonas', Sex='male', Age=18.0, SibSp=0, Parch=0, Ticket='236171', Fare=13.0, Embarked='S', CabinArray=None), Row(PassengerId=230, Survived=0, Pclass=3, Name='Lefebre, Miss. Mathilde', Sex='female', Age=None, SibSp=3, Parch=1, Ticket='4133', Fare=25.466699600219727, Embarked='S', CabinArray=None), Row(PassengerId=231, Survived=1, Pclass=1, Name='Harris, Mrs. Henry Birkhardt (Irene Wallach)', Sex='female', Age=35.0, SibSp=1, Parch=0, Ticket='36973', Fare=83.4749984741211, Embarked='S', CabinArray=['C83']), Row(PassengerId=232, Survived=0, Pclass=3, Name='Larsson, Mr. Bengt Edvin', Sex='male', Age=29.0, SibSp=0, Parch=0, Ticket='347067', Fare=7.775000095367432, Embarked='S', CabinArray=None), Row(PassengerId=233, Survived=0, Pclass=2, Name='Sjostedt, Mr. Ernst Adolf', Sex='male', Age=59.0, SibSp=0, Parch=0, Ticket='237442', Fare=13.5, Embarked='S', CabinArray=None), Row(PassengerId=234, Survived=1, Pclass=3, Name='Asplund, Miss. Lillian Gertrud', Sex='female', Age=5.0, SibSp=4, Parch=2, Ticket='347077', Fare=31.387500762939453, Embarked='S', CabinArray=None), Row(PassengerId=235, Survived=0, Pclass=2, Name='Leyson, Mr. Robert William Norman', Sex='male', Age=24.0, SibSp=0, Parch=0, Ticket='C.A. 29566', Fare=10.5, Embarked='S', CabinArray=None), Row(PassengerId=236, Survived=0, Pclass=3, Name='Harknett, Miss. Alice Phoebe', Sex='female', Age=None, SibSp=0, Parch=0, Ticket='W./C. 6609', Fare=7.550000190734863, Embarked='S', CabinArray=None), Row(PassengerId=237, Survived=0, Pclass=2, Name='Hold, Mr. Stephen', Sex='male', Age=44.0, SibSp=1, Parch=0, Ticket='26707', Fare=26.0, Embarked='S', CabinArray=None), Row(PassengerId=238, Survived=1, Pclass=2, Name='\"Collyer, Miss. Marjorie \"\"Lottie\"\"\"', Sex='female', Age=8.0, SibSp=0, Parch=2, Ticket='C.A. 31921', Fare=26.25, Embarked='S', CabinArray=None), Row(PassengerId=239, Survived=0, Pclass=2, Name='Pengelly, Mr. Frederick William', Sex='male', Age=19.0, SibSp=0, Parch=0, Ticket='28665', Fare=10.5, Embarked='S', CabinArray=None), Row(PassengerId=240, Survived=0, Pclass=2, Name='Hunt, Mr. George Henry', Sex='male', Age=33.0, SibSp=0, Parch=0, Ticket='SCO/W 1585', Fare=12.274999618530273, Embarked='S', CabinArray=None), Row(PassengerId=241, Survived=0, Pclass=3, Name='Zabour, Miss. Thamine', Sex='female', Age=None, SibSp=1, Parch=0, Ticket='2665', Fare=14.45419979095459, Embarked='C', CabinArray=None), Row(PassengerId=242, Survived=1, Pclass=3, Name='\"Murphy, Miss. Katherine \"\"Kate\"\"\"', Sex='female', Age=None, SibSp=1, Parch=0, Ticket='367230', Fare=15.5, Embarked='Q', CabinArray=None), Row(PassengerId=243, Survived=0, Pclass=2, Name='Coleridge, Mr. Reginald Charles', Sex='male', Age=29.0, SibSp=0, Parch=0, Ticket='W./C. 14263', Fare=10.5, Embarked='S', CabinArray=None), Row(PassengerId=244, Survived=0, Pclass=3, Name='Maenpaa, Mr. Matti Alexanteri', Sex='male', Age=22.0, SibSp=0, Parch=0, Ticket='STON/O 2. 3101275', Fare=7.125, Embarked='S', CabinArray=None), Row(PassengerId=245, Survived=0, Pclass=3, Name='Attalah, Mr. Sleiman', Sex='male', Age=30.0, SibSp=0, Parch=0, Ticket='2694', Fare=7.224999904632568, Embarked='C', CabinArray=None), Row(PassengerId=246, Survived=0, Pclass=1, Name='Minahan, Dr. William Edward', Sex='male', Age=44.0, SibSp=2, Parch=0, Ticket='19928', Fare=90.0, Embarked='Q', CabinArray=['C78']), Row(PassengerId=247, Survived=0, Pclass=3, Name='Lindahl, Miss. Agda Thorilda Viktoria', Sex='female', Age=25.0, SibSp=0, Parch=0, Ticket='347071', Fare=7.775000095367432, Embarked='S', CabinArray=None), Row(PassengerId=248, Survived=1, Pclass=2, Name='Hamalainen, Mrs. William (Anna)', Sex='female', Age=24.0, SibSp=0, Parch=2, Ticket='250649', Fare=14.5, Embarked='S', CabinArray=None), Row(PassengerId=249, Survived=1, Pclass=1, Name='Beckwith, Mr. Richard Leonard', Sex='male', Age=37.0, SibSp=1, Parch=1, Ticket='11751', Fare=52.55419921875, Embarked='S', CabinArray=['D35']), Row(PassengerId=250, Survived=0, Pclass=2, Name='Carter, Rev. Ernest Courtenay', Sex='male', Age=54.0, SibSp=1, Parch=0, Ticket='244252', Fare=26.0, Embarked='S', CabinArray=None), Row(PassengerId=251, Survived=0, Pclass=3, Name='Reed, Mr. James George', Sex='male', Age=None, SibSp=0, Parch=0, Ticket='362316', Fare=7.25, Embarked='S', CabinArray=None), Row(PassengerId=252, Survived=0, Pclass=3, Name='Strom, Mrs. Wilhelm (Elna Matilda Persson)', Sex='female', Age=29.0, SibSp=1, Parch=1, Ticket='347054', Fare=10.462499618530273, Embarked='S', CabinArray=['G6']), Row(PassengerId=253, Survived=0, Pclass=1, Name='Stead, Mr. William Thomas', Sex='male', Age=62.0, SibSp=0, Parch=0, Ticket='113514', Fare=26.549999237060547, Embarked='S', CabinArray=['C87']), Row(PassengerId=254, Survived=0, Pclass=3, Name='Lobb, Mr. William Arthur', Sex='male', Age=30.0, SibSp=1, Parch=0, Ticket='A/5. 3336', Fare=16.100000381469727, Embarked='S', CabinArray=None), Row(PassengerId=255, Survived=0, Pclass=3, Name='Rosblom, Mrs. Viktor (Helena Wilhelmina)', Sex='female', Age=41.0, SibSp=0, Parch=2, Ticket='370129', Fare=20.212499618530273, Embarked='S', CabinArray=None), Row(PassengerId=256, Survived=1, Pclass=3, Name='Touma, Mrs. Darwis (Hanne Youssef Razi)', Sex='female', Age=29.0, SibSp=0, Parch=2, Ticket='2650', Fare=15.245800018310547, Embarked='C', CabinArray=None), Row(PassengerId=257, Survived=1, Pclass=1, Name='Thorne, Mrs. Gertrude Maybelle', Sex='female', Age=None, SibSp=0, Parch=0, Ticket='PC 17585', Fare=79.19999694824219, Embarked='C', CabinArray=None), Row(PassengerId=258, Survived=1, Pclass=1, Name='Cherry, Miss. Gladys', Sex='female', Age=30.0, SibSp=0, Parch=0, Ticket='110152', Fare=86.5, Embarked='S', CabinArray=['B77']), Row(PassengerId=259, Survived=1, Pclass=1, Name='Ward, Miss. Anna', Sex='female', Age=35.0, SibSp=0, Parch=0, Ticket='PC 17755', Fare=512.3292236328125, Embarked='C', CabinArray=None), Row(PassengerId=260, Survived=1, Pclass=2, Name='Parrish, Mrs. (Lutie Davis)', Sex='female', Age=50.0, SibSp=0, Parch=1, Ticket='230433', Fare=26.0, Embarked='S', CabinArray=None), Row(PassengerId=261, Survived=0, Pclass=3, Name='Smith, Mr. Thomas', Sex='male', Age=None, SibSp=0, Parch=0, Ticket='384461', Fare=7.75, Embarked='Q', CabinArray=None), Row(PassengerId=262, Survived=1, Pclass=3, Name='Asplund, Master. Edvin Rojj Felix', Sex='male', Age=3.0, SibSp=4, Parch=2, Ticket='347077', Fare=31.387500762939453, Embarked='S', CabinArray=None), Row(PassengerId=263, Survived=0, Pclass=1, Name='Taussig, Mr. Emil', Sex='male', Age=52.0, SibSp=1, Parch=1, Ticket='110413', Fare=79.6500015258789, Embarked='S', CabinArray=['E67']), Row(PassengerId=264, Survived=0, Pclass=1, Name='Harrison, Mr. William', Sex='male', Age=40.0, SibSp=0, Parch=0, Ticket='112059', Fare=0.0, Embarked='S', CabinArray=['B94']), Row(PassengerId=265, Survived=0, Pclass=3, Name='Henry, Miss. Delia', Sex='female', Age=None, SibSp=0, Parch=0, Ticket='382649', Fare=7.75, Embarked='Q', CabinArray=None), Row(PassengerId=266, Survived=0, Pclass=2, Name='Reeves, Mr. David', Sex='male', Age=36.0, SibSp=0, Parch=0, Ticket='C.A. 17248', Fare=10.5, Embarked='S', CabinArray=None), Row(PassengerId=267, Survived=0, Pclass=3, Name='Panula, Mr. Ernesti Arvid', Sex='male', Age=16.0, SibSp=4, Parch=1, Ticket='3101295', Fare=39.6875, Embarked='S', CabinArray=None), Row(PassengerId=268, Survived=1, Pclass=3, Name='Persson, Mr. Ernst Ulrik', Sex='male', Age=25.0, SibSp=1, Parch=0, Ticket='347083', Fare=7.775000095367432, Embarked='S', CabinArray=None), Row(PassengerId=269, Survived=1, Pclass=1, Name='Graham, Mrs. William Thompson (Edith Junkins)', Sex='female', Age=58.0, SibSp=0, Parch=1, Ticket='PC 17582', Fare=153.46249389648438, Embarked='S', CabinArray=['C125']), Row(PassengerId=270, Survived=1, Pclass=1, Name='Bissette, Miss. Amelia', Sex='female', Age=35.0, SibSp=0, Parch=0, Ticket='PC 17760', Fare=135.63330078125, Embarked='S', CabinArray=['C99']), Row(PassengerId=271, Survived=0, Pclass=1, Name='Cairns, Mr. Alexander', Sex='male', Age=None, SibSp=0, Parch=0, Ticket='113798', Fare=31.0, Embarked='S', CabinArray=None), Row(PassengerId=272, Survived=1, Pclass=3, Name='Tornquist, Mr. William Henry', Sex='male', Age=25.0, SibSp=0, Parch=0, Ticket='LINE', Fare=0.0, Embarked='S', CabinArray=None), Row(PassengerId=273, Survived=1, Pclass=2, Name='Mellinger, Mrs. (Elizabeth Anne Maidment)', Sex='female', Age=41.0, SibSp=0, Parch=1, Ticket='250644', Fare=19.5, Embarked='S', CabinArray=None), Row(PassengerId=274, Survived=0, Pclass=1, Name='Natsch, Mr. Charles H', Sex='male', Age=37.0, SibSp=0, Parch=1, Ticket='PC 17596', Fare=29.700000762939453, Embarked='C', CabinArray=['C118']), Row(PassengerId=275, Survived=1, Pclass=3, Name='\"Healy, Miss. Hanora \"\"Nora\"\"\"', Sex='female', Age=None, SibSp=0, Parch=0, Ticket='370375', Fare=7.75, Embarked='Q', CabinArray=None), Row(PassengerId=276, Survived=1, Pclass=1, Name='Andrews, Miss. Kornelia Theodosia', Sex='female', Age=63.0, SibSp=1, Parch=0, Ticket='13502', Fare=77.95829772949219, Embarked='S', CabinArray=['D7']), Row(PassengerId=277, Survived=0, Pclass=3, Name='Lindblom, Miss. Augusta Charlotta', Sex='female', Age=45.0, SibSp=0, Parch=0, Ticket='347073', Fare=7.75, Embarked='S', CabinArray=None), Row(PassengerId=278, Survived=0, Pclass=2, Name='\"Parkes, Mr. Francis \"\"Frank\"\"\"', Sex='male', Age=None, SibSp=0, Parch=0, Ticket='239853', Fare=0.0, Embarked='S', CabinArray=None), Row(PassengerId=279, Survived=0, Pclass=3, Name='Rice, Master. Eric', Sex='male', Age=7.0, SibSp=4, Parch=1, Ticket='382652', Fare=29.125, Embarked='Q', CabinArray=None), Row(PassengerId=280, Survived=1, Pclass=3, Name='Abbott, Mrs. Stanton (Rosa Hunt)', Sex='female', Age=35.0, SibSp=1, Parch=1, Ticket='C.A. 2673', Fare=20.25, Embarked='S', CabinArray=None), Row(PassengerId=281, Survived=0, Pclass=3, Name='Duane, Mr. Frank', Sex='male', Age=65.0, SibSp=0, Parch=0, Ticket='336439', Fare=7.75, Embarked='Q', CabinArray=None), Row(PassengerId=282, Survived=0, Pclass=3, Name='Olsson, Mr. Nils Johan Goransson', Sex='male', Age=28.0, SibSp=0, Parch=0, Ticket='347464', Fare=7.8541998863220215, Embarked='S', CabinArray=None), Row(PassengerId=283, Survived=0, Pclass=3, Name='de Pelsmaeker, Mr. Alfons', Sex='male', Age=16.0, SibSp=0, Parch=0, Ticket='345778', Fare=9.5, Embarked='S', CabinArray=None), Row(PassengerId=284, Survived=1, Pclass=3, Name='Dorking, Mr. Edward Arthur', Sex='male', Age=19.0, SibSp=0, Parch=0, Ticket='A/5. 10482', Fare=8.050000190734863, Embarked='S', CabinArray=None), Row(PassengerId=285, Survived=0, Pclass=1, Name='Smith, Mr. Richard William', Sex='male', Age=None, SibSp=0, Parch=0, Ticket='113056', Fare=26.0, Embarked='S', CabinArray=['A19']), Row(PassengerId=286, Survived=0, Pclass=3, Name='Stankovic, Mr. Ivan', Sex='male', Age=33.0, SibSp=0, Parch=0, Ticket='349239', Fare=8.662500381469727, Embarked='C', CabinArray=None), Row(PassengerId=287, Survived=1, Pclass=3, Name='de Mulder, Mr. Theodore', Sex='male', Age=30.0, SibSp=0, Parch=0, Ticket='345774', Fare=9.5, Embarked='S', CabinArray=None), Row(PassengerId=288, Survived=0, Pclass=3, Name='Naidenoff, Mr. Penko', Sex='male', Age=22.0, SibSp=0, Parch=0, Ticket='349206', Fare=7.8958001136779785, Embarked='S', CabinArray=None), Row(PassengerId=289, Survived=1, Pclass=2, Name='Hosono, Mr. Masabumi', Sex='male', Age=42.0, SibSp=0, Parch=0, Ticket='237798', Fare=13.0, Embarked='S', CabinArray=None), Row(PassengerId=290, Survived=1, Pclass=3, Name='Connolly, Miss. Kate', Sex='female', Age=22.0, SibSp=0, Parch=0, Ticket='370373', Fare=7.75, Embarked='Q', CabinArray=None), Row(PassengerId=291, Survived=1, Pclass=1, Name='\"Barber, Miss. Ellen \"\"Nellie\"\"\"', Sex='female', Age=26.0, SibSp=0, Parch=0, Ticket='19877', Fare=78.8499984741211, Embarked='S', CabinArray=None), Row(PassengerId=292, Survived=1, Pclass=1, Name='Bishop, Mrs. Dickinson H (Helen Walton)', Sex='female', Age=19.0, SibSp=1, Parch=0, Ticket='11967', Fare=91.0792007446289, Embarked='C', CabinArray=['B49']), Row(PassengerId=293, Survived=0, Pclass=2, Name='Levy, Mr. Rene Jacques', Sex='male', Age=36.0, SibSp=0, Parch=0, Ticket='SC/Paris 2163', Fare=12.875, Embarked='C', CabinArray=['D']), Row(PassengerId=294, Survived=0, Pclass=3, Name='Haas, Miss. Aloisia', Sex='female', Age=24.0, SibSp=0, Parch=0, Ticket='349236', Fare=8.850000381469727, Embarked='S', CabinArray=None), Row(PassengerId=295, Survived=0, Pclass=3, Name='Mineff, Mr. Ivan', Sex='male', Age=24.0, SibSp=0, Parch=0, Ticket='349233', Fare=7.8958001136779785, Embarked='S', CabinArray=None), Row(PassengerId=296, Survived=0, Pclass=1, Name='Lewy, Mr. Ervin G', Sex='male', Age=None, SibSp=0, Parch=0, Ticket='PC 17612', Fare=27.720800399780273, Embarked='C', CabinArray=None), Row(PassengerId=297, Survived=0, Pclass=3, Name='Hanna, Mr. Mansour', Sex='male', Age=23.5, SibSp=0, Parch=0, Ticket='2693', Fare=7.2291998863220215, Embarked='C', CabinArray=None), Row(PassengerId=298, Survived=0, Pclass=1, Name='Allison, Miss. Helen Loraine', Sex='female', Age=2.0, SibSp=1, Parch=2, Ticket='113781', Fare=151.5500030517578, Embarked='S', CabinArray=['C22 C26']), Row(PassengerId=299, Survived=1, Pclass=1, Name='Saalfeld, Mr. Adolphe', Sex='male', Age=None, SibSp=0, Parch=0, Ticket='19988', Fare=30.5, Embarked='S', CabinArray=['C106']), Row(PassengerId=300, Survived=1, Pclass=1, Name='Baxter, Mrs. James (Helene DeLaudeniere Chaput)', Sex='female', Age=50.0, SibSp=0, Parch=1, Ticket='PC 17558', Fare=247.5207977294922, Embarked='C', CabinArray=['B58 B60']), Row(PassengerId=301, Survived=1, Pclass=3, Name='\"Kelly, Miss. Anna Katherine \"\"Annie Kate\"\"\"', Sex='female', Age=None, SibSp=0, Parch=0, Ticket='9234', Fare=7.75, Embarked='Q', CabinArray=None), Row(PassengerId=302, Survived=1, Pclass=3, Name='McCoy, Mr. Bernard', Sex='male', Age=None, SibSp=2, Parch=0, Ticket='367226', Fare=23.25, Embarked='Q', CabinArray=None), Row(PassengerId=303, Survived=0, Pclass=3, Name='Johnson, Mr. William Cahoone Jr', Sex='male', Age=19.0, SibSp=0, Parch=0, Ticket='LINE', Fare=0.0, Embarked='S', CabinArray=None), Row(PassengerId=304, Survived=1, Pclass=2, Name='Keane, Miss. Nora A', Sex='female', Age=None, SibSp=0, Parch=0, Ticket='226593', Fare=12.350000381469727, Embarked='Q', CabinArray=['E101']), Row(PassengerId=305, Survived=0, Pclass=3, Name='\"Williams, Mr. Howard Hugh \"\"Harry\"\"\"', Sex='male', Age=None, SibSp=0, Parch=0, Ticket='A/5 2466', Fare=8.050000190734863, Embarked='S', CabinArray=None), Row(PassengerId=306, Survived=1, Pclass=1, Name='Allison, Master. Hudson Trevor', Sex='male', Age=0.9200000166893005, SibSp=1, Parch=2, Ticket='113781', Fare=151.5500030517578, Embarked='S', CabinArray=['C22 C26']), Row(PassengerId=307, Survived=1, Pclass=1, Name='Fleming, Miss. Margaret', Sex='female', Age=None, SibSp=0, Parch=0, Ticket='17421', Fare=110.88330078125, Embarked='C', CabinArray=None), Row(PassengerId=308, Survived=1, Pclass=1, Name='Penasco y Castellana, Mrs. Victor de Satode (Maria Josefa Perez de Soto y Vallejo)', Sex='female', Age=17.0, SibSp=1, Parch=0, Ticket='PC 17758', Fare=108.9000015258789, Embarked='C', CabinArray=['C65']), Row(PassengerId=309, Survived=0, Pclass=2, Name='Abelson, Mr. Samuel', Sex='male', Age=30.0, SibSp=1, Parch=0, Ticket='P/PP 3381', Fare=24.0, Embarked='C', CabinArray=None), Row(PassengerId=310, Survived=1, Pclass=1, Name='Francatelli, Miss. Laura Mabel', Sex='female', Age=30.0, SibSp=0, Parch=0, Ticket='PC 17485', Fare=56.92919921875, Embarked='C', CabinArray=['E36']), Row(PassengerId=311, Survived=1, Pclass=1, Name='Hays, Miss. Margaret Bechstein', Sex='female', Age=24.0, SibSp=0, Parch=0, Ticket='11767', Fare=83.1583023071289, Embarked='C', CabinArray=['C54']), Row(PassengerId=312, Survived=1, Pclass=1, Name='Ryerson, Miss. Emily Borie', Sex='female', Age=18.0, SibSp=2, Parch=2, Ticket='PC 17608', Fare=262.375, Embarked='C', CabinArray=['B57 B59 B63 B66']), Row(PassengerId=313, Survived=0, Pclass=2, Name='Lahtinen, Mrs. William (Anna Sylfven)', Sex='female', Age=26.0, SibSp=1, Parch=1, Ticket='250651', Fare=26.0, Embarked='S', CabinArray=None), Row(PassengerId=314, Survived=0, Pclass=3, Name='Hendekovic, Mr. Ignjac', Sex='male', Age=28.0, SibSp=0, Parch=0, Ticket='349243', Fare=7.8958001136779785, Embarked='S', CabinArray=None), Row(PassengerId=315, Survived=0, Pclass=2, Name='Hart, Mr. Benjamin', Sex='male', Age=43.0, SibSp=1, Parch=1, Ticket='F.C.C. 13529', Fare=26.25, Embarked='S', CabinArray=None), Row(PassengerId=316, Survived=1, Pclass=3, Name='Nilsson, Miss. Helmina Josefina', Sex='female', Age=26.0, SibSp=0, Parch=0, Ticket='347470', Fare=7.8541998863220215, Embarked='S', CabinArray=None), Row(PassengerId=317, Survived=1, Pclass=2, Name='Kantor, Mrs. Sinai (Miriam Sternin)', Sex='female', Age=24.0, SibSp=1, Parch=0, Ticket='244367', Fare=26.0, Embarked='S', CabinArray=None), Row(PassengerId=318, Survived=0, Pclass=2, Name='Moraweck, Dr. Ernest', Sex='male', Age=54.0, SibSp=0, Parch=0, Ticket='29011', Fare=14.0, Embarked='S', CabinArray=None), Row(PassengerId=319, Survived=1, Pclass=1, Name='Wick, Miss. Mary Natalie', Sex='female', Age=31.0, SibSp=0, Parch=2, Ticket='36928', Fare=164.86669921875, Embarked='S', CabinArray=['C7']), Row(PassengerId=320, Survived=1, Pclass=1, Name='Spedden, Mrs. Frederic Oakley (Margaretta Corning Stone)', Sex='female', Age=40.0, SibSp=1, Parch=1, Ticket='16966', Fare=134.5, Embarked='C', CabinArray=['E34']), Row(PassengerId=321, Survived=0, Pclass=3, Name='Dennis, Mr. Samuel', Sex='male', Age=22.0, SibSp=0, Parch=0, Ticket='A/5 21172', Fare=7.25, Embarked='S', CabinArray=None), Row(PassengerId=322, Survived=0, Pclass=3, Name='Danoff, Mr. Yoto', Sex='male', Age=27.0, SibSp=0, Parch=0, Ticket='349219', Fare=7.8958001136779785, Embarked='S', CabinArray=None), Row(PassengerId=323, Survived=1, Pclass=2, Name='Slayter, Miss. Hilda Mary', Sex='female', Age=30.0, SibSp=0, Parch=0, Ticket='234818', Fare=12.350000381469727, Embarked='Q', CabinArray=None), Row(PassengerId=324, Survived=1, Pclass=2, Name='Caldwell, Mrs. Albert Francis (Sylvia Mae Harbaugh)', Sex='female', Age=22.0, SibSp=1, Parch=1, Ticket='248738', Fare=29.0, Embarked='S', CabinArray=None), Row(PassengerId=325, Survived=0, Pclass=3, Name='Sage, Mr. George John Jr', Sex='male', Age=None, SibSp=8, Parch=2, Ticket='CA. 2343', Fare=69.55000305175781, Embarked='S', CabinArray=None), Row(PassengerId=326, Survived=1, Pclass=1, Name='Young, Miss. Marie Grice', Sex='female', Age=36.0, SibSp=0, Parch=0, Ticket='PC 17760', Fare=135.63330078125, Embarked='C', CabinArray=['C32']), Row(PassengerId=327, Survived=0, Pclass=3, Name='Nysveen, Mr. Johan Hansen', Sex='male', Age=61.0, SibSp=0, Parch=0, Ticket='345364', Fare=6.237500190734863, Embarked='S', CabinArray=None), Row(PassengerId=328, Survived=1, Pclass=2, Name='Ball, Mrs. (Ada E Hall)', Sex='female', Age=36.0, SibSp=0, Parch=0, Ticket='28551', Fare=13.0, Embarked='S', CabinArray=['D']), Row(PassengerId=329, Survived=1, Pclass=3, Name='Goldsmith, Mrs. Frank John (Emily Alice Brown)', Sex='female', Age=31.0, SibSp=1, Parch=1, Ticket='363291', Fare=20.524999618530273, Embarked='S', CabinArray=None), Row(PassengerId=330, Survived=1, Pclass=1, Name='Hippach, Miss. Jean Gertrude', Sex='female', Age=16.0, SibSp=0, Parch=1, Ticket='111361', Fare=57.97919845581055, Embarked='C', CabinArray=['B18']), Row(PassengerId=331, Survived=1, Pclass=3, Name='McCoy, Miss. Agnes', Sex='female', Age=None, SibSp=2, Parch=0, Ticket='367226', Fare=23.25, Embarked='Q', CabinArray=None), Row(PassengerId=332, Survived=0, Pclass=1, Name='Partner, Mr. Austen', Sex='male', Age=45.5, SibSp=0, Parch=0, Ticket='113043', Fare=28.5, Embarked='S', CabinArray=['C124']), Row(PassengerId=333, Survived=0, Pclass=1, Name='Graham, Mr. George Edward', Sex='male', Age=38.0, SibSp=0, Parch=1, Ticket='PC 17582', Fare=153.46249389648438, Embarked='S', CabinArray=['C91']), Row(PassengerId=334, Survived=0, Pclass=3, Name='Vander Planke, Mr. Leo Edmondus', Sex='male', Age=16.0, SibSp=2, Parch=0, Ticket='345764', Fare=18.0, Embarked='S', CabinArray=None), Row(PassengerId=335, Survived=1, Pclass=1, Name='Frauenthal, Mrs. Henry William (Clara Heinsheimer)', Sex='female', Age=None, SibSp=1, Parch=0, Ticket='PC 17611', Fare=133.64999389648438, Embarked='S', CabinArray=None), Row(PassengerId=336, Survived=0, Pclass=3, Name='Denkoff, Mr. Mitto', Sex='male', Age=None, SibSp=0, Parch=0, Ticket='349225', Fare=7.8958001136779785, Embarked='S', CabinArray=None), Row(PassengerId=337, Survived=0, Pclass=1, Name='Pears, Mr. Thomas Clinton', Sex='male', Age=29.0, SibSp=1, Parch=0, Ticket='113776', Fare=66.5999984741211, Embarked='S', CabinArray=['C2']), Row(PassengerId=338, Survived=1, Pclass=1, Name='Burns, Miss. Elizabeth Margaret', Sex='female', Age=41.0, SibSp=0, Parch=0, Ticket='16966', Fare=134.5, Embarked='C', CabinArray=['E40']), Row(PassengerId=339, Survived=1, Pclass=3, Name='Dahl, Mr. Karl Edwart', Sex='male', Age=45.0, SibSp=0, Parch=0, Ticket='7598', Fare=8.050000190734863, Embarked='S', CabinArray=None), Row(PassengerId=340, Survived=0, Pclass=1, Name='Blackwell, Mr. Stephen Weart', Sex='male', Age=45.0, SibSp=0, Parch=0, Ticket='113784', Fare=35.5, Embarked='S', CabinArray=['T']), Row(PassengerId=341, Survived=1, Pclass=2, Name='Navratil, Master. Edmond Roger', Sex='male', Age=2.0, SibSp=1, Parch=1, Ticket='230080', Fare=26.0, Embarked='S', CabinArray=['F2']), Row(PassengerId=342, Survived=1, Pclass=1, Name='Fortune, Miss. Alice Elizabeth', Sex='female', Age=24.0, SibSp=3, Parch=2, Ticket='19950', Fare=263.0, Embarked='S', CabinArray=['C23 C25 C27']), Row(PassengerId=343, Survived=0, Pclass=2, Name='Collander, Mr. Erik Gustaf', Sex='male', Age=28.0, SibSp=0, Parch=0, Ticket='248740', Fare=13.0, Embarked='S', CabinArray=None), Row(PassengerId=344, Survived=0, Pclass=2, Name='Sedgwick, Mr. Charles Frederick Waddington', Sex='male', Age=25.0, SibSp=0, Parch=0, Ticket='244361', Fare=13.0, Embarked='S', CabinArray=None), Row(PassengerId=345, Survived=0, Pclass=2, Name='Fox, Mr. Stanley Hubert', Sex='male', Age=36.0, SibSp=0, Parch=0, Ticket='229236', Fare=13.0, Embarked='S', CabinArray=None), Row(PassengerId=346, Survived=1, Pclass=2, Name='\"Brown, Miss. Amelia \"\"Mildred\"\"\"', Sex='female', Age=24.0, SibSp=0, Parch=0, Ticket='248733', Fare=13.0, Embarked='S', CabinArray=['F33']), Row(PassengerId=347, Survived=1, Pclass=2, Name='Smith, Miss. Marion Elsie', Sex='female', Age=40.0, SibSp=0, Parch=0, Ticket='31418', Fare=13.0, Embarked='S', CabinArray=None), Row(PassengerId=348, Survived=1, Pclass=3, Name='Davison, Mrs. Thomas Henry (Mary E Finck)', Sex='female', Age=None, SibSp=1, Parch=0, Ticket='386525', Fare=16.100000381469727, Embarked='S', CabinArray=None), Row(PassengerId=349, Survived=1, Pclass=3, Name='\"Coutts, Master. William Loch \"\"William\"\"\"', Sex='male', Age=3.0, SibSp=1, Parch=1, Ticket='C.A. 37671', Fare=15.899999618530273, Embarked='S', CabinArray=None), Row(PassengerId=350, Survived=0, Pclass=3, Name='Dimic, Mr. Jovan', Sex='male', Age=42.0, SibSp=0, Parch=0, Ticket='315088', Fare=8.662500381469727, Embarked='S', CabinArray=None), Row(PassengerId=351, Survived=0, Pclass=3, Name='Odahl, Mr. Nils Martin', Sex='male', Age=23.0, SibSp=0, Parch=0, Ticket='7267', Fare=9.225000381469727, Embarked='S', CabinArray=None), Row(PassengerId=352, Survived=0, Pclass=1, Name='Williams-Lambert, Mr. Fletcher Fellows', Sex='male', Age=None, SibSp=0, Parch=0, Ticket='113510', Fare=35.0, Embarked='S', CabinArray=['C128']), Row(PassengerId=353, Survived=0, Pclass=3, Name='Elias, Mr. Tannous', Sex='male', Age=15.0, SibSp=1, Parch=1, Ticket='2695', Fare=7.2291998863220215, Embarked='C', CabinArray=None), Row(PassengerId=354, Survived=0, Pclass=3, Name='Arnold-Franchi, Mr. Josef', Sex='male', Age=25.0, SibSp=1, Parch=0, Ticket='349237', Fare=17.799999237060547, Embarked='S', CabinArray=None), Row(PassengerId=355, Survived=0, Pclass=3, Name='Yousif, Mr. Wazli', Sex='male', Age=None, SibSp=0, Parch=0, Ticket='2647', Fare=7.224999904632568, Embarked='C', CabinArray=None), Row(PassengerId=356, Survived=0, Pclass=3, Name='Vanden Steen, Mr. Leo Peter', Sex='male', Age=28.0, SibSp=0, Parch=0, Ticket='345783', Fare=9.5, Embarked='S', CabinArray=None), Row(PassengerId=357, Survived=1, Pclass=1, Name='Bowerman, Miss. Elsie Edith', Sex='female', Age=22.0, SibSp=0, Parch=1, Ticket='113505', Fare=55.0, Embarked='S', CabinArray=['E33']), Row(PassengerId=358, Survived=0, Pclass=2, Name='Funk, Miss. Annie Clemmer', Sex='female', Age=38.0, SibSp=0, Parch=0, Ticket='237671', Fare=13.0, Embarked='S', CabinArray=None), Row(PassengerId=359, Survived=1, Pclass=3, Name='McGovern, Miss. Mary', Sex='female', Age=None, SibSp=0, Parch=0, Ticket='330931', Fare=7.879199981689453, Embarked='Q', CabinArray=None), Row(PassengerId=360, Survived=1, Pclass=3, Name='\"Mockler, Miss. Helen Mary \"\"Ellie\"\"\"', Sex='female', Age=None, SibSp=0, Parch=0, Ticket='330980', Fare=7.879199981689453, Embarked='Q', CabinArray=None), Row(PassengerId=361, Survived=0, Pclass=3, Name='Skoog, Mr. Wilhelm', Sex='male', Age=40.0, SibSp=1, Parch=4, Ticket='347088', Fare=27.899999618530273, Embarked='S', CabinArray=None), Row(PassengerId=362, Survived=0, Pclass=2, Name='del Carlo, Mr. Sebastiano', Sex='male', Age=29.0, SibSp=1, Parch=0, Ticket='SC/PARIS 2167', Fare=27.720800399780273, Embarked='C', CabinArray=None), Row(PassengerId=363, Survived=0, Pclass=3, Name='Barbara, Mrs. (Catherine David)', Sex='female', Age=45.0, SibSp=0, Parch=1, Ticket='2691', Fare=14.45419979095459, Embarked='C', CabinArray=None), Row(PassengerId=364, Survived=0, Pclass=3, Name='Asim, Mr. Adola', Sex='male', Age=35.0, SibSp=0, Parch=0, Ticket='SOTON/O.Q. 3101310', Fare=7.050000190734863, Embarked='S', CabinArray=None), Row(PassengerId=365, Survived=0, Pclass=3, Name=\"O'Brien, Mr. Thomas\", Sex='male', Age=None, SibSp=1, Parch=0, Ticket='370365', Fare=15.5, Embarked='Q', CabinArray=None), Row(PassengerId=366, Survived=0, Pclass=3, Name='Adahl, Mr. Mauritz Nils Martin', Sex='male', Age=30.0, SibSp=0, Parch=0, Ticket='C 7076', Fare=7.25, Embarked='S', CabinArray=None), Row(PassengerId=367, Survived=1, Pclass=1, Name='Warren, Mrs. Frank Manley (Anna Sophia Atkinson)', Sex='female', Age=60.0, SibSp=1, Parch=0, Ticket='110813', Fare=75.25, Embarked='C', CabinArray=['D37']), Row(PassengerId=368, Survived=1, Pclass=3, Name='Moussa, Mrs. (Mantoura Boulos)', Sex='female', Age=None, SibSp=0, Parch=0, Ticket='2626', Fare=7.2291998863220215, Embarked='C', CabinArray=None), Row(PassengerId=369, Survived=1, Pclass=3, Name='Jermyn, Miss. Annie', Sex='female', Age=None, SibSp=0, Parch=0, Ticket='14313', Fare=7.75, Embarked='Q', CabinArray=None), Row(PassengerId=370, Survived=1, Pclass=1, Name='Aubart, Mme. Leontine Pauline', Sex='female', Age=24.0, SibSp=0, Parch=0, Ticket='PC 17477', Fare=69.30000305175781, Embarked='C', CabinArray=['B35']), Row(PassengerId=371, Survived=1, Pclass=1, Name='Harder, Mr. George Achilles', Sex='male', Age=25.0, SibSp=1, Parch=0, Ticket='11765', Fare=55.44169998168945, Embarked='C', CabinArray=['E50']), Row(PassengerId=372, Survived=0, Pclass=3, Name='Wiklund, Mr. Jakob Alfred', Sex='male', Age=18.0, SibSp=1, Parch=0, Ticket='3101267', Fare=6.495800018310547, Embarked='S', CabinArray=None), Row(PassengerId=373, Survived=0, Pclass=3, Name='Beavan, Mr. William Thomas', Sex='male', Age=19.0, SibSp=0, Parch=0, Ticket='323951', Fare=8.050000190734863, Embarked='S', CabinArray=None), Row(PassengerId=374, Survived=0, Pclass=1, Name='Ringhini, Mr. Sante', Sex='male', Age=22.0, SibSp=0, Parch=0, Ticket='PC 17760', Fare=135.63330078125, Embarked='C', CabinArray=None), Row(PassengerId=375, Survived=0, Pclass=3, Name='Palsson, Miss. Stina Viola', Sex='female', Age=3.0, SibSp=3, Parch=1, Ticket='349909', Fare=21.075000762939453, Embarked='S', CabinArray=None), Row(PassengerId=376, Survived=1, Pclass=1, Name='Meyer, Mrs. Edgar Joseph (Leila Saks)', Sex='female', Age=None, SibSp=1, Parch=0, Ticket='PC 17604', Fare=82.1707992553711, Embarked='C', CabinArray=None), Row(PassengerId=377, Survived=1, Pclass=3, Name='Landergren, Miss. Aurora Adelia', Sex='female', Age=22.0, SibSp=0, Parch=0, Ticket='C 7077', Fare=7.25, Embarked='S', CabinArray=None), Row(PassengerId=378, Survived=0, Pclass=1, Name='Widener, Mr. Harry Elkins', Sex='male', Age=27.0, SibSp=0, Parch=2, Ticket='113503', Fare=211.5, Embarked='C', CabinArray=['C82']), Row(PassengerId=379, Survived=0, Pclass=3, Name='Betros, Mr. Tannous', Sex='male', Age=20.0, SibSp=0, Parch=0, Ticket='2648', Fare=4.012499809265137, Embarked='C', CabinArray=None), Row(PassengerId=380, Survived=0, Pclass=3, Name='Gustafsson, Mr. Karl Gideon', Sex='male', Age=19.0, SibSp=0, Parch=0, Ticket='347069', Fare=7.775000095367432, Embarked='S', CabinArray=None), Row(PassengerId=381, Survived=1, Pclass=1, Name='Bidois, Miss. Rosalie', Sex='female', Age=42.0, SibSp=0, Parch=0, Ticket='PC 17757', Fare=227.52499389648438, Embarked='C', CabinArray=None), Row(PassengerId=382, Survived=1, Pclass=3, Name='\"Nakid, Miss. Maria (\"\"Mary\"\")\"', Sex='female', Age=1.0, SibSp=0, Parch=2, Ticket='2653', Fare=15.741700172424316, Embarked='C', CabinArray=None), Row(PassengerId=383, Survived=0, Pclass=3, Name='Tikkanen, Mr. Juho', Sex='male', Age=32.0, SibSp=0, Parch=0, Ticket='STON/O 2. 3101293', Fare=7.925000190734863, Embarked='S', CabinArray=None), Row(PassengerId=384, Survived=1, Pclass=1, Name='Holverson, Mrs. Alexander Oskar (Mary Aline Towner)', Sex='female', Age=35.0, SibSp=1, Parch=0, Ticket='113789', Fare=52.0, Embarked='S', CabinArray=None), Row(PassengerId=385, Survived=0, Pclass=3, Name='Plotcharsky, Mr. Vasil', Sex='male', Age=None, SibSp=0, Parch=0, Ticket='349227', Fare=7.8958001136779785, Embarked='S', CabinArray=None), Row(PassengerId=386, Survived=0, Pclass=2, Name='Davies, Mr. Charles Henry', Sex='male', Age=18.0, SibSp=0, Parch=0, Ticket='S.O.C. 14879', Fare=73.5, Embarked='S', CabinArray=None), Row(PassengerId=387, Survived=0, Pclass=3, Name='Goodwin, Master. Sidney Leonard', Sex='male', Age=1.0, SibSp=5, Parch=2, Ticket='CA 2144', Fare=46.900001525878906, Embarked='S', CabinArray=None), Row(PassengerId=388, Survived=1, Pclass=2, Name='Buss, Miss. Kate', Sex='female', Age=36.0, SibSp=0, Parch=0, Ticket='27849', Fare=13.0, Embarked='S', CabinArray=None), Row(PassengerId=389, Survived=0, Pclass=3, Name='Sadlier, Mr. Matthew', Sex='male', Age=None, SibSp=0, Parch=0, Ticket='367655', Fare=7.7291998863220215, Embarked='Q', CabinArray=None), Row(PassengerId=390, Survived=1, Pclass=2, Name='Lehmann, Miss. Bertha', Sex='female', Age=17.0, SibSp=0, Parch=0, Ticket='SC 1748', Fare=12.0, Embarked='C', CabinArray=None), Row(PassengerId=391, Survived=1, Pclass=1, Name='Carter, Mr. William Ernest', Sex='male', Age=36.0, SibSp=1, Parch=2, Ticket='113760', Fare=120.0, Embarked='S', CabinArray=['B96 B98']), Row(PassengerId=392, Survived=1, Pclass=3, Name='Jansson, Mr. Carl Olof', Sex='male', Age=21.0, SibSp=0, Parch=0, Ticket='350034', Fare=7.79580020904541, Embarked='S', CabinArray=None), Row(PassengerId=393, Survived=0, Pclass=3, Name='Gustafsson, Mr. Johan Birger', Sex='male', Age=28.0, SibSp=2, Parch=0, Ticket='3101277', Fare=7.925000190734863, Embarked='S', CabinArray=None), Row(PassengerId=394, Survived=1, Pclass=1, Name='Newell, Miss. Marjorie', Sex='female', Age=23.0, SibSp=1, Parch=0, Ticket='35273', Fare=113.2750015258789, Embarked='C', CabinArray=['D36']), Row(PassengerId=395, Survived=1, Pclass=3, Name='Sandstrom, Mrs. Hjalmar (Agnes Charlotta Bengtsson)', Sex='female', Age=24.0, SibSp=0, Parch=2, Ticket='PP 9549', Fare=16.700000762939453, Embarked='S', CabinArray=['G6']), Row(PassengerId=396, Survived=0, Pclass=3, Name='Johansson, Mr. Erik', Sex='male', Age=22.0, SibSp=0, Parch=0, Ticket='350052', Fare=7.79580020904541, Embarked='S', CabinArray=None), Row(PassengerId=397, Survived=0, Pclass=3, Name='Olsson, Miss. Elina', Sex='female', Age=31.0, SibSp=0, Parch=0, Ticket='350407', Fare=7.8541998863220215, Embarked='S', CabinArray=None), Row(PassengerId=398, Survived=0, Pclass=2, Name='McKane, Mr. Peter David', Sex='male', Age=46.0, SibSp=0, Parch=0, Ticket='28403', Fare=26.0, Embarked='S', CabinArray=None), Row(PassengerId=399, Survived=0, Pclass=2, Name='Pain, Dr. Alfred', Sex='male', Age=23.0, SibSp=0, Parch=0, Ticket='244278', Fare=10.5, Embarked='S', CabinArray=None), Row(PassengerId=400, Survived=1, Pclass=2, Name='Trout, Mrs. William H (Jessie L)', Sex='female', Age=28.0, SibSp=0, Parch=0, Ticket='240929', Fare=12.649999618530273, Embarked='S', CabinArray=None), Row(PassengerId=401, Survived=1, Pclass=3, Name='Niskanen, Mr. Juha', Sex='male', Age=39.0, SibSp=0, Parch=0, Ticket='STON/O 2. 3101289', Fare=7.925000190734863, Embarked='S', CabinArray=None), Row(PassengerId=402, Survived=0, Pclass=3, Name='Adams, Mr. John', Sex='male', Age=26.0, SibSp=0, Parch=0, Ticket='341826', Fare=8.050000190734863, Embarked='S', CabinArray=None), Row(PassengerId=403, Survived=0, Pclass=3, Name='Jussila, Miss. Mari Aina', Sex='female', Age=21.0, SibSp=1, Parch=0, Ticket='4137', Fare=9.824999809265137, Embarked='S', CabinArray=None), Row(PassengerId=404, Survived=0, Pclass=3, Name='Hakkarainen, Mr. Pekka Pietari', Sex='male', Age=28.0, SibSp=1, Parch=0, Ticket='STON/O2. 3101279', Fare=15.850000381469727, Embarked='S', CabinArray=None), Row(PassengerId=405, Survived=0, Pclass=3, Name='Oreskovic, Miss. Marija', Sex='female', Age=20.0, SibSp=0, Parch=0, Ticket='315096', Fare=8.662500381469727, Embarked='S', CabinArray=None), Row(PassengerId=406, Survived=0, Pclass=2, Name='Gale, Mr. Shadrach', Sex='male', Age=34.0, SibSp=1, Parch=0, Ticket='28664', Fare=21.0, Embarked='S', CabinArray=None), Row(PassengerId=407, Survived=0, Pclass=3, Name='Widegren, Mr. Carl/Charles Peter', Sex='male', Age=51.0, SibSp=0, Parch=0, Ticket='347064', Fare=7.75, Embarked='S', CabinArray=None), Row(PassengerId=408, Survived=1, Pclass=2, Name='Richards, Master. William Rowe', Sex='male', Age=3.0, SibSp=1, Parch=1, Ticket='29106', Fare=18.75, Embarked='S', CabinArray=None), Row(PassengerId=409, Survived=0, Pclass=3, Name='Birkeland, Mr. Hans Martin Monsen', Sex='male', Age=21.0, SibSp=0, Parch=0, Ticket='312992', Fare=7.775000095367432, Embarked='S', CabinArray=None), Row(PassengerId=410, Survived=0, Pclass=3, Name='Lefebre, Miss. Ida', Sex='female', Age=None, SibSp=3, Parch=1, Ticket='4133', Fare=25.466699600219727, Embarked='S', CabinArray=None), Row(PassengerId=411, Survived=0, Pclass=3, Name='Sdycoff, Mr. Todor', Sex='male', Age=None, SibSp=0, Parch=0, Ticket='349222', Fare=7.8958001136779785, Embarked='S', CabinArray=None), Row(PassengerId=412, Survived=0, Pclass=3, Name='Hart, Mr. Henry', Sex='male', Age=None, SibSp=0, Parch=0, Ticket='394140', Fare=6.85830020904541, Embarked='Q', CabinArray=None), Row(PassengerId=413, Survived=1, Pclass=1, Name='Minahan, Miss. Daisy E', Sex='female', Age=33.0, SibSp=1, Parch=0, Ticket='19928', Fare=90.0, Embarked='Q', CabinArray=['C78']), Row(PassengerId=414, Survived=0, Pclass=2, Name='Cunningham, Mr. Alfred Fleming', Sex='male', Age=None, SibSp=0, Parch=0, Ticket='239853', Fare=0.0, Embarked='S', CabinArray=None), Row(PassengerId=415, Survived=1, Pclass=3, Name='Sundman, Mr. Johan Julian', Sex='male', Age=44.0, SibSp=0, Parch=0, Ticket='STON/O 2. 3101269', Fare=7.925000190734863, Embarked='S', CabinArray=None), Row(PassengerId=416, Survived=0, Pclass=3, Name='Meek, Mrs. Thomas (Annie Louise Rowley)', Sex='female', Age=None, SibSp=0, Parch=0, Ticket='343095', Fare=8.050000190734863, Embarked='S', CabinArray=None), Row(PassengerId=417, Survived=1, Pclass=2, Name='Drew, Mrs. James Vivian (Lulu Thorne Christian)', Sex='female', Age=34.0, SibSp=1, Parch=1, Ticket='28220', Fare=32.5, Embarked='S', CabinArray=None), Row(PassengerId=418, Survived=1, Pclass=2, Name='Silven, Miss. Lyyli Karoliina', Sex='female', Age=18.0, SibSp=0, Parch=2, Ticket='250652', Fare=13.0, Embarked='S', CabinArray=None), Row(PassengerId=419, Survived=0, Pclass=2, Name='Matthews, Mr. William John', Sex='male', Age=30.0, SibSp=0, Parch=0, Ticket='28228', Fare=13.0, Embarked='S', CabinArray=None), Row(PassengerId=420, Survived=0, Pclass=3, Name='Van Impe, Miss. Catharina', Sex='female', Age=10.0, SibSp=0, Parch=2, Ticket='345773', Fare=24.149999618530273, Embarked='S', CabinArray=None), Row(PassengerId=421, Survived=0, Pclass=3, Name='Gheorgheff, Mr. Stanio', Sex='male', Age=None, SibSp=0, Parch=0, Ticket='349254', Fare=7.8958001136779785, Embarked='C', CabinArray=None), Row(PassengerId=422, Survived=0, Pclass=3, Name='Charters, Mr. David', Sex='male', Age=21.0, SibSp=0, Parch=0, Ticket='A/5. 13032', Fare=7.73330020904541, Embarked='Q', CabinArray=None), Row(PassengerId=423, Survived=0, Pclass=3, Name='Zimmerman, Mr. Leo', Sex='male', Age=29.0, SibSp=0, Parch=0, Ticket='315082', Fare=7.875, Embarked='S', CabinArray=None), Row(PassengerId=424, Survived=0, Pclass=3, Name='Danbom, Mrs. Ernst Gilbert (Anna Sigrid Maria Brogren)', Sex='female', Age=28.0, SibSp=1, Parch=1, Ticket='347080', Fare=14.399999618530273, Embarked='S', CabinArray=None), Row(PassengerId=425, Survived=0, Pclass=3, Name='Rosblom, Mr. Viktor Richard', Sex='male', Age=18.0, SibSp=1, Parch=1, Ticket='370129', Fare=20.212499618530273, Embarked='S', CabinArray=None), Row(PassengerId=426, Survived=0, Pclass=3, Name='Wiseman, Mr. Phillippe', Sex='male', Age=None, SibSp=0, Parch=0, Ticket='A/4. 34244', Fare=7.25, Embarked='S', CabinArray=None), Row(PassengerId=427, Survived=1, Pclass=2, Name='Clarke, Mrs. Charles V (Ada Maria Winfield)', Sex='female', Age=28.0, SibSp=1, Parch=0, Ticket='2003', Fare=26.0, Embarked='S', CabinArray=None), Row(PassengerId=428, Survived=1, Pclass=2, Name='\"Phillips, Miss. Kate Florence (\"\"Mrs Kate Louise Phillips Marshall\"\")\"', Sex='female', Age=19.0, SibSp=0, Parch=0, Ticket='250655', Fare=26.0, Embarked='S', CabinArray=None), Row(PassengerId=429, Survived=0, Pclass=3, Name='Flynn, Mr. James', Sex='male', Age=None, SibSp=0, Parch=0, Ticket='364851', Fare=7.75, Embarked='Q', CabinArray=None), Row(PassengerId=430, Survived=1, Pclass=3, Name='Pickard, Mr. Berk (Berk Trembisky)', Sex='male', Age=32.0, SibSp=0, Parch=0, Ticket='SOTON/O.Q. 392078', Fare=8.050000190734863, Embarked='S', CabinArray=['E10']), Row(PassengerId=431, Survived=1, Pclass=1, Name='Bjornstrom-Steffansson, Mr. Mauritz Hakan', Sex='male', Age=28.0, SibSp=0, Parch=0, Ticket='110564', Fare=26.549999237060547, Embarked='S', CabinArray=['C52']), Row(PassengerId=432, Survived=1, Pclass=3, Name='Thorneycroft, Mrs. Percival (Florence Kate White)', Sex='female', Age=None, SibSp=1, Parch=0, Ticket='376564', Fare=16.100000381469727, Embarked='S', CabinArray=None), Row(PassengerId=433, Survived=1, Pclass=2, Name='Louch, Mrs. Charles Alexander (Alice Adelaide Slow)', Sex='female', Age=42.0, SibSp=1, Parch=0, Ticket='SC/AH 3085', Fare=26.0, Embarked='S', CabinArray=None), Row(PassengerId=434, Survived=0, Pclass=3, Name='Kallio, Mr. Nikolai Erland', Sex='male', Age=17.0, SibSp=0, Parch=0, Ticket='STON/O 2. 3101274', Fare=7.125, Embarked='S', CabinArray=None), Row(PassengerId=435, Survived=0, Pclass=1, Name='Silvey, Mr. William Baird', Sex='male', Age=50.0, SibSp=1, Parch=0, Ticket='13507', Fare=55.900001525878906, Embarked='S', CabinArray=['E44']), Row(PassengerId=436, Survived=1, Pclass=1, Name='Carter, Miss. Lucile Polk', Sex='female', Age=14.0, SibSp=1, Parch=2, Ticket='113760', Fare=120.0, Embarked='S', CabinArray=['B96 B98']), Row(PassengerId=437, Survived=0, Pclass=3, Name='\"Ford, Miss. Doolina Margaret \"\"Daisy\"\"\"', Sex='female', Age=21.0, SibSp=2, Parch=2, Ticket='W./C. 6608', Fare=34.375, Embarked='S', CabinArray=None), Row(PassengerId=438, Survived=1, Pclass=2, Name='Richards, Mrs. Sidney (Emily Hocking)', Sex='female', Age=24.0, SibSp=2, Parch=3, Ticket='29106', Fare=18.75, Embarked='S', CabinArray=None), Row(PassengerId=439, Survived=0, Pclass=1, Name='Fortune, Mr. Mark', Sex='male', Age=64.0, SibSp=1, Parch=4, Ticket='19950', Fare=263.0, Embarked='S', CabinArray=['C23 C25 C27']), Row(PassengerId=440, Survived=0, Pclass=2, Name='Kvillner, Mr. Johan Henrik Johannesson', Sex='male', Age=31.0, SibSp=0, Parch=0, Ticket='C.A. 18723', Fare=10.5, Embarked='S', CabinArray=None), Row(PassengerId=441, Survived=1, Pclass=2, Name='Hart, Mrs. Benjamin (Esther Ada Bloomfield)', Sex='female', Age=45.0, SibSp=1, Parch=1, Ticket='F.C.C. 13529', Fare=26.25, Embarked='S', CabinArray=None), Row(PassengerId=442, Survived=0, Pclass=3, Name='Hampe, Mr. Leon', Sex='male', Age=20.0, SibSp=0, Parch=0, Ticket='345769', Fare=9.5, Embarked='S', CabinArray=None), Row(PassengerId=443, Survived=0, Pclass=3, Name='Petterson, Mr. Johan Emil', Sex='male', Age=25.0, SibSp=1, Parch=0, Ticket='347076', Fare=7.775000095367432, Embarked='S', CabinArray=None), Row(PassengerId=444, Survived=1, Pclass=2, Name='Reynaldo, Ms. Encarnacion', Sex='female', Age=28.0, SibSp=0, Parch=0, Ticket='230434', Fare=13.0, Embarked='S', CabinArray=None), Row(PassengerId=445, Survived=1, Pclass=3, Name='Johannesen-Bratthammer, Mr. Bernt', Sex='male', Age=None, SibSp=0, Parch=0, Ticket='65306', Fare=8.112500190734863, Embarked='S', CabinArray=None), Row(PassengerId=446, Survived=1, Pclass=1, Name='Dodge, Master. Washington', Sex='male', Age=4.0, SibSp=0, Parch=2, Ticket='33638', Fare=81.8582992553711, Embarked='S', CabinArray=['A34']), Row(PassengerId=447, Survived=1, Pclass=2, Name='Mellinger, Miss. Madeleine Violet', Sex='female', Age=13.0, SibSp=0, Parch=1, Ticket='250644', Fare=19.5, Embarked='S', CabinArray=None), Row(PassengerId=448, Survived=1, Pclass=1, Name='Seward, Mr. Frederic Kimber', Sex='male', Age=34.0, SibSp=0, Parch=0, Ticket='113794', Fare=26.549999237060547, Embarked='S', CabinArray=None), Row(PassengerId=449, Survived=1, Pclass=3, Name='Baclini, Miss. Marie Catherine', Sex='female', Age=5.0, SibSp=2, Parch=1, Ticket='2666', Fare=19.25830078125, Embarked='C', CabinArray=None), Row(PassengerId=450, Survived=1, Pclass=1, Name='Peuchen, Major. Arthur Godfrey', Sex='male', Age=52.0, SibSp=0, Parch=0, Ticket='113786', Fare=30.5, Embarked='S', CabinArray=['C104']), Row(PassengerId=451, Survived=0, Pclass=2, Name='West, Mr. Edwy Arthur', Sex='male', Age=36.0, SibSp=1, Parch=2, Ticket='C.A. 34651', Fare=27.75, Embarked='S', CabinArray=None), Row(PassengerId=452, Survived=0, Pclass=3, Name='Hagland, Mr. Ingvald Olai Olsen', Sex='male', Age=None, SibSp=1, Parch=0, Ticket='65303', Fare=19.966699600219727, Embarked='S', CabinArray=None), Row(PassengerId=453, Survived=0, Pclass=1, Name='Foreman, Mr. Benjamin Laventall', Sex='male', Age=30.0, SibSp=0, Parch=0, Ticket='113051', Fare=27.75, Embarked='C', CabinArray=['C111']), Row(PassengerId=454, Survived=1, Pclass=1, Name='Goldenberg, Mr. Samuel L', Sex='male', Age=49.0, SibSp=1, Parch=0, Ticket='17453', Fare=89.10420227050781, Embarked='C', CabinArray=['C92']), Row(PassengerId=455, Survived=0, Pclass=3, Name='Peduzzi, Mr. Joseph', Sex='male', Age=None, SibSp=0, Parch=0, Ticket='A/5 2817', Fare=8.050000190734863, Embarked='S', CabinArray=None), Row(PassengerId=456, Survived=1, Pclass=3, Name='Jalsevac, Mr. Ivan', Sex='male', Age=29.0, SibSp=0, Parch=0, Ticket='349240', Fare=7.8958001136779785, Embarked='C', CabinArray=None), Row(PassengerId=457, Survived=0, Pclass=1, Name='Millet, Mr. Francis Davis', Sex='male', Age=65.0, SibSp=0, Parch=0, Ticket='13509', Fare=26.549999237060547, Embarked='S', CabinArray=['E38']), Row(PassengerId=458, Survived=1, Pclass=1, Name='Kenyon, Mrs. Frederick R (Marion)', Sex='female', Age=None, SibSp=1, Parch=0, Ticket='17464', Fare=51.86249923706055, Embarked='S', CabinArray=['D21']), Row(PassengerId=459, Survived=1, Pclass=2, Name='Toomey, Miss. Ellen', Sex='female', Age=50.0, SibSp=0, Parch=0, Ticket='F.C.C. 13531', Fare=10.5, Embarked='S', CabinArray=None), Row(PassengerId=460, Survived=0, Pclass=3, Name=\"O'Connor, Mr. Maurice\", Sex='male', Age=None, SibSp=0, Parch=0, Ticket='371060', Fare=7.75, Embarked='Q', CabinArray=None), Row(PassengerId=461, Survived=1, Pclass=1, Name='Anderson, Mr. Harry', Sex='male', Age=48.0, SibSp=0, Parch=0, Ticket='19952', Fare=26.549999237060547, Embarked='S', CabinArray=['E12']), Row(PassengerId=462, Survived=0, Pclass=3, Name='Morley, Mr. William', Sex='male', Age=34.0, SibSp=0, Parch=0, Ticket='364506', Fare=8.050000190734863, Embarked='S', CabinArray=None), Row(PassengerId=463, Survived=0, Pclass=1, Name='Gee, Mr. Arthur H', Sex='male', Age=47.0, SibSp=0, Parch=0, Ticket='111320', Fare=38.5, Embarked='S', CabinArray=['E63']), Row(PassengerId=464, Survived=0, Pclass=2, Name='Milling, Mr. Jacob Christian', Sex='male', Age=48.0, SibSp=0, Parch=0, Ticket='234360', Fare=13.0, Embarked='S', CabinArray=None), Row(PassengerId=465, Survived=0, Pclass=3, Name='Maisner, Mr. Simon', Sex='male', Age=None, SibSp=0, Parch=0, Ticket='A/S 2816', Fare=8.050000190734863, Embarked='S', CabinArray=None), Row(PassengerId=466, Survived=0, Pclass=3, Name='Goncalves, Mr. Manuel Estanslas', Sex='male', Age=38.0, SibSp=0, Parch=0, Ticket='SOTON/O.Q. 3101306', Fare=7.050000190734863, Embarked='S', CabinArray=None), Row(PassengerId=467, Survived=0, Pclass=2, Name='Campbell, Mr. William', Sex='male', Age=None, SibSp=0, Parch=0, Ticket='239853', Fare=0.0, Embarked='S', CabinArray=None), Row(PassengerId=468, Survived=0, Pclass=1, Name='Smart, Mr. John Montgomery', Sex='male', Age=56.0, SibSp=0, Parch=0, Ticket='113792', Fare=26.549999237060547, Embarked='S', CabinArray=None), Row(PassengerId=469, Survived=0, Pclass=3, Name='Scanlan, Mr. James', Sex='male', Age=None, SibSp=0, Parch=0, Ticket='36209', Fare=7.724999904632568, Embarked='Q', CabinArray=None), Row(PassengerId=470, Survived=1, Pclass=3, Name='Baclini, Miss. Helene Barbara', Sex='female', Age=0.75, SibSp=2, Parch=1, Ticket='2666', Fare=19.25830078125, Embarked='C', CabinArray=None), Row(PassengerId=471, Survived=0, Pclass=3, Name='Keefe, Mr. Arthur', Sex='male', Age=None, SibSp=0, Parch=0, Ticket='323592', Fare=7.25, Embarked='S', CabinArray=None), Row(PassengerId=472, Survived=0, Pclass=3, Name='Cacic, Mr. Luka', Sex='male', Age=38.0, SibSp=0, Parch=0, Ticket='315089', Fare=8.662500381469727, Embarked='S', CabinArray=None), Row(PassengerId=473, Survived=1, Pclass=2, Name='West, Mrs. Edwy Arthur (Ada Mary Worth)', Sex='female', Age=33.0, SibSp=1, Parch=2, Ticket='C.A. 34651', Fare=27.75, Embarked='S', CabinArray=None), Row(PassengerId=474, Survived=1, Pclass=2, Name='Jerwan, Mrs. Amin S (Marie Marthe Thuillard)', Sex='female', Age=23.0, SibSp=0, Parch=0, Ticket='SC/AH Basle 541', Fare=13.79170036315918, Embarked='C', CabinArray=['D']), Row(PassengerId=475, Survived=0, Pclass=3, Name='Strandberg, Miss. Ida Sofia', Sex='female', Age=22.0, SibSp=0, Parch=0, Ticket='7553', Fare=9.837499618530273, Embarked='S', CabinArray=None), Row(PassengerId=476, Survived=0, Pclass=1, Name='Clifford, Mr. George Quincy', Sex='male', Age=None, SibSp=0, Parch=0, Ticket='110465', Fare=52.0, Embarked='S', CabinArray=['A14']), Row(PassengerId=477, Survived=0, Pclass=2, Name='Renouf, Mr. Peter Henry', Sex='male', Age=34.0, SibSp=1, Parch=0, Ticket='31027', Fare=21.0, Embarked='S', CabinArray=None), Row(PassengerId=478, Survived=0, Pclass=3, Name='Braund, Mr. Lewis Richard', Sex='male', Age=29.0, SibSp=1, Parch=0, Ticket='3460', Fare=7.04580020904541, Embarked='S', CabinArray=None), Row(PassengerId=479, Survived=0, Pclass=3, Name='Karlsson, Mr. Nils August', Sex='male', Age=22.0, SibSp=0, Parch=0, Ticket='350060', Fare=7.5208001136779785, Embarked='S', CabinArray=None), Row(PassengerId=480, Survived=1, Pclass=3, Name='Hirvonen, Miss. Hildur E', Sex='female', Age=2.0, SibSp=0, Parch=1, Ticket='3101298', Fare=12.287500381469727, Embarked='S', CabinArray=None), Row(PassengerId=481, Survived=0, Pclass=3, Name='Goodwin, Master. Harold Victor', Sex='male', Age=9.0, SibSp=5, Parch=2, Ticket='CA 2144', Fare=46.900001525878906, Embarked='S', CabinArray=None), Row(PassengerId=482, Survived=0, Pclass=2, Name='\"Frost, Mr. Anthony Wood \"\"Archie\"\"\"', Sex='male', Age=None, SibSp=0, Parch=0, Ticket='239854', Fare=0.0, Embarked='S', CabinArray=None), Row(PassengerId=483, Survived=0, Pclass=3, Name='Rouse, Mr. Richard Henry', Sex='male', Age=50.0, SibSp=0, Parch=0, Ticket='A/5 3594', Fare=8.050000190734863, Embarked='S', CabinArray=None), Row(PassengerId=484, Survived=1, Pclass=3, Name='Turkula, Mrs. (Hedwig)', Sex='female', Age=63.0, SibSp=0, Parch=0, Ticket='4134', Fare=9.587499618530273, Embarked='S', CabinArray=None), Row(PassengerId=485, Survived=1, Pclass=1, Name='Bishop, Mr. Dickinson H', Sex='male', Age=25.0, SibSp=1, Parch=0, Ticket='11967', Fare=91.0792007446289, Embarked='C', CabinArray=['B49']), Row(PassengerId=486, Survived=0, Pclass=3, Name='Lefebre, Miss. Jeannie', Sex='female', Age=None, SibSp=3, Parch=1, Ticket='4133', Fare=25.466699600219727, Embarked='S', CabinArray=None), Row(PassengerId=487, Survived=1, Pclass=1, Name='Hoyt, Mrs. Frederick Maxfield (Jane Anne Forby)', Sex='female', Age=35.0, SibSp=1, Parch=0, Ticket='19943', Fare=90.0, Embarked='S', CabinArray=['C93']), Row(PassengerId=488, Survived=0, Pclass=1, Name='Kent, Mr. Edward Austin', Sex='male', Age=58.0, SibSp=0, Parch=0, Ticket='11771', Fare=29.700000762939453, Embarked='C', CabinArray=['B37']), Row(PassengerId=489, Survived=0, Pclass=3, Name='Somerton, Mr. Francis William', Sex='male', Age=30.0, SibSp=0, Parch=0, Ticket='A.5. 18509', Fare=8.050000190734863, Embarked='S', CabinArray=None), Row(PassengerId=490, Survived=1, Pclass=3, Name='\"Coutts, Master. Eden Leslie \"\"Neville\"\"\"', Sex='male', Age=9.0, SibSp=1, Parch=1, Ticket='C.A. 37671', Fare=15.899999618530273, Embarked='S', CabinArray=None), Row(PassengerId=491, Survived=0, Pclass=3, Name='Hagland, Mr. Konrad Mathias Reiersen', Sex='male', Age=None, SibSp=1, Parch=0, Ticket='65304', Fare=19.966699600219727, Embarked='S', CabinArray=None), Row(PassengerId=492, Survived=0, Pclass=3, Name='Windelov, Mr. Einar', Sex='male', Age=21.0, SibSp=0, Parch=0, Ticket='SOTON/OQ 3101317', Fare=7.25, Embarked='S', CabinArray=None), Row(PassengerId=493, Survived=0, Pclass=1, Name='Molson, Mr. Harry Markland', Sex='male', Age=55.0, SibSp=0, Parch=0, Ticket='113787', Fare=30.5, Embarked='S', CabinArray=['C30']), Row(PassengerId=494, Survived=0, Pclass=1, Name='Artagaveytia, Mr. Ramon', Sex='male', Age=71.0, SibSp=0, Parch=0, Ticket='PC 17609', Fare=49.50419998168945, Embarked='C', CabinArray=None), Row(PassengerId=495, Survived=0, Pclass=3, Name='Stanley, Mr. Edward Roland', Sex='male', Age=21.0, SibSp=0, Parch=0, Ticket='A/4 45380', Fare=8.050000190734863, Embarked='S', CabinArray=None), Row(PassengerId=496, Survived=0, Pclass=3, Name='Yousseff, Mr. Gerious', Sex='male', Age=None, SibSp=0, Parch=0, Ticket='2627', Fare=14.45829963684082, Embarked='C', CabinArray=None), Row(PassengerId=497, Survived=1, Pclass=1, Name='Eustis, Miss. Elizabeth Mussey', Sex='female', Age=54.0, SibSp=1, Parch=0, Ticket='36947', Fare=78.2667007446289, Embarked='C', CabinArray=['D20']), Row(PassengerId=498, Survived=0, Pclass=3, Name='Shellard, Mr. Frederick William', Sex='male', Age=None, SibSp=0, Parch=0, Ticket='C.A. 6212', Fare=15.100000381469727, Embarked='S', CabinArray=None), Row(PassengerId=499, Survived=0, Pclass=1, Name='Allison, Mrs. Hudson J C (Bessie Waldo Daniels)', Sex='female', Age=25.0, SibSp=1, Parch=2, Ticket='113781', Fare=151.5500030517578, Embarked='S', CabinArray=['C22 C26']), Row(PassengerId=500, Survived=0, Pclass=3, Name='Svensson, Mr. Olof', Sex='male', Age=24.0, SibSp=0, Parch=0, Ticket='350035', Fare=7.79580020904541, Embarked='S', CabinArray=None), Row(PassengerId=501, Survived=0, Pclass=3, Name='Calic, Mr. Petar', Sex='male', Age=17.0, SibSp=0, Parch=0, Ticket='315086', Fare=8.662500381469727, Embarked='S', CabinArray=None), Row(PassengerId=502, Survived=0, Pclass=3, Name='Canavan, Miss. Mary', Sex='female', Age=21.0, SibSp=0, Parch=0, Ticket='364846', Fare=7.75, Embarked='Q', CabinArray=None), Row(PassengerId=503, Survived=0, Pclass=3, Name=\"O'Sullivan, Miss. Bridget Mary\", Sex='female', Age=None, SibSp=0, Parch=0, Ticket='330909', Fare=7.629199981689453, Embarked='Q', CabinArray=None), Row(PassengerId=504, Survived=0, Pclass=3, Name='Laitinen, Miss. Kristina Sofia', Sex='female', Age=37.0, SibSp=0, Parch=0, Ticket='4135', Fare=9.587499618530273, Embarked='S', CabinArray=None), Row(PassengerId=505, Survived=1, Pclass=1, Name='Maioni, Miss. Roberta', Sex='female', Age=16.0, SibSp=0, Parch=0, Ticket='110152', Fare=86.5, Embarked='S', CabinArray=['B79']), Row(PassengerId=506, Survived=0, Pclass=1, Name='Penasco y Castellana, Mr. Victor de Satode', Sex='male', Age=18.0, SibSp=1, Parch=0, Ticket='PC 17758', Fare=108.9000015258789, Embarked='C', CabinArray=['C65']), Row(PassengerId=507, Survived=1, Pclass=2, Name='Quick, Mrs. Frederick Charles (Jane Richards)', Sex='female', Age=33.0, SibSp=0, Parch=2, Ticket='26360', Fare=26.0, Embarked='S', CabinArray=None), Row(PassengerId=508, Survived=1, Pclass=1, Name='\"Bradley, Mr. George (\"\"George Arthur Brayton\"\")\"', Sex='male', Age=None, SibSp=0, Parch=0, Ticket='111427', Fare=26.549999237060547, Embarked='S', CabinArray=None), Row(PassengerId=509, Survived=0, Pclass=3, Name='Olsen, Mr. Henry Margido', Sex='male', Age=28.0, SibSp=0, Parch=0, Ticket='C 4001', Fare=22.524999618530273, Embarked='S', CabinArray=None), Row(PassengerId=510, Survived=1, Pclass=3, Name='Lang, Mr. Fang', Sex='male', Age=26.0, SibSp=0, Parch=0, Ticket='1601', Fare=56.49580001831055, Embarked='S', CabinArray=None), Row(PassengerId=511, Survived=1, Pclass=3, Name='Daly, Mr. Eugene Patrick', Sex='male', Age=29.0, SibSp=0, Parch=0, Ticket='382651', Fare=7.75, Embarked='Q', CabinArray=None), Row(PassengerId=512, Survived=0, Pclass=3, Name='Webber, Mr. James', Sex='male', Age=None, SibSp=0, Parch=0, Ticket='SOTON/OQ 3101316', Fare=8.050000190734863, Embarked='S', CabinArray=None), Row(PassengerId=513, Survived=1, Pclass=1, Name='McGough, Mr. James Robert', Sex='male', Age=36.0, SibSp=0, Parch=0, Ticket='PC 17473', Fare=26.287500381469727, Embarked='S', CabinArray=['E25']), Row(PassengerId=514, Survived=1, Pclass=1, Name='Rothschild, Mrs. Martin (Elizabeth L. Barrett)', Sex='female', Age=54.0, SibSp=1, Parch=0, Ticket='PC 17603', Fare=59.400001525878906, Embarked='C', CabinArray=None), Row(PassengerId=515, Survived=0, Pclass=3, Name='Coleff, Mr. Satio', Sex='male', Age=24.0, SibSp=0, Parch=0, Ticket='349209', Fare=7.495800018310547, Embarked='S', CabinArray=None), Row(PassengerId=516, Survived=0, Pclass=1, Name='Walker, Mr. William Anderson', Sex='male', Age=47.0, SibSp=0, Parch=0, Ticket='36967', Fare=34.02080154418945, Embarked='S', CabinArray=['D46']), Row(PassengerId=517, Survived=1, Pclass=2, Name='Lemore, Mrs. (Amelia Milley)', Sex='female', Age=34.0, SibSp=0, Parch=0, Ticket='C.A. 34260', Fare=10.5, Embarked='S', CabinArray=['F33']), Row(PassengerId=518, Survived=0, Pclass=3, Name='Ryan, Mr. Patrick', Sex='male', Age=None, SibSp=0, Parch=0, Ticket='371110', Fare=24.149999618530273, Embarked='Q', CabinArray=None), Row(PassengerId=519, Survived=1, Pclass=2, Name='\"Angle, Mrs. William A (Florence \"\"Mary\"\" Agnes Hughes)\"', Sex='female', Age=36.0, SibSp=1, Parch=0, Ticket='226875', Fare=26.0, Embarked='S', CabinArray=None), Row(PassengerId=520, Survived=0, Pclass=3, Name='Pavlovic, Mr. Stefo', Sex='male', Age=32.0, SibSp=0, Parch=0, Ticket='349242', Fare=7.8958001136779785, Embarked='S', CabinArray=None), Row(PassengerId=521, Survived=1, Pclass=1, Name='Perreault, Miss. Anne', Sex='female', Age=30.0, SibSp=0, Parch=0, Ticket='12749', Fare=93.5, Embarked='S', CabinArray=['B73']), Row(PassengerId=522, Survived=0, Pclass=3, Name='Vovk, Mr. Janko', Sex='male', Age=22.0, SibSp=0, Parch=0, Ticket='349252', Fare=7.8958001136779785, Embarked='S', CabinArray=None), Row(PassengerId=523, Survived=0, Pclass=3, Name='Lahoud, Mr. Sarkis', Sex='male', Age=None, SibSp=0, Parch=0, Ticket='2624', Fare=7.224999904632568, Embarked='C', CabinArray=None), Row(PassengerId=524, Survived=1, Pclass=1, Name='Hippach, Mrs. Louis Albert (Ida Sophia Fischer)', Sex='female', Age=44.0, SibSp=0, Parch=1, Ticket='111361', Fare=57.97919845581055, Embarked='C', CabinArray=['B18']), Row(PassengerId=525, Survived=0, Pclass=3, Name='Kassem, Mr. Fared', Sex='male', Age=None, SibSp=0, Parch=0, Ticket='2700', Fare=7.2291998863220215, Embarked='C', CabinArray=None), Row(PassengerId=526, Survived=0, Pclass=3, Name='Farrell, Mr. James', Sex='male', Age=40.5, SibSp=0, Parch=0, Ticket='367232', Fare=7.75, Embarked='Q', CabinArray=None), Row(PassengerId=527, Survived=1, Pclass=2, Name='Ridsdale, Miss. Lucy', Sex='female', Age=50.0, SibSp=0, Parch=0, Ticket='W./C. 14258', Fare=10.5, Embarked='S', CabinArray=None), Row(PassengerId=528, Survived=0, Pclass=1, Name='Farthing, Mr. John', Sex='male', Age=None, SibSp=0, Parch=0, Ticket='PC 17483', Fare=221.77920532226562, Embarked='S', CabinArray=['C95']), Row(PassengerId=529, Survived=0, Pclass=3, Name='Salonen, Mr. Johan Werner', Sex='male', Age=39.0, SibSp=0, Parch=0, Ticket='3101296', Fare=7.925000190734863, Embarked='S', CabinArray=None), Row(PassengerId=530, Survived=0, Pclass=2, Name='Hocking, Mr. Richard George', Sex='male', Age=23.0, SibSp=2, Parch=1, Ticket='29104', Fare=11.5, Embarked='S', CabinArray=None), Row(PassengerId=531, Survived=1, Pclass=2, Name='Quick, Miss. Phyllis May', Sex='female', Age=2.0, SibSp=1, Parch=1, Ticket='26360', Fare=26.0, Embarked='S', CabinArray=None), Row(PassengerId=532, Survived=0, Pclass=3, Name='Toufik, Mr. Nakli', Sex='male', Age=None, SibSp=0, Parch=0, Ticket='2641', Fare=7.2291998863220215, Embarked='C', CabinArray=None), Row(PassengerId=533, Survived=0, Pclass=3, Name='Elias, Mr. Joseph Jr', Sex='male', Age=17.0, SibSp=1, Parch=1, Ticket='2690', Fare=7.2291998863220215, Embarked='C', CabinArray=None), Row(PassengerId=534, Survived=1, Pclass=3, Name='Peter, Mrs. Catherine (Catherine Rizk)', Sex='female', Age=None, SibSp=0, Parch=2, Ticket='2668', Fare=22.358299255371094, Embarked='C', CabinArray=None), Row(PassengerId=535, Survived=0, Pclass=3, Name='Cacic, Miss. Marija', Sex='female', Age=30.0, SibSp=0, Parch=0, Ticket='315084', Fare=8.662500381469727, Embarked='S', CabinArray=None), Row(PassengerId=536, Survived=1, Pclass=2, Name='Hart, Miss. Eva Miriam', Sex='female', Age=7.0, SibSp=0, Parch=2, Ticket='F.C.C. 13529', Fare=26.25, Embarked='S', CabinArray=None), Row(PassengerId=537, Survived=0, Pclass=1, Name='Butt, Major. Archibald Willingham', Sex='male', Age=45.0, SibSp=0, Parch=0, Ticket='113050', Fare=26.549999237060547, Embarked='S', CabinArray=['B38']), Row(PassengerId=538, Survived=1, Pclass=1, Name='LeRoy, Miss. Bertha', Sex='female', Age=30.0, SibSp=0, Parch=0, Ticket='PC 17761', Fare=106.42500305175781, Embarked='C', CabinArray=None), Row(PassengerId=539, Survived=0, Pclass=3, Name='Risien, Mr. Samuel Beard', Sex='male', Age=None, SibSp=0, Parch=0, Ticket='364498', Fare=14.5, Embarked='S', CabinArray=None), Row(PassengerId=540, Survived=1, Pclass=1, Name='Frolicher, Miss. Hedwig Margaritha', Sex='female', Age=22.0, SibSp=0, Parch=2, Ticket='13568', Fare=49.5, Embarked='C', CabinArray=['B39']), Row(PassengerId=541, Survived=1, Pclass=1, Name='Crosby, Miss. Harriet R', Sex='female', Age=36.0, SibSp=0, Parch=2, Ticket='WE/P 5735', Fare=71.0, Embarked='S', CabinArray=['B22']), Row(PassengerId=542, Survived=0, Pclass=3, Name='Andersson, Miss. Ingeborg Constanzia', Sex='female', Age=9.0, SibSp=4, Parch=2, Ticket='347082', Fare=31.274999618530273, Embarked='S', CabinArray=None), Row(PassengerId=543, Survived=0, Pclass=3, Name='Andersson, Miss. Sigrid Elisabeth', Sex='female', Age=11.0, SibSp=4, Parch=2, Ticket='347082', Fare=31.274999618530273, Embarked='S', CabinArray=None), Row(PassengerId=544, Survived=1, Pclass=2, Name='Beane, Mr. Edward', Sex='male', Age=32.0, SibSp=1, Parch=0, Ticket='2908', Fare=26.0, Embarked='S', CabinArray=None), Row(PassengerId=545, Survived=0, Pclass=1, Name='Douglas, Mr. Walter Donald', Sex='male', Age=50.0, SibSp=1, Parch=0, Ticket='PC 17761', Fare=106.42500305175781, Embarked='C', CabinArray=['C86']), Row(PassengerId=546, Survived=0, Pclass=1, Name='Nicholson, Mr. Arthur Ernest', Sex='male', Age=64.0, SibSp=0, Parch=0, Ticket='693', Fare=26.0, Embarked='S', CabinArray=None), Row(PassengerId=547, Survived=1, Pclass=2, Name='Beane, Mrs. Edward (Ethel Clarke)', Sex='female', Age=19.0, SibSp=1, Parch=0, Ticket='2908', Fare=26.0, Embarked='S', CabinArray=None), Row(PassengerId=548, Survived=1, Pclass=2, Name='Padro y Manent, Mr. Julian', Sex='male', Age=None, SibSp=0, Parch=0, Ticket='SC/PARIS 2146', Fare=13.862500190734863, Embarked='C', CabinArray=None), Row(PassengerId=549, Survived=0, Pclass=3, Name='Goldsmith, Mr. Frank John', Sex='male', Age=33.0, SibSp=1, Parch=1, Ticket='363291', Fare=20.524999618530273, Embarked='S', CabinArray=None), Row(PassengerId=550, Survived=1, Pclass=2, Name='Davies, Master. John Morgan Jr', Sex='male', Age=8.0, SibSp=1, Parch=1, Ticket='C.A. 33112', Fare=36.75, Embarked='S', CabinArray=None), Row(PassengerId=551, Survived=1, Pclass=1, Name='Thayer, Mr. John Borland Jr', Sex='male', Age=17.0, SibSp=0, Parch=2, Ticket='17421', Fare=110.88330078125, Embarked='C', CabinArray=['C70']), Row(PassengerId=552, Survived=0, Pclass=2, Name='Sharp, Mr. Percival James R', Sex='male', Age=27.0, SibSp=0, Parch=0, Ticket='244358', Fare=26.0, Embarked='S', CabinArray=None), Row(PassengerId=553, Survived=0, Pclass=3, Name=\"O'Brien, Mr. Timothy\", Sex='male', Age=None, SibSp=0, Parch=0, Ticket='330979', Fare=7.82919979095459, Embarked='Q', CabinArray=None), Row(PassengerId=554, Survived=1, Pclass=3, Name='\"Leeni, Mr. Fahim (\"\"Philip Zenni\"\")\"', Sex='male', Age=22.0, SibSp=0, Parch=0, Ticket='2620', Fare=7.224999904632568, Embarked='C', CabinArray=None), Row(PassengerId=555, Survived=1, Pclass=3, Name='Ohman, Miss. Velin', Sex='female', Age=22.0, SibSp=0, Parch=0, Ticket='347085', Fare=7.775000095367432, Embarked='S', CabinArray=None), Row(PassengerId=556, Survived=0, Pclass=1, Name='Wright, Mr. George', Sex='male', Age=62.0, SibSp=0, Parch=0, Ticket='113807', Fare=26.549999237060547, Embarked='S', CabinArray=None), Row(PassengerId=557, Survived=1, Pclass=1, Name='\"Duff Gordon, Lady. (Lucille Christiana Sutherland) (\"\"Mrs Morgan\"\")\"', Sex='female', Age=48.0, SibSp=1, Parch=0, Ticket='11755', Fare=39.599998474121094, Embarked='C', CabinArray=['A16']), Row(PassengerId=558, Survived=0, Pclass=1, Name='Robbins, Mr. Victor', Sex='male', Age=None, SibSp=0, Parch=0, Ticket='PC 17757', Fare=227.52499389648438, Embarked='C', CabinArray=None), Row(PassengerId=559, Survived=1, Pclass=1, Name='Taussig, Mrs. Emil (Tillie Mandelbaum)', Sex='female', Age=39.0, SibSp=1, Parch=1, Ticket='110413', Fare=79.6500015258789, Embarked='S', CabinArray=['E67']), Row(PassengerId=560, Survived=1, Pclass=3, Name='de Messemaeker, Mrs. Guillaume Joseph (Emma)', Sex='female', Age=36.0, SibSp=1, Parch=0, Ticket='345572', Fare=17.399999618530273, Embarked='S', CabinArray=None), Row(PassengerId=561, Survived=0, Pclass=3, Name='Morrow, Mr. Thomas Rowan', Sex='male', Age=None, SibSp=0, Parch=0, Ticket='372622', Fare=7.75, Embarked='Q', CabinArray=None), Row(PassengerId=562, Survived=0, Pclass=3, Name='Sivic, Mr. Husein', Sex='male', Age=40.0, SibSp=0, Parch=0, Ticket='349251', Fare=7.8958001136779785, Embarked='S', CabinArray=None), Row(PassengerId=563, Survived=0, Pclass=2, Name='Norman, Mr. Robert Douglas', Sex='male', Age=28.0, SibSp=0, Parch=0, Ticket='218629', Fare=13.5, Embarked='S', CabinArray=None), Row(PassengerId=564, Survived=0, Pclass=3, Name='Simmons, Mr. John', Sex='male', Age=None, SibSp=0, Parch=0, Ticket='SOTON/OQ 392082', Fare=8.050000190734863, Embarked='S', CabinArray=None), Row(PassengerId=565, Survived=0, Pclass=3, Name='Meanwell, Miss. (Marion Ogden)', Sex='female', Age=None, SibSp=0, Parch=0, Ticket='SOTON/O.Q. 392087', Fare=8.050000190734863, Embarked='S', CabinArray=None), Row(PassengerId=566, Survived=0, Pclass=3, Name='Davies, Mr. Alfred J', Sex='male', Age=24.0, SibSp=2, Parch=0, Ticket='A/4 48871', Fare=24.149999618530273, Embarked='S', CabinArray=None), Row(PassengerId=567, Survived=0, Pclass=3, Name='Stoytcheff, Mr. Ilia', Sex='male', Age=19.0, SibSp=0, Parch=0, Ticket='349205', Fare=7.8958001136779785, Embarked='S', CabinArray=None), Row(PassengerId=568, Survived=0, Pclass=3, Name='Palsson, Mrs. Nils (Alma Cornelia Berglund)', Sex='female', Age=29.0, SibSp=0, Parch=4, Ticket='349909', Fare=21.075000762939453, Embarked='S', CabinArray=None), Row(PassengerId=569, Survived=0, Pclass=3, Name='Doharr, Mr. Tannous', Sex='male', Age=None, SibSp=0, Parch=0, Ticket='2686', Fare=7.2291998863220215, Embarked='C', CabinArray=None), Row(PassengerId=570, Survived=1, Pclass=3, Name='Jonsson, Mr. Carl', Sex='male', Age=32.0, SibSp=0, Parch=0, Ticket='350417', Fare=7.8541998863220215, Embarked='S', CabinArray=None), Row(PassengerId=571, Survived=1, Pclass=2, Name='Harris, Mr. George', Sex='male', Age=62.0, SibSp=0, Parch=0, Ticket='S.W./PP 752', Fare=10.5, Embarked='S', CabinArray=None), Row(PassengerId=572, Survived=1, Pclass=1, Name='Appleton, Mrs. Edward Dale (Charlotte Lamson)', Sex='female', Age=53.0, SibSp=2, Parch=0, Ticket='11769', Fare=51.47919845581055, Embarked='S', CabinArray=['C101']), Row(PassengerId=573, Survived=1, Pclass=1, Name='\"Flynn, Mr. John Irwin (\"\"Irving\"\")\"', Sex='male', Age=36.0, SibSp=0, Parch=0, Ticket='PC 17474', Fare=26.387500762939453, Embarked='S', CabinArray=['E25']), Row(PassengerId=574, Survived=1, Pclass=3, Name='Kelly, Miss. Mary', Sex='female', Age=None, SibSp=0, Parch=0, Ticket='14312', Fare=7.75, Embarked='Q', CabinArray=None), Row(PassengerId=575, Survived=0, Pclass=3, Name='Rush, Mr. Alfred George John', Sex='male', Age=16.0, SibSp=0, Parch=0, Ticket='A/4. 20589', Fare=8.050000190734863, Embarked='S', CabinArray=None), Row(PassengerId=576, Survived=0, Pclass=3, Name='Patchett, Mr. George', Sex='male', Age=19.0, SibSp=0, Parch=0, Ticket='358585', Fare=14.5, Embarked='S', CabinArray=None), Row(PassengerId=577, Survived=1, Pclass=2, Name='Garside, Miss. Ethel', Sex='female', Age=34.0, SibSp=0, Parch=0, Ticket='243880', Fare=13.0, Embarked='S', CabinArray=None), Row(PassengerId=578, Survived=1, Pclass=1, Name='Silvey, Mrs. William Baird (Alice Munger)', Sex='female', Age=39.0, SibSp=1, Parch=0, Ticket='13507', Fare=55.900001525878906, Embarked='S', CabinArray=['E44']), Row(PassengerId=579, Survived=0, Pclass=3, Name='Caram, Mrs. Joseph (Maria Elias)', Sex='female', Age=None, SibSp=1, Parch=0, Ticket='2689', Fare=14.45829963684082, Embarked='C', CabinArray=None), Row(PassengerId=580, Survived=1, Pclass=3, Name='Jussila, Mr. Eiriik', Sex='male', Age=32.0, SibSp=0, Parch=0, Ticket='STON/O 2. 3101286', Fare=7.925000190734863, Embarked='S', CabinArray=None), Row(PassengerId=581, Survived=1, Pclass=2, Name='Christy, Miss. Julie Rachel', Sex='female', Age=25.0, SibSp=1, Parch=1, Ticket='237789', Fare=30.0, Embarked='S', CabinArray=None), Row(PassengerId=582, Survived=1, Pclass=1, Name='Thayer, Mrs. John Borland (Marian Longstreth Morris)', Sex='female', Age=39.0, SibSp=1, Parch=1, Ticket='17421', Fare=110.88330078125, Embarked='C', CabinArray=['C68']), Row(PassengerId=583, Survived=0, Pclass=2, Name='Downton, Mr. William James', Sex='male', Age=54.0, SibSp=0, Parch=0, Ticket='28403', Fare=26.0, Embarked='S', CabinArray=None), Row(PassengerId=584, Survived=0, Pclass=1, Name='Ross, Mr. John Hugo', Sex='male', Age=36.0, SibSp=0, Parch=0, Ticket='13049', Fare=40.125, Embarked='C', CabinArray=['A10']), Row(PassengerId=585, Survived=0, Pclass=3, Name='Paulner, Mr. Uscher', Sex='male', Age=None, SibSp=0, Parch=0, Ticket='3411', Fare=8.712499618530273, Embarked='C', CabinArray=None), Row(PassengerId=586, Survived=1, Pclass=1, Name='Taussig, Miss. Ruth', Sex='female', Age=18.0, SibSp=0, Parch=2, Ticket='110413', Fare=79.6500015258789, Embarked='S', CabinArray=['E68']), Row(PassengerId=587, Survived=0, Pclass=2, Name='Jarvis, Mr. John Denzil', Sex='male', Age=47.0, SibSp=0, Parch=0, Ticket='237565', Fare=15.0, Embarked='S', CabinArray=None), Row(PassengerId=588, Survived=1, Pclass=1, Name='Frolicher-Stehli, Mr. Maxmillian', Sex='male', Age=60.0, SibSp=1, Parch=1, Ticket='13567', Fare=79.19999694824219, Embarked='C', CabinArray=['B41']), Row(PassengerId=589, Survived=0, Pclass=3, Name='Gilinski, Mr. Eliezer', Sex='male', Age=22.0, SibSp=0, Parch=0, Ticket='14973', Fare=8.050000190734863, Embarked='S', CabinArray=None), Row(PassengerId=590, Survived=0, Pclass=3, Name='Murdlin, Mr. Joseph', Sex='male', Age=None, SibSp=0, Parch=0, Ticket='A./5. 3235', Fare=8.050000190734863, Embarked='S', CabinArray=None), Row(PassengerId=591, Survived=0, Pclass=3, Name='Rintamaki, Mr. Matti', Sex='male', Age=35.0, SibSp=0, Parch=0, Ticket='STON/O 2. 3101273', Fare=7.125, Embarked='S', CabinArray=None), Row(PassengerId=592, Survived=1, Pclass=1, Name='Stephenson, Mrs. Walter Bertram (Martha Eustis)', Sex='female', Age=52.0, SibSp=1, Parch=0, Ticket='36947', Fare=78.2667007446289, Embarked='C', CabinArray=['D20']), Row(PassengerId=593, Survived=0, Pclass=3, Name='Elsbury, Mr. William James', Sex='male', Age=47.0, SibSp=0, Parch=0, Ticket='A/5 3902', Fare=7.25, Embarked='S', CabinArray=None), Row(PassengerId=594, Survived=0, Pclass=3, Name='Bourke, Miss. Mary', Sex='female', Age=None, SibSp=0, Parch=2, Ticket='364848', Fare=7.75, Embarked='Q', CabinArray=None), Row(PassengerId=595, Survived=0, Pclass=2, Name='Chapman, Mr. John Henry', Sex='male', Age=37.0, SibSp=1, Parch=0, Ticket='SC/AH 29037', Fare=26.0, Embarked='S', CabinArray=None), Row(PassengerId=596, Survived=0, Pclass=3, Name='Van Impe, Mr. Jean Baptiste', Sex='male', Age=36.0, SibSp=1, Parch=1, Ticket='345773', Fare=24.149999618530273, Embarked='S', CabinArray=None), Row(PassengerId=597, Survived=1, Pclass=2, Name='Leitch, Miss. Jessie Wills', Sex='female', Age=None, SibSp=0, Parch=0, Ticket='248727', Fare=33.0, Embarked='S', CabinArray=None), Row(PassengerId=598, Survived=0, Pclass=3, Name='Johnson, Mr. Alfred', Sex='male', Age=49.0, SibSp=0, Parch=0, Ticket='LINE', Fare=0.0, Embarked='S', CabinArray=None), Row(PassengerId=599, Survived=0, Pclass=3, Name='Boulos, Mr. Hanna', Sex='male', Age=None, SibSp=0, Parch=0, Ticket='2664', Fare=7.224999904632568, Embarked='C', CabinArray=None), Row(PassengerId=600, Survived=1, Pclass=1, Name='\"Duff Gordon, Sir. Cosmo Edmund (\"\"Mr Morgan\"\")\"', Sex='male', Age=49.0, SibSp=1, Parch=0, Ticket='PC 17485', Fare=56.92919921875, Embarked='C', CabinArray=['A20']), Row(PassengerId=601, Survived=1, Pclass=2, Name='Jacobsohn, Mrs. Sidney Samuel (Amy Frances Christy)', Sex='female', Age=24.0, SibSp=2, Parch=1, Ticket='243847', Fare=27.0, Embarked='S', CabinArray=None), Row(PassengerId=602, Survived=0, Pclass=3, Name='Slabenoff, Mr. Petco', Sex='male', Age=None, SibSp=0, Parch=0, Ticket='349214', Fare=7.8958001136779785, Embarked='S', CabinArray=None), Row(PassengerId=603, Survived=0, Pclass=1, Name='Harrington, Mr. Charles H', Sex='male', Age=None, SibSp=0, Parch=0, Ticket='113796', Fare=42.400001525878906, Embarked='S', CabinArray=None), Row(PassengerId=604, Survived=0, Pclass=3, Name='Torber, Mr. Ernst William', Sex='male', Age=44.0, SibSp=0, Parch=0, Ticket='364511', Fare=8.050000190734863, Embarked='S', CabinArray=None), Row(PassengerId=605, Survived=1, Pclass=1, Name='\"Homer, Mr. Harry (\"\"Mr E Haven\"\")\"', Sex='male', Age=35.0, SibSp=0, Parch=0, Ticket='111426', Fare=26.549999237060547, Embarked='C', CabinArray=None), Row(PassengerId=606, Survived=0, Pclass=3, Name='Lindell, Mr. Edvard Bengtsson', Sex='male', Age=36.0, SibSp=1, Parch=0, Ticket='349910', Fare=15.550000190734863, Embarked='S', CabinArray=None), Row(PassengerId=607, Survived=0, Pclass=3, Name='Karaic, Mr. Milan', Sex='male', Age=30.0, SibSp=0, Parch=0, Ticket='349246', Fare=7.8958001136779785, Embarked='S', CabinArray=None), Row(PassengerId=608, Survived=1, Pclass=1, Name='Daniel, Mr. Robert Williams', Sex='male', Age=27.0, SibSp=0, Parch=0, Ticket='113804', Fare=30.5, Embarked='S', CabinArray=None), Row(PassengerId=609, Survived=1, Pclass=2, Name='Laroche, Mrs. Joseph (Juliette Marie Louise Lafargue)', Sex='female', Age=22.0, SibSp=1, Parch=2, Ticket='SC/Paris 2123', Fare=41.579200744628906, Embarked='C', CabinArray=None), Row(PassengerId=610, Survived=1, Pclass=1, Name='Shutes, Miss. Elizabeth W', Sex='female', Age=40.0, SibSp=0, Parch=0, Ticket='PC 17582', Fare=153.46249389648438, Embarked='S', CabinArray=['C125']), Row(PassengerId=611, Survived=0, Pclass=3, Name='Andersson, Mrs. Anders Johan (Alfrida Konstantia Brogren)', Sex='female', Age=39.0, SibSp=1, Parch=5, Ticket='347082', Fare=31.274999618530273, Embarked='S', CabinArray=None), Row(PassengerId=612, Survived=0, Pclass=3, Name='Jardin, Mr. Jose Neto', Sex='male', Age=None, SibSp=0, Parch=0, Ticket='SOTON/O.Q. 3101305', Fare=7.050000190734863, Embarked='S', CabinArray=None), Row(PassengerId=613, Survived=1, Pclass=3, Name='Murphy, Miss. Margaret Jane', Sex='female', Age=None, SibSp=1, Parch=0, Ticket='367230', Fare=15.5, Embarked='Q', CabinArray=None), Row(PassengerId=614, Survived=0, Pclass=3, Name='Horgan, Mr. John', Sex='male', Age=None, SibSp=0, Parch=0, Ticket='370377', Fare=7.75, Embarked='Q', CabinArray=None), Row(PassengerId=615, Survived=0, Pclass=3, Name='Brocklebank, Mr. William Alfred', Sex='male', Age=35.0, SibSp=0, Parch=0, Ticket='364512', Fare=8.050000190734863, Embarked='S', CabinArray=None), Row(PassengerId=616, Survived=1, Pclass=2, Name='Herman, Miss. Alice', Sex='female', Age=24.0, SibSp=1, Parch=2, Ticket='220845', Fare=65.0, Embarked='S', CabinArray=None), Row(PassengerId=617, Survived=0, Pclass=3, Name='Danbom, Mr. Ernst Gilbert', Sex='male', Age=34.0, SibSp=1, Parch=1, Ticket='347080', Fare=14.399999618530273, Embarked='S', CabinArray=None), Row(PassengerId=618, Survived=0, Pclass=3, Name='Lobb, Mrs. William Arthur (Cordelia K Stanlick)', Sex='female', Age=26.0, SibSp=1, Parch=0, Ticket='A/5. 3336', Fare=16.100000381469727, Embarked='S', CabinArray=None), Row(PassengerId=619, Survived=1, Pclass=2, Name='Becker, Miss. Marion Louise', Sex='female', Age=4.0, SibSp=2, Parch=1, Ticket='230136', Fare=39.0, Embarked='S', CabinArray=['F4']), Row(PassengerId=620, Survived=0, Pclass=2, Name='Gavey, Mr. Lawrence', Sex='male', Age=26.0, SibSp=0, Parch=0, Ticket='31028', Fare=10.5, Embarked='S', CabinArray=None), Row(PassengerId=621, Survived=0, Pclass=3, Name='Yasbeck, Mr. Antoni', Sex='male', Age=27.0, SibSp=1, Parch=0, Ticket='2659', Fare=14.45419979095459, Embarked='C', CabinArray=None), Row(PassengerId=622, Survived=1, Pclass=1, Name='Kimball, Mr. Edwin Nelson Jr', Sex='male', Age=42.0, SibSp=1, Parch=0, Ticket='11753', Fare=52.55419921875, Embarked='S', CabinArray=['D19']), Row(PassengerId=623, Survived=1, Pclass=3, Name='Nakid, Mr. Sahid', Sex='male', Age=20.0, SibSp=1, Parch=1, Ticket='2653', Fare=15.741700172424316, Embarked='C', CabinArray=None), Row(PassengerId=624, Survived=0, Pclass=3, Name='Hansen, Mr. Henry Damsgaard', Sex='male', Age=21.0, SibSp=0, Parch=0, Ticket='350029', Fare=7.8541998863220215, Embarked='S', CabinArray=None), Row(PassengerId=625, Survived=0, Pclass=3, Name='\"Bowen, Mr. David John \"\"Dai\"\"\"', Sex='male', Age=21.0, SibSp=0, Parch=0, Ticket='54636', Fare=16.100000381469727, Embarked='S', CabinArray=None), Row(PassengerId=626, Survived=0, Pclass=1, Name='Sutton, Mr. Frederick', Sex='male', Age=61.0, SibSp=0, Parch=0, Ticket='36963', Fare=32.32080078125, Embarked='S', CabinArray=['D50']), Row(PassengerId=627, Survived=0, Pclass=2, Name='Kirkland, Rev. Charles Leonard', Sex='male', Age=57.0, SibSp=0, Parch=0, Ticket='219533', Fare=12.350000381469727, Embarked='Q', CabinArray=None), Row(PassengerId=628, Survived=1, Pclass=1, Name='Longley, Miss. Gretchen Fiske', Sex='female', Age=21.0, SibSp=0, Parch=0, Ticket='13502', Fare=77.95829772949219, Embarked='S', CabinArray=['D9']), Row(PassengerId=629, Survived=0, Pclass=3, Name='Bostandyeff, Mr. Guentcho', Sex='male', Age=26.0, SibSp=0, Parch=0, Ticket='349224', Fare=7.8958001136779785, Embarked='S', CabinArray=None), Row(PassengerId=630, Survived=0, Pclass=3, Name=\"O'Connell, Mr. Patrick D\", Sex='male', Age=None, SibSp=0, Parch=0, Ticket='334912', Fare=7.73330020904541, Embarked='Q', CabinArray=None), Row(PassengerId=631, Survived=1, Pclass=1, Name='Barkworth, Mr. Algernon Henry Wilson', Sex='male', Age=80.0, SibSp=0, Parch=0, Ticket='27042', Fare=30.0, Embarked='S', CabinArray=['A23']), Row(PassengerId=632, Survived=0, Pclass=3, Name='Lundahl, Mr. Johan Svensson', Sex='male', Age=51.0, SibSp=0, Parch=0, Ticket='347743', Fare=7.054200172424316, Embarked='S', CabinArray=None), Row(PassengerId=633, Survived=1, Pclass=1, Name='Stahelin-Maeglin, Dr. Max', Sex='male', Age=32.0, SibSp=0, Parch=0, Ticket='13214', Fare=30.5, Embarked='C', CabinArray=['B50']), Row(PassengerId=634, Survived=0, Pclass=1, Name='Parr, Mr. William Henry Marsh', Sex='male', Age=None, SibSp=0, Parch=0, Ticket='112052', Fare=0.0, Embarked='S', CabinArray=None), Row(PassengerId=635, Survived=0, Pclass=3, Name='Skoog, Miss. Mabel', Sex='female', Age=9.0, SibSp=3, Parch=2, Ticket='347088', Fare=27.899999618530273, Embarked='S', CabinArray=None), Row(PassengerId=636, Survived=1, Pclass=2, Name='Davis, Miss. Mary', Sex='female', Age=28.0, SibSp=0, Parch=0, Ticket='237668', Fare=13.0, Embarked='S', CabinArray=None), Row(PassengerId=637, Survived=0, Pclass=3, Name='Leinonen, Mr. Antti Gustaf', Sex='male', Age=32.0, SibSp=0, Parch=0, Ticket='STON/O 2. 3101292', Fare=7.925000190734863, Embarked='S', CabinArray=None), Row(PassengerId=638, Survived=0, Pclass=2, Name='Collyer, Mr. Harvey', Sex='male', Age=31.0, SibSp=1, Parch=1, Ticket='C.A. 31921', Fare=26.25, Embarked='S', CabinArray=None), Row(PassengerId=639, Survived=0, Pclass=3, Name='Panula, Mrs. Juha (Maria Emilia Ojala)', Sex='female', Age=41.0, SibSp=0, Parch=5, Ticket='3101295', Fare=39.6875, Embarked='S', CabinArray=None), Row(PassengerId=640, Survived=0, Pclass=3, Name='Thorneycroft, Mr. Percival', Sex='male', Age=None, SibSp=1, Parch=0, Ticket='376564', Fare=16.100000381469727, Embarked='S', CabinArray=None), Row(PassengerId=641, Survived=0, Pclass=3, Name='Jensen, Mr. Hans Peder', Sex='male', Age=20.0, SibSp=0, Parch=0, Ticket='350050', Fare=7.8541998863220215, Embarked='S', CabinArray=None), Row(PassengerId=642, Survived=1, Pclass=1, Name='Sagesser, Mlle. Emma', Sex='female', Age=24.0, SibSp=0, Parch=0, Ticket='PC 17477', Fare=69.30000305175781, Embarked='C', CabinArray=['B35']), Row(PassengerId=643, Survived=0, Pclass=3, Name='Skoog, Miss. Margit Elizabeth', Sex='female', Age=2.0, SibSp=3, Parch=2, Ticket='347088', Fare=27.899999618530273, Embarked='S', CabinArray=None), Row(PassengerId=644, Survived=1, Pclass=3, Name='Foo, Mr. Choong', Sex='male', Age=None, SibSp=0, Parch=0, Ticket='1601', Fare=56.49580001831055, Embarked='S', CabinArray=None), Row(PassengerId=645, Survived=1, Pclass=3, Name='Baclini, Miss. Eugenie', Sex='female', Age=0.75, SibSp=2, Parch=1, Ticket='2666', Fare=19.25830078125, Embarked='C', CabinArray=None), Row(PassengerId=646, Survived=1, Pclass=1, Name='Harper, Mr. Henry Sleeper', Sex='male', Age=48.0, SibSp=1, Parch=0, Ticket='PC 17572', Fare=76.72920227050781, Embarked='C', CabinArray=['D33']), Row(PassengerId=647, Survived=0, Pclass=3, Name='Cor, Mr. Liudevit', Sex='male', Age=19.0, SibSp=0, Parch=0, Ticket='349231', Fare=7.8958001136779785, Embarked='S', CabinArray=None), Row(PassengerId=648, Survived=1, Pclass=1, Name='Simonius-Blumer, Col. Oberst Alfons', Sex='male', Age=56.0, SibSp=0, Parch=0, Ticket='13213', Fare=35.5, Embarked='C', CabinArray=['A26']), Row(PassengerId=649, Survived=0, Pclass=3, Name='Willey, Mr. Edward', Sex='male', Age=None, SibSp=0, Parch=0, Ticket='S.O./P.P. 751', Fare=7.550000190734863, Embarked='S', CabinArray=None), Row(PassengerId=650, Survived=1, Pclass=3, Name='Stanley, Miss. Amy Zillah Elsie', Sex='female', Age=23.0, SibSp=0, Parch=0, Ticket='CA. 2314', Fare=7.550000190734863, Embarked='S', CabinArray=None), Row(PassengerId=651, Survived=0, Pclass=3, Name='Mitkoff, Mr. Mito', Sex='male', Age=None, SibSp=0, Parch=0, Ticket='349221', Fare=7.8958001136779785, Embarked='S', CabinArray=None), Row(PassengerId=652, Survived=1, Pclass=2, Name='Doling, Miss. Elsie', Sex='female', Age=18.0, SibSp=0, Parch=1, Ticket='231919', Fare=23.0, Embarked='S', CabinArray=None), Row(PassengerId=653, Survived=0, Pclass=3, Name='Kalvik, Mr. Johannes Halvorsen', Sex='male', Age=21.0, SibSp=0, Parch=0, Ticket='8475', Fare=8.433300018310547, Embarked='S', CabinArray=None), Row(PassengerId=654, Survived=1, Pclass=3, Name='\"O\\'Leary, Miss. Hanora \"\"Norah\"\"\"', Sex='female', Age=None, SibSp=0, Parch=0, Ticket='330919', Fare=7.82919979095459, Embarked='Q', CabinArray=None), Row(PassengerId=655, Survived=0, Pclass=3, Name='\"Hegarty, Miss. Hanora \"\"Nora\"\"\"', Sex='female', Age=18.0, SibSp=0, Parch=0, Ticket='365226', Fare=6.75, Embarked='Q', CabinArray=None), Row(PassengerId=656, Survived=0, Pclass=2, Name='Hickman, Mr. Leonard Mark', Sex='male', Age=24.0, SibSp=2, Parch=0, Ticket='S.O.C. 14879', Fare=73.5, Embarked='S', CabinArray=None), Row(PassengerId=657, Survived=0, Pclass=3, Name='Radeff, Mr. Alexander', Sex='male', Age=None, SibSp=0, Parch=0, Ticket='349223', Fare=7.8958001136779785, Embarked='S', CabinArray=None), Row(PassengerId=658, Survived=0, Pclass=3, Name='Bourke, Mrs. John (Catherine)', Sex='female', Age=32.0, SibSp=1, Parch=1, Ticket='364849', Fare=15.5, Embarked='Q', CabinArray=None), Row(PassengerId=659, Survived=0, Pclass=2, Name='Eitemiller, Mr. George Floyd', Sex='male', Age=23.0, SibSp=0, Parch=0, Ticket='29751', Fare=13.0, Embarked='S', CabinArray=None), Row(PassengerId=660, Survived=0, Pclass=1, Name='Newell, Mr. Arthur Webster', Sex='male', Age=58.0, SibSp=0, Parch=2, Ticket='35273', Fare=113.2750015258789, Embarked='C', CabinArray=['D48']), Row(PassengerId=661, Survived=1, Pclass=1, Name='Frauenthal, Dr. Henry William', Sex='male', Age=50.0, SibSp=2, Parch=0, Ticket='PC 17611', Fare=133.64999389648438, Embarked='S', CabinArray=None), Row(PassengerId=662, Survived=0, Pclass=3, Name='Badt, Mr. Mohamed', Sex='male', Age=40.0, SibSp=0, Parch=0, Ticket='2623', Fare=7.224999904632568, Embarked='C', CabinArray=None), Row(PassengerId=663, Survived=0, Pclass=1, Name='Colley, Mr. Edward Pomeroy', Sex='male', Age=47.0, SibSp=0, Parch=0, Ticket='5727', Fare=25.587499618530273, Embarked='S', CabinArray=['E58']), Row(PassengerId=664, Survived=0, Pclass=3, Name='Coleff, Mr. Peju', Sex='male', Age=36.0, SibSp=0, Parch=0, Ticket='349210', Fare=7.495800018310547, Embarked='S', CabinArray=None), Row(PassengerId=665, Survived=1, Pclass=3, Name='Lindqvist, Mr. Eino William', Sex='male', Age=20.0, SibSp=1, Parch=0, Ticket='STON/O 2. 3101285', Fare=7.925000190734863, Embarked='S', CabinArray=None), Row(PassengerId=666, Survived=0, Pclass=2, Name='Hickman, Mr. Lewis', Sex='male', Age=32.0, SibSp=2, Parch=0, Ticket='S.O.C. 14879', Fare=73.5, Embarked='S', CabinArray=None), Row(PassengerId=667, Survived=0, Pclass=2, Name='Butler, Mr. Reginald Fenton', Sex='male', Age=25.0, SibSp=0, Parch=0, Ticket='234686', Fare=13.0, Embarked='S', CabinArray=None), Row(PassengerId=668, Survived=0, Pclass=3, Name='Rommetvedt, Mr. Knud Paust', Sex='male', Age=None, SibSp=0, Parch=0, Ticket='312993', Fare=7.775000095367432, Embarked='S', CabinArray=None), Row(PassengerId=669, Survived=0, Pclass=3, Name='Cook, Mr. Jacob', Sex='male', Age=43.0, SibSp=0, Parch=0, Ticket='A/5 3536', Fare=8.050000190734863, Embarked='S', CabinArray=None), Row(PassengerId=670, Survived=1, Pclass=1, Name='Taylor, Mrs. Elmer Zebley (Juliet Cummins Wright)', Sex='female', Age=None, SibSp=1, Parch=0, Ticket='19996', Fare=52.0, Embarked='S', CabinArray=['C126']), Row(PassengerId=671, Survived=1, Pclass=2, Name='Brown, Mrs. Thomas William Solomon (Elizabeth Catherine Ford)', Sex='female', Age=40.0, SibSp=1, Parch=1, Ticket='29750', Fare=39.0, Embarked='S', CabinArray=None), Row(PassengerId=672, Survived=0, Pclass=1, Name='Davidson, Mr. Thornton', Sex='male', Age=31.0, SibSp=1, Parch=0, Ticket='F.C. 12750', Fare=52.0, Embarked='S', CabinArray=['B71']), Row(PassengerId=673, Survived=0, Pclass=2, Name='Mitchell, Mr. Henry Michael', Sex='male', Age=70.0, SibSp=0, Parch=0, Ticket='C.A. 24580', Fare=10.5, Embarked='S', CabinArray=None), Row(PassengerId=674, Survived=1, Pclass=2, Name='Wilhelms, Mr. Charles', Sex='male', Age=31.0, SibSp=0, Parch=0, Ticket='244270', Fare=13.0, Embarked='S', CabinArray=None), Row(PassengerId=675, Survived=0, Pclass=2, Name='Watson, Mr. Ennis Hastings', Sex='male', Age=None, SibSp=0, Parch=0, Ticket='239856', Fare=0.0, Embarked='S', CabinArray=None), Row(PassengerId=676, Survived=0, Pclass=3, Name='Edvardsson, Mr. Gustaf Hjalmar', Sex='male', Age=18.0, SibSp=0, Parch=0, Ticket='349912', Fare=7.775000095367432, Embarked='S', CabinArray=None), Row(PassengerId=677, Survived=0, Pclass=3, Name='Sawyer, Mr. Frederick Charles', Sex='male', Age=24.5, SibSp=0, Parch=0, Ticket='342826', Fare=8.050000190734863, Embarked='S', CabinArray=None), Row(PassengerId=678, Survived=1, Pclass=3, Name='Turja, Miss. Anna Sofia', Sex='female', Age=18.0, SibSp=0, Parch=0, Ticket='4138', Fare=9.841699600219727, Embarked='S', CabinArray=None), Row(PassengerId=679, Survived=0, Pclass=3, Name='Goodwin, Mrs. Frederick (Augusta Tyler)', Sex='female', Age=43.0, SibSp=1, Parch=6, Ticket='CA 2144', Fare=46.900001525878906, Embarked='S', CabinArray=None), Row(PassengerId=680, Survived=1, Pclass=1, Name='Cardeza, Mr. Thomas Drake Martinez', Sex='male', Age=36.0, SibSp=0, Parch=1, Ticket='PC 17755', Fare=512.3292236328125, Embarked='C', CabinArray=['B51 B53 B55']), Row(PassengerId=681, Survived=0, Pclass=3, Name='Peters, Miss. Katie', Sex='female', Age=None, SibSp=0, Parch=0, Ticket='330935', Fare=8.137499809265137, Embarked='Q', CabinArray=None), Row(PassengerId=682, Survived=1, Pclass=1, Name='Hassab, Mr. Hammad', Sex='male', Age=27.0, SibSp=0, Parch=0, Ticket='PC 17572', Fare=76.72920227050781, Embarked='C', CabinArray=['D49']), Row(PassengerId=683, Survived=0, Pclass=3, Name='Olsvigen, Mr. Thor Anderson', Sex='male', Age=20.0, SibSp=0, Parch=0, Ticket='6563', Fare=9.225000381469727, Embarked='S', CabinArray=None), Row(PassengerId=684, Survived=0, Pclass=3, Name='Goodwin, Mr. Charles Edward', Sex='male', Age=14.0, SibSp=5, Parch=2, Ticket='CA 2144', Fare=46.900001525878906, Embarked='S', CabinArray=None), Row(PassengerId=685, Survived=0, Pclass=2, Name='Brown, Mr. Thomas William Solomon', Sex='male', Age=60.0, SibSp=1, Parch=1, Ticket='29750', Fare=39.0, Embarked='S', CabinArray=None), Row(PassengerId=686, Survived=0, Pclass=2, Name='Laroche, Mr. Joseph Philippe Lemercier', Sex='male', Age=25.0, SibSp=1, Parch=2, Ticket='SC/Paris 2123', Fare=41.579200744628906, Embarked='C', CabinArray=None), Row(PassengerId=687, Survived=0, Pclass=3, Name='Panula, Mr. Jaako Arnold', Sex='male', Age=14.0, SibSp=4, Parch=1, Ticket='3101295', Fare=39.6875, Embarked='S', CabinArray=None), Row(PassengerId=688, Survived=0, Pclass=3, Name='Dakic, Mr. Branko', Sex='male', Age=19.0, SibSp=0, Parch=0, Ticket='349228', Fare=10.17080020904541, Embarked='S', CabinArray=None), Row(PassengerId=689, Survived=0, Pclass=3, Name='Fischer, Mr. Eberhard Thelander', Sex='male', Age=18.0, SibSp=0, Parch=0, Ticket='350036', Fare=7.79580020904541, Embarked='S', CabinArray=None), Row(PassengerId=690, Survived=1, Pclass=1, Name='Madill, Miss. Georgette Alexandra', Sex='female', Age=15.0, SibSp=0, Parch=1, Ticket='24160', Fare=211.33749389648438, Embarked='S', CabinArray=['B5']), Row(PassengerId=691, Survived=1, Pclass=1, Name='Dick, Mr. Albert Adrian', Sex='male', Age=31.0, SibSp=1, Parch=0, Ticket='17474', Fare=57.0, Embarked='S', CabinArray=['B20']), Row(PassengerId=692, Survived=1, Pclass=3, Name='Karun, Miss. Manca', Sex='female', Age=4.0, SibSp=0, Parch=1, Ticket='349256', Fare=13.41670036315918, Embarked='C', CabinArray=None), Row(PassengerId=693, Survived=1, Pclass=3, Name='Lam, Mr. Ali', Sex='male', Age=None, SibSp=0, Parch=0, Ticket='1601', Fare=56.49580001831055, Embarked='S', CabinArray=None), Row(PassengerId=694, Survived=0, Pclass=3, Name='Saad, Mr. Khalil', Sex='male', Age=25.0, SibSp=0, Parch=0, Ticket='2672', Fare=7.224999904632568, Embarked='C', CabinArray=None), Row(PassengerId=695, Survived=0, Pclass=1, Name='Weir, Col. John', Sex='male', Age=60.0, SibSp=0, Parch=0, Ticket='113800', Fare=26.549999237060547, Embarked='S', CabinArray=None), Row(PassengerId=696, Survived=0, Pclass=2, Name='Chapman, Mr. Charles Henry', Sex='male', Age=52.0, SibSp=0, Parch=0, Ticket='248731', Fare=13.5, Embarked='S', CabinArray=None), Row(PassengerId=697, Survived=0, Pclass=3, Name='Kelly, Mr. James', Sex='male', Age=44.0, SibSp=0, Parch=0, Ticket='363592', Fare=8.050000190734863, Embarked='S', CabinArray=None), Row(PassengerId=698, Survived=1, Pclass=3, Name='\"Mullens, Miss. Katherine \"\"Katie\"\"\"', Sex='female', Age=None, SibSp=0, Parch=0, Ticket='35852', Fare=7.73330020904541, Embarked='Q', CabinArray=None), Row(PassengerId=699, Survived=0, Pclass=1, Name='Thayer, Mr. John Borland', Sex='male', Age=49.0, SibSp=1, Parch=1, Ticket='17421', Fare=110.88330078125, Embarked='C', CabinArray=['C68']), Row(PassengerId=700, Survived=0, Pclass=3, Name='Humblen, Mr. Adolf Mathias Nicolai Olsen', Sex='male', Age=42.0, SibSp=0, Parch=0, Ticket='348121', Fare=7.650000095367432, Embarked='S', CabinArray=['F G63']), Row(PassengerId=701, Survived=1, Pclass=1, Name='Astor, Mrs. John Jacob (Madeleine Talmadge Force)', Sex='female', Age=18.0, SibSp=1, Parch=0, Ticket='PC 17757', Fare=227.52499389648438, Embarked='C', CabinArray=['C62 C64']), Row(PassengerId=702, Survived=1, Pclass=1, Name='Silverthorne, Mr. Spencer Victor', Sex='male', Age=35.0, SibSp=0, Parch=0, Ticket='PC 17475', Fare=26.287500381469727, Embarked='S', CabinArray=['E24']), Row(PassengerId=703, Survived=0, Pclass=3, Name='Barbara, Miss. Saiide', Sex='female', Age=18.0, SibSp=0, Parch=1, Ticket='2691', Fare=14.45419979095459, Embarked='C', CabinArray=None), Row(PassengerId=704, Survived=0, Pclass=3, Name='Gallagher, Mr. Martin', Sex='male', Age=25.0, SibSp=0, Parch=0, Ticket='36864', Fare=7.741700172424316, Embarked='Q', CabinArray=None), Row(PassengerId=705, Survived=0, Pclass=3, Name='Hansen, Mr. Henrik Juul', Sex='male', Age=26.0, SibSp=1, Parch=0, Ticket='350025', Fare=7.8541998863220215, Embarked='S', CabinArray=None), Row(PassengerId=706, Survived=0, Pclass=2, Name='\"Morley, Mr. Henry Samuel (\"\"Mr Henry Marshall\"\")\"', Sex='male', Age=39.0, SibSp=0, Parch=0, Ticket='250655', Fare=26.0, Embarked='S', CabinArray=None), Row(PassengerId=707, Survived=1, Pclass=2, Name='\"Kelly, Mrs. Florence \"\"Fannie\"\"\"', Sex='female', Age=45.0, SibSp=0, Parch=0, Ticket='223596', Fare=13.5, Embarked='S', CabinArray=None), Row(PassengerId=708, Survived=1, Pclass=1, Name='Calderhead, Mr. Edward Pennington', Sex='male', Age=42.0, SibSp=0, Parch=0, Ticket='PC 17476', Fare=26.287500381469727, Embarked='S', CabinArray=['E24']), Row(PassengerId=709, Survived=1, Pclass=1, Name='Cleaver, Miss. Alice', Sex='female', Age=22.0, SibSp=0, Parch=0, Ticket='113781', Fare=151.5500030517578, Embarked='S', CabinArray=None), Row(PassengerId=710, Survived=1, Pclass=3, Name='\"Moubarek, Master. Halim Gonios (\"\"William George\"\")\"', Sex='male', Age=None, SibSp=1, Parch=1, Ticket='2661', Fare=15.245800018310547, Embarked='C', CabinArray=None), Row(PassengerId=711, Survived=1, Pclass=1, Name='\"Mayne, Mlle. Berthe Antonine (\"\"Mrs de Villiers\"\")\"', Sex='female', Age=24.0, SibSp=0, Parch=0, Ticket='PC 17482', Fare=49.50419998168945, Embarked='C', CabinArray=['C90']), Row(PassengerId=712, Survived=0, Pclass=1, Name='Klaber, Mr. Herman', Sex='male', Age=None, SibSp=0, Parch=0, Ticket='113028', Fare=26.549999237060547, Embarked='S', CabinArray=['C124']), Row(PassengerId=713, Survived=1, Pclass=1, Name='Taylor, Mr. Elmer Zebley', Sex='male', Age=48.0, SibSp=1, Parch=0, Ticket='19996', Fare=52.0, Embarked='S', CabinArray=['C126']), Row(PassengerId=714, Survived=0, Pclass=3, Name='Larsson, Mr. August Viktor', Sex='male', Age=29.0, SibSp=0, Parch=0, Ticket='7545', Fare=9.48330020904541, Embarked='S', CabinArray=None), Row(PassengerId=715, Survived=0, Pclass=2, Name='Greenberg, Mr. Samuel', Sex='male', Age=52.0, SibSp=0, Parch=0, Ticket='250647', Fare=13.0, Embarked='S', CabinArray=None), Row(PassengerId=716, Survived=0, Pclass=3, Name='Soholt, Mr. Peter Andreas Lauritz Andersen', Sex='male', Age=19.0, SibSp=0, Parch=0, Ticket='348124', Fare=7.650000095367432, Embarked='S', CabinArray=['F G73']), Row(PassengerId=717, Survived=1, Pclass=1, Name='Endres, Miss. Caroline Louise', Sex='female', Age=38.0, SibSp=0, Parch=0, Ticket='PC 17757', Fare=227.52499389648438, Embarked='C', CabinArray=['C45']), Row(PassengerId=718, Survived=1, Pclass=2, Name='\"Troutt, Miss. Edwina Celia \"\"Winnie\"\"\"', Sex='female', Age=27.0, SibSp=0, Parch=0, Ticket='34218', Fare=10.5, Embarked='S', CabinArray=['E101']), Row(PassengerId=719, Survived=0, Pclass=3, Name='McEvoy, Mr. Michael', Sex='male', Age=None, SibSp=0, Parch=0, Ticket='36568', Fare=15.5, Embarked='Q', CabinArray=None), Row(PassengerId=720, Survived=0, Pclass=3, Name='Johnson, Mr. Malkolm Joackim', Sex='male', Age=33.0, SibSp=0, Parch=0, Ticket='347062', Fare=7.775000095367432, Embarked='S', CabinArray=None), Row(PassengerId=721, Survived=1, Pclass=2, Name='\"Harper, Miss. Annie Jessie \"\"Nina\"\"\"', Sex='female', Age=6.0, SibSp=0, Parch=1, Ticket='248727', Fare=33.0, Embarked='S', CabinArray=None), Row(PassengerId=722, Survived=0, Pclass=3, Name='Jensen, Mr. Svend Lauritz', Sex='male', Age=17.0, SibSp=1, Parch=0, Ticket='350048', Fare=7.054200172424316, Embarked='S', CabinArray=None), Row(PassengerId=723, Survived=0, Pclass=2, Name='Gillespie, Mr. William Henry', Sex='male', Age=34.0, SibSp=0, Parch=0, Ticket='12233', Fare=13.0, Embarked='S', CabinArray=None), Row(PassengerId=724, Survived=0, Pclass=2, Name='Hodges, Mr. Henry Price', Sex='male', Age=50.0, SibSp=0, Parch=0, Ticket='250643', Fare=13.0, Embarked='S', CabinArray=None), Row(PassengerId=725, Survived=1, Pclass=1, Name='Chambers, Mr. Norman Campbell', Sex='male', Age=27.0, SibSp=1, Parch=0, Ticket='113806', Fare=53.099998474121094, Embarked='S', CabinArray=['E8']), Row(PassengerId=726, Survived=0, Pclass=3, Name='Oreskovic, Mr. Luka', Sex='male', Age=20.0, SibSp=0, Parch=0, Ticket='315094', Fare=8.662500381469727, Embarked='S', CabinArray=None), Row(PassengerId=727, Survived=1, Pclass=2, Name='Renouf, Mrs. Peter Henry (Lillian Jefferys)', Sex='female', Age=30.0, SibSp=3, Parch=0, Ticket='31027', Fare=21.0, Embarked='S', CabinArray=None), Row(PassengerId=728, Survived=1, Pclass=3, Name='Mannion, Miss. Margareth', Sex='female', Age=None, SibSp=0, Parch=0, Ticket='36866', Fare=7.737500190734863, Embarked='Q', CabinArray=None), Row(PassengerId=729, Survived=0, Pclass=2, Name='Bryhl, Mr. Kurt Arnold Gottfrid', Sex='male', Age=25.0, SibSp=1, Parch=0, Ticket='236853', Fare=26.0, Embarked='S', CabinArray=None), Row(PassengerId=730, Survived=0, Pclass=3, Name='Ilmakangas, Miss. Pieta Sofia', Sex='female', Age=25.0, SibSp=1, Parch=0, Ticket='STON/O2. 3101271', Fare=7.925000190734863, Embarked='S', CabinArray=None), Row(PassengerId=731, Survived=1, Pclass=1, Name='Allen, Miss. Elisabeth Walton', Sex='female', Age=29.0, SibSp=0, Parch=0, Ticket='24160', Fare=211.33749389648438, Embarked='S', CabinArray=['B5']), Row(PassengerId=732, Survived=0, Pclass=3, Name='Hassan, Mr. Houssein G N', Sex='male', Age=11.0, SibSp=0, Parch=0, Ticket='2699', Fare=18.787500381469727, Embarked='C', CabinArray=None), Row(PassengerId=733, Survived=0, Pclass=2, Name='Knight, Mr. Robert J', Sex='male', Age=None, SibSp=0, Parch=0, Ticket='239855', Fare=0.0, Embarked='S', CabinArray=None), Row(PassengerId=734, Survived=0, Pclass=2, Name='Berriman, Mr. William John', Sex='male', Age=23.0, SibSp=0, Parch=0, Ticket='28425', Fare=13.0, Embarked='S', CabinArray=None), Row(PassengerId=735, Survived=0, Pclass=2, Name='Troupiansky, Mr. Moses Aaron', Sex='male', Age=23.0, SibSp=0, Parch=0, Ticket='233639', Fare=13.0, Embarked='S', CabinArray=None), Row(PassengerId=736, Survived=0, Pclass=3, Name='Williams, Mr. Leslie', Sex='male', Age=28.5, SibSp=0, Parch=0, Ticket='54636', Fare=16.100000381469727, Embarked='S', CabinArray=None), Row(PassengerId=737, Survived=0, Pclass=3, Name='Ford, Mrs. Edward (Margaret Ann Watson)', Sex='female', Age=48.0, SibSp=1, Parch=3, Ticket='W./C. 6608', Fare=34.375, Embarked='S', CabinArray=None), Row(PassengerId=738, Survived=1, Pclass=1, Name='Lesurer, Mr. Gustave J', Sex='male', Age=35.0, SibSp=0, Parch=0, Ticket='PC 17755', Fare=512.3292236328125, Embarked='C', CabinArray=['B101']), Row(PassengerId=739, Survived=0, Pclass=3, Name='Ivanoff, Mr. Kanio', Sex='male', Age=None, SibSp=0, Parch=0, Ticket='349201', Fare=7.8958001136779785, Embarked='S', CabinArray=None), Row(PassengerId=740, Survived=0, Pclass=3, Name='Nankoff, Mr. Minko', Sex='male', Age=None, SibSp=0, Parch=0, Ticket='349218', Fare=7.8958001136779785, Embarked='S', CabinArray=None), Row(PassengerId=741, Survived=1, Pclass=1, Name='Hawksford, Mr. Walter James', Sex='male', Age=None, SibSp=0, Parch=0, Ticket='16988', Fare=30.0, Embarked='S', CabinArray=['D45']), Row(PassengerId=742, Survived=0, Pclass=1, Name='Cavendish, Mr. Tyrell William', Sex='male', Age=36.0, SibSp=1, Parch=0, Ticket='19877', Fare=78.8499984741211, Embarked='S', CabinArray=['C46']), Row(PassengerId=743, Survived=1, Pclass=1, Name='\"Ryerson, Miss. Susan Parker \"\"Suzette\"\"\"', Sex='female', Age=21.0, SibSp=2, Parch=2, Ticket='PC 17608', Fare=262.375, Embarked='C', CabinArray=['B57 B59 B63 B66']), Row(PassengerId=744, Survived=0, Pclass=3, Name='McNamee, Mr. Neal', Sex='male', Age=24.0, SibSp=1, Parch=0, Ticket='376566', Fare=16.100000381469727, Embarked='S', CabinArray=None), Row(PassengerId=745, Survived=1, Pclass=3, Name='Stranden, Mr. Juho', Sex='male', Age=31.0, SibSp=0, Parch=0, Ticket='STON/O 2. 3101288', Fare=7.925000190734863, Embarked='S', CabinArray=None), Row(PassengerId=746, Survived=0, Pclass=1, Name='Crosby, Capt. Edward Gifford', Sex='male', Age=70.0, SibSp=1, Parch=1, Ticket='WE/P 5735', Fare=71.0, Embarked='S', CabinArray=['B22']), Row(PassengerId=747, Survived=0, Pclass=3, Name='Abbott, Mr. Rossmore Edward', Sex='male', Age=16.0, SibSp=1, Parch=1, Ticket='C.A. 2673', Fare=20.25, Embarked='S', CabinArray=None), Row(PassengerId=748, Survived=1, Pclass=2, Name='Sinkkonen, Miss. Anna', Sex='female', Age=30.0, SibSp=0, Parch=0, Ticket='250648', Fare=13.0, Embarked='S', CabinArray=None), Row(PassengerId=749, Survived=0, Pclass=1, Name='Marvin, Mr. Daniel Warner', Sex='male', Age=19.0, SibSp=1, Parch=0, Ticket='113773', Fare=53.099998474121094, Embarked='S', CabinArray=['D30']), Row(PassengerId=750, Survived=0, Pclass=3, Name='Connaghton, Mr. Michael', Sex='male', Age=31.0, SibSp=0, Parch=0, Ticket='335097', Fare=7.75, Embarked='Q', CabinArray=None), Row(PassengerId=751, Survived=1, Pclass=2, Name='Wells, Miss. Joan', Sex='female', Age=4.0, SibSp=1, Parch=1, Ticket='29103', Fare=23.0, Embarked='S', CabinArray=None), Row(PassengerId=752, Survived=1, Pclass=3, Name='Moor, Master. Meier', Sex='male', Age=6.0, SibSp=0, Parch=1, Ticket='392096', Fare=12.475000381469727, Embarked='S', CabinArray=['E121']), Row(PassengerId=753, Survived=0, Pclass=3, Name='Vande Velde, Mr. Johannes Joseph', Sex='male', Age=33.0, SibSp=0, Parch=0, Ticket='345780', Fare=9.5, Embarked='S', CabinArray=None), Row(PassengerId=754, Survived=0, Pclass=3, Name='Jonkoff, Mr. Lalio', Sex='male', Age=23.0, SibSp=0, Parch=0, Ticket='349204', Fare=7.8958001136779785, Embarked='S', CabinArray=None), Row(PassengerId=755, Survived=1, Pclass=2, Name='Herman, Mrs. Samuel (Jane Laver)', Sex='female', Age=48.0, SibSp=1, Parch=2, Ticket='220845', Fare=65.0, Embarked='S', CabinArray=None), Row(PassengerId=756, Survived=1, Pclass=2, Name='Hamalainen, Master. Viljo', Sex='male', Age=0.6700000166893005, SibSp=1, Parch=1, Ticket='250649', Fare=14.5, Embarked='S', CabinArray=None), Row(PassengerId=757, Survived=0, Pclass=3, Name='Carlsson, Mr. August Sigfrid', Sex='male', Age=28.0, SibSp=0, Parch=0, Ticket='350042', Fare=7.79580020904541, Embarked='S', CabinArray=None), Row(PassengerId=758, Survived=0, Pclass=2, Name='Bailey, Mr. Percy Andrew', Sex='male', Age=18.0, SibSp=0, Parch=0, Ticket='29108', Fare=11.5, Embarked='S', CabinArray=None), Row(PassengerId=759, Survived=0, Pclass=3, Name='Theobald, Mr. Thomas Leonard', Sex='male', Age=34.0, SibSp=0, Parch=0, Ticket='363294', Fare=8.050000190734863, Embarked='S', CabinArray=None), Row(PassengerId=760, Survived=1, Pclass=1, Name='Rothes, the Countess. of (Lucy Noel Martha Dyer-Edwards)', Sex='female', Age=33.0, SibSp=0, Parch=0, Ticket='110152', Fare=86.5, Embarked='S', CabinArray=['B77']), Row(PassengerId=761, Survived=0, Pclass=3, Name='Garfirth, Mr. John', Sex='male', Age=None, SibSp=0, Parch=0, Ticket='358585', Fare=14.5, Embarked='S', CabinArray=None), Row(PassengerId=762, Survived=0, Pclass=3, Name='Nirva, Mr. Iisakki Antino Aijo', Sex='male', Age=41.0, SibSp=0, Parch=0, Ticket='SOTON/O2 3101272', Fare=7.125, Embarked='S', CabinArray=None), Row(PassengerId=763, Survived=1, Pclass=3, Name='Barah, Mr. Hanna Assi', Sex='male', Age=20.0, SibSp=0, Parch=0, Ticket='2663', Fare=7.2291998863220215, Embarked='C', CabinArray=None), Row(PassengerId=764, Survived=1, Pclass=1, Name='Carter, Mrs. William Ernest (Lucile Polk)', Sex='female', Age=36.0, SibSp=1, Parch=2, Ticket='113760', Fare=120.0, Embarked='S', CabinArray=['B96 B98']), Row(PassengerId=765, Survived=0, Pclass=3, Name='Eklund, Mr. Hans Linus', Sex='male', Age=16.0, SibSp=0, Parch=0, Ticket='347074', Fare=7.775000095367432, Embarked='S', CabinArray=None), Row(PassengerId=766, Survived=1, Pclass=1, Name='Hogeboom, Mrs. John C (Anna Andrews)', Sex='female', Age=51.0, SibSp=1, Parch=0, Ticket='13502', Fare=77.95829772949219, Embarked='S', CabinArray=['D11']), Row(PassengerId=767, Survived=0, Pclass=1, Name='Brewe, Dr. Arthur Jackson', Sex='male', Age=None, SibSp=0, Parch=0, Ticket='112379', Fare=39.599998474121094, Embarked='C', CabinArray=None), Row(PassengerId=768, Survived=0, Pclass=3, Name='Mangan, Miss. Mary', Sex='female', Age=30.5, SibSp=0, Parch=0, Ticket='364850', Fare=7.75, Embarked='Q', CabinArray=None), Row(PassengerId=769, Survived=0, Pclass=3, Name='Moran, Mr. Daniel J', Sex='male', Age=None, SibSp=1, Parch=0, Ticket='371110', Fare=24.149999618530273, Embarked='Q', CabinArray=None), Row(PassengerId=770, Survived=0, Pclass=3, Name='Gronnestad, Mr. Daniel Danielsen', Sex='male', Age=32.0, SibSp=0, Parch=0, Ticket='8471', Fare=8.362500190734863, Embarked='S', CabinArray=None), Row(PassengerId=771, Survived=0, Pclass=3, Name='Lievens, Mr. Rene Aime', Sex='male', Age=24.0, SibSp=0, Parch=0, Ticket='345781', Fare=9.5, Embarked='S', CabinArray=None), Row(PassengerId=772, Survived=0, Pclass=3, Name='Jensen, Mr. Niels Peder', Sex='male', Age=48.0, SibSp=0, Parch=0, Ticket='350047', Fare=7.8541998863220215, Embarked='S', CabinArray=None), Row(PassengerId=773, Survived=0, Pclass=2, Name='Mack, Mrs. (Mary)', Sex='female', Age=57.0, SibSp=0, Parch=0, Ticket='S.O./P.P. 3', Fare=10.5, Embarked='S', CabinArray=['E77']), Row(PassengerId=774, Survived=0, Pclass=3, Name='Elias, Mr. Dibo', Sex='male', Age=None, SibSp=0, Parch=0, Ticket='2674', Fare=7.224999904632568, Embarked='C', CabinArray=None), Row(PassengerId=775, Survived=1, Pclass=2, Name='Hocking, Mrs. Elizabeth (Eliza Needs)', Sex='female', Age=54.0, SibSp=1, Parch=3, Ticket='29105', Fare=23.0, Embarked='S', CabinArray=None), Row(PassengerId=776, Survived=0, Pclass=3, Name='Myhrman, Mr. Pehr Fabian Oliver Malkolm', Sex='male', Age=18.0, SibSp=0, Parch=0, Ticket='347078', Fare=7.75, Embarked='S', CabinArray=None), Row(PassengerId=777, Survived=0, Pclass=3, Name='Tobin, Mr. Roger', Sex='male', Age=None, SibSp=0, Parch=0, Ticket='383121', Fare=7.75, Embarked='Q', CabinArray=['F38']), Row(PassengerId=778, Survived=1, Pclass=3, Name='Emanuel, Miss. Virginia Ethel', Sex='female', Age=5.0, SibSp=0, Parch=0, Ticket='364516', Fare=12.475000381469727, Embarked='S', CabinArray=None), Row(PassengerId=779, Survived=0, Pclass=3, Name='Kilgannon, Mr. Thomas J', Sex='male', Age=None, SibSp=0, Parch=0, Ticket='36865', Fare=7.737500190734863, Embarked='Q', CabinArray=None), Row(PassengerId=780, Survived=1, Pclass=1, Name='Robert, Mrs. Edward Scott (Elisabeth Walton McMillan)', Sex='female', Age=43.0, SibSp=0, Parch=1, Ticket='24160', Fare=211.33749389648438, Embarked='S', CabinArray=['B3']), Row(PassengerId=781, Survived=1, Pclass=3, Name='Ayoub, Miss. Banoura', Sex='female', Age=13.0, SibSp=0, Parch=0, Ticket='2687', Fare=7.2291998863220215, Embarked='C', CabinArray=None), Row(PassengerId=782, Survived=1, Pclass=1, Name='Dick, Mrs. Albert Adrian (Vera Gillespie)', Sex='female', Age=17.0, SibSp=1, Parch=0, Ticket='17474', Fare=57.0, Embarked='S', CabinArray=['B20']), Row(PassengerId=783, Survived=0, Pclass=1, Name='Long, Mr. Milton Clyde', Sex='male', Age=29.0, SibSp=0, Parch=0, Ticket='113501', Fare=30.0, Embarked='S', CabinArray=['D6']), Row(PassengerId=784, Survived=0, Pclass=3, Name='Johnston, Mr. Andrew G', Sex='male', Age=None, SibSp=1, Parch=2, Ticket='W./C. 6607', Fare=23.450000762939453, Embarked='S', CabinArray=None), Row(PassengerId=785, Survived=0, Pclass=3, Name='Ali, Mr. William', Sex='male', Age=25.0, SibSp=0, Parch=0, Ticket='SOTON/O.Q. 3101312', Fare=7.050000190734863, Embarked='S', CabinArray=None), Row(PassengerId=786, Survived=0, Pclass=3, Name='Harmer, Mr. Abraham (David Lishin)', Sex='male', Age=25.0, SibSp=0, Parch=0, Ticket='374887', Fare=7.25, Embarked='S', CabinArray=None), Row(PassengerId=787, Survived=1, Pclass=3, Name='Sjoblom, Miss. Anna Sofia', Sex='female', Age=18.0, SibSp=0, Parch=0, Ticket='3101265', Fare=7.495800018310547, Embarked='S', CabinArray=None), Row(PassengerId=788, Survived=0, Pclass=3, Name='Rice, Master. George Hugh', Sex='male', Age=8.0, SibSp=4, Parch=1, Ticket='382652', Fare=29.125, Embarked='Q', CabinArray=None), Row(PassengerId=789, Survived=1, Pclass=3, Name='Dean, Master. Bertram Vere', Sex='male', Age=1.0, SibSp=1, Parch=2, Ticket='C.A. 2315', Fare=20.575000762939453, Embarked='S', CabinArray=None), Row(PassengerId=790, Survived=0, Pclass=1, Name='Guggenheim, Mr. Benjamin', Sex='male', Age=46.0, SibSp=0, Parch=0, Ticket='PC 17593', Fare=79.19999694824219, Embarked='C', CabinArray=['B82 B84']), Row(PassengerId=791, Survived=0, Pclass=3, Name='\"Keane, Mr. Andrew \"\"Andy\"\"\"', Sex='male', Age=None, SibSp=0, Parch=0, Ticket='12460', Fare=7.75, Embarked='Q', CabinArray=None), Row(PassengerId=792, Survived=0, Pclass=2, Name='Gaskell, Mr. Alfred', Sex='male', Age=16.0, SibSp=0, Parch=0, Ticket='239865', Fare=26.0, Embarked='S', CabinArray=None), Row(PassengerId=793, Survived=0, Pclass=3, Name='Sage, Miss. Stella Anna', Sex='female', Age=None, SibSp=8, Parch=2, Ticket='CA. 2343', Fare=69.55000305175781, Embarked='S', CabinArray=None), Row(PassengerId=794, Survived=0, Pclass=1, Name='Hoyt, Mr. William Fisher', Sex='male', Age=None, SibSp=0, Parch=0, Ticket='PC 17600', Fare=30.69580078125, Embarked='C', CabinArray=None), Row(PassengerId=795, Survived=0, Pclass=3, Name='Dantcheff, Mr. Ristiu', Sex='male', Age=25.0, SibSp=0, Parch=0, Ticket='349203', Fare=7.8958001136779785, Embarked='S', CabinArray=None), Row(PassengerId=796, Survived=0, Pclass=2, Name='Otter, Mr. Richard', Sex='male', Age=39.0, SibSp=0, Parch=0, Ticket='28213', Fare=13.0, Embarked='S', CabinArray=None), Row(PassengerId=797, Survived=1, Pclass=1, Name='Leader, Dr. Alice (Farnham)', Sex='female', Age=49.0, SibSp=0, Parch=0, Ticket='17465', Fare=25.92919921875, Embarked='S', CabinArray=['D17']), Row(PassengerId=798, Survived=1, Pclass=3, Name='Osman, Mrs. Mara', Sex='female', Age=31.0, SibSp=0, Parch=0, Ticket='349244', Fare=8.683300018310547, Embarked='S', CabinArray=None), Row(PassengerId=799, Survived=0, Pclass=3, Name='Ibrahim Shawah, Mr. Yousseff', Sex='male', Age=30.0, SibSp=0, Parch=0, Ticket='2685', Fare=7.2291998863220215, Embarked='C', CabinArray=None), Row(PassengerId=800, Survived=0, Pclass=3, Name='Van Impe, Mrs. Jean Baptiste (Rosalie Paula Govaert)', Sex='female', Age=30.0, SibSp=1, Parch=1, Ticket='345773', Fare=24.149999618530273, Embarked='S', CabinArray=None), Row(PassengerId=801, Survived=0, Pclass=2, Name='Ponesell, Mr. Martin', Sex='male', Age=34.0, SibSp=0, Parch=0, Ticket='250647', Fare=13.0, Embarked='S', CabinArray=None), Row(PassengerId=802, Survived=1, Pclass=2, Name='Collyer, Mrs. Harvey (Charlotte Annie Tate)', Sex='female', Age=31.0, SibSp=1, Parch=1, Ticket='C.A. 31921', Fare=26.25, Embarked='S', CabinArray=None), Row(PassengerId=803, Survived=1, Pclass=1, Name='Carter, Master. William Thornton II', Sex='male', Age=11.0, SibSp=1, Parch=2, Ticket='113760', Fare=120.0, Embarked='S', CabinArray=['B96 B98']), Row(PassengerId=804, Survived=1, Pclass=3, Name='Thomas, Master. Assad Alexander', Sex='male', Age=0.41999998688697815, SibSp=0, Parch=1, Ticket='2625', Fare=8.51669979095459, Embarked='C', CabinArray=None), Row(PassengerId=805, Survived=1, Pclass=3, Name='Hedman, Mr. Oskar Arvid', Sex='male', Age=27.0, SibSp=0, Parch=0, Ticket='347089', Fare=6.974999904632568, Embarked='S', CabinArray=None), Row(PassengerId=806, Survived=0, Pclass=3, Name='Johansson, Mr. Karl Johan', Sex='male', Age=31.0, SibSp=0, Parch=0, Ticket='347063', Fare=7.775000095367432, Embarked='S', CabinArray=None), Row(PassengerId=807, Survived=0, Pclass=1, Name='Andrews, Mr. Thomas Jr', Sex='male', Age=39.0, SibSp=0, Parch=0, Ticket='112050', Fare=0.0, Embarked='S', CabinArray=['A36']), Row(PassengerId=808, Survived=0, Pclass=3, Name='Pettersson, Miss. Ellen Natalia', Sex='female', Age=18.0, SibSp=0, Parch=0, Ticket='347087', Fare=7.775000095367432, Embarked='S', CabinArray=None), Row(PassengerId=809, Survived=0, Pclass=2, Name='Meyer, Mr. August', Sex='male', Age=39.0, SibSp=0, Parch=0, Ticket='248723', Fare=13.0, Embarked='S', CabinArray=None), Row(PassengerId=810, Survived=1, Pclass=1, Name='Chambers, Mrs. Norman Campbell (Bertha Griggs)', Sex='female', Age=33.0, SibSp=1, Parch=0, Ticket='113806', Fare=53.099998474121094, Embarked='S', CabinArray=['E8']), Row(PassengerId=811, Survived=0, Pclass=3, Name='Alexander, Mr. William', Sex='male', Age=26.0, SibSp=0, Parch=0, Ticket='3474', Fare=7.887499809265137, Embarked='S', CabinArray=None), Row(PassengerId=812, Survived=0, Pclass=3, Name='Lester, Mr. James', Sex='male', Age=39.0, SibSp=0, Parch=0, Ticket='A/4 48871', Fare=24.149999618530273, Embarked='S', CabinArray=None), Row(PassengerId=813, Survived=0, Pclass=2, Name='Slemen, Mr. Richard James', Sex='male', Age=35.0, SibSp=0, Parch=0, Ticket='28206', Fare=10.5, Embarked='S', CabinArray=None), Row(PassengerId=814, Survived=0, Pclass=3, Name='Andersson, Miss. Ebba Iris Alfrida', Sex='female', Age=6.0, SibSp=4, Parch=2, Ticket='347082', Fare=31.274999618530273, Embarked='S', CabinArray=None), Row(PassengerId=815, Survived=0, Pclass=3, Name='Tomlin, Mr. Ernest Portage', Sex='male', Age=30.5, SibSp=0, Parch=0, Ticket='364499', Fare=8.050000190734863, Embarked='S', CabinArray=None), Row(PassengerId=816, Survived=0, Pclass=1, Name='Fry, Mr. Richard', Sex='male', Age=None, SibSp=0, Parch=0, Ticket='112058', Fare=0.0, Embarked='S', CabinArray=['B102']), Row(PassengerId=817, Survived=0, Pclass=3, Name='Heininen, Miss. Wendla Maria', Sex='female', Age=23.0, SibSp=0, Parch=0, Ticket='STON/O2. 3101290', Fare=7.925000190734863, Embarked='S', CabinArray=None), Row(PassengerId=818, Survived=0, Pclass=2, Name='Mallet, Mr. Albert', Sex='male', Age=31.0, SibSp=1, Parch=1, Ticket='S.C./PARIS 2079', Fare=37.00419998168945, Embarked='C', CabinArray=None), Row(PassengerId=819, Survived=0, Pclass=3, Name='Holm, Mr. John Fredrik Alexander', Sex='male', Age=43.0, SibSp=0, Parch=0, Ticket='C 7075', Fare=6.449999809265137, Embarked='S', CabinArray=None), Row(PassengerId=820, Survived=0, Pclass=3, Name='Skoog, Master. Karl Thorsten', Sex='male', Age=10.0, SibSp=3, Parch=2, Ticket='347088', Fare=27.899999618530273, Embarked='S', CabinArray=None), Row(PassengerId=821, Survived=1, Pclass=1, Name='Hays, Mrs. Charles Melville (Clara Jennings Gregg)', Sex='female', Age=52.0, SibSp=1, Parch=1, Ticket='12749', Fare=93.5, Embarked='S', CabinArray=['B69']), Row(PassengerId=822, Survived=1, Pclass=3, Name='Lulic, Mr. Nikola', Sex='male', Age=27.0, SibSp=0, Parch=0, Ticket='315098', Fare=8.662500381469727, Embarked='S', CabinArray=None), Row(PassengerId=823, Survived=0, Pclass=1, Name='Reuchlin, Jonkheer. John George', Sex='male', Age=38.0, SibSp=0, Parch=0, Ticket='19972', Fare=0.0, Embarked='S', CabinArray=None), Row(PassengerId=824, Survived=1, Pclass=3, Name='Moor, Mrs. (Beila)', Sex='female', Age=27.0, SibSp=0, Parch=1, Ticket='392096', Fare=12.475000381469727, Embarked='S', CabinArray=['E121']), Row(PassengerId=825, Survived=0, Pclass=3, Name='Panula, Master. Urho Abraham', Sex='male', Age=2.0, SibSp=4, Parch=1, Ticket='3101295', Fare=39.6875, Embarked='S', CabinArray=None), Row(PassengerId=826, Survived=0, Pclass=3, Name='Flynn, Mr. John', Sex='male', Age=None, SibSp=0, Parch=0, Ticket='368323', Fare=6.949999809265137, Embarked='Q', CabinArray=None), Row(PassengerId=827, Survived=0, Pclass=3, Name='Lam, Mr. Len', Sex='male', Age=None, SibSp=0, Parch=0, Ticket='1601', Fare=56.49580001831055, Embarked='S', CabinArray=None), Row(PassengerId=828, Survived=1, Pclass=2, Name='Mallet, Master. Andre', Sex='male', Age=1.0, SibSp=0, Parch=2, Ticket='S.C./PARIS 2079', Fare=37.00419998168945, Embarked='C', CabinArray=None), Row(PassengerId=829, Survived=1, Pclass=3, Name='McCormack, Mr. Thomas Joseph', Sex='male', Age=None, SibSp=0, Parch=0, Ticket='367228', Fare=7.75, Embarked='Q', CabinArray=None), Row(PassengerId=830, Survived=1, Pclass=1, Name='Stone, Mrs. George Nelson (Martha Evelyn)', Sex='female', Age=62.0, SibSp=0, Parch=0, Ticket='113572', Fare=80.0, Embarked=None, CabinArray=['B28']), Row(PassengerId=831, Survived=1, Pclass=3, Name='Yasbeck, Mrs. Antoni (Selini Alexander)', Sex='female', Age=15.0, SibSp=1, Parch=0, Ticket='2659', Fare=14.45419979095459, Embarked='C', CabinArray=None), Row(PassengerId=832, Survived=1, Pclass=2, Name='Richards, Master. George Sibley', Sex='male', Age=0.8299999833106995, SibSp=1, Parch=1, Ticket='29106', Fare=18.75, Embarked='S', CabinArray=None), Row(PassengerId=833, Survived=0, Pclass=3, Name='Saad, Mr. Amin', Sex='male', Age=None, SibSp=0, Parch=0, Ticket='2671', Fare=7.2291998863220215, Embarked='C', CabinArray=None), Row(PassengerId=834, Survived=0, Pclass=3, Name='Augustsson, Mr. Albert', Sex='male', Age=23.0, SibSp=0, Parch=0, Ticket='347468', Fare=7.8541998863220215, Embarked='S', CabinArray=None), Row(PassengerId=835, Survived=0, Pclass=3, Name='Allum, Mr. Owen George', Sex='male', Age=18.0, SibSp=0, Parch=0, Ticket='2223', Fare=8.300000190734863, Embarked='S', CabinArray=None), Row(PassengerId=836, Survived=1, Pclass=1, Name='Compton, Miss. Sara Rebecca', Sex='female', Age=39.0, SibSp=1, Parch=1, Ticket='PC 17756', Fare=83.1583023071289, Embarked='C', CabinArray=['E49']), Row(PassengerId=837, Survived=0, Pclass=3, Name='Pasic, Mr. Jakob', Sex='male', Age=21.0, SibSp=0, Parch=0, Ticket='315097', Fare=8.662500381469727, Embarked='S', CabinArray=None), Row(PassengerId=838, Survived=0, Pclass=3, Name='Sirota, Mr. Maurice', Sex='male', Age=None, SibSp=0, Parch=0, Ticket='392092', Fare=8.050000190734863, Embarked='S', CabinArray=None), Row(PassengerId=839, Survived=1, Pclass=3, Name='Chip, Mr. Chang', Sex='male', Age=32.0, SibSp=0, Parch=0, Ticket='1601', Fare=56.49580001831055, Embarked='S', CabinArray=None), Row(PassengerId=840, Survived=1, Pclass=1, Name='Marechal, Mr. Pierre', Sex='male', Age=None, SibSp=0, Parch=0, Ticket='11774', Fare=29.700000762939453, Embarked='C', CabinArray=['C47']), Row(PassengerId=841, Survived=0, Pclass=3, Name='Alhomaki, Mr. Ilmari Rudolf', Sex='male', Age=20.0, SibSp=0, Parch=0, Ticket='SOTON/O2 3101287', Fare=7.925000190734863, Embarked='S', CabinArray=None), Row(PassengerId=842, Survived=0, Pclass=2, Name='Mudd, Mr. Thomas Charles', Sex='male', Age=16.0, SibSp=0, Parch=0, Ticket='S.O./P.P. 3', Fare=10.5, Embarked='S', CabinArray=None), Row(PassengerId=843, Survived=1, Pclass=1, Name='Serepeca, Miss. Augusta', Sex='female', Age=30.0, SibSp=0, Parch=0, Ticket='113798', Fare=31.0, Embarked='C', CabinArray=None), Row(PassengerId=844, Survived=0, Pclass=3, Name='Lemberopolous, Mr. Peter L', Sex='male', Age=34.5, SibSp=0, Parch=0, Ticket='2683', Fare=6.4375, Embarked='C', CabinArray=None), Row(PassengerId=845, Survived=0, Pclass=3, Name='Culumovic, Mr. Jeso', Sex='male', Age=17.0, SibSp=0, Parch=0, Ticket='315090', Fare=8.662500381469727, Embarked='S', CabinArray=None), Row(PassengerId=846, Survived=0, Pclass=3, Name='Abbing, Mr. Anthony', Sex='male', Age=42.0, SibSp=0, Parch=0, Ticket='C.A. 5547', Fare=7.550000190734863, Embarked='S', CabinArray=None), Row(PassengerId=847, Survived=0, Pclass=3, Name='Sage, Mr. Douglas Bullen', Sex='male', Age=None, SibSp=8, Parch=2, Ticket='CA. 2343', Fare=69.55000305175781, Embarked='S', CabinArray=None), Row(PassengerId=848, Survived=0, Pclass=3, Name='Markoff, Mr. Marin', Sex='male', Age=35.0, SibSp=0, Parch=0, Ticket='349213', Fare=7.8958001136779785, Embarked='C', CabinArray=None), Row(PassengerId=849, Survived=0, Pclass=2, Name='Harper, Rev. John', Sex='male', Age=28.0, SibSp=0, Parch=1, Ticket='248727', Fare=33.0, Embarked='S', CabinArray=None), Row(PassengerId=850, Survived=1, Pclass=1, Name='Goldenberg, Mrs. Samuel L (Edwiga Grabowska)', Sex='female', Age=None, SibSp=1, Parch=0, Ticket='17453', Fare=89.10420227050781, Embarked='C', CabinArray=['C92']), Row(PassengerId=851, Survived=0, Pclass=3, Name='Andersson, Master. Sigvard Harald Elias', Sex='male', Age=4.0, SibSp=4, Parch=2, Ticket='347082', Fare=31.274999618530273, Embarked='S', CabinArray=None), Row(PassengerId=852, Survived=0, Pclass=3, Name='Svensson, Mr. Johan', Sex='male', Age=74.0, SibSp=0, Parch=0, Ticket='347060', Fare=7.775000095367432, Embarked='S', CabinArray=None), Row(PassengerId=853, Survived=0, Pclass=3, Name='Boulos, Miss. Nourelain', Sex='female', Age=9.0, SibSp=1, Parch=1, Ticket='2678', Fare=15.245800018310547, Embarked='C', CabinArray=None), Row(PassengerId=854, Survived=1, Pclass=1, Name='Lines, Miss. Mary Conover', Sex='female', Age=16.0, SibSp=0, Parch=1, Ticket='PC 17592', Fare=39.400001525878906, Embarked='S', CabinArray=['D28']), Row(PassengerId=855, Survived=0, Pclass=2, Name='Carter, Mrs. Ernest Courtenay (Lilian Hughes)', Sex='female', Age=44.0, SibSp=1, Parch=0, Ticket='244252', Fare=26.0, Embarked='S', CabinArray=None), Row(PassengerId=856, Survived=1, Pclass=3, Name='Aks, Mrs. Sam (Leah Rosen)', Sex='female', Age=18.0, SibSp=0, Parch=1, Ticket='392091', Fare=9.350000381469727, Embarked='S', CabinArray=None), Row(PassengerId=857, Survived=1, Pclass=1, Name='Wick, Mrs. George Dennick (Mary Hitchcock)', Sex='female', Age=45.0, SibSp=1, Parch=1, Ticket='36928', Fare=164.86669921875, Embarked='S', CabinArray=None), Row(PassengerId=858, Survived=1, Pclass=1, Name='Daly, Mr. Peter Denis ', Sex='male', Age=51.0, SibSp=0, Parch=0, Ticket='113055', Fare=26.549999237060547, Embarked='S', CabinArray=['E17']), Row(PassengerId=859, Survived=1, Pclass=3, Name='Baclini, Mrs. Solomon (Latifa Qurban)', Sex='female', Age=24.0, SibSp=0, Parch=3, Ticket='2666', Fare=19.25830078125, Embarked='C', CabinArray=None), Row(PassengerId=860, Survived=0, Pclass=3, Name='Razi, Mr. Raihed', Sex='male', Age=None, SibSp=0, Parch=0, Ticket='2629', Fare=7.2291998863220215, Embarked='C', CabinArray=None), Row(PassengerId=861, Survived=0, Pclass=3, Name='Hansen, Mr. Claus Peter', Sex='male', Age=41.0, SibSp=2, Parch=0, Ticket='350026', Fare=14.10830020904541, Embarked='S', CabinArray=None), Row(PassengerId=862, Survived=0, Pclass=2, Name='Giles, Mr. Frederick Edward', Sex='male', Age=21.0, SibSp=1, Parch=0, Ticket='28134', Fare=11.5, Embarked='S', CabinArray=None), Row(PassengerId=863, Survived=1, Pclass=1, Name='Swift, Mrs. Frederick Joel (Margaret Welles Barron)', Sex='female', Age=48.0, SibSp=0, Parch=0, Ticket='17466', Fare=25.92919921875, Embarked='S', CabinArray=['D17']), Row(PassengerId=864, Survived=0, Pclass=3, Name='\"Sage, Miss. Dorothy Edith \"\"Dolly\"\"\"', Sex='female', Age=None, SibSp=8, Parch=2, Ticket='CA. 2343', Fare=69.55000305175781, Embarked='S', CabinArray=None), Row(PassengerId=865, Survived=0, Pclass=2, Name='Gill, Mr. John William', Sex='male', Age=24.0, SibSp=0, Parch=0, Ticket='233866', Fare=13.0, Embarked='S', CabinArray=None), Row(PassengerId=866, Survived=1, Pclass=2, Name='Bystrom, Mrs. (Karolina)', Sex='female', Age=42.0, SibSp=0, Parch=0, Ticket='236852', Fare=13.0, Embarked='S', CabinArray=None), Row(PassengerId=867, Survived=1, Pclass=2, Name='Duran y More, Miss. Asuncion', Sex='female', Age=27.0, SibSp=1, Parch=0, Ticket='SC/PARIS 2149', Fare=13.85830020904541, Embarked='C', CabinArray=None), Row(PassengerId=868, Survived=0, Pclass=1, Name='Roebling, Mr. Washington Augustus II', Sex='male', Age=31.0, SibSp=0, Parch=0, Ticket='PC 17590', Fare=50.49580001831055, Embarked='S', CabinArray=['A24']), Row(PassengerId=869, Survived=0, Pclass=3, Name='van Melkebeke, Mr. Philemon', Sex='male', Age=None, SibSp=0, Parch=0, Ticket='345777', Fare=9.5, Embarked='S', CabinArray=None), Row(PassengerId=870, Survived=1, Pclass=3, Name='Johnson, Master. Harold Theodor', Sex='male', Age=4.0, SibSp=1, Parch=1, Ticket='347742', Fare=11.133299827575684, Embarked='S', CabinArray=None), Row(PassengerId=871, Survived=0, Pclass=3, Name='Balkic, Mr. Cerin', Sex='male', Age=26.0, SibSp=0, Parch=0, Ticket='349248', Fare=7.8958001136779785, Embarked='S', CabinArray=None), Row(PassengerId=872, Survived=1, Pclass=1, Name='Beckwith, Mrs. Richard Leonard (Sallie Monypeny)', Sex='female', Age=47.0, SibSp=1, Parch=1, Ticket='11751', Fare=52.55419921875, Embarked='S', CabinArray=['D35']), Row(PassengerId=873, Survived=0, Pclass=1, Name='Carlsson, Mr. Frans Olof', Sex='male', Age=33.0, SibSp=0, Parch=0, Ticket='695', Fare=5.0, Embarked='S', CabinArray=['B51 B53 B55']), Row(PassengerId=874, Survived=0, Pclass=3, Name='Vander Cruyssen, Mr. Victor', Sex='male', Age=47.0, SibSp=0, Parch=0, Ticket='345765', Fare=9.0, Embarked='S', CabinArray=None), Row(PassengerId=875, Survived=1, Pclass=2, Name='Abelson, Mrs. Samuel (Hannah Wizosky)', Sex='female', Age=28.0, SibSp=1, Parch=0, Ticket='P/PP 3381', Fare=24.0, Embarked='C', CabinArray=None), Row(PassengerId=876, Survived=1, Pclass=3, Name='\"Najib, Miss. Adele Kiamie \"\"Jane\"\"\"', Sex='female', Age=15.0, SibSp=0, Parch=0, Ticket='2667', Fare=7.224999904632568, Embarked='C', CabinArray=None), Row(PassengerId=877, Survived=0, Pclass=3, Name='Gustafsson, Mr. Alfred Ossian', Sex='male', Age=20.0, SibSp=0, Parch=0, Ticket='7534', Fare=9.845800399780273, Embarked='S', CabinArray=None), Row(PassengerId=878, Survived=0, Pclass=3, Name='Petroff, Mr. Nedelio', Sex='male', Age=19.0, SibSp=0, Parch=0, Ticket='349212', Fare=7.8958001136779785, Embarked='S', CabinArray=None), Row(PassengerId=879, Survived=0, Pclass=3, Name='Laleff, Mr. Kristo', Sex='male', Age=None, SibSp=0, Parch=0, Ticket='349217', Fare=7.8958001136779785, Embarked='S', CabinArray=None), Row(PassengerId=880, Survived=1, Pclass=1, Name='Potter, Mrs. Thomas Jr (Lily Alexenia Wilson)', Sex='female', Age=56.0, SibSp=0, Parch=1, Ticket='11767', Fare=83.1583023071289, Embarked='C', CabinArray=['C50']), Row(PassengerId=881, Survived=1, Pclass=2, Name='Shelley, Mrs. William (Imanita Parrish Hall)', Sex='female', Age=25.0, SibSp=0, Parch=1, Ticket='230433', Fare=26.0, Embarked='S', CabinArray=None), Row(PassengerId=882, Survived=0, Pclass=3, Name='Markun, Mr. Johann', Sex='male', Age=33.0, SibSp=0, Parch=0, Ticket='349257', Fare=7.8958001136779785, Embarked='S', CabinArray=None), Row(PassengerId=883, Survived=0, Pclass=3, Name='Dahlberg, Miss. Gerda Ulrika', Sex='female', Age=22.0, SibSp=0, Parch=0, Ticket='7552', Fare=10.51669979095459, Embarked='S', CabinArray=None), Row(PassengerId=884, Survived=0, Pclass=2, Name='Banfield, Mr. Frederick James', Sex='male', Age=28.0, SibSp=0, Parch=0, Ticket='C.A./SOTON 34068', Fare=10.5, Embarked='S', CabinArray=None), Row(PassengerId=885, Survived=0, Pclass=3, Name='Sutehall, Mr. Henry Jr', Sex='male', Age=25.0, SibSp=0, Parch=0, Ticket='SOTON/OQ 392076', Fare=7.050000190734863, Embarked='S', CabinArray=None), Row(PassengerId=886, Survived=0, Pclass=3, Name='Rice, Mrs. William (Margaret Norton)', Sex='female', Age=39.0, SibSp=0, Parch=5, Ticket='382652', Fare=29.125, Embarked='Q', CabinArray=None), Row(PassengerId=887, Survived=0, Pclass=2, Name='Montvila, Rev. Juozas', Sex='male', Age=27.0, SibSp=0, Parch=0, Ticket='211536', Fare=13.0, Embarked='S', CabinArray=None), Row(PassengerId=888, Survived=1, Pclass=1, Name='Graham, Miss. Margaret Edith', Sex='female', Age=19.0, SibSp=0, Parch=0, Ticket='112053', Fare=30.0, Embarked='S', CabinArray=['B42']), Row(PassengerId=889, Survived=0, Pclass=3, Name='\"Johnston, Miss. Catherine Helen \"\"Carrie\"\"\"', Sex='female', Age=None, SibSp=1, Parch=2, Ticket='W./C. 6607', Fare=23.450000762939453, Embarked='S', CabinArray=None), Row(PassengerId=890, Survived=1, Pclass=1, Name='Behr, Mr. Karl Howell', Sex='male', Age=26.0, SibSp=0, Parch=0, Ticket='111369', Fare=30.0, Embarked='C', CabinArray=['C148']), Row(PassengerId=891, Survived=0, Pclass=3, Name='Dooley, Mr. Patrick', Sex='male', Age=32.0, SibSp=0, Parch=0, Ticket='370376', Fare=7.75, Embarked='Q', CabinArray=None)]\n"
     ]
    }
   ],
   "source": [
    "print(rows)"
   ]
  },
  {
   "cell_type": "markdown",
   "id": "71b00a2d-1510-4888-b485-f12269c79b43",
   "metadata": {},
   "source": [
    "- explode(): Returns a new row for each element in the given array or map."
   ]
  },
  {
   "cell_type": "code",
   "execution_count": 169,
   "id": "86cd2279-264b-4400-9bba-18e864da0399",
   "metadata": {},
   "outputs": [],
   "source": [
    "def explode_column(df, column) -> DataFrame:\n",
    "\n",
    "    exploded_df = df.select(explode(split(col(column), \",\")).alias(column))\n",
    "    \n",
    "    return exploded_df"
   ]
  },
  {
   "cell_type": "code",
   "execution_count": 170,
   "id": "b094432f-638f-4f75-ac67-7be9e52bcc97",
   "metadata": {},
   "outputs": [],
   "source": [
    "cabin_df = explode_column(titanic_ddl_df, \"Cabin\")"
   ]
  },
  {
   "cell_type": "code",
   "execution_count": 171,
   "id": "795fcc8f-e971-40d7-976b-57fe05659bc3",
   "metadata": {},
   "outputs": [
    {
     "name": "stdout",
     "output_type": "stream",
     "text": [
      "+-----+\n",
      "|Cabin|\n",
      "+-----+\n",
      "|  C85|\n",
      "| C123|\n",
      "|  E46|\n",
      "|   G6|\n",
      "| C103|\n",
      "+-----+\n",
      "only showing top 5 rows\n",
      "\n"
     ]
    }
   ],
   "source": [
    "cabin_df.show(5)"
   ]
  },
  {
   "cell_type": "markdown",
   "id": "ece8e24f-37d5-434e-9ebb-6a2611b44bcf",
   "metadata": {},
   "source": [
    "- split(): split DataFrame string Column into multiple columns."
   ]
  },
  {
   "cell_type": "code",
   "execution_count": 172,
   "id": "4bdda860-7d70-4a61-988c-a73e0a0c716f",
   "metadata": {},
   "outputs": [],
   "source": [
    "def split_column(df, column, delimiter) -> DataFrame:\n",
    "    \n",
    "    splitted_df = df.withColumn('last_name', split(df[column], delimiter).getItem(0)) \\\n",
    "       .withColumn('first_name', split(df[column], delimiter).getItem(1)) \n",
    "    \n",
    "    return splitted_df"
   ]
  },
  {
   "cell_type": "code",
   "execution_count": 173,
   "id": "581286e9-6204-489b-ae19-c8d93ded0252",
   "metadata": {},
   "outputs": [],
   "source": [
    "name_df = split_column(titanic_struct_df, \"Name\", \",\")"
   ]
  },
  {
   "cell_type": "code",
   "execution_count": 174,
   "id": "8c0842b6-ca86-4e0b-827b-7560b958cf67",
   "metadata": {},
   "outputs": [
    {
     "name": "stdout",
     "output_type": "stream",
     "text": [
      "+-----------+--------+------+--------------------+------+----+-----+-----+----------------+-------+--------+----------+---------+--------------------+\n",
      "|PassengerId|Survived|Pclass|                Name|   Sex| Age|SibSp|Parch|          Ticket|   Fare|Embarked|CabinArray|last_name|          first_name|\n",
      "+-----------+--------+------+--------------------+------+----+-----+-----+----------------+-------+--------+----------+---------+--------------------+\n",
      "|          1|       0|     3|Braund, Mr. Owen ...|  male|22.0|    1|    0|       A/5 21171|   7.25|       S|      null|   Braund|     Mr. Owen Harris|\n",
      "|          2|       1|     1|Cumings, Mrs. Joh...|female|38.0|    1|    0|        PC 17599|71.2833|       C|     [C85]|  Cumings| Mrs. John Bradle...|\n",
      "|          3|       1|     3|Heikkinen, Miss. ...|female|26.0|    0|    0|STON/O2. 3101282|  7.925|       S|      null|Heikkinen|         Miss. Laina|\n",
      "|          4|       1|     1|Futrelle, Mrs. Ja...|female|35.0|    1|    0|          113803|   53.1|       S|    [C123]| Futrelle| Mrs. Jacques Hea...|\n",
      "|          5|       0|     3|Allen, Mr. Willia...|  male|35.0|    0|    0|          373450|   8.05|       S|      null|    Allen|   Mr. William Henry|\n",
      "+-----------+--------+------+--------------------+------+----+-----+-----+----------------+-------+--------+----------+---------+--------------------+\n",
      "only showing top 5 rows\n",
      "\n"
     ]
    }
   ],
   "source": [
    "name_df.show(5)"
   ]
  },
  {
   "cell_type": "markdown",
   "id": "e2ba05a8-90b4-48e4-ba62-69e083c9605c",
   "metadata": {},
   "source": [
    "- lit(): used to add a new column to DataFrame by assigning a literal or constant value"
   ]
  },
  {
   "cell_type": "code",
   "execution_count": 175,
   "id": "f98c25a6-536a-492e-b58e-57449992e5e3",
   "metadata": {},
   "outputs": [],
   "source": [
    "def add_constant_column(df, new_col_name, column_name, value) -> DataFrame:\n",
    "  \n",
    "    const_df = df.withColumn(new_col_name, when(col(column_name) == value,lit(\"0\")).otherwise(lit(\"1\")))\n",
    "    \n",
    "    return const_df"
   ]
  },
  {
   "cell_type": "code",
   "execution_count": 176,
   "id": "1dca57c6-d0f8-4887-a957-7ba0ae119214",
   "metadata": {},
   "outputs": [],
   "source": [
    "const_df = add_constant_column(titanic_struct_df, \"New\", \"Sex\", \"male\")"
   ]
  },
  {
   "cell_type": "code",
   "execution_count": 177,
   "id": "ad7c53c1-df18-4f4b-bd0b-2f4859706f36",
   "metadata": {},
   "outputs": [
    {
     "name": "stdout",
     "output_type": "stream",
     "text": [
      "+-----------+--------+------+-------------------------------------------------------+------+----+-----+-----+----------------+-------+--------+----------+---+\n",
      "|PassengerId|Survived|Pclass|Name                                                   |Sex   |Age |SibSp|Parch|Ticket          |Fare   |Embarked|CabinArray|New|\n",
      "+-----------+--------+------+-------------------------------------------------------+------+----+-----+-----+----------------+-------+--------+----------+---+\n",
      "|1          |0       |3     |Braund, Mr. Owen Harris                                |male  |22.0|1    |0    |A/5 21171       |7.25   |S       |null      |0  |\n",
      "|2          |1       |1     |Cumings, Mrs. John Bradley (Florence Briggs Thayer)    |female|38.0|1    |0    |PC 17599        |71.2833|C       |[C85]     |1  |\n",
      "|3          |1       |3     |Heikkinen, Miss. Laina                                 |female|26.0|0    |0    |STON/O2. 3101282|7.925  |S       |null      |1  |\n",
      "|4          |1       |1     |Futrelle, Mrs. Jacques Heath (Lily May Peel)           |female|35.0|1    |0    |113803          |53.1   |S       |[C123]    |1  |\n",
      "|5          |0       |3     |Allen, Mr. William Henry                               |male  |35.0|0    |0    |373450          |8.05   |S       |null      |0  |\n",
      "|6          |0       |3     |Moran, Mr. James                                       |male  |null|0    |0    |330877          |8.4583 |Q       |null      |0  |\n",
      "|7          |0       |1     |McCarthy, Mr. Timothy J                                |male  |54.0|0    |0    |17463           |51.8625|S       |[E46]     |0  |\n",
      "|8          |0       |3     |Palsson, Master. Gosta Leonard                         |male  |2.0 |3    |1    |349909          |21.075 |S       |null      |0  |\n",
      "|9          |1       |3     |Johnson, Mrs. Oscar W (Elisabeth Vilhelmina Berg)      |female|27.0|0    |2    |347742          |11.1333|S       |null      |1  |\n",
      "|10         |1       |2     |Nasser, Mrs. Nicholas (Adele Achem)                    |female|14.0|1    |0    |237736          |30.0708|C       |null      |1  |\n",
      "|11         |1       |3     |Sandstrom, Miss. Marguerite Rut                        |female|4.0 |1    |1    |PP 9549         |16.7   |S       |[G6]      |1  |\n",
      "|12         |1       |1     |Bonnell, Miss. Elizabeth                               |female|58.0|0    |0    |113783          |26.55  |S       |[C103]    |1  |\n",
      "|13         |0       |3     |Saundercock, Mr. William Henry                         |male  |20.0|0    |0    |A/5. 2151       |8.05   |S       |null      |0  |\n",
      "|14         |0       |3     |Andersson, Mr. Anders Johan                            |male  |39.0|1    |5    |347082          |31.275 |S       |null      |0  |\n",
      "|15         |0       |3     |Vestrom, Miss. Hulda Amanda Adolfina                   |female|14.0|0    |0    |350406          |7.8542 |S       |null      |1  |\n",
      "|16         |1       |2     |Hewlett, Mrs. (Mary D Kingcome)                        |female|55.0|0    |0    |248706          |16.0   |S       |null      |1  |\n",
      "|17         |0       |3     |Rice, Master. Eugene                                   |male  |2.0 |4    |1    |382652          |29.125 |Q       |null      |0  |\n",
      "|18         |1       |2     |Williams, Mr. Charles Eugene                           |male  |null|0    |0    |244373          |13.0   |S       |null      |0  |\n",
      "|19         |0       |3     |Vander Planke, Mrs. Julius (Emelia Maria Vandemoortele)|female|31.0|1    |0    |345763          |18.0   |S       |null      |1  |\n",
      "|20         |1       |3     |Masselmani, Mrs. Fatima                                |female|null|0    |0    |2649            |7.225  |C       |null      |1  |\n",
      "+-----------+--------+------+-------------------------------------------------------+------+----+-----+-----+----------------+-------+--------+----------+---+\n",
      "only showing top 20 rows\n",
      "\n"
     ]
    }
   ],
   "source": [
    "const_df.show(truncate=False)"
   ]
  },
  {
   "cell_type": "markdown",
   "id": "bf5b1dda-586a-4854-b9cb-cd236f8b8d02",
   "metadata": {},
   "source": [
    "### 19) Spark UDF - zkusit si aplikovat jednu funkci"
   ]
  },
  {
   "cell_type": "code",
   "execution_count": 178,
   "id": "c82594a1-1c75-4ae1-a01e-c4b1c6369d8c",
   "metadata": {},
   "outputs": [],
   "source": [
    "def is_embarked_cherbourg(column_name):\n",
    "    \"\"\"\n",
    "    UDF to indicate whether the passenger embarked in Cherbourg\n",
    "    \"\"\"\n",
    "    if column_name == \"C\":\n",
    "        return True\n",
    "    else:\n",
    "        return False\n",
    "\n",
    "udf_is_embarked_cherbourg = udf(is_embarked_cherbourg, BooleanType())"
   ]
  },
  {
   "cell_type": "code",
   "execution_count": 179,
   "id": "1a4ca9d7-72a6-4a51-8ea6-943b939fa755",
   "metadata": {},
   "outputs": [],
   "source": [
    "titanic_with_embarked_cherbourg = titanic_struct_df.withColumn(\"embarked_cherbourg\", udf_is_embarked_cherbourg(col(\"Embarked\")))"
   ]
  },
  {
   "cell_type": "code",
   "execution_count": 180,
   "id": "28328e02-90dc-477f-b637-b04bf127edbe",
   "metadata": {},
   "outputs": [
    {
     "name": "stderr",
     "output_type": "stream",
     "text": [
      "[Stage 47:>                                                         (0 + 1) / 1]"
     ]
    },
    {
     "name": "stdout",
     "output_type": "stream",
     "text": [
      "+-----------+--------+------+--------------------+------+----+-----+-----+----------------+-------+--------+----------+------------------+\n",
      "|PassengerId|Survived|Pclass|                Name|   Sex| Age|SibSp|Parch|          Ticket|   Fare|Embarked|CabinArray|embarked_cherbourg|\n",
      "+-----------+--------+------+--------------------+------+----+-----+-----+----------------+-------+--------+----------+------------------+\n",
      "|          1|       0|     3|Braund, Mr. Owen ...|  male|22.0|    1|    0|       A/5 21171|   7.25|       S|      null|             false|\n",
      "|          2|       1|     1|Cumings, Mrs. Joh...|female|38.0|    1|    0|        PC 17599|71.2833|       C|     [C85]|              true|\n",
      "|          3|       1|     3|Heikkinen, Miss. ...|female|26.0|    0|    0|STON/O2. 3101282|  7.925|       S|      null|             false|\n",
      "|          4|       1|     1|Futrelle, Mrs. Ja...|female|35.0|    1|    0|          113803|   53.1|       S|    [C123]|             false|\n",
      "|          5|       0|     3|Allen, Mr. Willia...|  male|35.0|    0|    0|          373450|   8.05|       S|      null|             false|\n",
      "+-----------+--------+------+--------------------+------+----+-----+-----+----------------+-------+--------+----------+------------------+\n",
      "only showing top 5 rows\n",
      "\n"
     ]
    },
    {
     "name": "stderr",
     "output_type": "stream",
     "text": [
      "                                                                                \r"
     ]
    }
   ],
   "source": [
    "titanic_with_embarked_cherbourg.show(5)"
   ]
  },
  {
   "cell_type": "markdown",
   "id": "7909887b-56d1-4f88-bbe5-c8f85271ed62",
   "metadata": {},
   "source": [
    "### 20) Uložit jako Parquet s partition"
   ]
  },
  {
   "cell_type": "code",
   "execution_count": 182,
   "id": "761f9f51-bf5a-4d12-b824-2d34ac314c97",
   "metadata": {},
   "outputs": [
    {
     "name": "stderr",
     "output_type": "stream",
     "text": [
      "                                                                                \r"
     ]
    }
   ],
   "source": [
    "titanic_struct_df.write.partitionBy(\"Embarked\").parquet(\"titanic_partitioned\")"
   ]
  },
  {
   "cell_type": "code",
   "execution_count": null,
   "id": "7902c7a9-1b0f-464d-9e91-f50943797c89",
   "metadata": {},
   "outputs": [],
   "source": [
    "titanic_struct_df.write.partitionBy(\"Sex\").parquet(\"titanic_partitioned\")"
   ]
  },
  {
   "cell_type": "markdown",
   "id": "f05364f4-dfaf-4833-91f5-fc87b7993101",
   "metadata": {},
   "source": [
    "### 21) Stáhnout Parquet file z HDFS pomocí Jupyteru"
   ]
  },
  {
   "cell_type": "code",
   "execution_count": 189,
   "id": "3415bcdc-c596-4cbd-a0c5-b28bece16555",
   "metadata": {},
   "outputs": [],
   "source": [
    "hdfs_path = \"titanic_partitioned\""
   ]
  },
  {
   "cell_type": "code",
   "execution_count": 190,
   "id": "688a5e12-0b80-4274-9fba-01cce9788e6f",
   "metadata": {},
   "outputs": [
    {
     "name": "stderr",
     "output_type": "stream",
     "text": [
      "[Stage 50:>                                                         (0 + 1) / 1]"
     ]
    },
    {
     "name": "stdout",
     "output_type": "stream",
     "text": [
      "+-----------+--------+------+--------------------+------+----+-----+-----+----------------+-------+----------+--------+\n",
      "|PassengerId|Survived|Pclass|                Name|   Sex| Age|SibSp|Parch|          Ticket|   Fare|CabinArray|Embarked|\n",
      "+-----------+--------+------+--------------------+------+----+-----+-----+----------------+-------+----------+--------+\n",
      "|          1|       0|     3|Braund, Mr. Owen ...|  male|22.0|    1|    0|       A/5 21171|   7.25|      null|       S|\n",
      "|          3|       1|     3|Heikkinen, Miss. ...|female|26.0|    0|    0|STON/O2. 3101282|  7.925|      null|       S|\n",
      "|          4|       1|     1|Futrelle, Mrs. Ja...|female|35.0|    1|    0|          113803|   53.1|    [C123]|       S|\n",
      "|          5|       0|     3|Allen, Mr. Willia...|  male|35.0|    0|    0|          373450|   8.05|      null|       S|\n",
      "|          7|       0|     1|McCarthy, Mr. Tim...|  male|54.0|    0|    0|           17463|51.8625|     [E46]|       S|\n",
      "|          8|       0|     3|Palsson, Master. ...|  male| 2.0|    3|    1|          349909| 21.075|      null|       S|\n",
      "|          9|       1|     3|Johnson, Mrs. Osc...|female|27.0|    0|    2|          347742|11.1333|      null|       S|\n",
      "|         11|       1|     3|Sandstrom, Miss. ...|female| 4.0|    1|    1|         PP 9549|   16.7|      [G6]|       S|\n",
      "|         12|       1|     1|Bonnell, Miss. El...|female|58.0|    0|    0|          113783|  26.55|    [C103]|       S|\n",
      "|         13|       0|     3|Saundercock, Mr. ...|  male|20.0|    0|    0|       A/5. 2151|   8.05|      null|       S|\n",
      "|         14|       0|     3|Andersson, Mr. An...|  male|39.0|    1|    5|          347082| 31.275|      null|       S|\n",
      "|         15|       0|     3|Vestrom, Miss. Hu...|female|14.0|    0|    0|          350406| 7.8542|      null|       S|\n",
      "|         16|       1|     2|Hewlett, Mrs. (Ma...|female|55.0|    0|    0|          248706|   16.0|      null|       S|\n",
      "|         18|       1|     2|Williams, Mr. Cha...|  male|null|    0|    0|          244373|   13.0|      null|       S|\n",
      "|         19|       0|     3|Vander Planke, Mr...|female|31.0|    1|    0|          345763|   18.0|      null|       S|\n",
      "|         21|       0|     2|Fynney, Mr. Joseph J|  male|35.0|    0|    0|          239865|   26.0|      null|       S|\n",
      "|         22|       1|     2|Beesley, Mr. Lawr...|  male|34.0|    0|    0|          248698|   13.0|     [D56]|       S|\n",
      "|         24|       1|     1|Sloper, Mr. Willi...|  male|28.0|    0|    0|          113788|   35.5|      [A6]|       S|\n",
      "|         25|       0|     3|Palsson, Miss. To...|female| 8.0|    3|    1|          349909| 21.075|      null|       S|\n",
      "|         26|       1|     3|Asplund, Mrs. Car...|female|38.0|    1|    5|          347077|31.3875|      null|       S|\n",
      "+-----------+--------+------+--------------------+------+----+-----+-----+----------------+-------+----------+--------+\n",
      "only showing top 20 rows\n",
      "\n"
     ]
    },
    {
     "name": "stderr",
     "output_type": "stream",
     "text": [
      "                                                                                \r"
     ]
    }
   ],
   "source": [
    "df = spark.read.format(\"parquet\").load(hdfs_path)\n",
    "df.show()"
   ]
  },
  {
   "cell_type": "code",
   "execution_count": 191,
   "id": "7af48c0b-f321-4677-9182-3c4ecc137210",
   "metadata": {},
   "outputs": [],
   "source": [
    "spark.stop()"
   ]
  },
  {
   "cell_type": "markdown",
   "id": "2cb5bd73",
   "metadata": {},
   "source": [
    "# Main function"
   ]
  },
  {
   "cell_type": "code",
   "execution_count": null,
   "id": "bdb62a82-0d19-4d7d-86c5-292f90ff96a6",
   "metadata": {},
   "outputs": [],
   "source": [
    "def main():\n",
    "\n",
    "    #calling functions\n",
    "    linfada = linfada_data(\"linfada_mart\",\"lin_downloaded_posts\")\n",
    "    titanic_struct_df = read_titanic_csv_with_struct(\"Data/titanic.csv\")\n",
    "    titanic_ddl_df = read_titanic_csv_with_ddl(\"Data/titanic.csv\")\n",
    "    titanic_infer_df = read_titanic_csv_with_infer_schema(\"Data/titanic.csv\")\n",
    "    select_df, col_df = titanic_df_select(titanic_struct_df, \"Name,Age,Fare\")\n",
    "    first_five_columns = select_first_five_columns(titanic_struct_df)\n",
    "    filtered_df = titanic_dataframe_filter(titanic_struct_df)\n",
    "    cabin_df = explode_column(titanic_ddl_df, \"Cabin\")\n",
    "    name_df = split_column(titanic_struct_df, \"Name\", \",\")\n",
    "    const_df = add_constant_column(titanic_struct_df, \"New\", \"Sex\", \"male\")\n",
    "\n",
    "    \n",
    "    # end spark\n",
    "    spark.stop()\n",
    "    \n",
    "    return None"
   ]
  },
  {
   "cell_type": "code",
   "execution_count": null,
   "id": "b7ce720e-79e9-4774-8ad8-e3309464fdaf",
   "metadata": {},
   "outputs": [],
   "source": [
    "# Starting point for PySpark\n",
    "if __name__ == '__main__':\n",
    "    main()\n",
    "    sys.exit()"
   ]
  }
 ],
 "metadata": {
  "kernelspec": {
   "display_name": "Python 3",
   "language": "python",
   "name": "python3"
  },
  "language_info": {
   "codemirror_mode": {
    "name": "ipython",
    "version": 3
   },
   "file_extension": ".py",
   "mimetype": "text/x-python",
   "name": "python",
   "nbconvert_exporter": "python",
   "pygments_lexer": "ipython3",
   "version": "3.7.12"
  }
 },
 "nbformat": 4,
 "nbformat_minor": 5
}
